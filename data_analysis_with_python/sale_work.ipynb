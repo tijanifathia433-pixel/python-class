{
 "cells": [
  {
   "cell_type": "markdown",
   "id": "9d182a18",
   "metadata": {},
   "source": [
    "Basic Exploration\n",
    "\n",
    "Load the CSV into pandas."
   ]
  },
  {
   "cell_type": "code",
   "execution_count": 2,
   "id": "736ad0b6",
   "metadata": {},
   "outputs": [],
   "source": [
    "import pandas as pd "
   ]
  },
  {
   "cell_type": "code",
   "execution_count": 6,
   "id": "41147b63",
   "metadata": {},
   "outputs": [
    {
     "data": {
      "text/plain": [
       "'c:\\\\Users\\\\USER\\\\Desktop\\\\python\\\\data_analysis_with_python'"
      ]
     },
     "execution_count": 6,
     "metadata": {},
     "output_type": "execute_result"
    }
   ],
   "source": [
    "%pwd"
   ]
  },
  {
   "cell_type": "code",
   "execution_count": 8,
   "id": "1743e645",
   "metadata": {},
   "outputs": [],
   "source": [
    "sale = pd.read_csv(\"../DATA/sales_data.csv\")"
   ]
  },
  {
   "cell_type": "markdown",
   "id": "284b7a56",
   "metadata": {},
   "source": [
    "Check the first 10 rows."
   ]
  },
  {
   "cell_type": "code",
   "execution_count": 9,
   "id": "fb5cacea",
   "metadata": {},
   "outputs": [
    {
     "data": {
      "text/html": [
       "<div>\n",
       "<style scoped>\n",
       "    .dataframe tbody tr th:only-of-type {\n",
       "        vertical-align: middle;\n",
       "    }\n",
       "\n",
       "    .dataframe tbody tr th {\n",
       "        vertical-align: top;\n",
       "    }\n",
       "\n",
       "    .dataframe thead th {\n",
       "        text-align: right;\n",
       "    }\n",
       "</style>\n",
       "<table border=\"1\" class=\"dataframe\">\n",
       "  <thead>\n",
       "    <tr style=\"text-align: right;\">\n",
       "      <th></th>\n",
       "      <th>TransactionID</th>\n",
       "      <th>CustomerID</th>\n",
       "      <th>Product</th>\n",
       "      <th>Quantity</th>\n",
       "      <th>Price_per_Unit</th>\n",
       "      <th>Date</th>\n",
       "      <th>TotalAmount</th>\n",
       "    </tr>\n",
       "  </thead>\n",
       "  <tbody>\n",
       "    <tr>\n",
       "      <th>0</th>\n",
       "      <td>1</td>\n",
       "      <td>1006</td>\n",
       "      <td>Headphones</td>\n",
       "      <td>4</td>\n",
       "      <td>677</td>\n",
       "      <td>2025-01-01</td>\n",
       "      <td>2708</td>\n",
       "    </tr>\n",
       "    <tr>\n",
       "      <th>1</th>\n",
       "      <td>2</td>\n",
       "      <td>1019</td>\n",
       "      <td>Phone</td>\n",
       "      <td>2</td>\n",
       "      <td>781</td>\n",
       "      <td>2025-01-02</td>\n",
       "      <td>1562</td>\n",
       "    </tr>\n",
       "    <tr>\n",
       "      <th>2</th>\n",
       "      <td>3</td>\n",
       "      <td>1014</td>\n",
       "      <td>Phone</td>\n",
       "      <td>3</td>\n",
       "      <td>656</td>\n",
       "      <td>2025-01-03</td>\n",
       "      <td>1968</td>\n",
       "    </tr>\n",
       "    <tr>\n",
       "      <th>3</th>\n",
       "      <td>4</td>\n",
       "      <td>1010</td>\n",
       "      <td>Headphones</td>\n",
       "      <td>3</td>\n",
       "      <td>673</td>\n",
       "      <td>2025-01-04</td>\n",
       "      <td>2019</td>\n",
       "    </tr>\n",
       "    <tr>\n",
       "      <th>4</th>\n",
       "      <td>5</td>\n",
       "      <td>1007</td>\n",
       "      <td>Charger</td>\n",
       "      <td>1</td>\n",
       "      <td>745</td>\n",
       "      <td>2025-01-05</td>\n",
       "      <td>745</td>\n",
       "    </tr>\n",
       "    <tr>\n",
       "      <th>5</th>\n",
       "      <td>6</td>\n",
       "      <td>1006</td>\n",
       "      <td>Phone</td>\n",
       "      <td>3</td>\n",
       "      <td>895</td>\n",
       "      <td>2025-01-06</td>\n",
       "      <td>2685</td>\n",
       "    </tr>\n",
       "    <tr>\n",
       "      <th>6</th>\n",
       "      <td>7</td>\n",
       "      <td>1018</td>\n",
       "      <td>Phone</td>\n",
       "      <td>1</td>\n",
       "      <td>127</td>\n",
       "      <td>2025-01-07</td>\n",
       "      <td>127</td>\n",
       "    </tr>\n",
       "    <tr>\n",
       "      <th>7</th>\n",
       "      <td>8</td>\n",
       "      <td>1010</td>\n",
       "      <td>Headphones</td>\n",
       "      <td>3</td>\n",
       "      <td>719</td>\n",
       "      <td>2025-01-08</td>\n",
       "      <td>2157</td>\n",
       "    </tr>\n",
       "    <tr>\n",
       "      <th>8</th>\n",
       "      <td>9</td>\n",
       "      <td>1010</td>\n",
       "      <td>Phone</td>\n",
       "      <td>2</td>\n",
       "      <td>655</td>\n",
       "      <td>2025-01-09</td>\n",
       "      <td>1310</td>\n",
       "    </tr>\n",
       "    <tr>\n",
       "      <th>9</th>\n",
       "      <td>10</td>\n",
       "      <td>1003</td>\n",
       "      <td>Phone</td>\n",
       "      <td>3</td>\n",
       "      <td>439</td>\n",
       "      <td>2025-01-10</td>\n",
       "      <td>1317</td>\n",
       "    </tr>\n",
       "  </tbody>\n",
       "</table>\n",
       "</div>"
      ],
      "text/plain": [
       "   TransactionID  CustomerID     Product  Quantity  Price_per_Unit  \\\n",
       "0              1        1006  Headphones         4             677   \n",
       "1              2        1019       Phone         2             781   \n",
       "2              3        1014       Phone         3             656   \n",
       "3              4        1010  Headphones         3             673   \n",
       "4              5        1007     Charger         1             745   \n",
       "5              6        1006       Phone         3             895   \n",
       "6              7        1018       Phone         1             127   \n",
       "7              8        1010  Headphones         3             719   \n",
       "8              9        1010       Phone         2             655   \n",
       "9             10        1003       Phone         3             439   \n",
       "\n",
       "         Date  TotalAmount  \n",
       "0  2025-01-01         2708  \n",
       "1  2025-01-02         1562  \n",
       "2  2025-01-03         1968  \n",
       "3  2025-01-04         2019  \n",
       "4  2025-01-05          745  \n",
       "5  2025-01-06         2685  \n",
       "6  2025-01-07          127  \n",
       "7  2025-01-08         2157  \n",
       "8  2025-01-09         1310  \n",
       "9  2025-01-10         1317  "
      ]
     },
     "execution_count": 9,
     "metadata": {},
     "output_type": "execute_result"
    }
   ],
   "source": [
    "sale.head(10)"
   ]
  },
  {
   "cell_type": "markdown",
   "id": "093f3b04",
   "metadata": {},
   "source": [
    "Get the number of rows and columns."
   ]
  },
  {
   "cell_type": "code",
   "execution_count": 11,
   "id": "f308829e",
   "metadata": {},
   "outputs": [
    {
     "data": {
      "text/plain": [
       "(50, 7)"
      ]
     },
     "execution_count": 11,
     "metadata": {},
     "output_type": "execute_result"
    }
   ],
   "source": [
    "sale.shape"
   ]
  },
  {
   "cell_type": "markdown",
   "id": "5769242d",
   "metadata": {},
   "source": [
    "Find missing values (if any)"
   ]
  },
  {
   "cell_type": "code",
   "execution_count": 15,
   "id": "a0d8dfb3",
   "metadata": {},
   "outputs": [
    {
     "name": "stdout",
     "output_type": "stream",
     "text": [
      "<class 'pandas.core.frame.DataFrame'>\n",
      "RangeIndex: 50 entries, 0 to 49\n",
      "Data columns (total 7 columns):\n",
      " #   Column          Non-Null Count  Dtype \n",
      "---  ------          --------------  ----- \n",
      " 0   TransactionID   50 non-null     int64 \n",
      " 1   CustomerID      50 non-null     int64 \n",
      " 2   Product         50 non-null     object\n",
      " 3   Quantity        50 non-null     int64 \n",
      " 4   Price_per_Unit  50 non-null     int64 \n",
      " 5   Date            50 non-null     object\n",
      " 6   TotalAmount     50 non-null     int64 \n",
      "dtypes: int64(5), object(2)\n",
      "memory usage: 2.9+ KB\n"
     ]
    }
   ],
   "source": [
    "sale.info()"
   ]
  },
  {
   "cell_type": "markdown",
   "id": "28307372",
   "metadata": {},
   "source": [
    "Descriptive Statistics\n",
    "\n",
    "Find the average TotalAmount.\n",
    "\n"
   ]
  },
  {
   "cell_type": "code",
   "execution_count": 22,
   "id": "8cb62fb7",
   "metadata": {},
   "outputs": [
    {
     "name": "stdout",
     "output_type": "stream",
     "text": [
      "Total Amount Average is: 1546.18\n"
     ]
    }
   ],
   "source": [
    "import numpy as np\n",
    "Avg_TotalAmount = np.average(sale[\"TotalAmount\"])\n",
    "\n",
    "print(f\"Total Amount Average is: {Avg_TotalAmount}\")"
   ]
  },
  {
   "cell_type": "markdown",
   "id": "6c64e5b9",
   "metadata": {},
   "source": [
    "Find the most frequently purchased product."
   ]
  },
  {
   "cell_type": "code",
   "execution_count": 33,
   "id": "1a763faf",
   "metadata": {},
   "outputs": [
    {
     "data": {
      "text/html": [
       "<div>\n",
       "<style scoped>\n",
       "    .dataframe tbody tr th:only-of-type {\n",
       "        vertical-align: middle;\n",
       "    }\n",
       "\n",
       "    .dataframe tbody tr th {\n",
       "        vertical-align: top;\n",
       "    }\n",
       "\n",
       "    .dataframe thead th {\n",
       "        text-align: right;\n",
       "    }\n",
       "</style>\n",
       "<table border=\"1\" class=\"dataframe\">\n",
       "  <thead>\n",
       "    <tr style=\"text-align: right;\">\n",
       "      <th></th>\n",
       "      <th>Product</th>\n",
       "      <th>Quantity</th>\n",
       "    </tr>\n",
       "  </thead>\n",
       "  <tbody>\n",
       "    <tr>\n",
       "      <th>0</th>\n",
       "      <td>Headphones</td>\n",
       "      <td>36</td>\n",
       "    </tr>\n",
       "    <tr>\n",
       "      <th>1</th>\n",
       "      <td>Phone</td>\n",
       "      <td>28</td>\n",
       "    </tr>\n",
       "    <tr>\n",
       "      <th>2</th>\n",
       "      <td>Charger</td>\n",
       "      <td>20</td>\n",
       "    </tr>\n",
       "    <tr>\n",
       "      <th>3</th>\n",
       "      <td>Laptop</td>\n",
       "      <td>30</td>\n",
       "    </tr>\n",
       "    <tr>\n",
       "      <th>4</th>\n",
       "      <td>Tablet</td>\n",
       "      <td>13</td>\n",
       "    </tr>\n",
       "  </tbody>\n",
       "</table>\n",
       "</div>"
      ],
      "text/plain": [
       "      Product  Quantity\n",
       "0  Headphones        36\n",
       "1       Phone        28\n",
       "2     Charger        20\n",
       "3      Laptop        30\n",
       "4      Tablet        13"
      ]
     },
     "execution_count": 33,
     "metadata": {},
     "output_type": "execute_result"
    }
   ],
   "source": [
    "sale.groupby(\"Product\", as_index=False, sort=False)[\"Quantity\"].sum()"
   ]
  },
  {
   "cell_type": "markdown",
   "id": "1700db79",
   "metadata": {},
   "source": [
    "What is the highest TotalAmount in a single transaction?"
   ]
  },
  {
   "cell_type": "code",
   "execution_count": 38,
   "id": "90d1bf22",
   "metadata": {},
   "outputs": [
    {
     "name": "stdout",
     "output_type": "stream",
     "text": [
      "Highest single transaction: 3236\n"
     ]
    }
   ],
   "source": [
    "Highest_transaction = sale[\"TotalAmount\"].max()\n",
    "\n",
    "print(f\"Highest single transaction: {Highest_transaction}\")"
   ]
  },
  {
   "cell_type": "markdown",
   "id": "d76bc2f8",
   "metadata": {},
   "source": [
    "Customer Insights\n",
    "\n",
    "Which customer spent the most in total?"
   ]
  },
  {
   "cell_type": "code",
   "execution_count": 61,
   "id": "383c47a2",
   "metadata": {},
   "outputs": [
    {
     "name": "stdout",
     "output_type": "stream",
     "text": [
      "    CustomerID  TotalAmount\n",
      "6         1006        12196\n",
      "13        1014        11817\n",
      "11        1011         6364\n",
      "16        1017         6297\n",
      "10        1010         5486\n"
     ]
    }
   ],
   "source": [
    "Customer_most_spent = sale.groupby(\"CustomerID\", as_index=False)[\"TotalAmount\"].sum()\n",
    "print(Customer_most_spent.sort_values(\"TotalAmount\", ascending=False).head())\n",
    "\n",
    "# Customer_most_spent = sale.groupby(\"CustomerID\", as_index=False, sort=False)[\"TotalAmount\"].sum()\n",
    "\n",
    "# Customer_most_spent.head()"
   ]
  },
  {
   "cell_type": "markdown",
   "id": "b6b9f1ae",
   "metadata": {},
   "source": [
    "How many unique customers are in the dataset?"
   ]
  },
  {
   "cell_type": "code",
   "execution_count": 62,
   "id": "a8a2aba7",
   "metadata": {},
   "outputs": [
    {
     "name": "stdout",
     "output_type": "stream",
     "text": [
      "Number of unique customers: 19\n"
     ]
    }
   ],
   "source": [
    "Unique_Customers = sale[\"CustomerID\"].nunique()   # better than .unique() if you want the count\n",
    "print(f\"Number of unique customers: {Unique_Customers}\")\n",
    "\n",
    "# Unique_Customers = sale[\"CustomerID\"].unique()\n",
    "\n",
    "# print(\"Unique CustomerID :\", Unique_Customers)"
   ]
  },
  {
   "cell_type": "markdown",
   "id": "dba176e9",
   "metadata": {},
   "source": [
    "Which customer bought the highest number of products overall?"
   ]
  },
  {
   "cell_type": "code",
   "execution_count": null,
   "id": "020f736f",
   "metadata": {},
   "outputs": [
    {
     "name": "stdout",
     "output_type": "stream",
     "text": [
      "Customer who bought the most products:\n",
      "    CustomerID  Quantity\n",
      "6        1006        16\n"
     ]
    },
    {
     "data": {
      "text/plain": [
       "CustomerID    1019\n",
       "Quantity        16\n",
       "dtype: int64"
      ]
     },
     "execution_count": 63,
     "metadata": {},
     "output_type": "execute_result"
    }
   ],
   "source": [
    "hg_pdt_by_customer = sale.groupby(\"CustomerID\", as_index=False)[\"Quantity\"].sum()\n",
    "top_customer = hg_pdt_by_customer.sort_values(\"Quantity\", ascending=False).head(1)\n",
    "print(\"Customer who bought the most products:\\n\", top_customer)\n",
    "\n",
    "# hg_pdt_by_customer = sale.groupby(\"CustomerID\", as_index=False)[\"Quantity\"].sum().max()\n",
    "\n",
    "# hg_pdt_by_customer"
   ]
  },
  {
   "cell_type": "markdown",
   "id": "dab5a2e4",
   "metadata": {},
   "source": [
    "Product Insights\n",
    "\n",
    "What is the total revenue generated by each product?"
   ]
  },
  {
   "cell_type": "code",
   "execution_count": 64,
   "id": "91fe0c15",
   "metadata": {},
   "outputs": [
    {
     "name": "stdout",
     "output_type": "stream",
     "text": [
      "Total revenue generated by each products:\n",
      "       Product  TotalAmount\n",
      "1  Headphones        22947\n",
      "2      Laptop        18966\n",
      "3       Phone        15348\n",
      "0     Charger        10987\n",
      "4      Tablet         9061\n"
     ]
    }
   ],
   "source": [
    "On_each_pdt = sale.groupby(\"Product\", as_index=False)[\"TotalAmount\"].sum()\n",
    "total_revenue = On_each_pdt.sort_values(\"TotalAmount\", ascending=False)\n",
    "print(\"Total revenue generated by each products:\\n\", total_revenue)"
   ]
  },
  {
   "cell_type": "markdown",
   "id": "7f517891",
   "metadata": {},
   "source": [
    "Which product had the highest sales in quantity?"
   ]
  },
  {
   "cell_type": "code",
   "execution_count": 75,
   "id": "086dedb9",
   "metadata": {},
   "outputs": [
    {
     "name": "stdout",
     "output_type": "stream",
     "text": [
      "Product with the highest sales in Quantity\n",
      "       Product  Quantity\n",
      "1  Headphones        36\n"
     ]
    }
   ],
   "source": [
    "sale_in_Qty = sale.groupby(\"Product\", as_index=False)[\"Quantity\"].sum()\n",
    "highest_sale = sale_in_Qty.sort_values(\"Quantity\", ascending=False).head(1)\n",
    "print(\"Product with the highest sales in Quantity\\n\", highest_sale)"
   ]
  },
  {
   "cell_type": "markdown",
   "id": "65ca1e35",
   "metadata": {},
   "source": [
    "Which product contributed most to revenue?"
   ]
  },
  {
   "cell_type": "code",
   "execution_count": 83,
   "id": "66430dc9",
   "metadata": {},
   "outputs": [
    {
     "name": "stdout",
     "output_type": "stream",
     "text": [
      "Product that contributed most to revenue\n",
      "       Product  TotalAmount\n",
      "1  Headphones        22947\n"
     ]
    }
   ],
   "source": [
    "which_pdt = sale.groupby(\"Product\", as_index=False)[\"TotalAmount\"].sum()\n",
    "cont_most_revenue = which_pdt.sort_values(\"TotalAmount\", ascending=False).head(1)\n",
    "print(\"Product that contributed most to revenue\\n\", cont_most_revenue)"
   ]
  },
  {
   "cell_type": "markdown",
   "id": "b2869317",
   "metadata": {},
   "source": [
    "Time-based Analysis\n",
    "\n",
    "Plot sales trend over time."
   ]
  },
  {
   "cell_type": "code",
   "execution_count": 118,
   "id": "2d62685f",
   "metadata": {},
   "outputs": [
    {
     "data": {
      "image/png": "[encoded data removed]",
      "text/plain": [
       "<Figure size 1000x500 with 1 Axes>"
      ]
     },
     "metadata": {},
     "output_type": "display_data"
    }
   ],
   "source": [
    "import matplotlib.pyplot as plt\n",
    "\n",
    "# Aggregate sales by date\n",
    "# daily_sales = sale.groupby(\"Date\", as_index=False)[\"TotalAmount\"].sum()\n",
    "daily_sales = sale.groupby(\"Date\", as_index=False)[\"TotalAmount\"].sum()\n",
    "\n",
    "# Plot line chart\n",
    "plt.figure(figsize=(10,5))\n",
    "plt.plot(daily_sales[\"Date\"], daily_sales[\"TotalAmount\"], marker=\"o\")\n",
    "plt.title(\"Sales Trend Over Time\")\n",
    "plt.xlabel(\"Date\")\n",
    "plt.ylabel(\"Total Sales\")\n",
    "plt.grid(True)\n",
    "plt.show()\n"
   ]
  },
  {
   "cell_type": "markdown",
   "id": "af972a50",
   "metadata": {},
   "source": [
    "Which day had the highest sales?"
   ]
  },
  {
   "cell_type": "code",
   "execution_count": 89,
   "id": "42f672bc",
   "metadata": {},
   "outputs": [
    {
     "name": "stdout",
     "output_type": "stream",
     "text": [
      "Day with the highest sale\n",
      "           Date  TotalAmount\n",
      "27  2025-01-28         3236\n"
     ]
    }
   ],
   "source": [
    "highest_sale = sale.groupby(\"Date\", as_index=False)[\"TotalAmount\"].sum()\n",
    "day_hg_sale = highest_sale.sort_values(\"TotalAmount\", ascending=False).head(1)\n",
    "print(\"Day with the highest sale\\n\", day_hg_sale)"
   ]
  },
  {
   "cell_type": "markdown",
   "id": "91c876cc",
   "metadata": {},
   "source": [
    "Find the total revenue in January vs February (if dates allow)"
   ]
  },
  {
   "cell_type": "code",
   "execution_count": 95,
   "id": "9b17fb86",
   "metadata": {},
   "outputs": [
    {
     "name": "stdout",
     "output_type": "stream",
     "text": [
      "Revenur in Jan vs Feb:\n",
      "       Month  TotalAmount\n",
      "0  February        31714\n",
      "1   January        45595\n"
     ]
    }
   ],
   "source": [
    "sale[\"Date\"] = pd.to_datetime(sale[\"Date\"])\n",
    "\n",
    "sale[\"Month\"] = sale[\"Date\"].dt.month_name()\n",
    "\n",
    "monthly_revenue = sale.groupby(\"Month\", as_index=False)[\"TotalAmount\"].sum()\n",
    "\n",
    "print(\"Revenur in Jan vs Feb:\\n\", monthly_revenue[monthly_revenue[\"Month\"].isin([\"January\", \"February\"])])\n",
    "\n"
   ]
  }
 ],
 "metadata": {
  "kernelspec": {
   "display_name": "Python 3",
   "language": "python",
   "name": "python3"
  },
  "language_info": {
   "codemirror_mode": {
    "name": "ipython",
    "version": 3
   },
   "file_extension": ".py",
   "mimetype": "text/x-python",
   "name": "python",
   "nbconvert_exporter": "python",
   "pygments_lexer": "ipython3",
   "version": "3.12.10"
  }
 },
 "nbformat": 4,
 "nbformat_minor": 5
}
