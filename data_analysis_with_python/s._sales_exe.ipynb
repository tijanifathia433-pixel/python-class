{
 "cells": [
  {
   "cell_type": "code",
   "execution_count": 12,
   "id": "6ed1fb26",
   "metadata": {},
   "outputs": [],
   "source": [
    "import mysql.connector\n",
    "\n",
    "conn = mysql.connector.connect(\n",
    "    host=\"localhost\",\n",
    "    user=\"root\",\n",
    "    password=\"08023256300\",\n",
    "    database=\"sales_db\",\n",
    "    allow_local_infile=True  # 👈 THIS IS IMPORTANT\n",
    ")\n",
    "\n",
    "cursor = conn.cursor()\n",
    "\n",
    "cursor.execute(\"\"\"\n",
    "LOAD DATA LOCAL INFILE 'C:/Users/USER/Desktop/python/DATA/sample_sales_data.csv'\n",
    "INTO TABLE sales\n",
    "FIELDS TERMINATED BY ','\n",
    "LINES TERMINATED BY '\\n'\n",
    "IGNORE 1 ROWS\n",
    "(Order_ID, Product_Name, Quantity, Unit_Price, Customer_Location, Product_Category, Total_Revenue)\n",
    "\"\"\")\n",
    "\n",
    "conn.commit()"
   ]
  },
  {
   "cell_type": "code",
   "execution_count": 13,
   "id": "f8269dfa",
   "metadata": {},
   "outputs": [
    {
     "name": "stdout",
     "output_type": "stream",
     "text": [
      "('ORD1000', 'MonitorWireless Mouse', 9, Decimal('129019.00'), Decimal('1161171.00'), 'Abuja', 'Accessories')\n"
     ]
    }
   ],
   "source": [
    "cursor.execute(\"SELECT * FROM sales\")\n",
    "\n",
    "for row in cursor:\n",
    "    print(row)\n",
    "    break"
   ]
  },
  {
   "cell_type": "code",
   "execution_count": 14,
   "id": "e28e44b9",
   "metadata": {},
   "outputs": [
    {
     "data": {
      "text/plain": [
       "'c:\\\\Users\\\\USER\\\\Desktop\\\\python\\\\data_analysis_with_python'"
      ]
     },
     "execution_count": 14,
     "metadata": {},
     "output_type": "execute_result"
    }
   ],
   "source": [
    "%pwd"
   ]
  },
  {
   "cell_type": "code",
   "execution_count": 15,
   "id": "79dee5f4",
   "metadata": {},
   "outputs": [
    {
     "name": "stdout",
     "output_type": "stream",
     "text": [
      "<class 'pandas.core.frame.DataFrame'>\n",
      "RangeIndex: 50 entries, 0 to 49\n",
      "Data columns (total 7 columns):\n",
      " #   Column             Non-Null Count  Dtype \n",
      "---  ------             --------------  ----- \n",
      " 0   Order_ID           50 non-null     object\n",
      " 1   Product_Name       50 non-null     object\n",
      " 2   Quantity           50 non-null     int64 \n",
      " 3   Unit_Price         50 non-null     int64 \n",
      " 4   Customer_Location  50 non-null     object\n",
      " 5   Product_Category   50 non-null     object\n",
      " 6   Total_Revenue      50 non-null     int64 \n",
      "dtypes: int64(3), object(4)\n",
      "memory usage: 2.9+ KB\n",
      "None\n"
     ]
    }
   ],
   "source": [
    "import pandas as pd\n",
    "\n",
    "sales = pd.read_csv(\"../DATA/sample_sales_data.csv\")\n",
    "# print(sales.head())\n",
    "print(sales.info())"
   ]
  },
  {
   "cell_type": "code",
   "execution_count": 16,
   "id": "e4b141be",
   "metadata": {},
   "outputs": [
    {
     "data": {
      "text/html": [
       "<div>\n",
       "<style scoped>\n",
       "    .dataframe tbody tr th:only-of-type {\n",
       "        vertical-align: middle;\n",
       "    }\n",
       "\n",
       "    .dataframe tbody tr th {\n",
       "        vertical-align: top;\n",
       "    }\n",
       "\n",
       "    .dataframe thead th {\n",
       "        text-align: right;\n",
       "    }\n",
       "</style>\n",
       "<table border=\"1\" class=\"dataframe\">\n",
       "  <thead>\n",
       "    <tr style=\"text-align: right;\">\n",
       "      <th></th>\n",
       "      <th>Order_ID</th>\n",
       "      <th>Product_Name</th>\n",
       "      <th>Quantity</th>\n",
       "      <th>Unit_Price</th>\n",
       "      <th>Customer_Location</th>\n",
       "      <th>Product_Category</th>\n",
       "      <th>Total_Revenue</th>\n",
       "      <th>Revenue</th>\n",
       "    </tr>\n",
       "  </thead>\n",
       "  <tbody>\n",
       "    <tr>\n",
       "      <th>0</th>\n",
       "      <td>ORD1000</td>\n",
       "      <td>MonitorWireless Mouse</td>\n",
       "      <td>9</td>\n",
       "      <td>129019</td>\n",
       "      <td>Abuja</td>\n",
       "      <td>Accessories</td>\n",
       "      <td>1161171</td>\n",
       "      <td>1161171</td>\n",
       "    </tr>\n",
       "    <tr>\n",
       "      <th>1</th>\n",
       "      <td>ORD1001</td>\n",
       "      <td>Tablet</td>\n",
       "      <td>3</td>\n",
       "      <td>70726</td>\n",
       "      <td>Enugu</td>\n",
       "      <td>Electronics</td>\n",
       "      <td>212178</td>\n",
       "      <td>212178</td>\n",
       "    </tr>\n",
       "    <tr>\n",
       "      <th>2</th>\n",
       "      <td>ORD1002</td>\n",
       "      <td>Headphones</td>\n",
       "      <td>9</td>\n",
       "      <td>146564</td>\n",
       "      <td>Ibadan</td>\n",
       "      <td>Mobile Devices</td>\n",
       "      <td>1319076</td>\n",
       "      <td>1319076</td>\n",
       "    </tr>\n",
       "    <tr>\n",
       "      <th>3</th>\n",
       "      <td>ORD1003</td>\n",
       "      <td>Headphones</td>\n",
       "      <td>2</td>\n",
       "      <td>120668</td>\n",
       "      <td>Enugu</td>\n",
       "      <td>Mobile Devices</td>\n",
       "      <td>241336</td>\n",
       "      <td>241336</td>\n",
       "    </tr>\n",
       "    <tr>\n",
       "      <th>4</th>\n",
       "      <td>ORD1004</td>\n",
       "      <td>Tablet</td>\n",
       "      <td>2</td>\n",
       "      <td>11102</td>\n",
       "      <td>Abuja</td>\n",
       "      <td>Electronics</td>\n",
       "      <td>22204</td>\n",
       "      <td>22204</td>\n",
       "    </tr>\n",
       "  </tbody>\n",
       "</table>\n",
       "</div>"
      ],
      "text/plain": [
       "  Order_ID           Product_Name  Quantity  Unit_Price Customer_Location  \\\n",
       "0  ORD1000  MonitorWireless Mouse         9      129019             Abuja   \n",
       "1  ORD1001                 Tablet         3       70726             Enugu   \n",
       "2  ORD1002             Headphones         9      146564            Ibadan   \n",
       "3  ORD1003             Headphones         2      120668             Enugu   \n",
       "4  ORD1004                 Tablet         2       11102             Abuja   \n",
       "\n",
       "  Product_Category  Total_Revenue  Revenue  \n",
       "0      Accessories        1161171  1161171  \n",
       "1      Electronics         212178   212178  \n",
       "2   Mobile Devices        1319076  1319076  \n",
       "3   Mobile Devices         241336   241336  \n",
       "4      Electronics          22204    22204  "
      ]
     },
     "execution_count": 16,
     "metadata": {},
     "output_type": "execute_result"
    }
   ],
   "source": [
    "sales['Revenue'] = sales['Total_Revenue']\n",
    "\n",
    "sales.head()  \n"
   ]
  },
  {
   "cell_type": "code",
   "execution_count": 17,
   "id": "48d46b7b",
   "metadata": {},
   "outputs": [],
   "source": [
    "sales.drop(columns=['Total_Revenue'], inplace=True)"
   ]
  },
  {
   "cell_type": "code",
   "execution_count": 18,
   "id": "5c1fb995",
   "metadata": {},
   "outputs": [
    {
     "data": {
      "text/html": [
       "<div>\n",
       "<style scoped>\n",
       "    .dataframe tbody tr th:only-of-type {\n",
       "        vertical-align: middle;\n",
       "    }\n",
       "\n",
       "    .dataframe tbody tr th {\n",
       "        vertical-align: top;\n",
       "    }\n",
       "\n",
       "    .dataframe thead th {\n",
       "        text-align: right;\n",
       "    }\n",
       "</style>\n",
       "<table border=\"1\" class=\"dataframe\">\n",
       "  <thead>\n",
       "    <tr style=\"text-align: right;\">\n",
       "      <th></th>\n",
       "      <th>Order_ID</th>\n",
       "      <th>Product_Name</th>\n",
       "      <th>Quantity</th>\n",
       "      <th>Unit_Price</th>\n",
       "      <th>Customer_Location</th>\n",
       "      <th>Product_Category</th>\n",
       "      <th>Revenue</th>\n",
       "    </tr>\n",
       "  </thead>\n",
       "  <tbody>\n",
       "    <tr>\n",
       "      <th>0</th>\n",
       "      <td>ORD1000</td>\n",
       "      <td>MonitorWireless Mouse</td>\n",
       "      <td>9</td>\n",
       "      <td>129019</td>\n",
       "      <td>Abuja</td>\n",
       "      <td>Accessories</td>\n",
       "      <td>1161171</td>\n",
       "    </tr>\n",
       "    <tr>\n",
       "      <th>1</th>\n",
       "      <td>ORD1001</td>\n",
       "      <td>Tablet</td>\n",
       "      <td>3</td>\n",
       "      <td>70726</td>\n",
       "      <td>Enugu</td>\n",
       "      <td>Electronics</td>\n",
       "      <td>212178</td>\n",
       "    </tr>\n",
       "    <tr>\n",
       "      <th>2</th>\n",
       "      <td>ORD1002</td>\n",
       "      <td>Headphones</td>\n",
       "      <td>9</td>\n",
       "      <td>146564</td>\n",
       "      <td>Ibadan</td>\n",
       "      <td>Mobile Devices</td>\n",
       "      <td>1319076</td>\n",
       "    </tr>\n",
       "    <tr>\n",
       "      <th>3</th>\n",
       "      <td>ORD1003</td>\n",
       "      <td>Headphones</td>\n",
       "      <td>2</td>\n",
       "      <td>120668</td>\n",
       "      <td>Enugu</td>\n",
       "      <td>Mobile Devices</td>\n",
       "      <td>241336</td>\n",
       "    </tr>\n",
       "    <tr>\n",
       "      <th>4</th>\n",
       "      <td>ORD1004</td>\n",
       "      <td>Tablet</td>\n",
       "      <td>2</td>\n",
       "      <td>11102</td>\n",
       "      <td>Abuja</td>\n",
       "      <td>Electronics</td>\n",
       "      <td>22204</td>\n",
       "    </tr>\n",
       "  </tbody>\n",
       "</table>\n",
       "</div>"
      ],
      "text/plain": [
       "  Order_ID           Product_Name  Quantity  Unit_Price Customer_Location  \\\n",
       "0  ORD1000  MonitorWireless Mouse         9      129019             Abuja   \n",
       "1  ORD1001                 Tablet         3       70726             Enugu   \n",
       "2  ORD1002             Headphones         9      146564            Ibadan   \n",
       "3  ORD1003             Headphones         2      120668             Enugu   \n",
       "4  ORD1004                 Tablet         2       11102             Abuja   \n",
       "\n",
       "  Product_Category  Revenue  \n",
       "0      Accessories  1161171  \n",
       "1      Electronics   212178  \n",
       "2   Mobile Devices  1319076  \n",
       "3   Mobile Devices   241336  \n",
       "4      Electronics    22204  "
      ]
     },
     "execution_count": 18,
     "metadata": {},
     "output_type": "execute_result"
    }
   ],
   "source": [
    "sales.head(5)\n"
   ]
  },
  {
   "cell_type": "code",
   "execution_count": 19,
   "id": "f26db20e",
   "metadata": {},
   "outputs": [],
   "source": [
    "sales.to_csv('../DATA/clean_sales.csv',index=False)"
   ]
  },
  {
   "cell_type": "markdown",
   "id": "51d7bab3",
   "metadata": {},
   "source": [
    "2. Total Revenue Analysis:\n",
    "    - Calculate the total revenue generated by the company.\n",
    "    - Visualize the revenue distribution using a histogram or bar chart."
   ]
  },
  {
   "cell_type": "code",
   "execution_count": 20,
   "id": "8dcda90b",
   "metadata": {},
   "outputs": [
    {
     "name": "stdout",
     "output_type": "stream",
     "text": [
      "22044889\n"
     ]
    }
   ],
   "source": [
    "total_revenue = sales['Revenue'].sum()\n",
    "print(total_revenue)"
   ]
  },
  {
   "cell_type": "code",
   "execution_count": null,
   "id": "34e4f2b5",
   "metadata": {},
   "outputs": [
    {
     "data": {
      "image/png": "[encoded data removed]",
      "text/plain": [
       "<Figure size 1000x600 with 1 Axes>"
      ]
     },
     "metadata": {},
     "output_type": "display_data"
    }
   ],
   "source": [
    "import seaborn as sns\n",
    "import matplotlib.pyplot as plt\n",
    "\n",
    "plt.figure(figsize=(10,6))\n",
    "sns.histplot(data=sales,x='Revenue',kde=True)\n",
    "plt.title('Distribution of Revenue')\n",
    "plt.show()\n"
   ]
  },
  {
   "cell_type": "markdown",
   "id": "702162aa",
   "metadata": {},
   "source": [
    "3. Top-Selling Products:\n",
    "    - Calculate the total revenue for each product.\n",
    "    - Rank products by revenue and identify the top 5 products with the highest sales.\n",
    "    - Visualize the results using a bar chart or Pareto chart.\n"
   ]
  },
  {
   "cell_type": "code",
   "execution_count": 36,
   "id": "21b4aa0d",
   "metadata": {},
   "outputs": [
    {
     "data": {
      "text/html": [
       "<div>\n",
       "<style scoped>\n",
       "    .dataframe tbody tr th:only-of-type {\n",
       "        vertical-align: middle;\n",
       "    }\n",
       "\n",
       "    .dataframe tbody tr th {\n",
       "        vertical-align: top;\n",
       "    }\n",
       "\n",
       "    .dataframe thead th {\n",
       "        text-align: right;\n",
       "    }\n",
       "</style>\n",
       "<table border=\"1\" class=\"dataframe\">\n",
       "  <thead>\n",
       "    <tr style=\"text-align: right;\">\n",
       "      <th></th>\n",
       "      <th>Product_Category</th>\n",
       "      <th>Revenue</th>\n",
       "    </tr>\n",
       "  </thead>\n",
       "  <tbody>\n",
       "    <tr>\n",
       "      <th>4</th>\n",
       "      <td>Mobile Devices</td>\n",
       "      <td>6603011</td>\n",
       "    </tr>\n",
       "    <tr>\n",
       "      <th>0</th>\n",
       "      <td>Accessories</td>\n",
       "      <td>5881125</td>\n",
       "    </tr>\n",
       "    <tr>\n",
       "      <th>1</th>\n",
       "      <td>Computers</td>\n",
       "      <td>4107314</td>\n",
       "    </tr>\n",
       "    <tr>\n",
       "      <th>3</th>\n",
       "      <td>Gadgets</td>\n",
       "      <td>3436646</td>\n",
       "    </tr>\n",
       "    <tr>\n",
       "      <th>2</th>\n",
       "      <td>Electronics</td>\n",
       "      <td>2016793</td>\n",
       "    </tr>\n",
       "  </tbody>\n",
       "</table>\n",
       "</div>"
      ],
      "text/plain": [
       "  Product_Category  Revenue\n",
       "4   Mobile Devices  6603011\n",
       "0      Accessories  5881125\n",
       "1        Computers  4107314\n",
       "3          Gadgets  3436646\n",
       "2      Electronics  2016793"
      ]
     },
     "execution_count": 36,
     "metadata": {},
     "output_type": "execute_result"
    }
   ],
   "source": [
    "Trevenue_by_product = sales.groupby('Product_Category')['Revenue'].sum().reset_index()\n",
    "Trevenue= Trevenue_by_product.sort_values(by='Revenue',ascending=False)\n",
    "Trevenue.head()\n"
   ]
  },
  {
   "cell_type": "code",
   "execution_count": 37,
   "id": "cd9584b0",
   "metadata": {},
   "outputs": [
    {
     "data": {
      "text/html": [
       "<div>\n",
       "<style scoped>\n",
       "    .dataframe tbody tr th:only-of-type {\n",
       "        vertical-align: middle;\n",
       "    }\n",
       "\n",
       "    .dataframe tbody tr th {\n",
       "        vertical-align: top;\n",
       "    }\n",
       "\n",
       "    .dataframe thead th {\n",
       "        text-align: right;\n",
       "    }\n",
       "</style>\n",
       "<table border=\"1\" class=\"dataframe\">\n",
       "  <thead>\n",
       "    <tr style=\"text-align: right;\">\n",
       "      <th></th>\n",
       "      <th>Product_Category</th>\n",
       "      <th>Revenue</th>\n",
       "    </tr>\n",
       "  </thead>\n",
       "  <tbody>\n",
       "    <tr>\n",
       "      <th>0</th>\n",
       "      <td>Accessories</td>\n",
       "      <td>5881125</td>\n",
       "    </tr>\n",
       "    <tr>\n",
       "      <th>1</th>\n",
       "      <td>Computers</td>\n",
       "      <td>4107314</td>\n",
       "    </tr>\n",
       "    <tr>\n",
       "      <th>2</th>\n",
       "      <td>Electronics</td>\n",
       "      <td>2016793</td>\n",
       "    </tr>\n",
       "    <tr>\n",
       "      <th>3</th>\n",
       "      <td>Gadgets</td>\n",
       "      <td>3436646</td>\n",
       "    </tr>\n",
       "    <tr>\n",
       "      <th>4</th>\n",
       "      <td>Mobile Devices</td>\n",
       "      <td>6603011</td>\n",
       "    </tr>\n",
       "  </tbody>\n",
       "</table>\n",
       "</div>"
      ],
      "text/plain": [
       "  Product_Category  Revenue\n",
       "0      Accessories  5881125\n",
       "1        Computers  4107314\n",
       "2      Electronics  2016793\n",
       "3          Gadgets  3436646\n",
       "4   Mobile Devices  6603011"
      ]
     },
     "execution_count": 37,
     "metadata": {},
     "output_type": "execute_result"
    }
   ],
   "source": [
    "# rank the products by revenue\n",
    "Trevenue_by_product.rank(axis='columns',ascending=False, numeric_only=True)\n",
    "Trevenue_by_product.head()\n",
    "\n",
    "# Trevenue_by_prdt.rank(axis='columns',ascending=False)\n",
    "# Trevenue_by_prdt.head()"
   ]
  },
  {
   "cell_type": "code",
   "execution_count": 38,
   "id": "11bf6479",
   "metadata": {},
   "outputs": [
    {
     "data": {
      "image/png": "[encoded data removed]",
      "text/plain": [
       "<Figure size 1000x600 with 1 Axes>"
      ]
     },
     "metadata": {},
     "output_type": "display_data"
    }
   ],
   "source": [
    "plt.figure(figsize=(10,6))\n",
    "bars = plt.bar(Trevenue_by_product['Product_Category'],Trevenue_by_product['Revenue'])\n",
    "plt.title('Revenue by Product')\n",
    "plt.xlabel('Product')\n",
    "plt.ylabel('Revenue')\n",
    "plt.show()\n",
    "\n"
   ]
  },
  {
   "cell_type": "markdown",
   "id": "bb8612f7",
   "metadata": {},
   "source": [
    "- Rank products by revenue and identify the top 5 products with the highest sales.\n",
    "    - Visualize the results using a bar chart or Pareto chart."
   ]
  },
  {
   "cell_type": "code",
   "execution_count": 39,
   "id": "ef97d9b7",
   "metadata": {},
   "outputs": [
    {
     "data": {
      "text/html": [
       "<div>\n",
       "<style scoped>\n",
       "    .dataframe tbody tr th:only-of-type {\n",
       "        vertical-align: middle;\n",
       "    }\n",
       "\n",
       "    .dataframe tbody tr th {\n",
       "        vertical-align: top;\n",
       "    }\n",
       "\n",
       "    .dataframe thead th {\n",
       "        text-align: right;\n",
       "    }\n",
       "</style>\n",
       "<table border=\"1\" class=\"dataframe\">\n",
       "  <thead>\n",
       "    <tr style=\"text-align: right;\">\n",
       "      <th></th>\n",
       "      <th>Product_Category</th>\n",
       "      <th>Revenue</th>\n",
       "      <th>Cumulative_Percentage</th>\n",
       "    </tr>\n",
       "  </thead>\n",
       "  <tbody>\n",
       "    <tr>\n",
       "      <th>0</th>\n",
       "      <td>Accessories</td>\n",
       "      <td>5881125</td>\n",
       "      <td>26.677952</td>\n",
       "    </tr>\n",
       "    <tr>\n",
       "      <th>1</th>\n",
       "      <td>Computers</td>\n",
       "      <td>4107314</td>\n",
       "      <td>45.309545</td>\n",
       "    </tr>\n",
       "    <tr>\n",
       "      <th>2</th>\n",
       "      <td>Electronics</td>\n",
       "      <td>2016793</td>\n",
       "      <td>54.458120</td>\n",
       "    </tr>\n",
       "    <tr>\n",
       "      <th>3</th>\n",
       "      <td>Gadgets</td>\n",
       "      <td>3436646</td>\n",
       "      <td>70.047429</td>\n",
       "    </tr>\n",
       "    <tr>\n",
       "      <th>4</th>\n",
       "      <td>Mobile Devices</td>\n",
       "      <td>6603011</td>\n",
       "      <td>100.000000</td>\n",
       "    </tr>\n",
       "  </tbody>\n",
       "</table>\n",
       "</div>"
      ],
      "text/plain": [
       "  Product_Category  Revenue  Cumulative_Percentage\n",
       "0      Accessories  5881125              26.677952\n",
       "1        Computers  4107314              45.309545\n",
       "2      Electronics  2016793              54.458120\n",
       "3          Gadgets  3436646              70.047429\n",
       "4   Mobile Devices  6603011             100.000000"
      ]
     },
     "execution_count": 39,
     "metadata": {},
     "output_type": "execute_result"
    }
   ],
   "source": [
    "\n",
    "# Calculate cumulative percentage\n",
    "Trevenue_by_product['Cumulative_Percentage'] = (Trevenue_by_product['Revenue'].cumsum() / Trevenue_by_product['Revenue'].sum()) * 100\n",
    "Trevenue_by_product.head()\n"
   ]
  },
  {
   "cell_type": "code",
   "execution_count": 74,
   "id": "86788c83",
   "metadata": {},
   "outputs": [],
   "source": [
    "# helps to reveal the top performing products and the cumulative percentage of revenue \n",
    "# helps to identify the 80/20 rule, helps to prioritize efforts on high-impact areas\n",
    "# helps to focus on the most profitable products\n"
   ]
  },
  {
   "cell_type": "code",
   "execution_count": 75,
   "id": "3e957d49",
   "metadata": {},
   "outputs": [
    {
     "data": {
      "image/png": "[encoded data removed]",
      "text/plain": [
       "<Figure size 1000x700 with 2 Axes>"
      ]
     },
     "metadata": {},
     "output_type": "display_data"
    }
   ],
   "source": [
    "\n",
    "# Create Pareto chart\n",
    "fig, ax1 = plt.subplots(figsize=(10, 7))\n",
    "\n",
    "# Bar chart for revenue\n",
    "ax1.bar(Trevenue_by_product['Product_Category'], Trevenue_by_product['Revenue'], color='skyblue', alpha=0.7)\n",
    "ax1.set_xlabel('Product Category')\n",
    "ax1.set_ylabel('Revenue', color='skyblue')\n",
    "ax1.tick_params(axis='y', labelcolor='skyblue')\n",
    "ax1.set_title('Pareto Chart: Revenue by Product')\n",
    "\n",
    "# Rotate x-axis labels for readability\n",
    "plt.xticks(rotation=50, ha='right')\n",
    "\n",
    "# Secondary y-axis for cumulative percentage\n",
    "ax2 = ax1.twinx()\n",
    "ax2.plot(Trevenue_by_product['Product_Category'], Trevenue_by_product['Cumulative_Percentage'], color='red', marker='o', linewidth=2)\n",
    "ax2.set_ylabel('Cumulative Percentage (%)', color='red')\n",
    "ax2.tick_params(axis='y', labelcolor='red')\n",
    "\n",
    "# Add horizontal line at 80% for 80/20 rule\n",
    "ax2.axhline(y=80, color='green', linestyle='--', linewidth=1, label='80% Line')\n",
    "ax2.legend()\n",
    "\n",
    "plt.tight_layout()\n",
    "plt.show()"
   ]
  }
 ],
 "metadata": {
  "kernelspec": {
   "display_name": "Python 3",
   "language": "python",
   "name": "python3"
  },
  "language_info": {
   "codemirror_mode": {
    "name": "ipython",
    "version": 3
   },
   "file_extension": ".py",
   "mimetype": "text/x-python",
   "name": "python",
   "nbconvert_exporter": "python",
   "pygments_lexer": "ipython3",
   "version": "3.12.10"
  }
 },
 "nbformat": 4,
 "nbformat_minor": 5
}
