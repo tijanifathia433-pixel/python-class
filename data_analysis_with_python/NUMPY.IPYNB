{
 "cells": [
  {
   "cell_type": "markdown",
   "id": "c3c81166",
   "metadata": {},
   "source": [
    "<h2> 01. NumPy Introduction:</h2>"
   ]
  },
  {
   "cell_type": "markdown",
   "id": "b76f5a99",
   "metadata": {},
   "source": [
    "#### What is NumPy?\n",
    "\n",
    "NumPy is a python library used for working with arrays.\n",
    "\n",
    "It also has functions for working in domain of linear algebra, fourier transform, and matrices.\n",
    "\n",
    "NumPy was created in 2005 by Travis Oliphant. It is an open source project and you can use it freely.\n",
    "\n",
    "NumPy stands for Numerical Python.\n"
   ]
  },
  {
   "cell_type": "markdown",
   "id": "5e6dca58",
   "metadata": {},
   "source": [
    "------------------------------"
   ]
  },
  {
   "cell_type": "markdown",
   "id": "9c336830",
   "metadata": {},
   "source": [
    "#### Why Use NumPy ?\n",
    "\n",
    "In Python we have lists that serve the purpose of arrays, but they are slow to process.\n",
    "\n",
    "NumPy aims to provide an array object that is up to 50x faster that traditional Python lists.\n",
    "\n",
    "The array object in NumPy is called ndarray, it provides a lot of supporting functions that make working with ndarray very easy.\n",
    "\n",
    "Arrays are very frequently used in data science, where speed and resources are very important.\n",
    "\n",
    "Data Science: is a branch of computer science where we study how to store, use and analyze data for deriving information from it.\n"
   ]
  },
  {
   "cell_type": "markdown",
   "id": "e14ea4e7",
   "metadata": {},
   "source": [
    "----------------------------------------------"
   ]
  },
  {
   "cell_type": "markdown",
   "id": "dd485bd9",
   "metadata": {},
   "source": [
    "#### Why is NumPy Faster Than Lists?\n",
    "\n",
    "NumPy arrays are stored at one continuous place in memory unlike lists, so processes can access and manipulate them very efficiently.\n",
    "\n",
    "This behavior is called locality of reference in computer science.\n",
    "\n",
    "This is the main reason why NumPy is faster than lists. Also it is optimized to work with latest CPU architectures."
   ]
  },
  {
   "cell_type": "markdown",
   "id": "9da80395",
   "metadata": {},
   "source": [
    "------------------------------"
   ]
  },
  {
   "cell_type": "markdown",
   "id": "33570710",
   "metadata": {},
   "source": [
    "#### Which Language is NumPy written in?\n",
    "\n",
    "NumPy is a Python library and is written partially in Python, but most of the parts that require fast computation are written in C or C++."
   ]
  },
  {
   "cell_type": "markdown",
   "id": "0943f350",
   "metadata": {},
   "source": [
    "-----------"
   ]
  },
  {
   "cell_type": "markdown",
   "id": "5c387d8e",
   "metadata": {},
   "source": [
    "#### Where is the NumPy Codebase?\n",
    "\n",
    "The source code for NumPy is located at this github repository https://github.com/numpy/numpy\n",
    "\n",
    "github: enables many people to work on the same codebase."
   ]
  },
  {
   "cell_type": "code",
   "execution_count": null,
   "id": "39bff839",
   "metadata": {},
   "outputs": [],
   "source": []
  },
  {
   "cell_type": "markdown",
   "id": "f22ff1e1",
   "metadata": {},
   "source": [
    "<h2> 02.NumPy Getting Started:</h2>"
   ]
  },
  {
   "cell_type": "markdown",
   "id": "f6e84d09",
   "metadata": {
    "vscode": {
     "languageId": "plaintext"
    }
   },
   "source": [
    "#### Installation of NumPy:\n",
    "\n",
    "If you have Python and PIP already installed on a system, then installation of NumPy is very easy.\n",
    "\n",
    "Install it using this command:\n",
    "```shell\n",
    "C:\\Users\\Your Name>pip install numpy\n",
    "```"
   ]
  },
  {
   "cell_type": "markdown",
   "id": "7bfe1faa",
   "metadata": {},
   "source": [
    "Once NumPy is installed, import it in your applications by adding the import keyword:\n",
    "\n",
    "```python\n",
    "import numpy\n",
    "```"
   ]
  },
  {
   "cell_type": "markdown",
   "id": "67d313bb",
   "metadata": {},
   "source": [
    "\n",
    "\n",
    "Now Numpy is imported and ready to use.\n",
    "\n",
    "Example:\n"
   ]
  },
  {
   "cell_type": "code",
   "execution_count": null,
   "id": "2afc57d9",
   "metadata": {},
   "outputs": [],
   "source": [
    "import numpy as np\n",
    "arr = np.array([1, 2, 3, 4, 5])\n",
    "\n",
    "print(arr)"
   ]
  },
  {
   "cell_type": "code",
   "execution_count": null,
   "id": "a701a02f",
   "metadata": {},
   "outputs": [],
   "source": [
    "print(type(arr))"
   ]
  },
  {
   "cell_type": "markdown",
   "id": "27e82ec7",
   "metadata": {},
   "source": [
    "\n",
    "NumPy as np\n",
    "\n",
    "NumPy is usually imported under the np alias.\n",
    "\n",
    "alias: In Python alias are an alternate name for referring to the same thing.\n",
    "\n",
    "Create an alias with the as keyword while importing:\n",
    "\n",
    "import numpy as np\n",
    "\n",
    "Now the NumPy package can be referred to as np instead of numpy.\n",
    "\n",
    "Example:"
   ]
  },
  {
   "cell_type": "code",
   "execution_count": null,
   "id": "2f63d426",
   "metadata": {},
   "outputs": [],
   "source": [
    "import numpy as np\n",
    "\n",
    "arr = np.array([1, 2, 3, 4, 5])\n",
    "\n",
    "print(arr)"
   ]
  },
  {
   "cell_type": "markdown",
   "id": "da5fdcc9",
   "metadata": {},
   "source": [
    "Checking NumPy Version:\n",
    "\n",
    "The version string is stored under `__version__` attribute.\n",
    "\n",
    "Example:"
   ]
  },
  {
   "cell_type": "code",
   "execution_count": null,
   "id": "1e6aba81",
   "metadata": {},
   "outputs": [],
   "source": [
    "import numpy as np\n",
    "\n",
    "print(np.__version__)\n"
   ]
  },
  {
   "cell_type": "code",
   "execution_count": null,
   "id": "0cd77556",
   "metadata": {},
   "outputs": [],
   "source": []
  },
  {
   "cell_type": "markdown",
   "id": "4c4db67a",
   "metadata": {},
   "source": [
    "## 03. NumPy Creating Arrays:\n",
    "\n",
    "Create a NumPy ndarray Object:\n",
    "\n",
    "NumPy is used to work with arrays. The array object in NumPy is called ndarray.\n",
    "\n",
    "We can create a NumPy ndarray object by using the array() function.\n",
    "\n",
    "Example:"
   ]
  },
  {
   "cell_type": "code",
   "execution_count": null,
   "id": "ee465853",
   "metadata": {},
   "outputs": [],
   "source": [
    "import numpy as np\n",
    "\n",
    "arr = np.array([1, 2, 3, 4, 5])\n",
    "\n",
    "print(arr)\n",
    "\n",
    "print(type(arr))"
   ]
  },
  {
   "cell_type": "markdown",
   "id": "e032e87b",
   "metadata": {},
   "source": [
    "type(): This built-in Python function tells us the type of the object passed to it. Like in above code it shows that arr is numpy.ndarray type.\n",
    "\n",
    "To create an ndarray, we can pass a list, tuple or any array-like object into the array() method, and it will be converted into an ndarray:\n",
    "\n",
    "Example:\n",
    "\n",
    "Use a tuple to create a NumPy array:"
   ]
  },
  {
   "cell_type": "code",
   "execution_count": null,
   "id": "c38b77e0",
   "metadata": {},
   "outputs": [],
   "source": [
    "import numpy as np\n",
    "\n",
    "arr = np.array((1, 2, 3, 4, 5))\n",
    "\n",
    "print(arr)"
   ]
  },
  {
   "cell_type": "markdown",
   "id": "d89cd564",
   "metadata": {},
   "source": [
    "Dimensions in Arrays:\n",
    "\n",
    "A dimension in arrays is one level of array depth (nested arrays).\n",
    "\n",
    "nested array: are arrays that have arrays as their elements.\n",
    "\n",
    "0-D Arrays:\n",
    "\n",
    "0-D arrays, or Scalars, are the elements in an array. Each value in an array is a 0-D array.\n",
    "\n",
    "Example:\n",
    "\n",
    "Create a 0-D array with value 42"
   ]
  },
  {
   "cell_type": "code",
   "execution_count": null,
   "id": "00152fa4",
   "metadata": {},
   "outputs": [],
   "source": [
    "import numpy as np\n",
    "\n",
    "arr = np.array(42)\n",
    "\n",
    "print(arr)"
   ]
  },
  {
   "cell_type": "markdown",
   "id": "f873134f",
   "metadata": {},
   "source": [
    "1-D Arrays:\n",
    "\n",
    "An array that has 0-D arrays as its elements is called uni-dimensional or 1-D array.\n",
    "\n",
    "These are the most common and basic arrays.\n",
    "\n",
    "Example:\n",
    "\n",
    "Create a 1-D array containing the values 1,2,3,4,5:"
   ]
  },
  {
   "cell_type": "code",
   "execution_count": null,
   "id": "c432a117",
   "metadata": {},
   "outputs": [],
   "source": [
    "import numpy as np\n",
    "\n",
    "arr = np.array([1, 2, 3, 4, 5])\n",
    "\n",
    "print(arr)"
   ]
  },
  {
   "cell_type": "markdown",
   "id": "b107df67",
   "metadata": {},
   "source": [
    "2-D Arrays:\n",
    "\n",
    "An array that has 1-D arrays as its elements is called a 2-D array.\n",
    "\n",
    "These are often used to represent matrix or 2nd order tensors.\n",
    "\n",
    "NumPy has a whole sub module dedicated towards matrix operations called numpy.mat\n",
    "\n",
    "Example:\n",
    "\n",
    "Create a 2-D array containing two arrays with the values 1,2,3 and 4,5,6:"
   ]
  },
  {
   "cell_type": "code",
   "execution_count": null,
   "id": "ae4139af",
   "metadata": {},
   "outputs": [],
   "source": [
    "import numpy as np\n",
    "\n",
    "arr = np.array([[1, 2, 3], [4, 5, 6]])\n",
    "\n",
    "print(arr)"
   ]
  },
  {
   "cell_type": "markdown",
   "id": "1b46db47",
   "metadata": {},
   "source": [
    "3-D arrays:\n",
    "\n",
    "An array that has 2-D arrays (matrices) as its elements is called 3-D array.\n",
    "\n",
    "These are often used to represent a 3rd order tensor.\n",
    "\n",
    "Example:\n",
    "\n",
    "Create a 3-D array with two 2-D arrays, both containing two arrays with the values 1,2,3 and 4,5,6:"
   ]
  },
  {
   "cell_type": "code",
   "execution_count": null,
   "id": "6b9a0888",
   "metadata": {},
   "outputs": [],
   "source": [
    "import numpy as np\n",
    "\n",
    "arr = np.array([[[1, 2, 3], [4, 5, 6]], [[1, 2, 3], [4, 5, 6]]])\n",
    "\n",
    "print(arr)"
   ]
  },
  {
   "cell_type": "code",
   "execution_count": null,
   "id": "ab7f112e",
   "metadata": {},
   "outputs": [],
   "source": []
  },
  {
   "cell_type": "markdown",
   "id": "1ceb2642",
   "metadata": {},
   "source": [
    "Check Number of Dimensions?\n",
    "\n",
    "NumPy Arrays provides the ndim attribute that returns an integer that tells us how many dimensions the array have.\n",
    "\n",
    "Example:\n",
    "\n",
    "Check how many dimensions the arrays have:"
   ]
  },
  {
   "cell_type": "code",
   "execution_count": null,
   "id": "ad16d9b0",
   "metadata": {},
   "outputs": [],
   "source": [
    "import numpy as np\n",
    "\n",
    "a = np.array(42)\n",
    "b = np.array([1, 2, 3, 4, 5])\n",
    "c = np.array([[1, 2, 3], [4, 5, 6]])\n",
    "d = np.array([[[1, 2, 3], [4, 5, 6]], [[1, 2, 3], [4, 5, 6]]])\n",
    "\n",
    "print(a.ndim)\n",
    "print(b.ndim)\n",
    "print(c.ndim)\n",
    "print(d.ndim)   "
   ]
  },
  {
   "cell_type": "markdown",
   "id": "e958a7d4",
   "metadata": {},
   "source": [
    "Higher Dimensional Arrays:\n",
    "An array can have any number of dimensions.\n",
    "\n",
    "When the array is created, you can define the number of dimensions by using the ndmin argument.\n",
    "\n",
    "Example\n",
    "Create an array with 5 dimensions and verify that it has 5 dimensions:"
   ]
  },
  {
   "cell_type": "code",
   "execution_count": null,
   "id": "784933c7",
   "metadata": {},
   "outputs": [],
   "source": [
    "import numpy as np\n",
    "\n",
    "arr = np.array([1, 2, 3, 4], ndmin=5)\n",
    "\n",
    "print(arr)\n",
    "print('number of dimensions :', arr.ndim)"
   ]
  },
  {
   "cell_type": "markdown",
   "id": "301fe133",
   "metadata": {},
   "source": [
    "## 04. NumPy Array Indexing:"
   ]
  },
  {
   "cell_type": "markdown",
   "id": "bddf150e",
   "metadata": {},
   "source": [
    "Access Array Elements:\n",
    "  \n",
    "Array indexing is the same as accessing an array element.\n",
    "\n",
    "You can access an array element by referring to its index number.\n",
    "\n",
    "The indexes in NumPy arrays start with 0, meaning that the first element has index 0, and the second has index 1 etc.\n",
    "\n",
    "Example: \n",
    "Get the first element from the following array:"
   ]
  },
  {
   "cell_type": "code",
   "execution_count": null,
   "id": "7ea0f8cb",
   "metadata": {},
   "outputs": [],
   "source": [
    "import numpy as np\n",
    "\n",
    "arr = np.array([1, 2, 3, 4])\n",
    "\n",
    "print(arr[0])"
   ]
  },
  {
   "cell_type": "markdown",
   "id": "d635fa8e",
   "metadata": {},
   "source": [
    "Example:\n",
    "  \n",
    "Get the second element from the following array."
   ]
  },
  {
   "cell_type": "code",
   "execution_count": null,
   "id": "32f79d4d",
   "metadata": {},
   "outputs": [],
   "source": [
    "import numpy as np\n",
    "\n",
    "arr = np.array([1, 2, 3, 4])\n",
    "\n",
    "print(arr[1])"
   ]
  },
  {
   "cell_type": "markdown",
   "id": "404e8bd9",
   "metadata": {},
   "source": [
    "Example:\n",
    "  \n",
    "Get third and fourth elements from the following array and add them."
   ]
  },
  {
   "cell_type": "code",
   "execution_count": null,
   "id": "21a2cbde",
   "metadata": {},
   "outputs": [],
   "source": [
    "import numpy as np\n",
    "\n",
    "arr = np.array([1, 2, 3, 4])\n",
    "\n",
    "print(arr[2] + arr[3])"
   ]
  },
  {
   "cell_type": "markdown",
   "id": "47c9f0c3",
   "metadata": {},
   "source": [
    "Access 2-D Arrays:\n",
    "  \n",
    "To access elements from 2-D arrays we can use comma separated integers representing the dimension and the index of the element.\n",
    "\n",
    "Example:\n",
    "  \n",
    "Access the 2nd element on 1st dim:"
   ]
  },
  {
   "cell_type": "code",
   "execution_count": null,
   "id": "4d2e26f7",
   "metadata": {},
   "outputs": [],
   "source": [
    "import numpy as np\n",
    "\n",
    "arr = np.array([[1,2,3,4,5], [6,7,8,9,10]])\n",
    "\n",
    "print('2nd element on 1st dim: ', arr[0, 1])"
   ]
  },
  {
   "cell_type": "markdown",
   "id": "aeed753f",
   "metadata": {},
   "source": [
    "Example:\n",
    "  \n",
    "Access the 5th element on 2nd dim:"
   ]
  },
  {
   "cell_type": "code",
   "execution_count": null,
   "id": "6918ac71",
   "metadata": {},
   "outputs": [],
   "source": [
    "import numpy as np\n",
    "\n",
    "arr = np.array([[1,2,3,4,5], [6,7,8,9,10]])\n",
    "\n",
    "print('5th element on 2nd dim: ', arr[1, 4])"
   ]
  },
  {
   "cell_type": "markdown",
   "id": "adb320f2",
   "metadata": {},
   "source": [
    "Access 3-D Arrays:\n",
    "  \n",
    "To access elements from 3-D arrays we can use comma separated integers representing the dimensions and the index of the element.\n",
    "\n",
    "Example:\n",
    "  \n",
    "Access the third element of the second array of the first array:"
   ]
  },
  {
   "cell_type": "code",
   "execution_count": null,
   "id": "8b99b48f",
   "metadata": {},
   "outputs": [],
   "source": [
    "lst = [1, [2,3, [4,5,[6,7, [8,9]]]]]"
   ]
  },
  {
   "cell_type": "code",
   "execution_count": null,
   "id": "ea60d4e8",
   "metadata": {},
   "outputs": [],
   "source": [
    "lst[1][2][2][2][1]"
   ]
  },
  {
   "cell_type": "code",
   "execution_count": null,
   "id": "0a0bd3ba",
   "metadata": {},
   "outputs": [],
   "source": [
    "import numpy as np\n",
    "\n",
    "arr = np.array([[[1, 2, 3], [4, 5, 6]], [[7, 8, 9], [10, 11, 12]]])\n",
    "\"\"\"\n",
    "Example Explained:\n",
    "  \n",
    "  arr[0, 1, 2] prints the value 6.\n",
    "\n",
    "And this is why:\n",
    "\n",
    "The first number represents the first dimension, which contains two arrays:\n",
    "  \n",
    "[[1, 2, 3], [4, 5, 6]]\n",
    "\n",
    "and:\n",
    "  \n",
    "[[7, 8, 9], [10, 11, 12]]\n",
    "\n",
    "Since we selected 0, we are left with the first array:\n",
    "  \n",
    "[[1, 2, 3], [4, 5, 6]]\n",
    "\n",
    "The second number represents the second dimension, which also contains two arrays:\n",
    "[1, 2, 3]\n",
    "and:\n",
    "  \n",
    "[4, 5, 6]\n",
    "Since we selected 1, we are left with the second array:\n",
    "[4, 5, 6]\n",
    "\n",
    "The third number represents the third dimension, which contains three values:\n",
    "4\n",
    "5\n",
    "6\n",
    "Since we selected 2, we end up with the third value:\n",
    "6\n",
    "\"\"\"\n",
    "\n",
    "print(arr[0, 1, 2])\n",
    "\n"
   ]
  },
  {
   "cell_type": "markdown",
   "id": "63cf21c2",
   "metadata": {},
   "source": [
    "Negative Indexing :\n",
    "  \n",
    "Use negative indexing to access an array from the end.\n",
    "Example\n",
    "Print the last element from the 2nd dim:"
   ]
  },
  {
   "cell_type": "code",
   "execution_count": null,
   "id": "676cf1c5",
   "metadata": {},
   "outputs": [],
   "source": [
    "import numpy as np\n",
    "\n",
    "arr = np.array([[1,2,3,4,5], [6,7,8,9,10]])\n",
    "\n",
    "print('Last element from 2nd dim: ', arr[1, -1])"
   ]
  },
  {
   "cell_type": "markdown",
   "id": "160a25e3",
   "metadata": {},
   "source": [
    "## 05. Slicing arrays:"
   ]
  },
  {
   "cell_type": "markdown",
   "id": "4e393d0e",
   "metadata": {},
   "source": [
    "Slicing in python means taking elements from one given index to another given index.\n",
    "\n",
    "We pass slice instead of index like this: [start:end].\n",
    "\n",
    "We can also define the step, like this: [start:end:step].\n",
    "\n",
    "If we don't pass start its considered 0\n",
    "\n",
    "If we don't pass end its considered length of array in that dimension\n",
    "\n",
    "If we don't pass step its considered 1\n",
    "\n",
    "Example:\n",
    "\n",
    "Slice elements from index 1 to index 5 from the following array:"
   ]
  },
  {
   "cell_type": "code",
   "execution_count": null,
   "id": "e5f79e0d",
   "metadata": {},
   "outputs": [],
   "source": [
    "import numpy as np\n",
    "\n",
    "arr = np.array([1, 2, 3, 4, 5, 6, 7])\n",
    "\n",
    "print(arr[1:5])"
   ]
  },
  {
   "cell_type": "markdown",
   "id": "ea4409b2",
   "metadata": {},
   "source": [
    "Note: The result includes the start index, but excludes the end index.\n",
    "\n",
    "Example:\n",
    "\n",
    "Slice elements from index 4 to the end of the array:"
   ]
  },
  {
   "cell_type": "code",
   "execution_count": null,
   "id": "16078c4a",
   "metadata": {},
   "outputs": [],
   "source": [
    "import numpy as np\n",
    "\n",
    "arr = np.array([1, 2, 3, 4, 5, 6, 7])\n",
    "\n",
    "print(arr[4:])"
   ]
  },
  {
   "cell_type": "markdown",
   "id": "2da7da6b",
   "metadata": {},
   "source": [
    "Example:\n",
    "\n",
    "Slice elements from the beginning to index 4 (not included):"
   ]
  },
  {
   "cell_type": "code",
   "execution_count": null,
   "id": "ec858619",
   "metadata": {},
   "outputs": [],
   "source": [
    "import numpy as np\n",
    "\n",
    "arr = np.array([1, 2, 3, 4, 5, 6, 7])\n",
    "\n",
    "print(arr[:4])"
   ]
  },
  {
   "cell_type": "markdown",
   "id": "ca29be84",
   "metadata": {},
   "source": [
    "Negative Slicing:\n",
    "\n",
    "Use the minus operator to refer to an index from the end:\n",
    "\n",
    "Example:\n",
    "\n",
    "Slice from the index 3 from the end to index 1 from the end:"
   ]
  },
  {
   "cell_type": "code",
   "execution_count": null,
   "id": "08d19ae0",
   "metadata": {},
   "outputs": [],
   "source": [
    "import numpy as np\n",
    "\n",
    "arr = np.array([1, 2, 3, 4, 5, 6, 7])\n",
    "\n",
    "print(arr[-3:-1])"
   ]
  },
  {
   "cell_type": "markdown",
   "id": "7f584ca1",
   "metadata": {},
   "source": [
    "STEP:\n",
    "Use the step value to determine the step of the slicing:\n",
    "\n",
    "Example:\n",
    "\n",
    "Return every other element from index 1 to index 5:"
   ]
  },
  {
   "cell_type": "code",
   "execution_count": null,
   "id": "47ee85b8",
   "metadata": {},
   "outputs": [],
   "source": [
    "import numpy as np\n",
    "\n",
    "arr = np.array([1, 2, 3, 4, 5, 6, 7])\n",
    "\n",
    "print(arr[1:5:2])"
   ]
  },
  {
   "cell_type": "markdown",
   "id": "9e317d87",
   "metadata": {},
   "source": [
    "Example:\n",
    "\n",
    "Return every other element from the entire array:"
   ]
  },
  {
   "cell_type": "code",
   "execution_count": null,
   "id": "6142c696",
   "metadata": {},
   "outputs": [],
   "source": [
    "import numpy as np\n",
    "\n",
    "arr = np.array([1, 2, 3, 4, 5, 6, 7])\n",
    "\n",
    "print(arr[::2])"
   ]
  },
  {
   "cell_type": "markdown",
   "id": "8f398f5d",
   "metadata": {},
   "source": [
    "Slicing 2-D Arrays:\n",
    "\n",
    "Example:\n",
    "\n",
    "From the second element, slice elements from index 1 to index 4 (not included):"
   ]
  },
  {
   "cell_type": "code",
   "execution_count": null,
   "id": "55f992ba",
   "metadata": {},
   "outputs": [],
   "source": [
    "import numpy as np\n",
    "\n",
    "arr = np.array([[1, 2, 3, 4, 5], [6, 7, 8, 9, 10]])\n",
    "\n",
    "print(arr[1, 1:4])"
   ]
  },
  {
   "cell_type": "markdown",
   "id": "ee5cfbd2",
   "metadata": {},
   "source": [
    "Note: Remember that second element has index 1.\n",
    "\n",
    "Example:\n",
    "\n",
    "From both elements, return index 2:"
   ]
  },
  {
   "cell_type": "code",
   "execution_count": null,
   "id": "c57f27e9",
   "metadata": {},
   "outputs": [],
   "source": [
    "import numpy as np\n",
    "\n",
    "arr = np.array([[1, 2, 3, 4, 5], [6, 7, 8, 9, 10]])\n",
    "\n",
    "print(arr[0:2, 2])"
   ]
  },
  {
   "cell_type": "markdown",
   "id": "796f52c9",
   "metadata": {},
   "source": [
    "Example:\n",
    "\n",
    "From both elements, slice index 1 to index 4 (not included), this will return a 2-D array:"
   ]
  },
  {
   "cell_type": "code",
   "execution_count": null,
   "id": "8f9d5147",
   "metadata": {},
   "outputs": [],
   "source": [
    "import numpy as np\n",
    "\n",
    "arr = np.array([[1, 2, 3, 4, 5], [6, 7, 8, 9, 10]])\n",
    "\n",
    "print(arr[0:2, 1:4])"
   ]
  },
  {
   "cell_type": "markdown",
   "id": "3c5d73fa",
   "metadata": {},
   "source": [
    "## 06. NumPy Data Types:\n",
    "\n",
    "Data Types in Python:\n",
    "\n",
    "By default Python have these data types:\n",
    "\n",
    "strings - used to represent text data, the text is given under quote marks. eg. \"ABCD\"\n",
    "\n",
    "integer - used to represent integer numbers. eg. -1, -2, -3\n",
    "float - used to represent real numbers. eg. 1.2, 42.42\n",
    "boolean - used to represent True or False.\n",
    "\n",
    "complex - used to represent a number in complex plain. eg. 1.0 + 2.0j, 1.5 + 2.5j\n",
    "\n",
    "Data Types in NumPy:\n",
    "\n",
    "NumPy has some extra data types, and refer to data types with one character, like i for integers, u for unsigned integers etc.\n",
    "\n",
    "Below is a list of all data types in NumPy and the characters used to represent them.\n",
    "\n",
    "i - integer\n",
    "b - boolean\n",
    "u - unsigned integer\n",
    "f - float\n",
    "c - complex float\n",
    "m - timedelta\n",
    "M - datetime\n",
    "O - object\n",
    "S - string\n",
    "U - unicode string\n",
    "V - fixed chunk of memory for other type ( void )\n",
    "\n",
    "Checking the Data Type of an Array:\n",
    "\n",
    "The NumPy array object has a property called dtype that returns the data type of the array:"
   ]
  },
  {
   "cell_type": "markdown",
   "id": "fdf0dd34",
   "metadata": {},
   "source": [
    "Example:\n",
    "\n",
    "Get the data type of an array object:"
   ]
  },
  {
   "cell_type": "code",
   "execution_count": null,
   "id": "8e958cc5",
   "metadata": {},
   "outputs": [],
   "source": [
    "import numpy as np\n",
    "\n",
    "arr = np.array([1, 2, 3, 4])\n",
    "\n",
    "print(arr.dtype)"
   ]
  },
  {
   "cell_type": "markdown",
   "id": "b69fa259",
   "metadata": {},
   "source": [
    "Example:\n",
    "\n",
    "Get the data type of an array containing strings:"
   ]
  },
  {
   "cell_type": "code",
   "execution_count": null,
   "id": "3bf4a9b8",
   "metadata": {},
   "outputs": [],
   "source": [
    "import numpy as np\n",
    "\n",
    "arr = np.array(['apple', 'banana', 'cherry'])\n",
    "\n",
    "print(arr.dtype)"
   ]
  },
  {
   "cell_type": "markdown",
   "id": "de9aaec4",
   "metadata": {},
   "source": [
    "Creating Arrays With a Defined Data Type:\n",
    "\n",
    "We use the array() function to create arrays, this function can take an optional argument: dtype that allows us to define the expected data type of the array elements:\n",
    "\n",
    "Example:\n",
    "\n",
    "Create an array with data type string:"
   ]
  },
  {
   "cell_type": "code",
   "execution_count": null,
   "id": "e93e17eb",
   "metadata": {},
   "outputs": [],
   "source": [
    "import numpy as np\n",
    "\n",
    "arr = np.array([1, 2, 3, 4], dtype='S')\n",
    "\n",
    "print(arr)\n",
    "\n",
    "print(arr.dtype)"
   ]
  },
  {
   "cell_type": "markdown",
   "id": "1e34c3b8",
   "metadata": {},
   "source": [
    "For i, u, f, S and U we can define size as well.\n",
    "\n",
    "Example:\n",
    "Create an array with data type 4 bytes integer:"
   ]
  },
  {
   "cell_type": "code",
   "execution_count": null,
   "id": "744c98a4",
   "metadata": {},
   "outputs": [],
   "source": [
    "import numpy as np\n",
    "\n",
    "arr = np.array([1, 2, 3, 4], dtype='i4')\n",
    "\n",
    "print(arr)\n",
    "\n",
    "print(arr.dtype)"
   ]
  },
  {
   "cell_type": "markdown",
   "id": "5934ae31",
   "metadata": {},
   "source": [
    "\n",
    "What if a Value Can Not Be Converted?\n",
    "\n",
    "If a type is given in which elements can't be casted then NumPy will raise a ValueError.\n",
    "\n",
    "ValueError: In Python ValueError is raised when the type of passed argument to a function is unexpected/incorrect.\n",
    "\n",
    "Example:\n",
    "A non integer string like 'a' can not be converted to integer (will raise an error):\n"
   ]
  },
  {
   "cell_type": "code",
   "execution_count": null,
   "id": "e4acc933",
   "metadata": {},
   "outputs": [],
   "source": [
    "import numpy as np\n",
    "\n",
    "arr = np.array(['a', '2', '3'], dtype='i')"
   ]
  },
  {
   "cell_type": "markdown",
   "id": "34b5221e",
   "metadata": {},
   "source": [
    "Converting Data Type on Existing Arrays:\n",
    "\n",
    "The best way to change the data type of an existing array, is to make a copy of the array with the astype() method.\n",
    "\n",
    "The astype() function creates a copy of the array, and allows you to specify the data type as a parameter.\n",
    "\n",
    "The data type can be specified using a string, like 'f' for float, 'i' for integer etc. or you can use the data type directly like float for float and int for integer.\n",
    "\n",
    "Example:\n",
    "\n",
    "Change data type from float to integer by using 'i' as parameter value:"
   ]
  },
  {
   "cell_type": "code",
   "execution_count": null,
   "id": "0c53f40c",
   "metadata": {},
   "outputs": [],
   "source": [
    "import numpy as np\n",
    "\n",
    "arr = np.array([1.1, 2.1, 3.1])\n",
    "\n",
    "newarr = arr.astype('i4')\n",
    "\n",
    "print(newarr)\n",
    "\n",
    "print(newarr.dtype)"
   ]
  },
  {
   "cell_type": "markdown",
   "id": "cf6d982f",
   "metadata": {},
   "source": [
    "Example:\n",
    "\n",
    "Change data type from float to integer by using int as parameter value:"
   ]
  },
  {
   "cell_type": "code",
   "execution_count": null,
   "id": "9a701e6e",
   "metadata": {},
   "outputs": [],
   "source": [
    "import numpy as np\n",
    "\n",
    "arr = np.array([1.1, 2.1, 3.1])\n",
    "\n",
    "newarr = arr.astype(int)\n",
    "\n",
    "print(newarr)\n",
    "\n",
    "print(newarr.dtype)"
   ]
  },
  {
   "cell_type": "markdown",
   "id": "fefe5bd3",
   "metadata": {},
   "source": [
    "Example:\n",
    "\n",
    "Change data type from integer to boolean:\n",
    "\n"
   ]
  },
  {
   "cell_type": "code",
   "execution_count": null,
   "id": "15b21c41",
   "metadata": {},
   "outputs": [],
   "source": [
    "import numpy as np\n",
    "\n",
    "arr = np.array([1, 0, 3])\n",
    "\n",
    "newarr = arr.astype(bool)\n",
    "\n",
    "print(newarr)\n",
    "print(newarr.dtype)"
   ]
  },
  {
   "cell_type": "markdown",
   "id": "dbaf58a3",
   "metadata": {},
   "source": [
    "## 07. NumPy Array Copy vs View:"
   ]
  },
  {
   "cell_type": "markdown",
   "id": "3e576f1c",
   "metadata": {},
   "source": [
    "\n",
    "The Difference Between Copy and View:\n",
    "\n",
    "The main difference between a copy and a view of an array is that the copy is a new array, and the view is just a view of the original array.\n",
    "\n",
    "The copy owns the data and any changes made to the copy will not affect original array, and any changes made to the original array will not affect the copy.\n",
    "\n",
    "The view does not own the data and any changes made to the view will affect the original array, and any changes made to the original array will affect the view.\n",
    "\n",
    "COPY:\n",
    "Example:\n",
    "\n",
    "Make a copy, change the original array, and display both arrays:"
   ]
  },
  {
   "cell_type": "code",
   "execution_count": null,
   "id": "44453908",
   "metadata": {},
   "outputs": [],
   "source": [
    "import numpy as np\n",
    "\n",
    "arr = np.array([1, 2, 3, 4, 5])\n",
    "\n",
    "x = arr.copy()\n",
    "\n",
    "arr[0] = 42\n",
    "\n",
    "print(arr)\n",
    "\n",
    "print(x)"
   ]
  },
  {
   "cell_type": "markdown",
   "id": "7d56427b",
   "metadata": {},
   "source": [
    "The copy SHOULD NOT be affected by the changes made to the original array.\n",
    "\n",
    "VIEW:\n",
    "\n",
    "Example:\n",
    "Make a view, change the original array, and display both arrays:"
   ]
  },
  {
   "cell_type": "code",
   "execution_count": null,
   "id": "02566bef",
   "metadata": {},
   "outputs": [],
   "source": [
    "import numpy as np\n",
    "\n",
    "arr = np.array([1, 2, 3, 4, 5])\n",
    "x = arr.view()\n",
    "arr[0] = 42\n",
    "x[1]= 32\n",
    "\n",
    "print(arr)\n",
    "print(x)"
   ]
  },
  {
   "cell_type": "markdown",
   "id": "3b433cc2",
   "metadata": {},
   "source": [
    "The view SHOULD be affected by the changes made to the original array.\n",
    "Make Changes in the VIEW:\n",
    "\n",
    "Example:\n",
    "\n",
    "Make a view, change the view, and display both arrays:"
   ]
  },
  {
   "cell_type": "code",
   "execution_count": null,
   "id": "b6bfd3da",
   "metadata": {},
   "outputs": [],
   "source": [
    "import numpy as np\n",
    "\n",
    "arr = np.array([1, 2, 3, 4, 5])\n",
    "x = arr.view()\n",
    "x[0] = 31\n",
    "\n",
    "print(arr)\n",
    "\n",
    "print(x)\n"
   ]
  },
  {
   "cell_type": "markdown",
   "id": "7db67a94",
   "metadata": {},
   "source": [
    "The original array SHOULD be affected by the changes made to the view.\n",
    "\n",
    "Check if Array Owns it's Data:\n",
    "\n",
    "As mentioned above, copies owns the data, and views does not own the data, but how can we check this?\n",
    "\n",
    "Every NumPy array has the attribute base that returns None if the array owns the data.\n",
    "\n",
    "Otherwise, the base  attribute refers to the original object.\n",
    "\n",
    "Example:\n",
    "\n",
    "Print the value of the base attribute to check if an array owns it's data or not:\n"
   ]
  },
  {
   "cell_type": "code",
   "execution_count": null,
   "id": "4cc46a3f",
   "metadata": {},
   "outputs": [],
   "source": [
    "import numpy as np\n",
    "\n",
    "arr = np.array([1, 2, 3, 4, 5])\n",
    "\n",
    "x = arr.copy()\n",
    "y = arr.view()\n",
    "\n",
    "print(x.base)\n",
    "\n",
    "print(y.base)\n",
    "\n",
    "# \"\"\"\n",
    "# The copy returns None.\n",
    "# The view returns the original array.\n",
    "\n",
    "# \"\"\""
   ]
  },
  {
   "cell_type": "code",
   "execution_count": null,
   "id": "54a2d2d9",
   "metadata": {},
   "outputs": [],
   "source": []
  },
  {
   "cell_type": "markdown",
   "id": "51ae29c4",
   "metadata": {},
   "source": [
    "## 08. NumPy Array Shape"
   ]
  },
  {
   "cell_type": "markdown",
   "id": "8bd3546b",
   "metadata": {},
   "source": [
    "Shape of an Array:\n",
    "\n",
    "The shape of an array is the number of elements in each dimension.\n",
    "\n",
    "Get the Shape of an Array:\n",
    "\n",
    "NumPy arrays have an attribute called shape that returns a tuple with each index having the number of corresponding elements.\n",
    "\n",
    "Example:\n",
    "\n",
    "Print the shape of a 2-D array"
   ]
  },
  {
   "cell_type": "code",
   "execution_count": null,
   "id": "b90ec8c2",
   "metadata": {},
   "outputs": [],
   "source": [
    "import numpy as np\n",
    "\n",
    "arr = np.array([[1, 2, 3, 4], [5, 6, 7, 8]])\n",
    "\n",
    "print(arr.shape)"
   ]
  },
  {
   "cell_type": "markdown",
   "id": "6a2feb17",
   "metadata": {},
   "source": [
    "The example above returns (2, 4), which means that the array has 2 dimensions, and each dimension has 4 elements.\n",
    "\n",
    "Example:\n",
    "\n",
    "Create an array with 5 dimensions using ndmin using a vector with values 1,2,3,4 and verify that last dimension has value 4:"
   ]
  },
  {
   "cell_type": "code",
   "execution_count": null,
   "id": "5ba83642",
   "metadata": {},
   "outputs": [],
   "source": [
    "import numpy as np\n",
    "\n",
    "arr = np.array([1, 2, 3, 4], ndmin=5)\n",
    "\n",
    "print(arr)\n",
    "\n",
    "print('shape of array :', arr.shape)\n",
    "\n",
    "'''\n",
    "What does the shape tuple represent?\n",
    "\n",
    "Integers at every index tells about the number of elements the corresponding dimension has.\n",
    "\n",
    "In the example above at index-4 we have value 4, so we can say that 5th ( 4 + 1 th) dimension has 4 elements.\n",
    "\n",
    "'''"
   ]
  },
  {
   "cell_type": "code",
   "execution_count": null,
   "id": "b1e2f0df",
   "metadata": {},
   "outputs": [],
   "source": []
  },
  {
   "cell_type": "markdown",
   "id": "3a5ce278",
   "metadata": {},
   "source": [
    "## 09. NumPy Array Reshaping:"
   ]
  },
  {
   "cell_type": "markdown",
   "id": "ef0517cc",
   "metadata": {},
   "source": [
    "Reshaping arrays:\n",
    "\n",
    "Reshaping means changing the shape of an array.\n",
    "\n",
    "The shape of an array is the number of elements in each dimension.\n",
    "\n",
    "By reshaping we can add or remove dimensions or change number of elements in each dimension.\n",
    "\n",
    "Reshape From 1-D to 2-D\n",
    "\n",
    "Example:\n",
    "\n",
    "Convert the following 1-D array with 12 elements into a 2-D array.\n",
    "\n",
    "The outermost dimension will have 4 arrays, each with 3 elements:"
   ]
  },
  {
   "cell_type": "code",
   "execution_count": null,
   "id": "e4a99880",
   "metadata": {},
   "outputs": [],
   "source": [
    "import numpy as np\n",
    "\n",
    "arr = np.array([1, 2, 3, 4, 5, 6, 7, 8, 9, 10, 11, 12])\n",
    "\n",
    "newarr = arr.reshape(4, 3)\n",
    "\n",
    "print(newarr)"
   ]
  },
  {
   "cell_type": "markdown",
   "id": "3d6f5cd5",
   "metadata": {},
   "source": [
    "Reshape From 1-D to 3-D\n",
    "\n",
    "Example:\n",
    "\n",
    "Convert the following 1-D array with 12 elements into a 3-D array.\n",
    "\n",
    "The outermost dimension will have 2 arrays that contains 3 arrays, each with 2 elements:"
   ]
  },
  {
   "cell_type": "code",
   "execution_count": null,
   "id": "83d9328b",
   "metadata": {},
   "outputs": [],
   "source": [
    "import numpy as np\n",
    "\n",
    "arr = np.array([1, 2, 3, 4, 5, 6, 7, 8, 9, 10, 11, 12])\n",
    "\n",
    "newarr = arr.reshape(2, 3, 2) #[[[1,2],[3,4],[5,6]] , [[7,8],[9,10],[11,12]]]\n",
    "\n",
    "print(newarr)"
   ]
  },
  {
   "cell_type": "code",
   "execution_count": null,
   "id": "ff294553",
   "metadata": {},
   "outputs": [],
   "source": [
    "lst =np.array([   [1,2],  [3,4],  [5,6]   ])\n",
    "\n",
    "lst.shape\n"
   ]
  },
  {
   "cell_type": "markdown",
   "id": "cc366f93",
   "metadata": {},
   "source": [
    "Can We Reshape Into any Shape?:\n",
    "\n",
    "Yes, as long as the elements required for reshaping are equal in both shapes.\n",
    "\n",
    "We can reshape an 8 elements 1D array into 4 elements in 2 rows 2D array but we cannot reshape it into a 3 elements 3 rows 2D array as that would require 3x3 = 9 \n",
    "\n",
    "elements.\n",
    "\n",
    "Example:\n",
    "\n",
    "Try converting 1D array with 8 elements to a 2D array with 3 elements in each dimension (will raise an error):"
   ]
  },
  {
   "cell_type": "code",
   "execution_count": null,
   "id": "64bfee5b",
   "metadata": {},
   "outputs": [],
   "source": [
    "import numpy as np\n",
    "\n",
    "arr = np.array([1, 2, 3, 4, 5, 6, 7, 8,9])\n",
    "\n",
    "newarr = arr.reshape(3, 3)\n",
    "\n",
    "print(newarr)"
   ]
  },
  {
   "cell_type": "markdown",
   "id": "074071d3",
   "metadata": {},
   "source": [
    "Returns Copy or View?\n",
    "\n",
    "Example:\n",
    "\n",
    "Check if the returned array is a copy or a view:"
   ]
  },
  {
   "cell_type": "code",
   "execution_count": null,
   "id": "25d4fd2a",
   "metadata": {},
   "outputs": [],
   "source": [
    "import numpy as np\n",
    "\n",
    "arr = np.array([1, 2, 3, 4, 5, 6, 7, 8])\n",
    "\n",
    "print(arr.reshape(2, 4).base)"
   ]
  },
  {
   "cell_type": "markdown",
   "id": "42e445c2",
   "metadata": {},
   "source": [
    "The example above returns the original array, so it is a view.\n",
    "\n",
    "Unknown Dimension:\n",
    "\n",
    "You are allowed to have one \"unknown\" dimension.\n",
    "\n",
    "Meaning that you do not have to specify an exact number for one of the dimensions in the reshape method.\n",
    "\n",
    "Pass -1 as the value, and NumPy will calculate this number for you.\n",
    "\n",
    "Example:\n",
    "\n",
    "Convert 1D array with 8 elements to 3D array with 2x2 elements:"
   ]
  },
  {
   "cell_type": "code",
   "execution_count": null,
   "id": "dd43e7f1",
   "metadata": {},
   "outputs": [],
   "source": [
    "import numpy as np\n",
    "\n",
    "arr = np.array([1, 2, 3, 4, 5, 6, 7, 8])\n",
    "\n",
    "newarr = arr.reshape(2, 2,-1)  \n",
    "\n",
    "print(newarr) # [  [[1 2],[3 4]], [[5 6],[7 8]]  ]"
   ]
  },
  {
   "cell_type": "markdown",
   "id": "adf8cbcb",
   "metadata": {},
   "source": [
    "Note: We can not pass -1 to more than one dimension.\n",
    "\n",
    "Flattening the arrays:\n",
    "\n",
    "Flattening array means converting a multidimensional array into a 1D array.\n",
    "\n",
    "We can use reshape(-1) to do this.\n",
    "\n",
    "Example:\n",
    "\n",
    "Convert the array into a 1D array:\n"
   ]
  },
  {
   "cell_type": "code",
   "execution_count": null,
   "id": "c998c058",
   "metadata": {},
   "outputs": [],
   "source": [
    "import numpy as np\n",
    "\n",
    "arr = np.array([[1, 2, 3], [4, 5, 6]])\n",
    "\n",
    "newarr = arr.reshape(-1)\n",
    "\n",
    "print(newarr)\n",
    "\n",
    "#Note: There are a lot of functions for changing the shapes of arrays in numpy flatten, ravel and also for rearranging the elements rot90, flip, fliplr, flipud etc. \n",
    "\n",
    "#These fall under Intermediate to Advanced section of numpy."
   ]
  },
  {
   "cell_type": "code",
   "execution_count": null,
   "id": "11afb142",
   "metadata": {},
   "outputs": [],
   "source": []
  },
  {
   "cell_type": "markdown",
   "id": "eeff9d65",
   "metadata": {},
   "source": [
    "## 10. NumPy Array Iterating"
   ]
  },
  {
   "cell_type": "markdown",
   "id": "2db05f95",
   "metadata": {},
   "source": [
    "Iterating Arrays:\n",
    "\n",
    "Iterating means going through elements one by one.\n",
    "\n",
    "As we deal with multi-dimensional arrays in numpy, we can do this using basic for loop of python.\n",
    "\n",
    "If we iterate on a 1-D array it will go through each element one by one.\n",
    "\n",
    "Example:\n",
    "\n",
    "Iterate on the elements of the following 1-D array:"
   ]
  },
  {
   "cell_type": "code",
   "execution_count": null,
   "id": "5dc5190f",
   "metadata": {},
   "outputs": [],
   "source": [
    "import numpy as np\n",
    "\n",
    "arr = np.array([1, 2, 3])\n",
    "\n",
    "for x in arr:\n",
    "  \n",
    "  print(x)"
   ]
  },
  {
   "cell_type": "markdown",
   "id": "99ca66cc",
   "metadata": {},
   "source": [
    "Iterating 2-D Arrays:\n",
    "\n",
    "In a 2-D array it will go through all the rows.\n",
    "\n",
    "Example:\n",
    "Iterate on the elements of the following 2-D array:"
   ]
  },
  {
   "cell_type": "code",
   "execution_count": null,
   "id": "e8fe1df5",
   "metadata": {},
   "outputs": [],
   "source": [
    "import numpy as np\n",
    "\n",
    "arr = np.array([[1, 2, 3], [4, 5, 6]])\n",
    "\n",
    "for x in arr:\n",
    "  print(x)"
   ]
  },
  {
   "cell_type": "markdown",
   "id": "d7e4ecf6",
   "metadata": {},
   "source": [
    "If we iterate on a n-D array it will go through n-1th dimension one by one.\n",
    "\n",
    "To return the actual values, the scalars, we have to iterate the arrays in each dimension.\n",
    "\n",
    "Example:\n",
    "\n",
    "Iterate on each scalar element of the 2-D array:"
   ]
  },
  {
   "cell_type": "code",
   "execution_count": null,
   "id": "b5ecd3cf",
   "metadata": {},
   "outputs": [],
   "source": [
    "import numpy as np\n",
    "\n",
    "arr = np.array([[1, 2, 3], [4, 5, 6]])\n",
    "\n",
    "for x in arr:\n",
    "  for y in x:\n",
    "    print(y)"
   ]
  },
  {
   "cell_type": "markdown",
   "id": "a79a65e7",
   "metadata": {},
   "source": [
    "Iterating 3-D Arrays:\n",
    "\n",
    "In a 3-D array it will go through all the 2-D arrays.\n",
    "\n",
    "Example:\n",
    "Iterate on the elements of the following 3-D array:"
   ]
  },
  {
   "cell_type": "code",
   "execution_count": null,
   "id": "3e680346",
   "metadata": {},
   "outputs": [],
   "source": [
    "import numpy as np\n",
    "\n",
    "arr = np.array([[[1, 2, 3], [4, 5, 6]], [[7, 8, 9], [10, 11, 12]]])\n",
    "\n",
    "for x in arr:\n",
    "  print(x) "
   ]
  },
  {
   "cell_type": "markdown",
   "id": "81b1a602",
   "metadata": {},
   "source": [
    "To return the actual values, the scalars, we have to iterate the arrays in each dimension.\n",
    "\n",
    "Example:\n",
    "\n",
    "Iterate down to the scalars:"
   ]
  },
  {
   "cell_type": "code",
   "execution_count": null,
   "id": "20e6e2ee",
   "metadata": {},
   "outputs": [],
   "source": [
    "import numpy as np\n",
    "\n",
    "arr = np.array([[[1, 2, 3], [4, 5, 6]], [[7, 8, 9], [10, 11, 12]]])\n",
    "\n",
    "for x in arr:\n",
    "  for y in x:\n",
    "    for z in y:\n",
    "      print(z)"
   ]
  },
  {
   "cell_type": "markdown",
   "id": "dec97b38",
   "metadata": {},
   "source": [
    "Iterating Arrays Using nditer():\n",
    "\n",
    "The function nditer() is a helping function that can be used from very basic to very advanced iterations. It solves some basic issues which we face in iteration, \n",
    "\n",
    "lets go through it with examples.\n",
    "\n",
    "Iterating on Each Scalar Element:\n",
    "\n",
    "In basic for loops, iterating through each scalar of an array we need to use n for loops which can be difficult to write for arrays with very high dimensionality.\n",
    "\n",
    "Example:\n",
    "\n",
    "Iterate through the following 3-D array:"
   ]
  },
  {
   "cell_type": "code",
   "execution_count": null,
   "id": "d2eaaa78",
   "metadata": {},
   "outputs": [],
   "source": [
    "import numpy as np\n",
    "\n",
    "arr = np.array([[[1, 2], [3, 4]], [[5, 6], [7, 8]]])\n",
    "for x in np.nditer(arr):\n",
    "  print(x)"
   ]
  },
  {
   "cell_type": "markdown",
   "id": "eaf9cdb9",
   "metadata": {},
   "source": [
    "Iterating Array With Different Data Types:\n",
    "\n",
    "We can use op_dtypes argument and pass it the expected datatype to change the datatype of elements while iterating.\n",
    "\n",
    "NumPy does not change the data type of the element in-place (where the element is in array) so it needs some other space to perform this action, that extra space is \n",
    "called buffer, and in order to enable it in nditer() we pass flags=['buffered'].\n",
    "\n",
    "Example:\n",
    "\n",
    "Iterate through the array as a string:"
   ]
  },
  {
   "cell_type": "code",
   "execution_count": null,
   "id": "e6ee5504",
   "metadata": {},
   "outputs": [],
   "source": [
    "import numpy as np\n",
    "\n",
    "arr = np.array([1, 2, 3])\n",
    "\n",
    "for x in np.nditer(arr, flags=['buffered'], op_dtypes=['S']):\n",
    "  print(x)"
   ]
  },
  {
   "cell_type": "markdown",
   "id": "3bf5d634",
   "metadata": {},
   "source": [
    "\n",
    "Iterating With Different Step Size:\n",
    "\n",
    "We can use filtering and followed by iteration.\n",
    "\n",
    "Example:\n",
    "Iterate through every scalar element of the 2D array skipping 1 element:"
   ]
  },
  {
   "cell_type": "code",
   "execution_count": null,
   "id": "9ee721cc",
   "metadata": {},
   "outputs": [],
   "source": [
    "import numpy as np\n",
    "\n",
    "arr = np.array([[1, 2, 3, 4], [5, 6, 7, 8]])\n",
    "\n",
    "for x in np.nditer(arr[:, ::2]):\n",
    "  print(x)"
   ]
  },
  {
   "cell_type": "code",
   "execution_count": null,
   "id": "2ae9e378",
   "metadata": {},
   "outputs": [],
   "source": [
    "arr[:, ::2]"
   ]
  },
  {
   "cell_type": "markdown",
   "id": "55bde98f",
   "metadata": {},
   "source": [
    "### Slicing 3D array\n",
    "\n",
    "Think of the 3-D array as a **tiny cube made of two slices of bread** (each slice is a 2-D matrix).\n",
    "\n",
    "--------------------------------------------------\n",
    "Visual first\n",
    "--------------------------------------------------\n",
    "```python\n",
    "c = np.arange(24).reshape(2, 3, 4)\n",
    "```\n",
    "shape = (2, 3, 4)\n",
    "\n",
    "axis-0 → **which slice** (0 or 1)  \n",
    "axis-1 → **row inside that slice** (0, 1, 2)  \n",
    "axis-2 → **column inside that row** (0, 1, 2, 3)\n",
    "\n",
    "Print it:\n",
    "```\n",
    "slice 0\n",
    "[[ 0  1  2  3]   # row 0\n",
    " [ 4  5  6  7]   # row 1\n",
    " [ 8  9 10 11]]  # row 2\n",
    "\n",
    "slice 1\n",
    "[[12 13 14 15]\n",
    " [16 17 18 19]\n",
    " [20 21 22 23]]\n",
    "```\n",
    "\n",
    "--------------------------------------------------\n",
    "Slicing rule in one line\n",
    "--------------------------------------------------\n",
    "Inside the single bracket list the **slice for each axis left-to-right**, separated by commas:\n",
    "\n",
    "```\n",
    "c[ which_slice , which_row , which_col ]\n",
    "```\n",
    "\n",
    "Any of the three positions can be:\n",
    "- an **index** (`0`, `-1`, …)  \n",
    "- a **slice** (`:` , `::2`, `1:3`, …)  \n",
    "- an **ellipsis** `...` (“all remaining axes”)\n",
    "\n",
    "--------------------------------------------------\n",
    "Mini-dictionary of examples\n",
    "--------------------------------------------------\n",
    "```python\n",
    "c[0]               # slice 0 only → shape (3, 4)   (drops first axis)\n",
    "c[1, :, :]         # slice 1, full matrix → same as c[1]\n",
    "c[:, 0, :]         # row 0 from *both* slices → shape (2, 4)\n",
    "c[..., -1]         # last column from every row & slice → shape (2, 3)\n",
    "c[1, ::2, 0:3:2]   # slice 1, every 2nd row, cols 0 & 2 → [[12, 14], [20, 22]]\n",
    "```\n",
    "\n",
    "--------------------------------------------------\n",
    "Mnemonic\n",
    "--------------------------------------------------\n",
    "“**Bread slice → row → column**”  \n",
    "Remember making a sandwich: pick a slice, then a row inside, then a column inside that row.\n",
    "\n",
    "Run the tiny examples above in a notebook and print the shapes each time—after 5-6 tries the 3-D slicing clicks."
   ]
  },
  {
   "cell_type": "code",
   "execution_count": null,
   "id": "0e5e7ee7",
   "metadata": {},
   "outputs": [],
   "source": [
    "c = np.arange(24).reshape(2, 3, 4)"
   ]
  },
  {
   "cell_type": "code",
   "execution_count": null,
   "id": "4dcf6494",
   "metadata": {},
   "outputs": [],
   "source": [
    "c"
   ]
  },
  {
   "cell_type": "code",
   "execution_count": null,
   "id": "d35e67c8",
   "metadata": {},
   "outputs": [],
   "source": [
    "c[1,2,2]"
   ]
  },
  {
   "cell_type": "markdown",
   "id": "e87574b9",
   "metadata": {},
   "source": [
    "Enumerated Iteration Using ndenumerate():\n",
    "\n",
    "Enumeration means mentioning sequence number of somethings one by one.\n",
    "\n",
    "Sometimes we require corresponding index of the element while iterating, the ndenumerate() method can be used for those usecases.\n",
    "\n",
    "Example:\n",
    "\n",
    "Enumerate on following 1D arrays elements:"
   ]
  },
  {
   "cell_type": "code",
   "execution_count": null,
   "id": "b9cdd8e1",
   "metadata": {},
   "outputs": [],
   "source": [
    "import numpy as np\n",
    "\n",
    "arr = np.array([1, 2, 3])\n",
    "\n",
    "for idx, x in np.ndenumerate(arr):\n",
    "  print(idx, x)"
   ]
  },
  {
   "cell_type": "markdown",
   "id": "35ed1961",
   "metadata": {},
   "source": [
    "Example:\n",
    "\n",
    "Enumerate on following 2D array's elements"
   ]
  },
  {
   "cell_type": "code",
   "execution_count": null,
   "id": "3c79f67c",
   "metadata": {},
   "outputs": [],
   "source": [
    "import numpy as np\n",
    "\n",
    "arr = np.array([[1, 2, 3, 4], [5, 6, 7, 8]])\n",
    "\n",
    "for idx, x in np.ndenumerate(arr):\n",
    "  print(idx, x)"
   ]
  },
  {
   "cell_type": "code",
   "execution_count": null,
   "id": "bafa1307",
   "metadata": {},
   "outputs": [],
   "source": []
  },
  {
   "cell_type": "markdown",
   "id": "50d66a91",
   "metadata": {},
   "source": [
    "## 11. NumPy Joining Array"
   ]
  },
  {
   "cell_type": "markdown",
   "id": "80407dcb",
   "metadata": {},
   "source": [
    "\n",
    "Joining NumPy Arrays:\n",
    "\n",
    "Joining means putting contents of two or more arrays in a single array.\n",
    "\n",
    "In SQL we join tables based on a key, whereas in NumPy we join arrays by axes.\n",
    "\n",
    "We pass a sequence of arrays that we want to join to the concatenate() function, along with the axis. If axis is not explicitly passed, it is taken as 0.\n",
    "\n",
    "Example:\n",
    "\n",
    "Join two arrays:"
   ]
  },
  {
   "cell_type": "code",
   "execution_count": null,
   "id": "c3c522f1",
   "metadata": {},
   "outputs": [],
   "source": [
    "import numpy as np\n",
    "\n",
    "arr1 = np.array([1, 2, 3])\n",
    "\n",
    "arr2 = np.array([4, 5, 6])\n",
    "\n",
    "arr = np.concatenate((arr1, arr2))\n",
    "\n",
    "print(arr)"
   ]
  },
  {
   "cell_type": "markdown",
   "id": "a6d47d59",
   "metadata": {},
   "source": [
    "Example:\n",
    "\n",
    "Join two 2-D arrays along rows (axis=1):"
   ]
  },
  {
   "cell_type": "code",
   "execution_count": null,
   "id": "50513821",
   "metadata": {},
   "outputs": [],
   "source": [
    "import numpy as np\n",
    "\n",
    "arr1 = np.array([[1, 2], [3, 4]])\n",
    "\n",
    "arr2 = np.array([[5, 6], [7, 8]])\n",
    "\n",
    "arr = np.concatenate((arr1, arr2), axis=0)\n",
    "\n",
    "print(arr)"
   ]
  },
  {
   "cell_type": "code",
   "execution_count": null,
   "id": "8ef54052",
   "metadata": {},
   "outputs": [],
   "source": [
    "arr1"
   ]
  },
  {
   "cell_type": "code",
   "execution_count": null,
   "id": "3a58886e",
   "metadata": {},
   "outputs": [],
   "source": [
    "arr2"
   ]
  },
  {
   "cell_type": "markdown",
   "id": "9459538a",
   "metadata": {},
   "source": [
    "Joining Arrays Using Stack Functions:\n",
    "\n",
    "Stacking is same as concatenation, the only difference is that stacking is done along a new axis.\n",
    "\n",
    "We can concatenate two 1-D arrays along the second axis which would result in putting them one over the other, ie. stacking.\n",
    "\n",
    "We pass a sequence of arrays that we want to join to the concatenate() method along with the axis. If axis is not explicitly passed \n",
    "\n",
    "it is taken as 0.\n",
    "\n",
    "Example:"
   ]
  },
  {
   "cell_type": "code",
   "execution_count": null,
   "id": "1064474b",
   "metadata": {},
   "outputs": [],
   "source": [
    "import numpy as np\n",
    "\n",
    "arr1 = np.array([1, 2, 3])\n",
    "\n",
    "arr2 = np.array([4, 5, 6])\n",
    "\n",
    "arr = np.stack((arr1, arr2), axis=0)\n",
    "\n",
    "print(arr)"
   ]
  },
  {
   "cell_type": "markdown",
   "id": "9e886700",
   "metadata": {},
   "source": [
    "Stacking Along Rows:\n",
    "\n",
    "NumPy provides a helper function: hstack() to stack along rows.\n",
    "\n",
    "Example:"
   ]
  },
  {
   "cell_type": "code",
   "execution_count": null,
   "id": "592ec8b5",
   "metadata": {},
   "outputs": [],
   "source": [
    "import numpy as np\n",
    "\n",
    "arr1 = np.array([1, 2, 3])\n",
    "\n",
    "arr2 = np.array([4, 5, 6])\n",
    "\n",
    "arr = np.hstack((arr1, arr2))\n",
    "\n",
    "print(arr)"
   ]
  },
  {
   "cell_type": "markdown",
   "id": "6b9daa01",
   "metadata": {},
   "source": [
    "Stacking Along Columns:\n",
    "\n",
    "NumPy provides a helper function: vstack()  to stack along columns.\n",
    "\n",
    "Example:"
   ]
  },
  {
   "cell_type": "code",
   "execution_count": null,
   "id": "8fa9d309",
   "metadata": {},
   "outputs": [],
   "source": [
    "import numpy as np\n",
    "\n",
    "arr1 = np.array([1, 2, 3])\n",
    "\n",
    "arr2 = np.array([4, 5, 6])\n",
    "\n",
    "arr = np.vstack((arr1, arr2))\n",
    "\n",
    "print(arr)"
   ]
  },
  {
   "cell_type": "markdown",
   "id": "14ddd160",
   "metadata": {},
   "source": [
    "Stacking Along Height (depth):\n",
    "\n",
    "NumPy provides a helper function: dstack() to stack along height, which is the same as depth.\n",
    "\n",
    "Example:"
   ]
  },
  {
   "cell_type": "code",
   "execution_count": null,
   "id": "26933339",
   "metadata": {},
   "outputs": [],
   "source": [
    "import numpy as np\n",
    "\n",
    "arr1 = np.array([1, 2, 3])\n",
    "\n",
    "arr2 = np.array([4, 5, 6])\n",
    "\n",
    "arr = np.dstack((arr1, arr2))\n",
    "\n",
    "print(arr)\n",
    "\n",
    "# '''\n",
    "# Output:\n",
    "\n",
    "#   This gives the output of 1 2 3 4 5 6\n",
    "# '''"
   ]
  },
  {
   "cell_type": "code",
   "execution_count": null,
   "id": "87fad68a",
   "metadata": {},
   "outputs": [],
   "source": []
  },
  {
   "cell_type": "markdown",
   "id": "07f8d0cc",
   "metadata": {},
   "source": [
    "## 12. NumPy Splitting Array:"
   ]
  },
  {
   "cell_type": "markdown",
   "id": "fe829fc8",
   "metadata": {},
   "source": [
    "Splitting NumPy Arrays:\n",
    "\n",
    "Splitting is reverse operation of Joining.\n",
    "\n",
    "Joining merges multiple arrays into one and Splitting breaks one array into multiple.\n",
    "\n",
    "We use array_split() for splitting arrays, we pass it the array we want to split and the number of splits.\n",
    "\n",
    "Example:\n",
    "\n",
    "Split the array in 3 parts:"
   ]
  },
  {
   "cell_type": "code",
   "execution_count": null,
   "id": "39829096",
   "metadata": {},
   "outputs": [],
   "source": [
    "import numpy as np\n",
    "\n",
    "arr = np.array([1, 2, 3, 4, 5, 6])\n",
    "\n",
    "newarr = np.array_split(arr, 3)\n",
    "\n",
    "print(newarr)"
   ]
  },
  {
   "cell_type": "markdown",
   "id": "6e1e59e3",
   "metadata": {},
   "source": [
    "Note: The return value is an array containing three arrays.\n",
    "\n",
    "If the array has less elements than required, it will adjust from the end accordingly.\n",
    "\n",
    "Example:\n",
    "\n",
    "Split the array in 4 parts:"
   ]
  },
  {
   "cell_type": "code",
   "execution_count": null,
   "id": "b8b2ef5c",
   "metadata": {},
   "outputs": [],
   "source": [
    "import numpy as np\n",
    "\n",
    "arr = np.array([1, 2, 3, 4, 5, 6])\n",
    "\n",
    "newarr = np.array_split(arr, 4)\n",
    "\n",
    "print(newarr)"
   ]
  },
  {
   "cell_type": "markdown",
   "id": "e7bd17af",
   "metadata": {},
   "source": [
    "Note: We also have the method split() available but it will not adjust the elements when elements are less in source array for splitting like in example above, \n",
    "\n",
    "array_split() worked properly but split() would fail.\n",
    "\n",
    "Split Into Arrays:\n",
    "\n",
    "The return value of the array_split() method is an array containing each of the split as an array.\n",
    "\n",
    "If you split an array into 3 arrays, you can access them from the result just like any array element:\n",
    "\n",
    "Example:\n",
    "\n",
    "Access the splitted arrays:"
   ]
  },
  {
   "cell_type": "code",
   "execution_count": null,
   "id": "89886ec1",
   "metadata": {},
   "outputs": [],
   "source": [
    "import numpy as np\n",
    "\n",
    "arr = np.array([1, 2, 3, 4, 5, 6])\n",
    "\n",
    "newarr = np.array_split(arr, 3)\n",
    "\n",
    "print(newarr[0])\n",
    "print(newarr[1])\n",
    "print(newarr[2])"
   ]
  },
  {
   "cell_type": "markdown",
   "id": "8745f711",
   "metadata": {},
   "source": [
    "Splitting 2-D Arrays:\n",
    "\n",
    "Use the same syntax when splitting 2-D arrays.\n",
    "Use the array_split() method, pass in the array you want to split and the number of splits you want to do.\n",
    "\n",
    "Example:\n",
    "\n",
    "Split the 2-D array into three 2-D arrays."
   ]
  },
  {
   "cell_type": "code",
   "execution_count": null,
   "id": "ec58cfe0",
   "metadata": {},
   "outputs": [],
   "source": [
    "import numpy as np\n",
    "\n",
    "arr = np.array([[1, 2], [3, 4], [5, 6], [7, 8], [9, 10], [11, 12]])\n",
    "\n",
    "newarr = np.array_split(arr, 3)\n",
    "\n",
    "print(newarr)"
   ]
  },
  {
   "cell_type": "markdown",
   "id": "99d99580",
   "metadata": {},
   "source": [
    "The example above returns three 2-D arrays.\n",
    "\n",
    "Let's look at another example, this time each element in the 2-D arrays contains 3 elements.\n",
    "\n",
    "Example:\n",
    "\n",
    "Split the 2-D array into three 2-D arrays."
   ]
  },
  {
   "cell_type": "code",
   "execution_count": null,
   "id": "c4ddae06",
   "metadata": {},
   "outputs": [],
   "source": [
    "import numpy as np\n",
    "\n",
    "arr = np.array([[1, 2, 3], [4, 5, 6], [7, 8, 9], [10, 11, 12], [13, 14, 15], [16, 17, 18]])\n",
    "\n",
    "newarr = np.array_split(arr, 3)\n",
    "\n",
    "print(newarr)"
   ]
  },
  {
   "cell_type": "markdown",
   "id": "a38ffdff",
   "metadata": {},
   "source": [
    "The example above returns three 2-D arrays.\n",
    "\n",
    "In addition, you can specify which axis you want to do the split around.\n",
    "\n",
    "The example below also returns three 2-D arrays, but they are split along the row (axis=1).\n",
    "\n",
    "Example:\n",
    "\n",
    "Split the 2-D array into three 2-D arrays along rows."
   ]
  },
  {
   "cell_type": "code",
   "execution_count": null,
   "id": "46f0f04e",
   "metadata": {},
   "outputs": [],
   "source": [
    "import numpy as np\n",
    "\n",
    "arr = np.array([[1, 2, 3], [4, 5, 6], [7, 8, 9], [10, 11, 12], [13, 14, 15], [16, 17, 18]])\n",
    "\n",
    "newarr = np.array_split(arr, 3, axis=1)\n",
    "\n",
    "print(newarr)"
   ]
  },
  {
   "cell_type": "markdown",
   "id": "e5a88433",
   "metadata": {},
   "source": [
    "An alternate solution is using hsplit() opposite of hstack()\n",
    "\n",
    "Example:\n",
    "\n",
    "Use the hsplit() method to split the 2-D array into three 2-D arrays along rows.\n"
   ]
  },
  {
   "cell_type": "code",
   "execution_count": null,
   "id": "072ee079",
   "metadata": {},
   "outputs": [],
   "source": [
    "import numpy as np\n",
    "\n",
    "arr = np.array([[1, 2, 3], [4, 5, 6], [7, 8, 9], [10, 11, 12], [13, 14, 15], [16, 17, 18]])\n",
    "\n",
    "newarr = np.hsplit(arr, 3)\n",
    "\n",
    "print(newarr)\n",
    "\n",
    "#Note: Similar alternates to vstack() and dstack() are available as vsplit() and dsplit()."
   ]
  },
  {
   "cell_type": "code",
   "execution_count": null,
   "id": "de900b7c",
   "metadata": {},
   "outputs": [],
   "source": []
  },
  {
   "cell_type": "markdown",
   "id": "bdb5f822",
   "metadata": {},
   "source": [
    "## 13. NumPy Searching Arrays:\n",
    "\n",
    "Searching Arrays:\n",
    "\n",
    "You can search an array for a certain value, and return the indexes that get a match.\n",
    "\n",
    "To search an array, use the where() method.\n",
    "\n",
    "Example:\n",
    "\n",
    "Find the indexes where the value is 4:"
   ]
  },
  {
   "cell_type": "code",
   "execution_count": null,
   "id": "eb00f40a",
   "metadata": {},
   "outputs": [],
   "source": [
    "import numpy as np\n",
    "\n",
    "arr = np.array([1, 2, 3, 4, 5, 4, 4])\n",
    "\n",
    "x = np.where(arr == 4)\n",
    "\n",
    "print(x)"
   ]
  },
  {
   "cell_type": "markdown",
   "id": "f3bdd397",
   "metadata": {},
   "source": [
    "The example above will return a tuple: (array([3, 5, 6],)\n",
    "\n",
    "Which means that the value 4 is present at index 3, 5, and 6.\n",
    "\n",
    "Example:\n",
    "\n",
    "Find the indexes where the values are even:"
   ]
  },
  {
   "cell_type": "code",
   "execution_count": null,
   "id": "d86b806e",
   "metadata": {},
   "outputs": [],
   "source": [
    "import numpy as np\n",
    "\n",
    "arr = np.array([1, 2, 3, 4, 5, 6, 7, 8])\n",
    "\n",
    "x = np.where(arr%2 == 0)\n",
    "\n",
    "print(x)"
   ]
  },
  {
   "cell_type": "markdown",
   "id": "4dd87e46",
   "metadata": {},
   "source": [
    "Example:\n",
    "\n",
    "Find the indexes where the values are odd:"
   ]
  },
  {
   "cell_type": "code",
   "execution_count": null,
   "id": "724d5fe0",
   "metadata": {},
   "outputs": [],
   "source": [
    "import numpy as np\n",
    "\n",
    "arr = np.array([1, 2, 3, 4, 5, 6, 7, 8])\n",
    "\n",
    "x = np.where(arr%2 == 1)\n",
    "\n",
    "print(x)"
   ]
  },
  {
   "cell_type": "markdown",
   "id": "27075768",
   "metadata": {},
   "source": [
    "Search Sorted:\n",
    "\n",
    "There is a method called searchsorted() which performs a binary search in the array, and returns the index where the specified value would be inserted to maintain\n",
    "the search order.\n",
    "\n",
    "The searchsorted() method is assumed to be used on sorted arrays.\n",
    "\n",
    "Example:\n",
    "\n",
    "Find the indexes where the value 7 should be inserted:"
   ]
  },
  {
   "cell_type": "code",
   "execution_count": null,
   "id": "865b0ca4",
   "metadata": {},
   "outputs": [],
   "source": [
    "import numpy as np\n",
    "\n",
    "arr = np.array([6, 7, 8, 9])\n",
    "\n",
    "x = np.searchsorted(arr, 7)\n",
    "\n",
    "print(x)"
   ]
  },
  {
   "cell_type": "markdown",
   "id": "ccdcbc73",
   "metadata": {},
   "source": [
    "Example explained: The number 7 should be inserted on index 1 to remain the sort order.\n",
    "\n",
    "The method starts the search from the left and returns the first index where the number 7 is no longer larger than the next value.\n",
    "\n",
    "Search From the Right Side:\n",
    "\n",
    "By default the left most index is returned, but we can give side='right' to return the right most index instead.\n",
    "\n",
    "Example:\n",
    "\n",
    "Find the indexes where the value 7 should be inserted, starting from the right:\n"
   ]
  },
  {
   "cell_type": "code",
   "execution_count": null,
   "id": "63fe864f",
   "metadata": {},
   "outputs": [],
   "source": [
    "import numpy as np\n",
    "\n",
    "arr = np.array([6, 7, 8, 9]) # 9,8,7,6\n",
    "\n",
    "x = np.searchsorted(arr, 7, side='right')\n",
    "\n",
    "print(x)"
   ]
  },
  {
   "cell_type": "markdown",
   "id": "55bc7fb4",
   "metadata": {},
   "source": [
    "Example explained: The number 7 should be inserted on index 2 to remain the sort order.\n",
    "\n",
    "The method starts the search from the right and returns the first index where the number 7 is no longer less than the next value.\n",
    "\n",
    "Multiple Values:\n",
    "\n",
    "To search for more than one value, use an array with the specified values.\n",
    "\n",
    "Example:\n",
    "\n",
    "Find the indexes where the values 2, 4, and 6 should be inserted:"
   ]
  },
  {
   "cell_type": "code",
   "execution_count": null,
   "id": "779d2e10",
   "metadata": {},
   "outputs": [],
   "source": [
    "import numpy as np\n",
    "\n",
    "arr = np.array([1, 3, 5, 7])\n",
    "\n",
    "x = np.searchsorted(arr, [2, 4, 6])\n",
    "\n",
    "print(x)\n",
    "\n",
    "#The return value is an array: [1 2 3] containing the three indexes where 2, 4, 6 would be inserted in the original array to maintain the order."
   ]
  },
  {
   "cell_type": "code",
   "execution_count": null,
   "id": "009920e3",
   "metadata": {},
   "outputs": [],
   "source": []
  },
  {
   "cell_type": "markdown",
   "id": "8392c0d5",
   "metadata": {},
   "source": [
    "## 14. NumPy Sorting Arrays:\n",
    "\n",
    "Sorting Arrays:\n",
    "\n",
    "Sorting means putting elements in a ordered sequence.\n",
    "\n",
    "Ordered sequence is any sequence that has an order corresponding to elements, like numeric or alphabetical, ascending or descending.\n",
    "\n",
    "The NumPy ndarray object has a function called sort(), that will sort a specified array.\n",
    "\n",
    "Example:\n",
    "\n",
    "Sort the array:"
   ]
  },
  {
   "cell_type": "code",
   "execution_count": null,
   "id": "a9edf4bb",
   "metadata": {},
   "outputs": [],
   "source": [
    "import numpy as np\n",
    "\n",
    "arr = np.array([3, 2, 0, 1])\n",
    "\n",
    "print(np.sort(arr))"
   ]
  },
  {
   "cell_type": "markdown",
   "id": "a105d43a",
   "metadata": {},
   "source": [
    "Note: \n",
    "\n",
    "This method returns a copy of the array, leaving the original array unchanged.\n",
    "\n",
    "You can also sort arrays of strings, or any other data type:\n",
    "\n",
    "Example:\n",
    "\n",
    "Sort the array alphabetically:"
   ]
  },
  {
   "cell_type": "code",
   "execution_count": null,
   "id": "22c66a2a",
   "metadata": {},
   "outputs": [],
   "source": [
    "import numpy as np\n",
    "\n",
    "arr = np.array(['banana', 'cherry', 'apple'])\n",
    "\n",
    "print(np.sort(arr))"
   ]
  },
  {
   "cell_type": "markdown",
   "id": "d1b3ffb6",
   "metadata": {},
   "source": [
    "Example:\n",
    "\n",
    "Sort a boolean array:"
   ]
  },
  {
   "cell_type": "code",
   "execution_count": null,
   "id": "aa60093d",
   "metadata": {},
   "outputs": [],
   "source": [
    "import numpy as np\n",
    "\n",
    "arr = np.array([True, False, True])\n",
    "\n",
    "print(np.sort(arr))"
   ]
  },
  {
   "cell_type": "markdown",
   "id": "af9380d6",
   "metadata": {},
   "source": [
    "Sorting a 2-D Array:\n",
    "\n",
    "If you use the sort() method on a 2-D array, both arrays will be sorted:\n",
    "\n",
    "Example:\n",
    "Sort a 2-D array:"
   ]
  },
  {
   "cell_type": "code",
   "execution_count": null,
   "id": "42deb384",
   "metadata": {},
   "outputs": [],
   "source": [
    "import numpy as np\n",
    "\n",
    "arr = np.array([[3, 2, 4], [5, 0, 1]])\n",
    "\n",
    "print(np.sort(arr))"
   ]
  },
  {
   "cell_type": "code",
   "execution_count": null,
   "id": "e4cb9c15",
   "metadata": {},
   "outputs": [],
   "source": []
  },
  {
   "cell_type": "markdown",
   "id": "5e841b61",
   "metadata": {},
   "source": [
    "## 15. NumPy Filter Array:\n",
    "  \n",
    "Filtering Arrays:\n",
    "  \n",
    "Getting some elements out of an existing array and creating a new array out of them is called filtering.\n",
    "\n",
    "In NumPy, you filter an array using a boolean index list.\n",
    "\n",
    "A boolean index list is a list of booleans corresponding to indexes in the array.\n",
    "\n",
    "If the value at an index is True that element is contained in the filtered array, if the value at that index is False that element is excluded from the filtered array.\n",
    "\n",
    "Example:\n",
    "\n",
    "Create an array from the elements on index 0 and 2:\n"
   ]
  },
  {
   "cell_type": "code",
   "execution_count": null,
   "id": "b9dfeaae",
   "metadata": {},
   "outputs": [],
   "source": [
    "import numpy as np\n",
    "\n",
    "arr = np.array([41, 42, 43, 44])\n",
    "\n",
    "x = [True, False, True, False]\n",
    "\n",
    "newarr = arr[x]\n",
    "\n",
    "print(newarr)"
   ]
  },
  {
   "cell_type": "markdown",
   "id": "c874896b",
   "metadata": {},
   "source": [
    "The example above will return [41, 43], why?\n",
    "\n",
    "Because the new filter contains only the values where the filter array had the value True, in this case, index 0 and 2.\n",
    "\n",
    "Creating the Filter Array:\n",
    "  \n",
    "In the example above we hard-coded the True and False values, but the common use is to create a filter array based on conditions.\n",
    "Example:\n",
    "  \n",
    "Create a filter array that will return only values higher than 42:"
   ]
  },
  {
   "cell_type": "code",
   "execution_count": null,
   "id": "d107c582",
   "metadata": {},
   "outputs": [],
   "source": [
    "import numpy as np\n",
    "\n",
    "arr = np.array([41, 42, 43, 44])\n",
    "\n",
    "# Create an empty list\n",
    "filter_arr = []\n",
    "\n",
    "# go through each element in arr\n",
    "\n",
    "for element in arr:\n",
    "  \n",
    "  # if the element is higher than 42, set the value to True, otherwise False:\n",
    "  if element > 42:\n",
    "    filter_arr.append(True)\n",
    "  else:\n",
    "    filter_arr.append(False)\n",
    "\n",
    "newarr = arr[filter_arr]\n",
    "\n",
    "print(filter_arr)\n",
    "print(newarr)\n"
   ]
  },
  {
   "cell_type": "markdown",
   "id": "71d7b706",
   "metadata": {},
   "source": [
    "Example:\n",
    "  \n",
    "Create a filter array that will return only even elements from the original array:"
   ]
  },
  {
   "cell_type": "code",
   "execution_count": null,
   "id": "26b2a596",
   "metadata": {},
   "outputs": [],
   "source": [
    "import numpy as np\n",
    "\n",
    "arr = np.array([1, 2, 3, 4, 5, 6, 7])\n",
    "\n",
    "# Create an empty list\n",
    "filter_arr = []\n",
    "\n",
    "# go through each element in arr\n",
    "\n",
    "for element in arr:\n",
    "  \n",
    "  # if the element is completely divisble by 2, set the value to True, otherwise False\n",
    "  if element % 2 == 0:\n",
    "    filter_arr.append(True)\n",
    "  else:\n",
    "    filter_arr.append(False)\n",
    "\n",
    "newarr = arr[filter_arr]\n",
    "\n",
    "print(filter_arr)\n",
    "\n",
    "print(newarr)"
   ]
  },
  {
   "cell_type": "markdown",
   "id": "33650588",
   "metadata": {},
   "source": [
    "Creating Filter Directly From Array:\n",
    "  \n",
    "The above example is quite a common task in NumPy and NumPy provides a nice way to tackle it.\n",
    "\n",
    "We can directly substitute the array instead of the iterable variable in our condition and it will work just as we expect it to.\n",
    "\n",
    "Example:\n",
    "  \n",
    "Create a filter array that will return only values higher than 42:"
   ]
  },
  {
   "cell_type": "code",
   "execution_count": null,
   "id": "c01c36f2",
   "metadata": {},
   "outputs": [],
   "source": [
    "import numpy as np\n",
    "\n",
    "arr = np.array([41, 42, 43, 44])\n",
    "\n",
    "filter_arr = arr > 42\n",
    "\n",
    "newarr = arr[filter_arr]\n",
    "\n",
    "print(filter_arr)\n",
    "\n",
    "print(newarr)"
   ]
  },
  {
   "cell_type": "markdown",
   "id": "ea3bc2ea",
   "metadata": {},
   "source": [
    "Example:\n",
    "Create a filter array that will return only even elements from the original array."
   ]
  },
  {
   "cell_type": "code",
   "execution_count": null,
   "id": "494bb78e",
   "metadata": {},
   "outputs": [],
   "source": [
    "import numpy as np\n",
    "\n",
    "arr = np.array([1, 2, 3, 4, 5, 6, 7])\n",
    "\n",
    "filter_arr = arr % 2 == 0\n",
    "\n",
    "newarr = arr[filter_arr]\n",
    "\n",
    "print(filter_arr)\n",
    "print(newarr)"
   ]
  },
  {
   "cell_type": "code",
   "execution_count": null,
   "id": "42af5240",
   "metadata": {},
   "outputs": [],
   "source": []
  },
  {
   "cell_type": "markdown",
   "id": "d7680d60",
   "metadata": {},
   "source": [
    "## 16. What is a Random Number?\n",
    "\n",
    "Random number does NOT mean a different number every time. Random means something that can not be predicted logically.\n",
    "\n",
    "Pseudo Random and True Random.\n",
    "\n",
    "Computers work on programs, and programs are definitive set of instructions. So it means there must be some algorithm to generate a\n",
    "\n",
    "random number as well.\n",
    "\n",
    "If there is a program to generate random number it can be predicted, thus it is not truly random.\n",
    "\n",
    "Random numbers generated through a generation algorithm are called pseudo random.\n",
    "\n",
    "Can we make truly random numbers?\n",
    "\n",
    "'''Yes. In order to generate a truly random number on our computers we need to get the random data from some outside source. This outside \n",
    "\n",
    "source is generally our keystrokes, mouse movements, data on network etc.\n",
    "\n",
    "\n",
    "We do not need truly random numbers, unless its related to security (e.g. encryption keys) or the basis of application is the randomness (e.g. Digital roulette wheels).\n",
    "\n",
    "In this tutorial we will be using pseudo random numbers.\n",
    "\n",
    "Generate Random Number:\n",
    "\n",
    "NumPy offers the random module to work with random numbers.\n",
    "\n",
    "Example:\n",
    "\n",
    "Generate a random integer from 0 to 100:\n"
   ]
  },
  {
   "cell_type": "code",
   "execution_count": null,
   "id": "2c0fd94d",
   "metadata": {},
   "outputs": [],
   "source": [
    "from numpy import random\n",
    "\n",
    "x = random.randint(100)\n",
    "\n",
    "print(x)"
   ]
  },
  {
   "cell_type": "markdown",
   "id": "12536335",
   "metadata": {},
   "source": [
    "Generate Random Float:\n",
    "\n",
    "The random module's rand() method returns a random float between 0 and 1.\n",
    "\n",
    "Example:\n",
    "\n",
    "Generate a random float from 0 to 1:"
   ]
  },
  {
   "cell_type": "code",
   "execution_count": null,
   "id": "6d3105a9",
   "metadata": {},
   "outputs": [],
   "source": [
    "from numpy import random\n",
    "\n",
    "x = random.rand()\n",
    "\n",
    "print(x)"
   ]
  },
  {
   "cell_type": "markdown",
   "id": "950542ec",
   "metadata": {},
   "source": [
    "Generate Random Array:\n",
    "\n",
    "In NumPy we work with arrays, and you can use the two methods from the above examples to make random arrays.\n",
    "\n",
    "Integers:\n",
    "\n",
    "The randint() method takes a size parameter where you can specify the shape of an array.\n",
    "\n",
    "Example:\n",
    "\n",
    "Generate a 1-D array containing 5 random integers from 0 to 100:"
   ]
  },
  {
   "cell_type": "code",
   "execution_count": null,
   "id": "2fa576c7",
   "metadata": {},
   "outputs": [],
   "source": [
    "from numpy import random\n",
    "\n",
    "x=random.randint(100, size=(5))\n",
    "\n",
    "print(x)"
   ]
  },
  {
   "cell_type": "markdown",
   "id": "3c1bf218",
   "metadata": {},
   "source": [
    "\n",
    "Example:\n",
    "\n",
    "Generate a 2-D array with 3 rows, each row containing 5 random integers from 0 to 100:"
   ]
  },
  {
   "cell_type": "code",
   "execution_count": null,
   "id": "98bfddaf",
   "metadata": {},
   "outputs": [],
   "source": [
    "from numpy import random\n",
    "\n",
    "x = random.randint(100, size=(3, 5))\n",
    "\n",
    "print(x)"
   ]
  },
  {
   "cell_type": "markdown",
   "id": "1dd7836d",
   "metadata": {},
   "source": [
    "Floats:\n",
    "\n",
    "The rand() method also allows you to specify the shape of the array.\n",
    "\n",
    "Example:\n",
    "\n",
    "Generate a 1-D array containing 5 random floats:"
   ]
  },
  {
   "cell_type": "code",
   "execution_count": null,
   "id": "6c46d788",
   "metadata": {},
   "outputs": [],
   "source": [
    "from numpy import random\n",
    "\n",
    "x = random.rand(5)\n",
    "\n",
    "print(x)"
   ]
  },
  {
   "cell_type": "markdown",
   "id": "08eeee65",
   "metadata": {},
   "source": [
    "Example:\n",
    "\n",
    "Generate a 2-D array with 3 rows, each row containing 5 random numbers:"
   ]
  },
  {
   "cell_type": "code",
   "execution_count": null,
   "id": "4dd4bd3d",
   "metadata": {},
   "outputs": [],
   "source": [
    "from numpy import random\n",
    "\n",
    "x = random.rand(3, 5)\n",
    "\n",
    "print(x)"
   ]
  },
  {
   "cell_type": "markdown",
   "id": "0a014f0d",
   "metadata": {},
   "source": [
    "Generate Random Number From Array:\n",
    "\n",
    "The choice() method allows you to generate a random value based on an array of values.\n",
    "\n",
    "The choice() method takes an array as a parameter and randomly returns one of the values.\n",
    "\n",
    "Example:\n",
    "\n",
    "Return one of the values in an array:"
   ]
  },
  {
   "cell_type": "code",
   "execution_count": null,
   "id": "5ee5394d",
   "metadata": {},
   "outputs": [],
   "source": [
    "from numpy import random\n",
    "\n",
    "x = random.choice([3, 5, 7, 9])\n",
    "\n",
    "print(x)"
   ]
  },
  {
   "cell_type": "markdown",
   "id": "59de24e9",
   "metadata": {},
   "source": [
    "The choice() method also allows you to return an array of values.\n",
    "\n",
    "Add a size parameter to specify the shape of the array.\n",
    "\n",
    "Example:\n",
    "\n",
    "Generate a 2-D array that consists of the values in the array parameter (3, 5, 7, and 9):"
   ]
  },
  {
   "cell_type": "code",
   "execution_count": null,
   "id": "210ff355",
   "metadata": {},
   "outputs": [],
   "source": [
    "from numpy import random\n",
    "\n",
    "x = random.choice([3, 5, 7, 9], size=(3, 5))\n",
    "\n",
    "print(x)\n"
   ]
  },
  {
   "cell_type": "code",
   "execution_count": null,
   "id": "fdd18c15",
   "metadata": {},
   "outputs": [],
   "source": []
  },
  {
   "cell_type": "markdown",
   "id": "d32107a2",
   "metadata": {},
   "source": [
    "## 16b. Random Data Distribution\n",
    "\n",
    "What is Data Distribution?\n",
    "\n",
    "Data Distribution is a list of all possible values, and how often each value occurs.\n",
    "\n",
    "Such lists are important when working with statistics and data science.\n",
    "\n",
    "The random module offer methods that returns randomly generated data distributions.\n",
    "\n",
    "Random Distribution:\n",
    "\n",
    "A random distribution is a set of random numbers that follow a certain probability density function.\n",
    "\n",
    "Probability Density Function: A function that describes a continuous probability. i.e. probability of all values in an array.\n",
    "\n",
    "We can generate random numbers based on defined probabilities using the choice() method of the random module.\n",
    "\n",
    "The choice() method allows us to specify the probability for each value.\n",
    "\n",
    "The probability is set by a number between 0 and 1, where 0 means that the value will never occur and 1 means that the value will always occur.\n",
    "\n",
    "Example:\n",
    "\n",
    "Generate a 1-D array containing 100 values, where each value has to be 3, 5, 7 or 9.\n",
    "\n",
    "The probability for the value to be 3 is set to be 0.1\n",
    "\n",
    "The probability for the value to be 5 is set to be 0.3\n",
    "\n",
    "The probability for the value to be 7 is set to be 0.6\n",
    "\n",
    "The probability for the value to be 9 is set to be 0"
   ]
  },
  {
   "cell_type": "code",
   "execution_count": null,
   "id": "d865c35e",
   "metadata": {},
   "outputs": [],
   "source": [
    "from numpy import random\n",
    "\n",
    "x = random.choice([3, 5, 7, 9], p=[0.1, 0.3, 0.6, 0.0], size=(100))\n",
    "\n",
    "print(x)"
   ]
  },
  {
   "cell_type": "markdown",
   "id": "150e35d4",
   "metadata": {},
   "source": [
    "The sum of all probability numbers should be 1.\n",
    "\n",
    "Even if you run the example above 100 times, the value 9 will never occur.\n",
    "\n",
    "You can return arrays of any shape and size by specifying the shape in the size parameter.\n",
    "\n",
    "Example is shown below:\n",
    "\n",
    "Same example as above, but return a 2-D array with 3 rows, each containing 5 values."
   ]
  },
  {
   "cell_type": "code",
   "execution_count": null,
   "id": "de2bc0b1",
   "metadata": {},
   "outputs": [],
   "source": [
    "from numpy import random\n",
    "\n",
    "x = random.choice([3, 5, 7, 9], p=[0.1, 0.3, 0.6, 0.0], size=(3, 5))\n",
    "\n",
    "print(x)"
   ]
  },
  {
   "cell_type": "code",
   "execution_count": null,
   "id": "2c908c96",
   "metadata": {},
   "outputs": [],
   "source": []
  },
  {
   "cell_type": "markdown",
   "id": "df4c73ed",
   "metadata": {},
   "source": [
    "## 16c. Random Permutations:\n",
    "  \n",
    "Random Permutations of Elements:\n",
    "\n",
    "A permutation refers to an arrangement of elements. e.g. [3, 2, 1] is a permutation of [1, 2, 3] and vice-versa.\n",
    "\n",
    "The NumPy Random module provides two methods for this: shuffle() and permutation().\n",
    "\n",
    "Shuffling Arrays:\n",
    "  \n",
    "Shuffle means changing arrangement of elements in-place. i.e. in the array itself.\n",
    "\n",
    "Example:\n",
    "\n",
    "Randomly shuffle elements of following array:"
   ]
  },
  {
   "cell_type": "code",
   "execution_count": null,
   "id": "e0edbd66",
   "metadata": {},
   "outputs": [],
   "source": [
    "from numpy import random\n",
    "\n",
    "import numpy as np\n",
    "\n",
    "arr = np.array([1, 2, 3, 4, 5])\n",
    "\n",
    "random.shuffle(arr)\n",
    "\n",
    "print(arr)"
   ]
  },
  {
   "cell_type": "markdown",
   "id": "c909be4a",
   "metadata": {},
   "source": [
    "The shuffle() method makes changes to the original array.\n",
    "\n",
    "Generating Permutation of Arrays:\n",
    "  \n",
    "Example:\n",
    "Generate a random permutation of elements of following array:"
   ]
  },
  {
   "cell_type": "code",
   "execution_count": null,
   "id": "e2e8421d",
   "metadata": {},
   "outputs": [],
   "source": [
    "from numpy import random\n",
    "\n",
    "import numpy as np\n",
    "arr = np.array([1, 2, 3, 4, 5])\n",
    "\n",
    "print(random.permutation(arr))"
   ]
  },
  {
   "cell_type": "markdown",
   "id": "664f37ca",
   "metadata": {},
   "source": [
    "The permutation() method returns a re-arranged array (and leaves the original array un-changed)."
   ]
  },
  {
   "cell_type": "code",
   "execution_count": null,
   "id": "8a36dacc",
   "metadata": {},
   "outputs": [],
   "source": []
  },
  {
   "cell_type": "markdown",
   "id": "23a40e86",
   "metadata": {},
   "source": [
    "## 16d. Seaborn:\n",
    "\n",
    "Visualize Distributions With Seaborn:\n",
    "\n",
    "Seaborn is a library that uses Matplotlib underneath to plot graphs. It will be used to visualize random distributions.\n",
    "\n",
    "Install Seaborn.\n",
    "\n",
    "If you have Python and PIP already installed on a system, install it using this command:\n",
    "\n",
    "C:\\Users\\Your Name>pip install seaborn\n",
    "\n",
    "If you use Jupyter, install Seaborn using this command:\n",
    "\n",
    "C:\\Users\\Your Name>!pip install seaborn\n",
    "\n",
    "Distplots:\n",
    "\n",
    "Distplot stands for distribution plot, it takes as input an array and plots a curve corresponding to the distribution of points in the \n",
    "array."
   ]
  },
  {
   "cell_type": "markdown",
   "id": "548a54fa",
   "metadata": {},
   "source": [
    "Import Matplotlib\n",
    "\n",
    "import the pyplot object of the Matplotlib module in your code using following code\n",
    "\n",
    "import matplotlib.pyplot as plt\n",
    "\n",
    "Import Seaborn\n",
    "\n",
    "import the seaborn in your code using following code\n",
    "\n",
    "import seaborn as sns\n",
    "\n",
    "Plotting a Displot"
   ]
  },
  {
   "cell_type": "code",
   "execution_count": null,
   "id": "a892b8c6",
   "metadata": {},
   "outputs": [],
   "source": [
    "%pip install seaborn"
   ]
  },
  {
   "cell_type": "markdown",
   "id": "483128c4",
   "metadata": {},
   "source": [
    "Example"
   ]
  },
  {
   "cell_type": "code",
   "execution_count": null,
   "id": "ba53665b",
   "metadata": {},
   "outputs": [],
   "source": [
    "import matplotlib.pyplot as plt\n",
    "import seaborn as sns\n",
    "\n",
    "sns.distplot([0, 1, 2, 3, 4, 5])\n",
    "plt.show()"
   ]
  },
  {
   "cell_type": "markdown",
   "id": "40f16d8d",
   "metadata": {},
   "source": [
    "Plotting a Distplot Without the Histogram:\n",
    "  \n",
    "Example:"
   ]
  },
  {
   "cell_type": "code",
   "execution_count": null,
   "id": "a1973792",
   "metadata": {},
   "outputs": [],
   "source": [
    "import matplotlib.pyplot as plt\n",
    "import seaborn as sns\n",
    "\n",
    "sns.distplot([0, 1, 2, 3, 4, 5], hist=False)\n",
    "\n",
    "plt.show()\n"
   ]
  },
  {
   "cell_type": "code",
   "execution_count": null,
   "id": "129b0d45",
   "metadata": {},
   "outputs": [],
   "source": []
  },
  {
   "cell_type": "markdown",
   "id": "b8fedf13",
   "metadata": {},
   "source": [
    "## 16e. Normal (Gaussian) Distribution:\n",
    "  \n",
    "Normal Distribution:\n",
    "\n",
    "The Normal Distribution is one of the most important distributions.\n",
    "\n",
    "It is also called the Gaussian Distribution after the German mathematician Carl Friedrich Gauss.\n",
    "\n",
    "It fits the probability distribution of many events, eg. IQ Scores, Heartbeat etc.\n",
    "\n",
    "Use the random.normal() method to get a Normal Data Distribution.\n",
    "\n",
    "It has three parameters:\n",
    "\n",
    "loc: (Mean) where the peak of the bell exists.\n",
    "\n",
    "scale: (Standard Deviation) how flat the graph distribution should be.\n",
    "\n",
    "size: The shape of the returned array.\n",
    "\n",
    "Example:\n",
    "\n",
    "Generate a random normal distribution of size 2x3:"
   ]
  },
  {
   "cell_type": "code",
   "execution_count": null,
   "id": "10fd6088",
   "metadata": {},
   "outputs": [],
   "source": [
    "from numpy import random\n",
    "\n",
    "x = random.normal(size=(2, 3))\n",
    "\n",
    "print(x)"
   ]
  },
  {
   "cell_type": "markdown",
   "id": "b3414693",
   "metadata": {},
   "source": [
    "Example:\n",
    "\n",
    "Generate a random normal distribution of size 2x3 with mean at 1 and standard deviation of 2:"
   ]
  },
  {
   "cell_type": "code",
   "execution_count": null,
   "id": "0c9c52e0",
   "metadata": {},
   "outputs": [],
   "source": [
    "from numpy import random\n",
    "\n",
    "x = random.normal(loc=1, scale=2, size=(2, 3))\n",
    "\n",
    "print(x)"
   ]
  },
  {
   "cell_type": "markdown",
   "id": "b277d6aa",
   "metadata": {},
   "source": [
    "Visualization of Normal Distribution:\n",
    "  \n",
    "Example:"
   ]
  },
  {
   "cell_type": "code",
   "execution_count": null,
   "id": "15a15004",
   "metadata": {},
   "outputs": [],
   "source": [
    "%pip install -U seaborn"
   ]
  },
  {
   "cell_type": "code",
   "execution_count": null,
   "id": "4296649a",
   "metadata": {},
   "outputs": [],
   "source": [
    "from numpy import random\n",
    "\n",
    "import matplotlib.pyplot as plt\n",
    "import seaborn as sns\n",
    "\n",
    "sns.histplot(random.normal(size=1000), kde=True)\n",
    "\n",
    "plt.show()"
   ]
  },
  {
   "cell_type": "markdown",
   "id": "3ffad746",
   "metadata": {},
   "source": [
    "Note: The curve of a Normal Distribution is also known as the Bell Curve because of the bell-shaped curve."
   ]
  },
  {
   "cell_type": "code",
   "execution_count": null,
   "id": "64385964",
   "metadata": {},
   "outputs": [],
   "source": []
  },
  {
   "cell_type": "markdown",
   "id": "c1d0f1f7",
   "metadata": {},
   "source": [
    "## 16f. Binomial Distribution:\n",
    "\n",
    "Binomial Distribution is a Discrete Distribution.\n",
    "\n",
    "It describes the outcome of binary scenarios, e.g. toss of a coin, it will either be head or tails.\n",
    "\n",
    "It has three parameters:\n",
    "\n",
    "n - number of trials.\n",
    "\n",
    "p - probability of occurence of each trial (e.g. for toss of a coin 0.5 each).\n",
    "\n",
    "size - The shape of the returned array.\n",
    "\n",
    "Discrete Distribution:The distribution is defined at separate set of events, e.g. a coin toss's result is discrete as it can be only head or tails whereas height of people\n",
    "  \n",
    "is continuous as it can be 170, 170.1, 170.11 and so on.\n",
    "\n",
    "Example:\n",
    "Given 10 trials for coin toss generate 10 data points:"
   ]
  },
  {
   "cell_type": "code",
   "execution_count": 1,
   "id": "33d9d827",
   "metadata": {},
   "outputs": [
    {
     "name": "stdout",
     "output_type": "stream",
     "text": [
      "[4 7 4 5 4 5 7 7 7 5]\n"
     ]
    }
   ],
   "source": [
    "from numpy import random\n",
    "\n",
    "x = random.binomial(n=10, p=0.5, size=10)\n",
    "\n",
    "print(x)"
   ]
  },
  {
   "cell_type": "markdown",
   "id": "02b35306",
   "metadata": {},
   "source": [
    "Visualization of Binomial Distribution:\n",
    "\n",
    "Example:"
   ]
  },
  {
   "cell_type": "code",
   "execution_count": null,
   "id": "1ae40071",
   "metadata": {},
   "outputs": [],
   "source": [
    "from numpy import random\n",
    "import matplotlib.pyplot as plt\n",
    "import seaborn as sns\n",
    "\n",
    "sns.histplot(random.binomial(n=10, p=0.5, size=1000), kde=False)\n",
    "\n",
    "plt.show()"
   ]
  },
  {
   "cell_type": "markdown",
   "id": "8ca0334d",
   "metadata": {},
   "source": [
    "Difference Between Normal and Binomial Distribution:\n",
    "  \n",
    "The main difference is that normal distribution is continous whereas binomial is discrete, but if there are enough data points it will be quite similar to normal \n",
    "distribution\n",
    "\n",
    "with certain loc and scale.\n",
    "\n",
    "Example:"
   ]
  },
  {
   "cell_type": "code",
   "execution_count": 2,
   "id": "443c5114",
   "metadata": {},
   "outputs": [
    {
     "data": {
      "image/png": "[encoded data removed]",
      "text/plain": [
       "<Figure size 640x480 with 1 Axes>"
      ]
     },
     "metadata": {},
     "output_type": "display_data"
    }
   ],
   "source": [
    "from numpy import random\n",
    "import matplotlib.pyplot as plt\n",
    "import seaborn as sns\n",
    "\n",
    "sns.histplot(random.normal(loc=50, scale=5, size=1000), label='normal')\n",
    "sns.histplot(random.binomial(n=100, p=0.5, size=1000), label='binomial')\n",
    "\n",
    "plt.show()"
   ]
  },
  {
   "cell_type": "code",
   "execution_count": null,
   "id": "d2ad6de9",
   "metadata": {},
   "outputs": [],
   "source": []
  },
  {
   "cell_type": "markdown",
   "id": "6a4e4c98",
   "metadata": {},
   "source": [
    "## 16g. Poisson Distribution:\n",
    "\n",
    "Poisson Distribution is a Discrete Distribution.\n",
    "\n",
    "It estimates how many times an event can happen in a specified time. e.g. If someone eats twice a day what is probability he will eat thrice?\n",
    "\n",
    "It has two parameters:\n",
    "\n",
    "lam - rate or known number of occurences e.g. 2 for above problem.\n",
    "\n",
    "size - The shape of the returned array.\n",
    "\n",
    "Example:\n",
    "\n",
    "Generate a random 1x10 distribution for occurence 2:"
   ]
  },
  {
   "cell_type": "code",
   "execution_count": null,
   "id": "ebeb405f",
   "metadata": {},
   "outputs": [],
   "source": [
    "from numpy import random\n",
    "\n",
    "x = random.poisson(lam=2, size=10)\n",
    "\n",
    "print(x)"
   ]
  },
  {
   "cell_type": "markdown",
   "id": "d991ba92",
   "metadata": {},
   "source": [
    "Visualization of Poisson Distribution:\n",
    "  \n",
    "Example:"
   ]
  },
  {
   "cell_type": "code",
   "execution_count": null,
   "id": "53aaac5f",
   "metadata": {},
   "outputs": [],
   "source": [
    "from numpy import random\n",
    "import matplotlib.pyplot as plt\n",
    "import seaborn as sns\n",
    "\n",
    "sns.distplot(random.poisson(lam=2, size=1000), kde=False)\n",
    "\n",
    "plt.show()"
   ]
  },
  {
   "cell_type": "markdown",
   "id": "acd6f8af",
   "metadata": {},
   "source": [
    "Difference Between Normal and Poisson Distribution:\n",
    "  \n",
    "Normal distribution is continous whereas poisson is discrete.\n",
    "\n",
    "But we can see that similar to binomial for a large enough poisson distribution it will become similar to normal distribution with certain std dev and mean.\n",
    "\n",
    "Example:"
   ]
  },
  {
   "cell_type": "code",
   "execution_count": null,
   "id": "ebc59e64",
   "metadata": {},
   "outputs": [],
   "source": [
    "from numpy import random\n",
    "import matplotlib.pyplot as plt\n",
    "import seaborn as sns\n",
    "\n",
    "sns.distplot(random.normal(loc=50, scale=7, size=1000), hist=False, label='normal')\n",
    "\n",
    "sns.distplot(random.poisson(lam=50, size=1000), hist=False, label='poisson')\n",
    "\n",
    "plt.show()"
   ]
  },
  {
   "cell_type": "markdown",
   "id": "3799d647",
   "metadata": {},
   "source": [
    "Difference Between Poisson and Binomial Distribution:\n",
    "  \n",
    "The difference is very subtle it is that, binomial distribution is for discrete trials, whereas poisson distribution is for continuous trials.\n",
    "\n",
    "But for very large n and near-zero p binomial distribution is near identical to poisson distribution such that n * p is nearly equal to lam.\n",
    "\n",
    "Example:"
   ]
  },
  {
   "cell_type": "code",
   "execution_count": null,
   "id": "d112de25",
   "metadata": {},
   "outputs": [],
   "source": [
    "from numpy import random\n",
    "import matplotlib.pyplot as plt\n",
    "import seaborn as sns\n",
    "\n",
    "sns.distplot(random.binomial(n=1000, p=0.01, size=1000), hist=False, label='binomial')\n",
    "sns.distplot(random.poisson(lam=10, size=1000), hist=False, label='poisson')\n",
    "\n",
    "plt.show()"
   ]
  },
  {
   "cell_type": "code",
   "execution_count": null,
   "id": "1f08d544",
   "metadata": {},
   "outputs": [],
   "source": []
  },
  {
   "cell_type": "markdown",
   "id": "5d59d4de",
   "metadata": {},
   "source": [
    "## 16h. Uniform Distribution:\n",
    "\n",
    "Used to describe probability where every event has equal chances of occuring.\n",
    "\n",
    "E.g. Generation of random numbers.\n",
    "It has three parameters:\n",
    "\n",
    "a - lower bound - default 0 .0.\n",
    "\n",
    "b - upper bound - default 1.0.\n",
    "\n",
    "size - The shape of the returned array.\n",
    "\n",
    "Example:\n",
    "Create a 2x3 uniform distribution sample:"
   ]
  },
  {
   "cell_type": "code",
   "execution_count": null,
   "id": "a3d3d628",
   "metadata": {},
   "outputs": [],
   "source": [
    "from numpy import random\n",
    "\n",
    "x = random.uniform(size=(2, 3))\n",
    "\n",
    "print(x)"
   ]
  },
  {
   "cell_type": "markdown",
   "id": "ca61d013",
   "metadata": {},
   "source": [
    "Visualization of Uniform Distribution:\n",
    "\n",
    "Example:"
   ]
  },
  {
   "cell_type": "code",
   "execution_count": null,
   "id": "8d4668e9",
   "metadata": {},
   "outputs": [],
   "source": [
    "from numpy import random\n",
    "import matplotlib.pyplot as plt\n",
    "import seaborn as sns\n",
    "\n",
    "sns.distplot(random.uniform(size=1000), hist=False)\n",
    "\n",
    "plt.show()"
   ]
  },
  {
   "cell_type": "code",
   "execution_count": null,
   "id": "00abc088",
   "metadata": {},
   "outputs": [],
   "source": []
  },
  {
   "cell_type": "markdown",
   "id": "60505e61",
   "metadata": {},
   "source": [
    "## 16i. Logistic Distribution:\n",
    "  \n",
    "Logistic Distribution is used to describe growth.\n",
    "\n",
    "Used extensively in machine learning in logistic regression, neural networks etc.\n",
    "\n",
    "It has three parameters:\n",
    "\n",
    "loc - mean, where the peak is. Default 0.\n",
    "\n",
    "scale - standard deviation, the flatness of distribution. Default 1.\n",
    "\n",
    "size - The shape of the returned array.\n",
    "\n",
    "Example:\n",
    "Draw 2x3 samples from a logistic distribution with mean at 1 and stddev 2.0:"
   ]
  },
  {
   "cell_type": "code",
   "execution_count": null,
   "id": "6804b548",
   "metadata": {},
   "outputs": [],
   "source": [
    "from numpy import random\n",
    "\n",
    "x = random.logistic(loc=1, scale=2, size=(2, 3))\n",
    "\n",
    "print(x)"
   ]
  },
  {
   "cell_type": "markdown",
   "id": "e0b0c392",
   "metadata": {},
   "source": [
    "Visualization of Logistic Distribution:\n",
    "  \n",
    "Example:"
   ]
  },
  {
   "cell_type": "code",
   "execution_count": null,
   "id": "80fb9a5e",
   "metadata": {},
   "outputs": [],
   "source": [
    "from numpy import random\n",
    "import matplotlib.pyplot as plt\n",
    "import seaborn as sns\n",
    "\n",
    "sns.distplot(random.logistic(size=1000), hist=False)\n",
    "\n",
    "plt.show()"
   ]
  },
  {
   "cell_type": "markdown",
   "id": "8d8bae3b",
   "metadata": {},
   "source": [
    "Difference Between Logistic and Normal Distribution:\n",
    "  \n",
    "Both distributions are near identical, but logistic distribution has more area under the tails. ie. It representage more possibility of occurence of an events further away\n",
    "from mean.\n",
    "\n",
    "For higher value of scale (standard deviation) the normal and logistic distributions are near identical apart from the peak.\n",
    "\n",
    "Example:"
   ]
  },
  {
   "cell_type": "code",
   "execution_count": null,
   "id": "d874c2a2",
   "metadata": {},
   "outputs": [],
   "source": [
    "from numpy import random\n",
    "import matplotlib.pyplot as plt\n",
    "import seaborn as sns\n",
    "\n",
    "sns.distplot(random.normal(scale=2, size=1000), hist=False, label='normal')\n",
    "sns.distplot(random.logistic(size=1000), hist=False, label='logistic')\n",
    "\n",
    "plt.show()\n"
   ]
  },
  {
   "cell_type": "code",
   "execution_count": null,
   "id": "abccc822",
   "metadata": {},
   "outputs": [],
   "source": []
  },
  {
   "cell_type": "markdown",
   "id": "79341344",
   "metadata": {},
   "source": [
    "## 16j. Multinomial Distribution:\n",
    "\n",
    "Multinomial distribution is a generalization of binomial distribution.\n",
    "\n",
    "It describes outcomes of multi-nomial scenarios unlike binomial where scenarios must be only one of two. \n",
    "e.g. Blood type of a population,\n",
    "dice roll outcome.\n",
    "\n",
    "It has three parameters:\n",
    "\n",
    "n - number of possible outcomes (e.g. 6 for dice roll).\n",
    "\n",
    "pvals - list of probabilties of outcomes (e.g. [1/6, 1/6, 1/6, 1/6, 1/6, 1/6] for dice roll).\n",
    "\n",
    "size - The shape of the returned array.\n",
    "\n",
    "Example:\n",
    "\n",
    "Draw out a sample for dice roll:"
   ]
  },
  {
   "cell_type": "code",
   "execution_count": null,
   "id": "8f13f8f6",
   "metadata": {},
   "outputs": [],
   "source": [
    "from numpy import random\n",
    "\n",
    "x = random.multinomial(n=6, pvals=[1/6, 1/6, 1/6, 1/6, 1/6, 1/6])\n",
    "\n",
    "print(x)"
   ]
  },
  {
   "cell_type": "markdown",
   "id": "8110838c",
   "metadata": {},
   "source": [
    "Note: Multinomial samples will NOT produce a single value! They will produce one value for each pval.\n",
    "\n",
    "Note: As they are generalization of binomial distribution their visual representation and similarity of normal distribution is same \n",
    "as that of multiple binomial distributions."
   ]
  },
  {
   "cell_type": "markdown",
   "id": "07b3630b",
   "metadata": {},
   "source": [
    "## 16k. Exponential Distribution:\n",
    "\n",
    "Exponential distribution is used for describing time till next event e.g. failure/success etc.\n",
    "\n",
    "It has two parameters:\n",
    "\n",
    "scale - inverse of rate ( see lam in poisson distribution ) defaults to 1.0.\n",
    "\n",
    "size - The shape of the returned array.\n",
    "\n",
    "Example:\n",
    "\n",
    "Draw out a sample for exponential distribution with 2.0 scale with 2x3 size:"
   ]
  },
  {
   "cell_type": "code",
   "execution_count": null,
   "id": "567d98b3",
   "metadata": {},
   "outputs": [],
   "source": [
    "from numpy import random\n",
    "\n",
    "x = random.exponential(scale=2, size=(2, 3))\n",
    "\n",
    "print(x)"
   ]
  },
  {
   "cell_type": "markdown",
   "id": "6c52309a",
   "metadata": {},
   "source": [
    "Visualization of Exponential Distribution\n",
    "\n",
    "Example:"
   ]
  },
  {
   "cell_type": "code",
   "execution_count": null,
   "id": "e2b8b093",
   "metadata": {},
   "outputs": [],
   "source": [
    "from numpy import random\n",
    "import matplotlib.pyplot as plt\n",
    "import seaborn as sns\n",
    "\n",
    "sns.distplot(random.exponential(size=1000), hist=False)\n",
    "\n",
    "plt.show()"
   ]
  },
  {
   "cell_type": "markdown",
   "id": "378b0e53",
   "metadata": {},
   "source": [
    "Relation Between Poisson and Exponential Distribution:\n",
    "\n",
    "Poisson distribution deals with number of occurences of an event in a time period whereas exponential distribution deals with the\n",
    "time between these events.\n"
   ]
  },
  {
   "cell_type": "code",
   "execution_count": null,
   "id": "8fa71243",
   "metadata": {},
   "outputs": [],
   "source": []
  },
  {
   "cell_type": "markdown",
   "id": "6e9b73d6",
   "metadata": {},
   "source": [
    "## 16l. Chi Square Distribution:\n",
    "\n",
    "Chi Square distribution is used as a basis to verify the hypothesis.\n",
    "\n",
    "It has two parameters:\n",
    "\n",
    "df - (degree of freedom).\n",
    "\n",
    "size - The shape of the returned array.\n",
    "\n",
    "Example:\n",
    "\n",
    "Draw out a sample for chi squared distribution with degree of freedom 2 with size 2x3:"
   ]
  },
  {
   "cell_type": "code",
   "execution_count": null,
   "id": "551a9d7d",
   "metadata": {},
   "outputs": [],
   "source": [
    "from numpy import random\n",
    "\n",
    "x = random.chisquare(df=2, size=(2, 3))\n",
    "\n",
    "print(x)"
   ]
  },
  {
   "cell_type": "markdown",
   "id": "3259637a",
   "metadata": {},
   "source": [
    "Visualization of Chi Square Distribution:\n",
    "\n",
    "Example:"
   ]
  },
  {
   "cell_type": "code",
   "execution_count": null,
   "id": "5d1ac99a",
   "metadata": {},
   "outputs": [],
   "source": [
    "from numpy import random\n",
    "import matplotlib.pyplot as plt\n",
    "import seaborn as sns\n",
    "\n",
    "sns.distplot(random.chisquare(df=1, size=1000), hist=False)\n",
    "\n",
    "plt.show()"
   ]
  },
  {
   "cell_type": "code",
   "execution_count": null,
   "id": "3401f9cd",
   "metadata": {},
   "outputs": [],
   "source": []
  },
  {
   "cell_type": "markdown",
   "id": "084bcd58",
   "metadata": {},
   "source": [
    "## 16m. Rayleigh Distribution:\n",
    "\n",
    "Rayleigh distribution is used in signal processing.\n",
    "\n",
    "It has two parameters:\n",
    "\n",
    "scale - (standard deviation) decides how flat the distribution will be default 1.0).\n",
    "\n",
    "size - The shape of the returned array.\n",
    "\n",
    "Example:\n",
    "\n",
    "Draw out a sample for rayleigh distribution with scale of 2 with size 2x3:"
   ]
  },
  {
   "cell_type": "code",
   "execution_count": null,
   "id": "00bf5497",
   "metadata": {},
   "outputs": [],
   "source": [
    "from numpy import random\n",
    "\n",
    "x = random.rayleigh(scale=2, size=(2, 3))\n",
    "\n",
    "print(x)"
   ]
  },
  {
   "cell_type": "markdown",
   "id": "65b40c3b",
   "metadata": {},
   "source": [
    "Visualization of Rayleigh Distribution:\n",
    "\n",
    "Example:"
   ]
  },
  {
   "cell_type": "code",
   "execution_count": null,
   "id": "60e13a5f",
   "metadata": {},
   "outputs": [],
   "source": [
    "from numpy import random\n",
    "import matplotlib.pyplot as plt\n",
    "import seaborn as sns\n",
    "\n",
    "sns.distplot(random.rayleigh(size=1000), hist=False)\n",
    "\n",
    "plt.show()"
   ]
  },
  {
   "cell_type": "markdown",
   "id": "8bd2911a",
   "metadata": {},
   "source": [
    "Similarity Between Rayleigh and Chi Square Distribution:\n",
    "\n",
    "At unit stddev the and 2 degrees of freedom rayleigh and chi square represent the same distributions."
   ]
  },
  {
   "cell_type": "code",
   "execution_count": null,
   "id": "aa5d9d26",
   "metadata": {},
   "outputs": [],
   "source": []
  },
  {
   "cell_type": "markdown",
   "id": "60ccbc61",
   "metadata": {},
   "source": [
    "## 16n. Pareto Distribution:\n",
    "\n",
    "A distribution following Pareto's law i.e. 80-20 distribution (20% factors cause 80% outcome).\n",
    "\n",
    "It has two parameter:\n",
    "\n",
    "a - shape parameter.\n",
    "\n",
    "size - The shape of the returned array.\n",
    "\n",
    "Example:\n",
    "\n",
    "Draw out a sample for pareto distribution with shape of 2 with size 2x3:"
   ]
  },
  {
   "cell_type": "code",
   "execution_count": null,
   "id": "3069fbb6",
   "metadata": {},
   "outputs": [],
   "source": [
    "from numpy import random\n",
    "\n",
    "x = random.pareto(a=2, size=(2, 3))\n",
    "\n",
    "print(x)"
   ]
  },
  {
   "cell_type": "markdown",
   "id": "b82db18f",
   "metadata": {},
   "source": [
    "Visualization of Pareto Distribution:\n",
    "\n",
    "Example:"
   ]
  },
  {
   "cell_type": "code",
   "execution_count": null,
   "id": "961a2faf",
   "metadata": {},
   "outputs": [],
   "source": [
    "from numpy import random\n",
    "import matplotlib.pyplot as plt\n",
    "import seaborn as sns\n",
    "\n",
    "sns.distplot(random.pareto(a=2, size=1000), kde=False)\n",
    "\n",
    "plt.show()"
   ]
  },
  {
   "cell_type": "code",
   "execution_count": null,
   "id": "c02fb220",
   "metadata": {},
   "outputs": [],
   "source": []
  },
  {
   "cell_type": "markdown",
   "id": "a9f1ad5f",
   "metadata": {},
   "source": [
    "## 16o. Zipf Distribution:\n",
    "\n",
    "Zipf distritutions are used to sample data based on zipf's law.\n",
    "\n",
    "Zipf's Law: In a collection the nth common term is 1/n times of the most common term. E.g. 5th common word in english has occurs\n",
    "\n",
    "nearly 1/5th times as of the most used word.\n",
    "\n",
    "It has two parameters:\n",
    "\n",
    "a - distribution parameter.\n",
    "\n",
    "size - The shape of the returned array.\n",
    "\n",
    "Example:\n",
    "\n",
    "Draw out a sample for zipf distribution with distribution parameter 2 with size 2x3:"
   ]
  },
  {
   "cell_type": "code",
   "execution_count": null,
   "id": "03468696",
   "metadata": {},
   "outputs": [],
   "source": [
    "from numpy import random\n",
    "\n",
    "x = random.zipf(a=2, size=(2, 3))\n",
    "\n",
    "print(x)"
   ]
  },
  {
   "cell_type": "markdown",
   "id": "d0a1ad7a",
   "metadata": {},
   "source": [
    "Visualization of Zipf Distribution:\n",
    "\n",
    "Sample 1000 points but plotting only ones with value < 10 for more meaningful chart.\n",
    "\n",
    "Example:"
   ]
  },
  {
   "cell_type": "code",
   "execution_count": null,
   "id": "27480a7b",
   "metadata": {},
   "outputs": [],
   "source": [
    "from numpy import random\n",
    "import matplotlib.pyplot as plt\n",
    "import seaborn as sns\n",
    "\n",
    "x = random.zipf(a=2, size=1000)\n",
    "sns.distplot(x[x<10], kde=False)\n",
    "\n",
    "plt.show()\n"
   ]
  },
  {
   "cell_type": "code",
   "execution_count": null,
   "id": "df0fc433",
   "metadata": {},
   "outputs": [],
   "source": []
  },
  {
   "cell_type": "markdown",
   "id": "51a43db8",
   "metadata": {},
   "source": [
    "## 17. NumPy ufuncs"
   ]
  },
  {
   "cell_type": "markdown",
   "id": "0d3e55b0",
   "metadata": {},
   "source": [
    "What are ufuncs?\n",
    "\n",
    "ufuncs stands for \"Universal Functions\" and they are NumPy functions that operates on the ndarray object.\n",
    "\n",
    "Why use ufuncs?\n",
    "\n",
    "ufuncs are used to implement vectorization in NumPy which is way faster than iterating over elements.\n",
    "\n",
    "They also provide broadcasting and additional methods like reduce, accumulate etc. that are very helpful for computation.\n",
    "\n",
    "ufuncs also take additional arguments, like:\n",
    "\n",
    "where boolean array or condition defining where the operations should take place.\n",
    "\n",
    "dtype defining the return type of elements.\n",
    "\n",
    "out output array where the return value should be copied.\n",
    "\n",
    "What is Vectorization?\n",
    "\n",
    "Converting iterative statements into a vector based operation is called vectorization.\n",
    "\n",
    "It is faster as modern CPUs are optimized for such operations.\n",
    "\n",
    "Add the Elements of Two Lists\n",
    "'''\n",
    "\n",
    "list 1: [1, 2, 3, 4]\n",
    "\n",
    "list 2: [4, 5, 6, 7]\n",
    "'''\n",
    "One way of doing it is to iterate over both of the lists and then sum each elements.\n",
    "\n",
    "Example:\n",
    "\n",
    "Without ufunc, we can use Python's built-in zip() method:\n",
    "'''\n",
    "x = [1, 2, 3, 4]\n",
    "y = [4, 5, 6, 7]\n",
    "z = []\n",
    "\n",
    "for i, j in zip(x, y):\n",
    "  z.append(i + j)\n",
    "print(z)\n",
    "\n",
    "'''\n",
    "NumPy has a ufunc for this, called add(x, y) that will produce the same result.\n",
    "\n",
    "Example:\n",
    "\n",
    "With ufunc, we can use the add() function:\n",
    "'''\n"
   ]
  },
  {
   "cell_type": "code",
   "execution_count": null,
   "id": "98cc5a42",
   "metadata": {},
   "outputs": [],
   "source": [
    "import numpy as np\n",
    "\n",
    "x = [1, 2, 3, 4]\n",
    "y = [4, 5, 6, 7]\n",
    "z = np.add(x, y)\n",
    "\n",
    "print(z)"
   ]
  },
  {
   "cell_type": "code",
   "execution_count": null,
   "id": "eb7ec514",
   "metadata": {},
   "outputs": [],
   "source": []
  },
  {
   "cell_type": "markdown",
   "id": "6829c4a2",
   "metadata": {},
   "source": [
    "## 17b. Create Your Own ufunc\n",
    "How To Create Your Own ufunc:\n",
    "\n",
    "To create you own ufunc, you have to define a function, like you do with normal functions in Python, then you add it to your NumPy \n",
    "ufunc library with the frompyfunc() method.\n",
    "\n",
    "The frompyfunc() method takes the following arguments:\n",
    "'''\n",
    "function - the name of the function.\n",
    "inputs - the number of input arguments (arrays).\n",
    "outputs - the number of output arrays.\n",
    "'''\n",
    "Example:\n",
    "\n",
    "Create your own ufunc for addition:\n",
    "'''"
   ]
  },
  {
   "cell_type": "code",
   "execution_count": null,
   "id": "8e391a1f",
   "metadata": {},
   "outputs": [],
   "source": [
    "import numpy as np\n",
    "\n",
    "def myadd(x, y):\n",
    "  return x+y\n",
    "\n",
    "myadd = np.frompyfunc(myadd, 2, 1)\n",
    "\n",
    "print(myadd([1, 2, 3, 4], [5, 6, 7, 8]))"
   ]
  },
  {
   "cell_type": "markdown",
   "id": "fc2ebd49",
   "metadata": {},
   "source": [
    "Check if a Function is a ufunc:\n",
    "\n",
    "Check the type of a function to check if it is a ufunc or not.\n",
    "\n",
    "A ufunc should return <class 'numpy.ufunc'>.\n",
    "\n",
    "Example:\n",
    "\n",
    "Check if a function is a ufunc:\n",
    "'''"
   ]
  },
  {
   "cell_type": "code",
   "execution_count": null,
   "id": "26c2f19c",
   "metadata": {},
   "outputs": [],
   "source": [
    "import numpy as np\n",
    "\n",
    "print(type(np.add))"
   ]
  },
  {
   "cell_type": "markdown",
   "id": "0cb0415f",
   "metadata": {},
   "source": [
    "If it is not a ufunc, it will return another type, like this built-in NumPy function for joining two or more arrays:\n",
    "\n",
    "Example\n",
    "Check the type of another function: concatenate():\n",
    "'''"
   ]
  },
  {
   "cell_type": "code",
   "execution_count": null,
   "id": "e05e91d4",
   "metadata": {},
   "outputs": [],
   "source": [
    "import numpy as np\n",
    "\n",
    "print(type(np.concatenate))"
   ]
  },
  {
   "cell_type": "markdown",
   "id": "caa023f9",
   "metadata": {},
   "source": [
    "If the function is not recognized at all, it will return an error:\n",
    "\n",
    "Example\n",
    "Check the type of something that does not exist. This will produce an error:\n"
   ]
  },
  {
   "cell_type": "code",
   "execution_count": null,
   "id": "5314adaf",
   "metadata": {},
   "outputs": [],
   "source": [
    "import numpy as np\n",
    "\n",
    "print(type(np.blahblah))"
   ]
  },
  {
   "cell_type": "markdown",
   "id": "b9ab1687",
   "metadata": {},
   "source": [
    "To test if the function is a ufunc in an if statement, use the numpy.ufunc value (or np.ufunc if you use np as an alias for numpy):\n",
    "\n",
    "Example\n",
    "Use an if statement to check if the function is a ufunc or not:"
   ]
  },
  {
   "cell_type": "code",
   "execution_count": null,
   "id": "85dc0ac1",
   "metadata": {},
   "outputs": [],
   "source": [
    "import numpy as np\n",
    "\n",
    "if type(np.add) == np.ufunc:\n",
    "  print('add is ufunc')\n",
    "else:\n",
    "  print('add is not ufunc')"
   ]
  },
  {
   "cell_type": "code",
   "execution_count": null,
   "id": "426fb430",
   "metadata": {},
   "outputs": [],
   "source": []
  },
  {
   "cell_type": "markdown",
   "id": "e9abf9e2",
   "metadata": {},
   "source": [
    "## 17c. Simple Arithmetic :"
   ]
  },
  {
   "cell_type": "markdown",
   "id": "198a2a7f",
   "metadata": {},
   "source": [
    "\n",
    "You could use arithmetic operators + - * / directly between NumPy arrays, but this section discusses an extension of the same where we have functions that can take any array-like objects e.g. lists, tuples etc. and perform arithmetic conditionally.\n",
    "\n",
    "Arithmetic Conditionally: means that we can define conditions where the arithmetic operation should happen.\n",
    "\n",
    "All of the discussed arithmetic functions take a where parameter in which we can specify that condition.\n",
    "\n",
    "#### Addition\n",
    "The add() function sums the content of two arrays, and return the results in a new array.\n",
    "\n",
    "Example\n",
    "Add the the values in arr1 to the values in arr2:"
   ]
  },
  {
   "cell_type": "code",
   "execution_count": null,
   "id": "82f4a3f8",
   "metadata": {},
   "outputs": [],
   "source": [
    "import numpy as np\n",
    "\n",
    "arr1 = np.array([10, 11, 12, 13, 14, 15])\n",
    "arr2 = np.array([20, 21, 22, 23, 24, 25])\n",
    "\n",
    "newarr = np.add(arr1, arr2)\n",
    "\n",
    "print(newarr)\n",
    "#The example above will return [30 32 34 36 38 40] which is the sums of 10+20, 11+21, 12+22 etc."
   ]
  },
  {
   "cell_type": "code",
   "execution_count": null,
   "id": "add9cfea",
   "metadata": {},
   "outputs": [],
   "source": [
    "arr1 + arr2"
   ]
  },
  {
   "cell_type": "markdown",
   "id": "ded1a44c",
   "metadata": {},
   "source": [
    "\n",
    "#### Subtraction\n",
    "The subtract() function subtracts the values from one array with the values from another array, and return the results in a new array.\n",
    "\n",
    "Example\n",
    "Subtract the values in arr2 from the values in arr1:"
   ]
  },
  {
   "cell_type": "code",
   "execution_count": null,
   "id": "7a7014d9",
   "metadata": {},
   "outputs": [],
   "source": [
    "import numpy as np\n",
    "\n",
    "arr1 = np.array([10, 20, 30, 40, 50, 60])\n",
    "arr2 = np.array([20, 21, 22, 23, 24, 25])\n",
    "\n",
    "newarr = np.subtract(arr1, arr2)\n",
    "\n",
    "print(newarr)\n",
    "#The example above will return [-10 -1 8 17 26 35] which is the result of 10-20, 20-21, 30-22 etc."
   ]
  },
  {
   "cell_type": "markdown",
   "id": "8a407cf0",
   "metadata": {},
   "source": [
    "#### Multiplication\n",
    "The multiply() function multiplies the values from one array with the values from another array, and return the results in a new array.\n",
    "\n",
    "Example\n",
    "Multiply the values in arr1 with the values in arr2:"
   ]
  },
  {
   "cell_type": "code",
   "execution_count": null,
   "id": "831a9649",
   "metadata": {},
   "outputs": [],
   "source": [
    "import numpy as np\n",
    "\n",
    "arr1 = np.array([10, 20, 30, 40, 50, 60])\n",
    "arr2 = np.array([20, 21, 22, 23, 24, 25])\n",
    "\n",
    "newarr = np.multiply(arr1, arr2)\n",
    "\n",
    "print(newarr)\n",
    "#The example above will return [200 420 660 920 1200 1500] which is the result of 10*20, 20*21, 30*22 etc.\n"
   ]
  },
  {
   "cell_type": "markdown",
   "id": "f810282a",
   "metadata": {},
   "source": [
    "#### Division\n",
    "The divide() function divides the values from one array with the values from another array, and return the results in a new array.\n",
    "\n",
    "Example\n",
    "Divide the values in arr1 with the values in arr2:"
   ]
  },
  {
   "cell_type": "code",
   "execution_count": null,
   "id": "57f29202",
   "metadata": {},
   "outputs": [],
   "source": [
    "import numpy as np\n",
    "\n",
    "arr1 = np.array([10, 20, 30, 40, 50, 60])\n",
    "arr2 = np.array([3, 5, 10, 8, 2, 33])\n",
    "\n",
    "newarr = np.divide(arr1, arr2)\n",
    "\n",
    "print(newarr)\n",
    "#The example above will return [3.33333333 4. 3. 5. 25. 1.81818182] which is the result of 10/3, 20/5, 30/10 etc."
   ]
  },
  {
   "cell_type": "markdown",
   "id": "8a9daf2e",
   "metadata": {},
   "source": [
    "#### Power\n",
    "The power() function rises the values from the first array to the power of the values of the second array, and return the results in a new array.\n",
    "\n",
    "Example\n",
    "Raise the valules in arr1 to the power of values in arr2:"
   ]
  },
  {
   "cell_type": "code",
   "execution_count": null,
   "id": "a6e87386",
   "metadata": {},
   "outputs": [],
   "source": [
    "import numpy as np\n",
    "\n",
    "arr1 = np.array([10, 20, 30, 40, 50, 60])\n",
    "arr2 = np.array([3, 5, 6, 8, 2, 33])\n",
    "\n",
    "newarr = np.power(arr1, arr2)\n",
    "\n",
    "print(newarr)\n",
    "#The example above will return [1000 3200000 729000000 6553600000000 2500 0] which is the result of 10*10*10, 20*20*20*20*20, 30*30*30*30*30*30 etc."
   ]
  },
  {
   "cell_type": "markdown",
   "id": "91ab78c0",
   "metadata": {},
   "source": [
    "#### Remainder\n",
    "Both the mod() and the remainder() functions return the remainder of the values in the first array corresponding to the values in the second array, and return the results in a new array.\n",
    "\n",
    "Example\n",
    "Return the remainders:"
   ]
  },
  {
   "cell_type": "code",
   "execution_count": null,
   "id": "d5a134b8",
   "metadata": {},
   "outputs": [],
   "source": [
    "import numpy as np\n",
    "\n",
    "arr1 = np.array([10, 20, 30, 40, 50, 60])\n",
    "arr2 = np.array([3, 7, 9, 8, 2, 33])\n",
    "\n",
    "newarr = np.mod(arr1, arr2)\n",
    "\n",
    "print(newarr)\n",
    "#The example above will return [1 6 3 0 0 27] which is the remainders when you divide 10 with 3 (10%3), 20 with 7 (20%7) 30 with 9 (30%9) etc."
   ]
  },
  {
   "cell_type": "markdown",
   "id": "cda651ee",
   "metadata": {},
   "source": [
    "You get the same result when using the remainder() function:\n",
    "\n",
    "Example\n",
    "Return the remainders:"
   ]
  },
  {
   "cell_type": "code",
   "execution_count": null,
   "id": "27471732",
   "metadata": {},
   "outputs": [],
   "source": [
    "import numpy as np\n",
    "\n",
    "arr1 = np.array([10, 20, 30, 40, 50, 60])\n",
    "arr2 = np.array([3, 7, 9, 8, 2, 33])\n",
    "\n",
    "newarr = np.remainder(arr1, arr2)\n",
    "\n",
    "print(newarr)"
   ]
  },
  {
   "cell_type": "markdown",
   "id": "490c80f5",
   "metadata": {},
   "source": [
    "#### Quotient and Mod\n",
    "The divmod() function return both the quotient and the the mod. The return value is two arrays, the first array contains the quotient and second array contains the mod.\n",
    "\n",
    "Example\n",
    "Return the quotient and mod:"
   ]
  },
  {
   "cell_type": "code",
   "execution_count": null,
   "id": "7dfb3510",
   "metadata": {},
   "outputs": [],
   "source": [
    "import numpy as np\n",
    "\n",
    "arr1 = np.array([10, 20, 30, 40, 50, 60])\n",
    "arr2 = np.array([3, 7, 9, 8, 2, 33])\n",
    "\n",
    "newarr = np.divmod(arr1, arr2)\n",
    "\n",
    "print(newarr)\n",
    "# The example above will return:\n",
    "# (array([3, 2, 3, 5, 25, 1]), array([1, 6, 3, 0, 0, 27]))\n",
    "# The first array represents the quotients, (the integer value when you divide 10 with 3, 20 with 7, 30 with 9 etc.\n",
    "# The second array represents the remainders of the same divisions."
   ]
  },
  {
   "cell_type": "markdown",
   "id": "46a4cb2b",
   "metadata": {},
   "source": [
    "#### Absolute Values\n",
    "Both the absolute() and the abs() functions functions do the same absolute operation element-wise but we should use absolute() to avoid confusion with python's inbuilt math.abs()\n",
    "\n",
    "Example\n",
    "Return the quotient and mod:"
   ]
  },
  {
   "cell_type": "code",
   "execution_count": null,
   "id": "e32ff9d6",
   "metadata": {},
   "outputs": [],
   "source": [
    "import numpy as np\n",
    "\n",
    "arr = np.array([-1, -2, 1, 2, 3, -4])\n",
    "\n",
    "newarr = np.absolute(arr)\n",
    "\n",
    "print(newarr)\n"
   ]
  },
  {
   "cell_type": "code",
   "execution_count": null,
   "id": "4f25829f",
   "metadata": {},
   "outputs": [],
   "source": []
  },
  {
   "cell_type": "markdown",
   "id": "072ddb4e",
   "metadata": {},
   "source": [
    "## 17d. Rounding Decimals:"
   ]
  },
  {
   "cell_type": "markdown",
   "id": "7092ff72",
   "metadata": {},
   "source": [
    "There are primarily five ways of rounding off decimals in NumPy:\n",
    "\n",
    "truncation\n",
    "\n",
    "fix\n",
    "\n",
    "rounding\n",
    "\n",
    "floor\n",
    "\n",
    "ceil\n",
    "\n",
    "Truncation\n",
    "\n",
    "Remove the decimals, and return the float number closest to zero. Use the trunc() and fix() functions.\n",
    "\n",
    "Example\n",
    "Truncate elements of following array:"
   ]
  },
  {
   "cell_type": "code",
   "execution_count": null,
   "id": "b6ee9fde",
   "metadata": {},
   "outputs": [],
   "source": [
    "import numpy as np\n",
    "\n",
    "arr = np.trunc([-3.1666, 3.6667])\n",
    "\n",
    "print(arr)"
   ]
  },
  {
   "cell_type": "markdown",
   "id": "4bb25917",
   "metadata": {},
   "source": [
    "Example\n",
    "\n",
    "Same example, using fix():"
   ]
  },
  {
   "cell_type": "code",
   "execution_count": null,
   "id": "7cd04afd",
   "metadata": {},
   "outputs": [],
   "source": [
    "import numpy as np\n",
    "\n",
    "arr = np.fix([-3.1666, 3.6667])\n",
    "\n",
    "print(arr)"
   ]
  },
  {
   "cell_type": "markdown",
   "id": "68c0928a",
   "metadata": {},
   "source": [
    "\n",
    "#### Rounding\n",
    "The around() function increments preceding digit or decimal by 1 if >=5 else do nothing.\n",
    "\n",
    "E.g. round off to 1 decimal point, 3.16666 is 3.2\n",
    "\n",
    "Example\n",
    "\n",
    "Round off 3.1666 to 2 decimal places:"
   ]
  },
  {
   "cell_type": "code",
   "execution_count": null,
   "id": "3a6e4b18",
   "metadata": {},
   "outputs": [],
   "source": [
    "import numpy as np\n",
    "\n",
    "arr = np.around(3.1656, 2)\n",
    "\n",
    "print(arr)"
   ]
  },
  {
   "cell_type": "markdown",
   "id": "d99fa9f7",
   "metadata": {},
   "source": [
    "\n",
    "#### Floor\n",
    "The floor() function rounds off decimal to nearest lower integer.\n",
    "\n",
    "E.g. floor of 3.166 is 3."
   ]
  },
  {
   "cell_type": "markdown",
   "id": "ea5e41f0",
   "metadata": {},
   "source": [
    "Example\n",
    "\n",
    "Floor the elements of following array:"
   ]
  },
  {
   "cell_type": "code",
   "execution_count": null,
   "id": "7494fd2c",
   "metadata": {},
   "outputs": [],
   "source": [
    "import numpy as np\n",
    "\n",
    "arr = np.floor([-3.1666, 3.6667])\n",
    "\n",
    "print(arr)\n",
    "#Note: The floor() function returns floats, unlike the trunc() function who returns integers."
   ]
  },
  {
   "cell_type": "markdown",
   "id": "97315d68",
   "metadata": {},
   "source": [
    "#### Ceil\n",
    "The ceil() function rounds off decimal to nearest upper integer.\n",
    "\n",
    "E.g. ceil of 3.166 is 4.\n",
    "\n",
    "Example\n",
    "\n",
    "Ceil the elements of following array:"
   ]
  },
  {
   "cell_type": "code",
   "execution_count": null,
   "id": "1eb1b2c7",
   "metadata": {},
   "outputs": [],
   "source": [
    "import numpy as np\n",
    "\n",
    "arr = np.ceil([-3.5666, 3.2667])\n",
    "\n",
    "print(arr)"
   ]
  },
  {
   "cell_type": "code",
   "execution_count": null,
   "id": "dfb859f1",
   "metadata": {},
   "outputs": [],
   "source": []
  },
  {
   "cell_type": "markdown",
   "id": "d9e04946",
   "metadata": {},
   "source": [
    "## 17e. NumPy Logs"
   ]
  },
  {
   "cell_type": "markdown",
   "id": "ba4ae3c9",
   "metadata": {},
   "source": [
    "#### Logs : \n",
    "\n",
    "NumPy provides functions to perform log at the base 2, e and 10.\n",
    "\n",
    "We will also explore how we can take log for any base by creating a custom ufunc.\n",
    "\n",
    "All of the log functions will place -inf or inf in the elements if the log can not be computed.\n",
    "\n",
    "Log at Base 2\n",
    "Use the log2() function to perform log at the base 2.\n",
    "\n",
    "Example\n",
    "Find log at base 2 of all elements of following array:\n",
    "'''"
   ]
  },
  {
   "cell_type": "code",
   "execution_count": null,
   "id": "353dc9c0",
   "metadata": {},
   "outputs": [],
   "source": [
    "import numpy as np\n",
    "\n",
    "arr = np.arange(1, 10)\n",
    "\n",
    "print(np.log2(arr))\n",
    "\n",
    "# Note: The arange(1, 10) function returns an array with integers starting from 1 (included) to 10 (not included)."
   ]
  },
  {
   "cell_type": "markdown",
   "id": "282c9244",
   "metadata": {},
   "source": [
    "#### Log at Base 10\n",
    "Use the log10() function to perform log at the base 10.\n",
    "\n",
    "Example\n",
    "Find log at base 10 of all elements of following array:"
   ]
  },
  {
   "cell_type": "code",
   "execution_count": null,
   "id": "472fdbad",
   "metadata": {},
   "outputs": [],
   "source": [
    "import numpy as np\n",
    "\n",
    "arr = np.arange(1, 10)\n",
    "\n",
    "print(np.log10(arr))"
   ]
  },
  {
   "cell_type": "markdown",
   "id": "3a127042",
   "metadata": {},
   "source": [
    "#### Natural Log, or Log at Base e\n",
    "Use the log() function to perform log at the base e.\n",
    "\n",
    "Example\n",
    "Find log at base e of all elements of following array:"
   ]
  },
  {
   "cell_type": "code",
   "execution_count": null,
   "id": "f1ed0d3c",
   "metadata": {},
   "outputs": [],
   "source": [
    "import numpy as np\n",
    "\n",
    "arr = np.arange(1, 10)\n",
    "\n",
    "print(np.log(arr))"
   ]
  },
  {
   "cell_type": "markdown",
   "id": "8f401e8e",
   "metadata": {},
   "source": [
    "#### Log at Any Base\n",
    "NumPy does not provide any function to take log at any base, so we can use the frompyfunc() function along with inbuilt function\n",
    "math.log() with two input parameters and one output parameter:\n",
    "\n",
    "Example"
   ]
  },
  {
   "cell_type": "code",
   "execution_count": null,
   "id": "f7413284",
   "metadata": {},
   "outputs": [],
   "source": [
    "from math import log\n",
    "import numpy as np\n",
    "\n",
    "nplog = np.frompyfunc(log, 2, 1)\n",
    "\n",
    "print(nplog(100, 15))"
   ]
  },
  {
   "cell_type": "code",
   "execution_count": null,
   "id": "10b00d14",
   "metadata": {},
   "outputs": [],
   "source": []
  },
  {
   "cell_type": "markdown",
   "id": "fcdd4fae",
   "metadata": {},
   "source": [
    "## 17f. NumPy Summations"
   ]
  },
  {
   "cell_type": "markdown",
   "id": "91b9436f",
   "metadata": {},
   "source": [
    "#### Summations\n",
    "What is the difference between summation and addition?\n",
    "\n",
    "Addition is done between two arguments whereas summation happens over n elements.\n",
    "\n",
    "Example\n",
    "\n",
    "Add the the values in arr1 to the values in arr2:"
   ]
  },
  {
   "cell_type": "code",
   "execution_count": null,
   "id": "e04ee70c",
   "metadata": {},
   "outputs": [],
   "source": [
    "import numpy as np\n",
    "\n",
    "arr1 = np.array([1, 2, 3])\n",
    "arr2 = np.array([1, 2, 3])\n",
    "\n",
    "newarr = np.add(arr1, arr2)\n",
    "\n",
    "print(newarr)\n",
    "#Returns: [2 4 6]"
   ]
  },
  {
   "cell_type": "markdown",
   "id": "a9e54767",
   "metadata": {},
   "source": [
    "Example\n",
    "\n",
    "Sum the the values in arr1 and the values in arr2:"
   ]
  },
  {
   "cell_type": "code",
   "execution_count": null,
   "id": "a4763816",
   "metadata": {},
   "outputs": [],
   "source": [
    "import numpy as np\n",
    "\n",
    "arr1 = np.array([1, 2, 3])\n",
    "arr2 = np.array([1, 2, 3])\n",
    "\n",
    "newarr = np.sum([arr1, arr2])\n",
    "\n",
    "print(newarr)\n",
    "#Returns: 12"
   ]
  },
  {
   "cell_type": "markdown",
   "id": "1c187aa6",
   "metadata": {},
   "source": [
    "#### Summation Over an Axis\n",
    "If you specify axis=1, NumPy will sum the numbers in each array.\n",
    "\n",
    "Example\n",
    "Perform summation in the following array over 1st axis:"
   ]
  },
  {
   "cell_type": "code",
   "execution_count": null,
   "id": "06fa837c",
   "metadata": {},
   "outputs": [],
   "source": [
    "import numpy as np\n",
    "\n",
    "arr1 = np.array([1, 2, 3])\n",
    "arr2 = np.array([1, 2, 3])\n",
    "\n",
    "newarr = np.sum([arr1, arr2], axis=0)\n",
    "\n",
    "print(newarr)\n",
    "#Returns: [6 6]"
   ]
  },
  {
   "cell_type": "markdown",
   "id": "61cb30af",
   "metadata": {},
   "source": [
    "\n",
    "#### Cummulative Sum\n",
    "Cummulative sum means partially adding the elements in array.\n",
    "\n",
    "E.g. The partial sum of [1, 2, 3, 4] would be [1, 1+2, 1+2+3, 1+2+3+4] = [1, 3, 6, 10].\n",
    "\n",
    "Perfom partial sum with the cumsum() function.\n",
    "\n",
    "Example\n",
    "Perform cummulative summation in the following array:"
   ]
  },
  {
   "cell_type": "code",
   "execution_count": null,
   "id": "ed93199b",
   "metadata": {},
   "outputs": [],
   "source": [
    "import numpy as np\n",
    "\n",
    "arr = np.array([1, 2, 3])\n",
    "\n",
    "newarr = np.cumsum(arr)\n",
    "\n",
    "print(newarr)\n",
    "#Returns: [1 3 6]"
   ]
  },
  {
   "cell_type": "code",
   "execution_count": null,
   "id": "d3644fde",
   "metadata": {},
   "outputs": [],
   "source": []
  },
  {
   "cell_type": "markdown",
   "id": "cd883730",
   "metadata": {},
   "source": [
    "## 17g. NumPy Products"
   ]
  },
  {
   "cell_type": "markdown",
   "id": "9dbe5fa4",
   "metadata": {},
   "source": [
    "#### Products:\n",
    "  \n",
    "To find the product of the elements in an array, use the prod() function.\n",
    "\n",
    "Example\n",
    "Find the product of the elements of this array:"
   ]
  },
  {
   "cell_type": "code",
   "execution_count": null,
   "id": "b007e337",
   "metadata": {},
   "outputs": [],
   "source": [
    "import numpy as np\n",
    "\n",
    "arr = np.array([1, 2, 3, 4])\n",
    "\n",
    "x = np.prod(arr)\n",
    "\n",
    "print(x)\n",
    "#Returns: 24 because 1*2*3*4 = 24"
   ]
  },
  {
   "cell_type": "markdown",
   "id": "d8222f0a",
   "metadata": {},
   "source": [
    "Example\n",
    "\n",
    "Find the product of the elements of two arrays:"
   ]
  },
  {
   "cell_type": "code",
   "execution_count": null,
   "id": "7b7ab30b",
   "metadata": {},
   "outputs": [],
   "source": [
    "import numpy as np\n",
    "\n",
    "arr1 = np.array([1, 2, 3, 4])\n",
    "arr2 = np.array([5, 6, 7, 8])\n",
    "\n",
    "x = np.prod([arr1, arr2])\n",
    "\n",
    "print(x)\n",
    "#Returns: 40320 because 1*2*3*4*5*6*7*8 = 40320"
   ]
  },
  {
   "cell_type": "markdown",
   "id": "c9083aa5",
   "metadata": {},
   "source": [
    "\n",
    "#### Product Over an Axis\n",
    "If you specify axis=1, NumPy will return the product of each array.\n",
    "\n",
    "Example\n",
    "Perform summation in the following array over 1st axis:"
   ]
  },
  {
   "cell_type": "code",
   "execution_count": null,
   "id": "bb4441a0",
   "metadata": {},
   "outputs": [],
   "source": [
    "import numpy as np\n",
    "\n",
    "arr1 = np.array([1, 2, 3, 4])\n",
    "arr2 = np.array([5, 6, 7, 8])\n",
    "\n",
    "newarr = np.prod([arr1, arr2], axis=1)\n",
    "\n",
    "print(newarr)\n",
    "#Returns: [24 1680]"
   ]
  },
  {
   "cell_type": "markdown",
   "id": "36f5f816",
   "metadata": {},
   "source": [
    "\n",
    "#### Cummulative Product\n",
    "Cummulative product means taking the product partially.\n",
    "\n",
    "E.g. The partial product of [1, 2, 3, 4] is [1, 1*2, 1*2*3, 1*2*3*4] = [1, 2, 6, 24]\n",
    "\n",
    "Perfom partial sum with the cumprod() function.\n",
    "\n",
    "Example\n",
    "Take cummulative product of all elements for following array:"
   ]
  },
  {
   "cell_type": "code",
   "execution_count": null,
   "id": "a1c61e0c",
   "metadata": {},
   "outputs": [],
   "source": [
    "import numpy as np\n",
    "\n",
    "arr = np.array([5, 6, 7, 8])\n",
    "\n",
    "newarr = np.cumprod(arr)\n",
    "\n",
    "print(newarr)\n",
    "# Returns: [5 30 210 1680]"
   ]
  },
  {
   "cell_type": "code",
   "execution_count": null,
   "id": "12fa91b0",
   "metadata": {},
   "outputs": [],
   "source": []
  },
  {
   "cell_type": "markdown",
   "id": "4dac7fa3",
   "metadata": {},
   "source": [
    "## 17h. NumPy Differences"
   ]
  },
  {
   "cell_type": "markdown",
   "id": "8ab39145",
   "metadata": {},
   "source": [
    "#### Differences\n",
    "A discrete difference means subtracting two successive elements.\n",
    "\n",
    "E.g. for [1, 2, 3, 4], the discrete difference would be [2-1, 3-2, 4-3] = [1, 1, 1]\n",
    "\n",
    "To find the discrete difference, use the diff() function.\n",
    "\n",
    "Example\n",
    "Compute discrete difference of the following array:"
   ]
  },
  {
   "cell_type": "code",
   "execution_count": null,
   "id": "72559780",
   "metadata": {},
   "outputs": [],
   "source": [
    "import numpy as np\n",
    "\n",
    "arr = np.array([10, 15, 25, 5])\n",
    "\n",
    "newarr = np.diff(arr)\n",
    "\n",
    "print(newarr)\n",
    "#Returns: [5 10 -20] because 15-10=5, 25-15=10, and 5-25=-20"
   ]
  },
  {
   "cell_type": "markdown",
   "id": "248afd87",
   "metadata": {},
   "source": [
    "We can perform this operation repeatedly by giving parameter n.\n",
    "\n",
    "E.g. for [1, 2, 3, 4], the discrete difference with n = 2 would be [2-1, 3-2, 4-3] = [1, 1, 1] , then, since n=2, we will do it once more, with the new result: [1-1, 1-1] = [0, 0]\n",
    "Example\n",
    "\n",
    "Compute discrete difference of the following array twice:"
   ]
  },
  {
   "cell_type": "code",
   "execution_count": null,
   "id": "a1b08010",
   "metadata": {},
   "outputs": [],
   "source": [
    "import numpy as np\n",
    "\n",
    "arr = np.array([10, 15, 25, 5]) # 5,10,-20\n",
    "newarr = np.diff(arr, n=2) \n",
    "\n",
    "\n",
    "print(newarr)\n",
    "#Returns: [5 -30] because: 15-10=5, 25-15=10, and 5-25=-20 AND 10-5=5 and -20-10=-30"
   ]
  },
  {
   "cell_type": "code",
   "execution_count": null,
   "id": "0d8368c0",
   "metadata": {},
   "outputs": [],
   "source": []
  },
  {
   "cell_type": "markdown",
   "id": "61db125a",
   "metadata": {},
   "source": [
    "## 17i. NumPy LCM Lowest Common Multiple"
   ]
  },
  {
   "cell_type": "markdown",
   "id": "adbc85d4",
   "metadata": {},
   "source": [
    "Finding LCM (Lowest Common Multiple)\n",
    "The Lowest Common Multiple is the least number that is common multiple of both of the numbers.\n",
    "\n",
    "Example\n",
    "Find the LCM of the following two numbers:"
   ]
  },
  {
   "cell_type": "code",
   "execution_count": 44,
   "id": "631e2cd3",
   "metadata": {},
   "outputs": [
    {
     "name": "stdout",
     "output_type": "stream",
     "text": [
      "12\n"
     ]
    }
   ],
   "source": [
    "import numpy as np\n",
    "\n",
    "num1 = 4\n",
    "num2 = 6\n",
    "\n",
    "x = np.lcm(num1, num2)\n",
    "\n",
    "print(x)\n",
    "#Returns: 12 because that is the lowest common multiple of both numbers (4*3=12 and 6*2=12).\n"
   ]
  },
  {
   "cell_type": "markdown",
   "id": "57c8e6ec",
   "metadata": {},
   "source": [
    "Finding LCM in Arrays\n",
    "To find the Lowest Common Multiple of all values in an array, you can use the reduce() method.\n",
    "\n",
    "The reduce() method will use the ufunc, in this case the lcm() function, on each element, and reduce the array by one dimension.\n",
    "\n",
    "Example\n",
    "Find the LCM of the values of the following array:"
   ]
  },
  {
   "cell_type": "code",
   "execution_count": 45,
   "id": "bc49dde1",
   "metadata": {},
   "outputs": [
    {
     "name": "stdout",
     "output_type": "stream",
     "text": [
      "18\n"
     ]
    }
   ],
   "source": [
    "import numpy as np\n",
    "\n",
    "arr = np.array([3, 6, 9])\n",
    "\n",
    "x = np.lcm.reduce(arr)\n",
    "\n",
    "print(x)\n",
    "#Returns: 18 because that is the lowest common multiple of all three numbers (3*6=18, 6*3=18 and 9*2=18)."
   ]
  },
  {
   "cell_type": "markdown",
   "id": "0c959f64",
   "metadata": {},
   "source": [
    "Example\n",
    "Find the LCM of all of an array where the array contains all integers from 1 to 10:"
   ]
  },
  {
   "cell_type": "code",
   "execution_count": 46,
   "id": "bdeadd40",
   "metadata": {},
   "outputs": [
    {
     "name": "stdout",
     "output_type": "stream",
     "text": [
      "2520\n"
     ]
    }
   ],
   "source": [
    "import numpy as np\n",
    "\n",
    "arr = np.arange(1, 11)\n",
    "\n",
    "x = np.lcm.reduce(arr)\n",
    "\n",
    "print(x)"
   ]
  },
  {
   "cell_type": "code",
   "execution_count": null,
   "id": "8e8af62e",
   "metadata": {},
   "outputs": [],
   "source": []
  },
  {
   "cell_type": "markdown",
   "id": "0e0f646f",
   "metadata": {},
   "source": [
    "## 17j. NumPy GCD Greatest Common Denominator:\n",
    "\n",
    "#### Finding GCD (Greatest Common Denominator):\n",
    "\n",
    "The GCD (Greatest Common Denominator), also known as HCF (Highest Common Factor) is the biggest number that is a common factor of both \n",
    "of the numbers.\n",
    "\n",
    "Example:\n",
    "\n",
    "Find the HCF of the following two numbers:"
   ]
  },
  {
   "cell_type": "code",
   "execution_count": 47,
   "id": "7daebeeb",
   "metadata": {},
   "outputs": [
    {
     "name": "stdout",
     "output_type": "stream",
     "text": [
      "3\n"
     ]
    }
   ],
   "source": [
    "import numpy as np\n",
    "\n",
    "num1 = 6\n",
    "num2 = 9\n",
    "\n",
    "x = np.gcd(num1, num2)\n",
    "\n",
    "print(x)"
   ]
  },
  {
   "cell_type": "markdown",
   "id": "0be05857",
   "metadata": {},
   "source": [
    "Returns: 3 because that is the highest number both numbers can be divided by (6/3=2 and 9*3=3).\n",
    "\n",
    "Finding GCD in Arrays:\n",
    "\n",
    "To find the Highest Common Factor of all values in an array, you can use the reduce() method.\n",
    "\n",
    "The reduce() method will use the ufunc, in this case the gcd() function, on each element, and reduce the array by one dimension.\n",
    "\n",
    "Example:\n",
    "\n",
    "Find the GCD for all of the numbers in following array:"
   ]
  },
  {
   "cell_type": "code",
   "execution_count": 48,
   "id": "472e0bce",
   "metadata": {},
   "outputs": [
    {
     "name": "stdout",
     "output_type": "stream",
     "text": [
      "4\n"
     ]
    }
   ],
   "source": [
    "import numpy as np\n",
    "\n",
    "arr = np.array([20, 8, 32, 36, 16])\n",
    "\n",
    "x = np.gcd.reduce(arr)\n",
    "\n",
    "print(x)\n",
    "#Returns: 4 because that is the highest number all values can be divided by.\n"
   ]
  },
  {
   "cell_type": "code",
   "execution_count": null,
   "id": "9a7f2dae",
   "metadata": {},
   "outputs": [],
   "source": []
  },
  {
   "cell_type": "markdown",
   "id": "3b5bc6da",
   "metadata": {},
   "source": [
    "## 17k. NumPy Trigonometric Functions:\n",
    "\n",
    "#### Trigonometric Functions:\n",
    "\n",
    "NumPy provides the ufuncs sin(), cos() and tan() that take values in radians and produce the corresponding sin, cos and tan values.\n",
    "\n",
    "Example:\n",
    "\n",
    "Find sine value of PI/2:"
   ]
  },
  {
   "cell_type": "code",
   "execution_count": 49,
   "id": "e90fb1e8",
   "metadata": {},
   "outputs": [
    {
     "name": "stdout",
     "output_type": "stream",
     "text": [
      "1.0\n"
     ]
    }
   ],
   "source": [
    "import numpy as np\n",
    "\n",
    "x = np.sin(np.pi/2)\n",
    "\n",
    "print(x)"
   ]
  },
  {
   "cell_type": "markdown",
   "id": "77f13663",
   "metadata": {},
   "source": [
    "Example\n",
    "\n",
    "Find sine values for all of the values in arr:"
   ]
  },
  {
   "cell_type": "code",
   "execution_count": 50,
   "id": "f4d2c713",
   "metadata": {},
   "outputs": [
    {
     "name": "stdout",
     "output_type": "stream",
     "text": [
      "[1.         0.8660254  0.70710678 0.58778525]\n"
     ]
    }
   ],
   "source": [
    "import numpy as np\n",
    "\n",
    "arr = np.array([np.pi/2, np.pi/3, np.pi/4, np.pi/5])\n",
    "\n",
    "x = np.sin(arr)\n",
    "\n",
    "print(x)"
   ]
  },
  {
   "cell_type": "markdown",
   "id": "e68c5abd",
   "metadata": {},
   "source": [
    "#### Convert Degrees Into Radians\n",
    "\n",
    "By default all of the trigonometric functions take radians as parameters but we can convert radians to degrees and vice versa as well \n",
    "in NumPy.\n",
    "\n",
    "Note: radians values are pi/180 * degree_values.\n",
    "\n",
    "Example\n",
    "Convert all of the values in following array arr to radians:"
   ]
  },
  {
   "cell_type": "code",
   "execution_count": 51,
   "id": "a3e62260",
   "metadata": {},
   "outputs": [
    {
     "name": "stdout",
     "output_type": "stream",
     "text": [
      "[1.57079633 3.14159265 4.71238898 6.28318531]\n"
     ]
    }
   ],
   "source": [
    "import numpy as np\n",
    "\n",
    "arr = np.array([90, 180, 270, 360])\n",
    "\n",
    "x = np.deg2rad(arr)\n",
    "\n",
    "print(x)"
   ]
  },
  {
   "cell_type": "markdown",
   "id": "12b25eb6",
   "metadata": {},
   "source": [
    "#### Radians to Degrees:\n",
    "Example:\n",
    "\n",
    "Convert all of the values in following array arr to degrees:"
   ]
  },
  {
   "cell_type": "code",
   "execution_count": null,
   "id": "5459fda2",
   "metadata": {},
   "outputs": [],
   "source": [
    "import numpy as np\n",
    "\n",
    "arr = np.array([np.pi/2, np.pi, 1.5*np.pi, 2*np.pi])\n",
    "\n",
    "x = np.rad2deg(arr)\n",
    "\n",
    "print(x)"
   ]
  },
  {
   "cell_type": "markdown",
   "id": "a149c13f",
   "metadata": {},
   "source": [
    "Finding Angles:\n",
    "\n",
    "Finding angles from values of sine, cos, tan. E.g. sin, cos and tan inverse (arcsin, arccos, arctan).\n",
    "\n",
    "NumPy provides ufuncs arcsin(), arccos() and arctan() that produce radian values for corresponding sin, cos and tan values given.\n",
    "\n",
    "Example:\n",
    "\n",
    "Find the angle of 1.0:"
   ]
  },
  {
   "cell_type": "code",
   "execution_count": null,
   "id": "8121c1aa",
   "metadata": {},
   "outputs": [],
   "source": [
    "import numpy as np\n",
    "\n",
    "x = np.arcsin(1.0)\n",
    "\n",
    "print(x)"
   ]
  },
  {
   "cell_type": "markdown",
   "id": "51084883",
   "metadata": {},
   "source": [
    "#### Angles of Each Value in Arrays\n",
    "Example\n",
    "Find the angle for all of the sine values in the array"
   ]
  },
  {
   "cell_type": "code",
   "execution_count": 52,
   "id": "b1f1109b",
   "metadata": {},
   "outputs": [
    {
     "name": "stdout",
     "output_type": "stream",
     "text": [
      "[ 1.57079633 -1.57079633  0.10016742]\n"
     ]
    }
   ],
   "source": [
    "import numpy as np\n",
    "\n",
    "arr = np.array([1, -1, 0.1])\n",
    "\n",
    "x = np.arcsin(arr)\n",
    "\n",
    "print(x)"
   ]
  },
  {
   "cell_type": "markdown",
   "id": "fc6c94a4",
   "metadata": {},
   "source": [
    "#### Hypotenues:\n",
    "\n",
    "Finding hypotenues using pythagoras theorem in NumPy.\n",
    "\n",
    "NumPy provides the hypot() function that takes the base and perpendicular values and produces hypotenues based on pythagoras theorem.\n",
    "\n",
    "Example:\n",
    "\n",
    "Find the hypotenues for 4 base and 3 perpendicular:"
   ]
  },
  {
   "cell_type": "code",
   "execution_count": 53,
   "id": "c491e854",
   "metadata": {},
   "outputs": [
    {
     "name": "stdout",
     "output_type": "stream",
     "text": [
      "5.0\n"
     ]
    }
   ],
   "source": [
    "import numpy as np\n",
    "\n",
    "base = 3\n",
    "perp = 4\n",
    "\n",
    "x = np.hypot(base, perp)\n",
    "\n",
    "print(x)\n"
   ]
  },
  {
   "cell_type": "code",
   "execution_count": null,
   "id": "36c994b8",
   "metadata": {},
   "outputs": [],
   "source": []
  },
  {
   "cell_type": "markdown",
   "id": "4e0d2460",
   "metadata": {},
   "source": [
    "## 17l. NumPy Hyperbolic Functions:\n",
    "\n",
    "#### Hyperbolic Functions:\n",
    "\n",
    "NumPy provides the ufuncs sinh(), cosh() and tanh() that take values in radians and produce the corresponding sinh, cosh and tanh values..\n",
    "\n",
    "Example:\n",
    "\n",
    "Find sinh value of PI/2:"
   ]
  },
  {
   "cell_type": "code",
   "execution_count": null,
   "id": "c4b71c51",
   "metadata": {},
   "outputs": [],
   "source": [
    "import numpy as np\n",
    "\n",
    "x = np.sinh(np.pi/2)\n",
    "\n",
    "print(x)"
   ]
  },
  {
   "cell_type": "markdown",
   "id": "3df40aa0",
   "metadata": {},
   "source": [
    "Example\n",
    "\n",
    "Find cosh values for all of the values in arr:"
   ]
  },
  {
   "cell_type": "markdown",
   "id": "aa2f5f9b",
   "metadata": {},
   "source": [
    "import numpy as np\n",
    "\n",
    "arr = np.array([np.pi/2, np.pi/3, np.pi/4, np.pi/5])\n",
    "\n",
    "x = np.cosh(arr)\n",
    "\n",
    "print(x)"
   ]
  },
  {
   "cell_type": "markdown",
   "id": "13296584",
   "metadata": {},
   "source": [
    "#### Finding Angles:\n",
    "\n",
    "Finding angles from values of hyperbolic sine, cos, tan. E.g. sinh, cosh and tanh inverse (arcsinh, arccosh, arctanh).\n",
    "\n",
    "Numpy provides ufuncs arcsinh(), arccosh() and arctanh() that produce radian values for corresponding sinh, cosh and tanh values given.\n",
    "\n",
    "Example:\n",
    "\n",
    "Find the angle of 1.0:"
   ]
  },
  {
   "cell_type": "code",
   "execution_count": null,
   "id": "5c167abc",
   "metadata": {},
   "outputs": [],
   "source": [
    "import numpy as np\n",
    "\n",
    "x = np.arcsinh(1.0)\n",
    "\n",
    "print(x)"
   ]
  },
  {
   "cell_type": "markdown",
   "id": "b045632b",
   "metadata": {},
   "source": [
    "\n",
    "#### Angles of Each Value in Arrays\n",
    "Example\n",
    "Find the angle for all of the tanh values in array:"
   ]
  },
  {
   "cell_type": "code",
   "execution_count": null,
   "id": "23117111",
   "metadata": {},
   "outputs": [],
   "source": [
    "import numpy as np\n",
    "\n",
    "arr = np.array([0.1, 0.2, 0.5])\n",
    "\n",
    "x = np.arctanh(arr)\n",
    "\n",
    "print(x)\n"
   ]
  },
  {
   "cell_type": "code",
   "execution_count": null,
   "id": "58ae4dee",
   "metadata": {},
   "outputs": [],
   "source": []
  },
  {
   "cell_type": "markdown",
   "id": "eea8e794",
   "metadata": {},
   "source": [
    "## 17m. NumPy Set Operations:\n",
    "\n",
    "#### What is a Set?\n",
    "\n",
    "A set in mathematics is a collection of unique elements.\n",
    "\n",
    "Sets are used for operations involving frequent intersection, union and difference operations.\n",
    "\n",
    "Create Sets in NumPy:\n",
    "\n",
    "We can use NumPy's unique() method to find unique elements from any array. E.g. create a set array, but remember that the set arrays \n",
    "should only be 1-D arrays.\n",
    "\n",
    "Example:\n",
    "\n",
    "Convert following array with repeated elements to a set:"
   ]
  },
  {
   "cell_type": "code",
   "execution_count": 54,
   "id": "83b81336",
   "metadata": {},
   "outputs": [
    {
     "name": "stdout",
     "output_type": "stream",
     "text": [
      "[1 2 3 4 5 6 7]\n"
     ]
    }
   ],
   "source": [
    "import numpy as np\n",
    "\n",
    "arr = np.array([1, 1, 1, 2, 3, 4, 5, 5, 6, 7])\n",
    "\n",
    "x = np.unique(arr)\n",
    "\n",
    "print(x)"
   ]
  },
  {
   "cell_type": "markdown",
   "id": "7f8f0b73",
   "metadata": {},
   "source": [
    "#### Finding Union:\n",
    "\n",
    "To find the unique values of two arrays, use the union1d() method.\n",
    "\n",
    "Example:\n",
    "\n",
    "Find union of the following two set arrays:"
   ]
  },
  {
   "cell_type": "code",
   "execution_count": 55,
   "id": "653ff794",
   "metadata": {},
   "outputs": [
    {
     "name": "stdout",
     "output_type": "stream",
     "text": [
      "[1 2 3 4 5 6]\n"
     ]
    }
   ],
   "source": [
    "import numpy as np\n",
    "\n",
    "arr1 = np.array([1, 2, 3, 4])\n",
    "arr2 = np.array([3, 4, 5, 6])\n",
    "\n",
    "newarr = np.union1d(arr1, arr2)\n",
    "\n",
    "print(newarr)"
   ]
  },
  {
   "cell_type": "markdown",
   "id": "9272942a",
   "metadata": {},
   "source": [
    "#### Finding Intersection\n",
    "To find only the values that are present in both arrays, use the intersect1d() method.\n",
    "\n",
    "Example\n",
    "Find intersection of the following two set arrays:"
   ]
  },
  {
   "cell_type": "code",
   "execution_count": 56,
   "id": "0a7ccb28",
   "metadata": {},
   "outputs": [
    {
     "name": "stdout",
     "output_type": "stream",
     "text": [
      "[3 4]\n"
     ]
    }
   ],
   "source": [
    "import numpy as np\n",
    "\n",
    "arr1 = np.array([1, 2, 3, 4])\n",
    "arr2 = np.array([3, 4, 5, 6])\n",
    "\n",
    "newarr = np.intersect1d(arr1, arr2, assume_unique=True)\n",
    "\n",
    "print(newarr)"
   ]
  },
  {
   "cell_type": "markdown",
   "id": "6cea7fdb",
   "metadata": {},
   "source": [
    "\n",
    "Note: the intersect1d() method takes an optional argument assume_unique, which if set to True can speed up computation. It should \n",
    "always be set to True when dealing with sets."
   ]
  },
  {
   "cell_type": "markdown",
   "id": "8948338f",
   "metadata": {},
   "source": [
    "\n",
    "### Finding Difference\n",
    "To find only the values in the first set that is NOT present in the seconds set, use the setdiff1d() method.\n",
    "\n",
    "Example\n",
    "Find the difference of the set1 from set2:"
   ]
  },
  {
   "cell_type": "code",
   "execution_count": 58,
   "id": "75663f29",
   "metadata": {},
   "outputs": [
    {
     "name": "stdout",
     "output_type": "stream",
     "text": [
      "[1 2]\n"
     ]
    }
   ],
   "source": [
    "import numpy as np\n",
    "\n",
    "set1 = np.array([1, 2, 3, 4])\n",
    "set2 = np.array([3, 4, 5, 6])\n",
    "\n",
    "newarr = np.setdiff1d(set1, set2, assume_unique=True)\n",
    "\n",
    "print(newarr)"
   ]
  },
  {
   "cell_type": "markdown",
   "id": "76c5629d",
   "metadata": {},
   "source": [
    "Note: the setdiff1d() method takes an optional argument assume_unique, which if set to True can speed up computation. \n",
    "It should always be set to True when dealing with sets.\n",
    "\n",
    "#### Finding Symmetric Difference\n",
    "To find only the values that are NOT present in BOTH sets, use the setxor1d() method.\n",
    "\n",
    "Example\n",
    "\n",
    "Find the symmetric difference of the set1 and set2:"
   ]
  },
  {
   "cell_type": "code",
   "execution_count": 59,
   "id": "a7bcee87",
   "metadata": {},
   "outputs": [
    {
     "name": "stdout",
     "output_type": "stream",
     "text": [
      "[1 2 5 6]\n"
     ]
    }
   ],
   "source": [
    "import numpy as np\n",
    "\n",
    "set1 = np.array([1, 2, 3, 4])\n",
    "set2 = np.array([3, 4, 5, 6])\n",
    "\n",
    "newarr = np.setxor1d(set1, set2, assume_unique=True)\n",
    "\n",
    "print(newarr)\n",
    "\n",
    "#Note: the setxor1d() method takes an optional argument assume_unique, which if set to True can speed up computation. \n",
    "#It should always be set to True when dealing with sets.\n"
   ]
  }
 ],
 "metadata": {
  "kernelspec": {
   "display_name": "Python 3",
   "language": "python",
   "name": "python3"
  },
  "language_info": {
   "codemirror_mode": {
    "name": "ipython",
    "version": 3
   },
   "file_extension": ".py",
   "mimetype": "text/x-python",
   "name": "python",
   "nbconvert_exporter": "python",
   "pygments_lexer": "ipython3",
   "version": "3.12.10"
  }
 },
 "nbformat": 4,
 "nbformat_minor": 5
}
