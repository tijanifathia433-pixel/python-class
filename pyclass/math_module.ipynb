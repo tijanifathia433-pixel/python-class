{
 "cells": [
  {
   "cell_type": "markdown",
   "id": "693b991d",
   "metadata": {},
   "source": [
    "### **Python `math` Module Notes**\n",
    "\n",
    "---\n",
    "\n",
    "#### **1. What is the `math` module?**\n",
    "\n",
    "* The `math` module in Python provides **mathematical functions and constants** beyond the basic operators.\n",
    "* You need to **import it** before using:\n",
    "\n",
    "```python\n",
    "import math\n",
    "```"
   ]
  },
  {
   "cell_type": "markdown",
   "id": "1c10abda",
   "metadata": {},
   "source": [
    "#### **2. Common Functions in the `math` Module**\n",
    "\n",
    "##### **A) Rounding and Absolute Functions**\n",
    "\n",
    "* `math.ceil(x)` → Returns the **smallest integer greater than or equal** to `x`.\n",
    "* `math.floor(x)` → Returns the **largest integer less than or equal** to `x`.\n",
    "* `math.trunc(x)` → Returns the **integer part** of `x` (truncates decimal)."
   ]
  },
  {
   "cell_type": "markdown",
   "id": "8219b83a",
   "metadata": {
    "vscode": {
     "languageId": "plaintext"
    }
   },
   "source": [
    "Example:\n",
    "\n"
   ]
  },
  {
   "cell_type": "code",
   "execution_count": 8,
   "id": "ae9f6676",
   "metadata": {},
   "outputs": [
    {
     "name": "stdout",
     "output_type": "stream",
     "text": [
      "7\n",
      "4\n",
      "5\n"
     ]
    }
   ],
   "source": [
    "import math\n",
    "print(math.ceil(6.1))   # 5\n",
    "print(math.floor(4.5))  # 4\n",
    "print(math.trunc(5.6)) # -4"
   ]
  },
  {
   "cell_type": "code",
   "execution_count": 4,
   "id": "e57a8780",
   "metadata": {},
   "outputs": [
    {
     "name": "stdout",
     "output_type": "stream",
     "text": [
      "4\n"
     ]
    }
   ],
   "source": [
    "y = 3.1\n",
    "\n",
    "print(math.ceil(y))"
   ]
  },
  {
   "cell_type": "code",
   "execution_count": 7,
   "id": "7d129c91",
   "metadata": {},
   "outputs": [
    {
     "name": "stdout",
     "output_type": "stream",
     "text": [
      "2\n"
     ]
    }
   ],
   "source": [
    "z= 2.6\n",
    "\n",
    "print(math.floor(z))"
   ]
  },
  {
   "cell_type": "code",
   "execution_count": 17,
   "id": "008ada73",
   "metadata": {},
   "outputs": [
    {
     "name": "stdout",
     "output_type": "stream",
     "text": [
      "-5\n",
      "-6\n"
     ]
    }
   ],
   "source": [
    "g = -5.1\n",
    "\n",
    "print(math.trunc(g))\n",
    "print(math.floor(g))"
   ]
  },
  {
   "cell_type": "markdown",
   "id": "f922b2ec",
   "metadata": {},
   "source": [
    "##### **B) Power and Logarithmic Functions**\n",
    "\n",
    "* `math.pow(x, y)` → Returns `x` raised to the power `y` (same as `x ** y` but returns float).\n",
    "* `math.sqrt(x)` → Returns the square root of `x`.\n",
    "* `math.log(x)` → Returns the natural logarithm (base e).\n",
    "* `math.log10(x)` → Returns logarithm with base 10."
   ]
  },
  {
   "cell_type": "markdown",
   "id": "08474a85",
   "metadata": {},
   "source": [
    "Example:"
   ]
  },
  {
   "cell_type": "code",
   "execution_count": 18,
   "id": "39324b39",
   "metadata": {},
   "outputs": [
    {
     "name": "stdout",
     "output_type": "stream",
     "text": [
      "8.0\n",
      "4.0\n",
      "2.302585092994046\n",
      "2.0\n"
     ]
    }
   ],
   "source": [
    "print(math.pow(2, 3))   # 8.0\n",
    "print(math.sqrt(16))    # 4.0\n",
    "print(math.log(10))     # 2.302...\n",
    "print(math.log10(100))  # 2.0"
   ]
  },
  {
   "cell_type": "code",
   "execution_count": 19,
   "id": "ba941103",
   "metadata": {},
   "outputs": [
    {
     "name": "stdout",
     "output_type": "stream",
     "text": [
      "4.0\n"
     ]
    }
   ],
   "source": [
    "print(math.log10(math.pow(100, 2)))"
   ]
  },
  {
   "cell_type": "markdown",
   "id": "cb8f3944",
   "metadata": {},
   "source": [
    "\n",
    "##### **C) Trigonometric Functions**\n",
    "\n",
    "All angles must be in **radians**.\n",
    "\n",
    "* `math.sin(x)`, `math.cos(x)`, `math.tan(x)` → Trigonometric functions.\n",
    "* `math.asin(x)`, `math.acos(x)`, `math.atan(x)` → Inverse trigonometric functions.\n",
    "* `math.radians(x)` → Converts degrees to radians.\n",
    "* `math.degrees(x)` → Converts radians to degrees.\n",
    "\n",
    "Example:"
   ]
  },
  {
   "cell_type": "code",
   "execution_count": 24,
   "id": "032bba26",
   "metadata": {},
   "outputs": [
    {
     "name": "stdout",
     "output_type": "stream",
     "text": [
      "0.8509035245341184\n"
     ]
    }
   ],
   "source": [
    "print(math.sin(45))"
   ]
  },
  {
   "cell_type": "code",
   "execution_count": 28,
   "id": "9e8124b6",
   "metadata": {},
   "outputs": [
    {
     "name": "stdout",
     "output_type": "stream",
     "text": [
      "1.6197751905438615\n"
     ]
    }
   ],
   "source": [
    "print(math.tan(45))"
   ]
  },
  {
   "cell_type": "code",
   "execution_count": 26,
   "id": "b84bb873",
   "metadata": {},
   "outputs": [
    {
     "name": "stdout",
     "output_type": "stream",
     "text": [
      "1.0\n"
     ]
    }
   ],
   "source": [
    "print(math.cos(0))"
   ]
  },
  {
   "cell_type": "code",
   "execution_count": 30,
   "id": "306bafb9",
   "metadata": {},
   "outputs": [
    {
     "name": "stdout",
     "output_type": "stream",
     "text": [
      "1.5707963267948966\n",
      "1.0\n"
     ]
    }
   ],
   "source": [
    "angle_deg = 90\n",
    "angle_rad = math.radians(angle_deg)\n",
    "\n",
    "print(angle_rad)\n",
    "print(math.sin(angle_rad))  # 1.0"
   ]
  },
  {
   "cell_type": "markdown",
   "id": "96b45493",
   "metadata": {},
   "source": [
    "##### **D) Constants**\n",
    "\n",
    "* `math.pi` → 3.141592...\n",
    "* `math.e` → 2.718281...\n",
    "\n",
    "Example:\n"
   ]
  },
  {
   "cell_type": "code",
   "execution_count": null,
   "id": "4c504d22",
   "metadata": {},
   "outputs": [],
   "source": [
    "print(math.pi)\n",
    "print(math.e)"
   ]
  },
  {
   "cell_type": "markdown",
   "id": "50e0e1b2",
   "metadata": {},
   "source": [
    "\n",
    "##### **E) Miscellaneous**\n",
    "\n",
    "* `math.fabs(x)` → Absolute value as a float.\n",
    "* `math.factorial(n)` → Returns factorial of `n`.\n",
    "* `math.gcd(a, b)` → Returns greatest common divisor.\n",
    "* `math.lcm(a, b)` → Returns least common multiple (Python 3.9+).\n",
    "* `math.comb(n, k)` → Number of combinations C(n, k) (Python 3.8+).\n",
    "* `math.perm(n, k)` → Number of permutations P(n, k) (Python 3.8+).\n",
    "\n",
    "Example:"
   ]
  },
  {
   "cell_type": "code",
   "execution_count": 32,
   "id": "424507bb",
   "metadata": {},
   "outputs": [
    {
     "name": "stdout",
     "output_type": "stream",
     "text": [
      "120\n",
      "6\n",
      "36\n"
     ]
    }
   ],
   "source": [
    "print(math.factorial(5)) # 120\n",
    "print(math.gcd(12, 18))  # 6\n",
    "print(math.lcm(12, 18))  # 36"
   ]
  },
  {
   "cell_type": "code",
   "execution_count": 35,
   "id": "a85baf7c",
   "metadata": {},
   "outputs": [
    {
     "name": "stdout",
     "output_type": "stream",
     "text": [
      "50.0\n"
     ]
    }
   ],
   "source": [
    "print(math.fabs(50))"
   ]
  },
  {
   "cell_type": "code",
   "execution_count": 36,
   "id": "f7c547ed",
   "metadata": {},
   "outputs": [
    {
     "name": "stdout",
     "output_type": "stream",
     "text": [
      "45\n"
     ]
    }
   ],
   "source": [
    "print(math.comb(10,2))"
   ]
  },
  {
   "cell_type": "code",
   "execution_count": 37,
   "id": "9874ab5d",
   "metadata": {},
   "outputs": [
    {
     "name": "stdout",
     "output_type": "stream",
     "text": [
      "90\n"
     ]
    }
   ],
   "source": [
    "print(math.perm(10,2))"
   ]
  },
  {
   "cell_type": "markdown",
   "id": "381e3365",
   "metadata": {},
   "source": [
    "#### **3. Practice Exercises**\n",
    "\n",
    "##### **Beginner Level**\n",
    "\n",
    "1. Use `math.sqrt()` to calculate the square root of 144.\n",
    "2. Find the ceiling and floor of `7.3`.\n",
    "3. Convert 180 degrees to radians.\n",
    "\n",
    "##### **Intermediate Level**\n",
    "\n",
    "4. Compute the factorial of 7.\n",
    "5. Find the greatest common divisor (GCD) of 54 and 24.\n",
    "6. Calculate `log10(1000)` using the math module.\n",
    "7. Calculate the sine of 30 degrees.\n",
    "\n",
    "##### **Advanced Level**\n",
    "\n",
    "8. Compute the number of ways to choose 4 students out of 10 (combinations).\n",
    "9. Calculate the least common multiple (LCM) of 15 and 20.\n",
    "10. Write a function that takes a list of numbers and returns a new list of their square roots using `math.sqrt()`."
   ]
  }
 ],
 "metadata": {
  "kernelspec": {
   "display_name": "Python 3",
   "language": "python",
   "name": "python3"
  },
  "language_info": {
   "codemirror_mode": {
    "name": "ipython",
    "version": 3
   },
   "file_extension": ".py",
   "mimetype": "text/x-python",
   "name": "python",
   "nbconvert_exporter": "python",
   "pygments_lexer": "ipython3",
   "version": "3.12.10"
  }
 },
 "nbformat": 4,
 "nbformat_minor": 5
}
