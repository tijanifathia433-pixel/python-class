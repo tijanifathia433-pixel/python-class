{
 "cells": [
  {
   "cell_type": "markdown",
   "id": "bea95596",
   "metadata": {},
   "source": [
    "### **Python Loops: `while` and `for` - Complete Guide**"
   ]
  },
  {
   "cell_type": "markdown",
   "id": "d49bb56a",
   "metadata": {},
   "source": [
    "### **1. `while` Loops**\n",
    "#### **1.1 Basic Syntax**"
   ]
  },
  {
   "cell_type": "markdown",
   "id": "0f1b6443",
   "metadata": {},
   "source": [
    "```python\n",
    "while condition:\n",
    "    # code to execute while condition is True\n",
    "```"
   ]
  },
  {
   "cell_type": "markdown",
   "id": "672c8029",
   "metadata": {},
   "source": [
    "#### **1.2 Key Features**\n",
    "- Repeats code **while a condition is `True`**.\n",
    "- Requires a **termination condition** to avoid infinite loops.\n",
    "- Useful when the number of iterations is **unknown**."
   ]
  },
  {
   "cell_type": "markdown",
   "id": "bdb56a3f",
   "metadata": {},
   "source": [
    "#### **1.3 Examples**\n",
    "##### **Example 1: Basic Counter**"
   ]
  },
  {
   "cell_type": "code",
   "execution_count": null,
   "id": "13e018b2",
   "metadata": {},
   "outputs": [
    {
     "name": "stdout",
     "output_type": "stream",
     "text": [
      "0\n",
      "1\n",
      "2\n",
      "3\n",
      "4\n"
     ]
    }
   ],
   "source": [
    "count = 0\n",
    "while count < 5:\n",
    "    print(count)\n",
    "    count += 1"
   ]
  },
  {
   "cell_type": "code",
   "execution_count": 7,
   "id": "06833193",
   "metadata": {},
   "outputs": [
    {
     "name": "stdout",
     "output_type": "stream",
     "text": [
      "welome to the club!\n",
      "1\n",
      "welome to the club!\n",
      "3\n",
      "welome to the club!\n",
      "5\n",
      "welome to the club!\n",
      "7\n",
      "welome to the club!\n",
      "9\n"
     ]
    }
   ],
   "source": [
    "i = 1\n",
    "while i < 10:\n",
    "    print(\"welome to the club!\")\n",
    "    print(i)\n",
    "    i += 2\n"
   ]
  },
  {
   "cell_type": "markdown",
   "id": "97f4af6c",
   "metadata": {},
   "source": [
    "##### **Example 2: User Input Validation**"
   ]
  },
  {
   "cell_type": "code",
   "execution_count": 1,
   "id": "72273698",
   "metadata": {},
   "outputs": [
    {
     "name": "stdout",
     "output_type": "stream",
     "text": [
      "Access granted!\n"
     ]
    }
   ],
   "source": [
    "password = \"\"\n",
    "\n",
    "while password != \"secret\":\n",
    "    password = input(\"Enter password: \")\n",
    "\n",
    "print(\"Access granted!\")\n",
    "\n"
   ]
  },
  {
   "cell_type": "markdown",
   "id": "19155e71",
   "metadata": {},
   "source": [
    "Example 3"
   ]
  },
  {
   "cell_type": "code",
   "execution_count": 14,
   "id": "b3a60d9b",
   "metadata": {},
   "outputs": [
    {
     "name": "stdout",
     "output_type": "stream",
     "text": [
      "Too many incorrect attempts. Access denied.\n"
     ]
    }
   ],
   "source": [
    "password = \"\"\n",
    "count = 0\n",
    "if password != \"secret\":\n",
    "    while count < 3:\n",
    "        password = input(\"Enter password: \")\n",
    "        if password == \"secret\":\n",
    "            print(\"Access granted!\")\n",
    "            break\n",
    "        count += 1\n",
    "    if count >= 3:\n",
    "        print(\"Too many incorrect attempts. Access denied.\")"
   ]
  },
  {
   "cell_type": "markdown",
   "id": "80f977d8",
   "metadata": {},
   "source": [
    "##### **Example 3: `break` and `continue`**"
   ]
  },
  {
   "cell_type": "code",
   "execution_count": 15,
   "id": "945b016d",
   "metadata": {},
   "outputs": [
    {
     "name": "stdout",
     "output_type": "stream",
     "text": [
      "1\n",
      "2\n",
      "4\n",
      "5\n",
      "6\n",
      "7\n"
     ]
    }
   ],
   "source": [
    "num = 0\n",
    "while num < 10:\n",
    "    num += 1\n",
    "    # 8\n",
    "\n",
    "    if num == 3:\n",
    "        continue  # Skip iteration\n",
    "\n",
    "    if num == 8:\n",
    "        break    # Exit loop\n",
    "\n",
    "    print(num) # 1, 2,4"
   ]
  },
  {
   "cell_type": "markdown",
   "id": "096c9f89",
   "metadata": {},
   "source": [
    "Print Old Numbers"
   ]
  },
  {
   "cell_type": "code",
   "execution_count": null,
   "id": "e81bd4a4",
   "metadata": {},
   "outputs": [
    {
     "name": "stdout",
     "output_type": "stream",
     "text": [
      "1\n",
      "3\n",
      "5\n",
      "7\n",
      "9\n"
     ]
    }
   ],
   "source": [
    "num = 0\n",
    "while num < 10:\n",
    "    num += 1\n",
    "    if num % 2 == 0:\n",
    "        continue  # Skip even numbers\n",
    "    print(num)  # Print only odd numbers"
   ]
  },
  {
   "cell_type": "markdown",
   "id": "49a08e13",
   "metadata": {},
   "source": [
    "Print Even Numbers"
   ]
  },
  {
   "cell_type": "code",
   "execution_count": null,
   "id": "4babd233",
   "metadata": {},
   "outputs": [
    {
     "name": "stdout",
     "output_type": "stream",
     "text": [
      "[2, 4, 6, 8, 10]\n"
     ]
    }
   ],
   "source": [
    "num = 0\n",
    "lst = []\n",
    "while num < 10:\n",
    "    num += 1\n",
    "    if num % 2 == 1:\n",
    "        continue  # Skip odd numbers\n",
    "    lst.append(num)\n",
    "print(lst)  # Print only even numbers"
   ]
  },
  {
   "cell_type": "markdown",
   "id": "c2b75aec",
   "metadata": {},
   "source": []
  },
  {
   "cell_type": "markdown",
   "id": "ab4f7d39",
   "metadata": {},
   "source": [
    "#### **2. `for` Loops**\n",
    "##### **2.1 Basic Syntax**"
   ]
  },
  {
   "cell_type": "markdown",
   "id": "eadda2b4",
   "metadata": {},
   "source": [
    "```python\n",
    "for item in iterable:\n",
    "    # code to execute for each item\n",
    "```"
   ]
  },
  {
   "cell_type": "markdown",
   "id": "047a5c85",
   "metadata": {},
   "source": [
    "#### **2.2 Key Features**\n",
    "- Iterates over **sequences** (lists, tuples, strings, dictionaries, etc.).\n",
    "- Number of iterations is **determined by the iterable length**.\n",
    "- Often used with `range()` for numeric loops."
   ]
  },
  {
   "cell_type": "code",
   "execution_count": 19,
   "id": "be62c7f9",
   "metadata": {},
   "outputs": [
    {
     "name": "stdout",
     "output_type": "stream",
     "text": [
      "5\n"
     ]
    }
   ],
   "source": [
    "lst = [1, 2, 3, 4, 5]\n",
    "print(len(lst))"
   ]
  },
  {
   "cell_type": "code",
   "execution_count": 21,
   "id": "b0f499d0",
   "metadata": {},
   "outputs": [
    {
     "name": "stdout",
     "output_type": "stream",
     "text": [
      "Hello World\n",
      "Hello World\n",
      "Hello World\n",
      "Hello World\n",
      "Hello World\n",
      "Hello World\n",
      "Hello World\n",
      "Hello World\n",
      "Hello World\n",
      "Hello World\n"
     ]
    }
   ],
   "source": [
    "for i in range(10):\n",
    "    print(\"Hello World\")"
   ]
  },
  {
   "cell_type": "markdown",
   "id": "754f6a4b",
   "metadata": {},
   "source": [
    "#### **2.3 Examples**\n",
    "##### **Example 1: Looping Through a List**"
   ]
  },
  {
   "cell_type": "code",
   "execution_count": null,
   "id": "1e12ec66",
   "metadata": {},
   "outputs": [],
   "source": [
    "fruits = [\"apple\", \"banana\", \"cherry\"]\n",
    "for fruit in fruits:\n",
    "    print(fruit)"
   ]
  },
  {
   "cell_type": "markdown",
   "id": "700af0d3",
   "metadata": {},
   "source": [
    "##### **Example 2: `range()` Function**"
   ]
  },
  {
   "cell_type": "code",
   "execution_count": null,
   "id": "dd7f9360",
   "metadata": {},
   "outputs": [],
   "source": [
    "for i in range(5):        # 0 to 4\n",
    "    print(i)\n",
    "\n",
    "for i in range(1, 6):     # 1 to 5\n",
    "    print(i)\n",
    "\n",
    "for i in range(0, 10, 2): # 0, 2, 4, 6, 8\n",
    "    print(i)"
   ]
  },
  {
   "cell_type": "markdown",
   "id": "89caf731",
   "metadata": {},
   "source": [
    "##### **Example 3: Looping Through a String**"
   ]
  },
  {
   "cell_type": "code",
   "execution_count": 32,
   "id": "5aa08994",
   "metadata": {},
   "outputs": [
    {
     "name": "stdout",
     "output_type": "stream",
     "text": [
      "['P', 'y', 't', 'h', 'o', 'n']\n",
      "6\n"
     ]
    }
   ],
   "source": [
    "lst = []\n",
    "for char in \"Python\":\n",
    "    lst.append(char)\n",
    "print(lst)  # ['P', 'y', 't', 'h', 'o', 'n']    \n",
    "print(len(lst))     "
   ]
  },
  {
   "cell_type": "code",
   "execution_count": 36,
   "id": "61261386",
   "metadata": {},
   "outputs": [
    {
     "name": "stdout",
     "output_type": "stream",
     "text": [
      "30\n",
      "25\n"
     ]
    }
   ],
   "source": [
    "employees_age = {\"Alice\": 30, (2,3): 25,\"Charlie\": 35}\n",
    "print(employees_age[\"Alice\"])\n",
    "print(employees_age[(2,3)])"
   ]
  },
  {
   "cell_type": "markdown",
   "id": "56fabdca",
   "metadata": {},
   "source": [
    "##### **Example 4: Looping Through a Dictionary**"
   ]
  },
  {
   "cell_type": "code",
   "execution_count": 40,
   "id": "3a652e7d",
   "metadata": {},
   "outputs": [
    {
     "name": "stdout",
     "output_type": "stream",
     "text": [
      "name : Alice\n",
      "age : 21\n",
      "grade : A\n"
     ]
    }
   ],
   "source": [
    "student = {\"name\": \"Alice\", \"age\": 21, \"grade\": \"A\"}\n",
    "# for key in student:\n",
    "#     # print(key)\n",
    "#     print(key, \":\", student[key])\n",
    "#     # print(student[key])\n",
    "\n",
    "# Alternative:\n",
    "for key, value in student.items():\n",
    "    print(key, \":\", value)"
   ]
  },
  {
   "cell_type": "markdown",
   "id": "530c6a5c",
   "metadata": {},
   "source": [
    "---\n",
    "\n",
    "### **3. Loop Control Statements**\n",
    "| Statement | Purpose | Example |\n",
    "|-----------|---------|---------|\n",
    "| `break` | Exits the loop immediately | `while True: break` |\n",
    "| `continue` | Skips current iteration | `for i in range(5): if i==2: continue` |\n",
    "| `else` | Executes after loop completes (unless `break` is called) | `for i in range(3): print(i) else: print(\"Done\")` |"
   ]
  },
  {
   "cell_type": "markdown",
   "id": "f5cb094f",
   "metadata": {},
   "source": [
    "#### **Example: `else` in Loops**"
   ]
  },
  {
   "cell_type": "code",
   "execution_count": 44,
   "id": "f0febf6e",
   "metadata": {},
   "outputs": [
    {
     "name": "stdout",
     "output_type": "stream",
     "text": [
      "0\n",
      "1\n",
      "2\n",
      "Loop completed\n"
     ]
    }
   ],
   "source": [
    "for i in range(3):\n",
    "    print(i)\n",
    "else:\n",
    "    print(\"Loop completed\")"
   ]
  },
  {
   "cell_type": "markdown",
   "id": "97c546e2",
   "metadata": {},
   "source": [
    "#### **4. Nested Loops**"
   ]
  },
  {
   "cell_type": "code",
   "execution_count": 45,
   "id": "b520c3e8",
   "metadata": {},
   "outputs": [
    {
     "name": "stdout",
     "output_type": "stream",
     "text": [
      "0 0\n",
      "0 1\n",
      "1 0\n",
      "1 1\n",
      "2 0\n",
      "2 1\n"
     ]
    }
   ],
   "source": [
    "for i in range(3): #[0,1,2]\n",
    "    # 1\n",
    "    for j in range(2):#[0,1]\n",
    "        # 0,1\n",
    "        print(i, j)\n",
    "        # 0,0\n",
    "        # 0,1\n",
    "        # 1,0\n",
    "        # 1,1\n",
    "        # 2,0\n",
    "        # 2,1\n",
    "        "
   ]
  },
  {
   "cell_type": "code",
   "execution_count": 49,
   "id": "9fa9423d",
   "metadata": {},
   "outputs": [
    {
     "name": "stdout",
     "output_type": "stream",
     "text": [
      "*\n",
      "**\n",
      "***\n",
      "****\n",
      "*****\n",
      "******\n",
      "*******\n"
     ]
    }
   ],
   "source": [
    "# print right angle triangle pattern\n",
    "rows = 7\n",
    "for i in range(1, rows + 1):\n",
    "    for j in range(i):\n",
    "        print(\"*\", end=\"\")\n",
    "    print()  # Move to the next line after each row "
   ]
  },
  {
   "cell_type": "markdown",
   "id": "d7826d76",
   "metadata": {},
   "source": []
  },
  {
   "cell_type": "code",
   "execution_count": null,
   "id": "5cf03b20",
   "metadata": {},
   "outputs": [],
   "source": []
  },
  {
   "cell_type": "markdown",
   "id": "b8b9295b",
   "metadata": {},
   "source": [
    "---\n",
    "\n",
    "### **5. Exercises**\n",
    "#### **Exercise 1: `while` Loop**\n",
    "```python\n",
    "# Print numbers from 1 to 10 using a while loop\n",
    "# Your code here\n",
    "```\n",
    "\n",
    "#### **Exercise 2: `for` Loop**\n",
    "```python\n",
    "# Calculate the sum of all numbers from 1 to 100\n",
    "# Your code here\n",
    "```\n",
    "\n",
    "#### **Exercise 3: Loop Control**\n",
    "```python\n",
    "# Print all odd numbers between 1 and 20, skipping multiples of 5\n",
    "# Your code here\n",
    "```\n",
    "\n",
    "---\n"
   ]
  },
  {
   "cell_type": "markdown",
   "id": "e69d34c2",
   "metadata": {},
   "source": []
  }
 ],
 "metadata": {
  "kernelspec": {
   "display_name": "Python 3",
   "language": "python",
   "name": "python3"
  },
  "language_info": {
   "codemirror_mode": {
    "name": "ipython",
    "version": 3
   },
   "file_extension": ".py",
   "mimetype": "text/x-python",
   "name": "python",
   "nbconvert_exporter": "python",
   "pygments_lexer": "ipython3",
   "version": "3.12.10"
  }
 },
 "nbformat": 4,
 "nbformat_minor": 5
}
