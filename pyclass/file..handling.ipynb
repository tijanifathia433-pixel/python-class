{
 "cells": [
  {
   "cell_type": "markdown",
   "id": "48aa4251",
   "metadata": {},
   "source": [
    "### 📂 Python File Handling\n",
    "\n",
    "File handling is an essential part of programming. Python provides built-in functions to **create, read, update, and delete files**.\n",
    "\n",
    "---"
   ]
  },
  {
   "cell_type": "markdown",
   "id": "bb7d24cd",
   "metadata": {},
   "source": [
    "\n",
    "#### 📝 Opening a File\n",
    "Python uses the `open()` function to open files."
   ]
  },
  {
   "cell_type": "markdown",
   "id": "2be14720",
   "metadata": {},
   "source": [
    "```python\n",
    "file = open(\"filename.txt\", \"mode\")\n",
    "```"
   ]
  },
  {
   "cell_type": "markdown",
   "id": "ceb4d0cc",
   "metadata": {},
   "source": [
    "#### Modes:\n",
    "\n",
    "| Mode  | Description                                                 |\n",
    "| ----- | ----------------------------------------------------------- |\n",
    "| `\"r\"` | Read (default) – opens file for reading, error if not found |\n",
    "| `\"w\"` | Write – creates new file or truncates if exists             |\n",
    "| `\"a\"` | Append – adds data to end of file                           |\n",
    "| `\"x\"` | Create – creates file, error if exists                      |\n",
    "| `\"b\"` | Binary mode (e.g., `\"rb\"`, `\"wb\"`)                          |\n",
    "| `\"t\"` | Text mode (default)                                         |\n",
    "\n",
    "---"
   ]
  },
  {
   "cell_type": "markdown",
   "id": "bf288240",
   "metadata": {},
   "source": [
    "#### 📖 Reading Files"
   ]
  },
  {
   "cell_type": "code",
   "execution_count": 13,
   "id": "6c5fbdfe",
   "metadata": {},
   "outputs": [
    {
     "name": "stdout",
     "output_type": "stream",
     "text": [
      "This the sample data\n",
      "This the second line\n"
     ]
    }
   ],
   "source": [
    "# Open file in read mode\n",
    "f = open(\"files/sample.txt\", \"r\")\n",
    "\n",
    "print(f.read())         # Read entire file\n",
    "# print(f.read(10))       # Read first 10 characters\n",
    "# print(f.readline())     # Read one line\n",
    "# print(f.readlines())    # Read all lines into a list\n",
    "\n",
    "f.close()"
   ]
  },
  {
   "cell_type": "code",
   "execution_count": 14,
   "id": "ed5ebc3d",
   "metadata": {},
   "outputs": [
    {
     "ename": "ValueError",
     "evalue": "I/O operation on closed file.",
     "output_type": "error",
     "traceback": [
      "\u001b[31m---------------------------------------------------------------------------\u001b[39m",
      "\u001b[31mValueError\u001b[39m                                Traceback (most recent call last)",
      "\u001b[36mCell\u001b[39m\u001b[36m \u001b[39m\u001b[32mIn[14]\u001b[39m\u001b[32m, line 1\u001b[39m\n\u001b[32m----> \u001b[39m\u001b[32m1\u001b[39m \u001b[38;5;28mprint\u001b[39m(\u001b[43mf\u001b[49m\u001b[43m.\u001b[49m\u001b[43mread\u001b[49m\u001b[43m(\u001b[49m\u001b[43m)\u001b[49m)\n",
      "\u001b[31mValueError\u001b[39m: I/O operation on closed file."
     ]
    }
   ],
   "source": [
    "print(f.read())"
   ]
  },
  {
   "cell_type": "markdown",
   "id": "c79a577c",
   "metadata": {},
   "source": [
    "⚠️ Always close files after use, or use **`with`** for automatic handling."
   ]
  },
  {
   "cell_type": "code",
   "execution_count": 15,
   "id": "465a911c",
   "metadata": {},
   "outputs": [
    {
     "name": "stdout",
     "output_type": "stream",
     "text": [
      "This the sample data\n",
      "This the second line\n"
     ]
    }
   ],
   "source": [
    "with open(\"files/sample.txt\", \"r\") as f:\n",
    "    content = f.read()\n",
    "    print(content)"
   ]
  },
  {
   "cell_type": "code",
   "execution_count": 16,
   "id": "f2c9450b",
   "metadata": {},
   "outputs": [
    {
     "ename": "ValueError",
     "evalue": "I/O operation on closed file.",
     "output_type": "error",
     "traceback": [
      "\u001b[31m---------------------------------------------------------------------------\u001b[39m",
      "\u001b[31mValueError\u001b[39m                                Traceback (most recent call last)",
      "\u001b[36mCell\u001b[39m\u001b[36m \u001b[39m\u001b[32mIn[16]\u001b[39m\u001b[32m, line 1\u001b[39m\n\u001b[32m----> \u001b[39m\u001b[32m1\u001b[39m \u001b[38;5;28mprint\u001b[39m(\u001b[43mf\u001b[49m\u001b[43m.\u001b[49m\u001b[43mread\u001b[49m\u001b[43m(\u001b[49m\u001b[43m)\u001b[49m)\n",
      "\u001b[31mValueError\u001b[39m: I/O operation on closed file."
     ]
    }
   ],
   "source": [
    "print(f.read())"
   ]
  },
  {
   "cell_type": "markdown",
   "id": "2fa8ceb2",
   "metadata": {},
   "source": [
    "#### ✍ Writing to Files"
   ]
  },
  {
   "cell_type": "code",
   "execution_count": 26,
   "id": "577c1d0d",
   "metadata": {},
   "outputs": [],
   "source": [
    "# Write mode (overwrites file)\n",
    "# with open(\"files/sample.txt\", \"x\") as f:\n",
    "#     f.write(\"Hello, Python!\\n\")\n",
    "\n",
    "# Append mode (adds to file)\n",
    "with open(\"files/sample.txt\", \"a\") as f:\n",
    "    f.write(\"This is appended.\\n\")"
   ]
  },
  {
   "cell_type": "markdown",
   "id": "ecddfef4",
   "metadata": {},
   "source": [
    "#### 📂 Working with Binary Files"
   ]
  },
  {
   "cell_type": "code",
   "execution_count": null,
   "id": "dd40e42a",
   "metadata": {},
   "outputs": [],
   "source": [
    "# Writing binary\n",
    "with open(\"files/image.png\", \"rb\") as f:\n",
    "    data = f.read()\n",
    "\n",
    "with open(\"files/copy.jpg\", \"wb\") as f:\n",
    "    f.write(data)"
   ]
  },
  {
   "cell_type": "markdown",
   "id": "92ec00fa",
   "metadata": {},
   "source": [
    "#### 🧹 Deleting Files"
   ]
  },
  {
   "cell_type": "markdown",
   "id": "30425b38",
   "metadata": {},
   "source": [
    "Use the `os` module:"
   ]
  },
  {
   "cell_type": "code",
   "execution_count": 36,
   "id": "45b6814c",
   "metadata": {},
   "outputs": [
    {
     "data": {
      "text/plain": [
       "'c:\\\\Users\\\\IBRAHEEM\\\\Desktop\\\\python tutorial'"
      ]
     },
     "execution_count": 36,
     "metadata": {},
     "output_type": "execute_result"
    }
   ],
   "source": [
    "%pwd"
   ]
  },
  {
   "cell_type": "code",
   "execution_count": 37,
   "id": "5d32b6f9",
   "metadata": {},
   "outputs": [
    {
     "name": "stdout",
     "output_type": "stream",
     "text": [
      "c:\\Users\\IBRAHEEM\\Desktop\\python tutorial\\files\n"
     ]
    }
   ],
   "source": [
    "%cd files"
   ]
  },
  {
   "cell_type": "code",
   "execution_count": 39,
   "id": "33a0e46d",
   "metadata": {},
   "outputs": [
    {
     "name": "stdout",
     "output_type": "stream",
     "text": [
      "File does not exist\n"
     ]
    }
   ],
   "source": [
    "import os\n",
    "\n",
    "if os.path.exists(\"sample.txt\"):\n",
    "    os.remove(\"sample.txt\")\n",
    "else:\n",
    "    print(\"File does not exist\")"
   ]
  },
  {
   "cell_type": "markdown",
   "id": "c33334fc",
   "metadata": {},
   "source": [
    "#### 🔁 File Pointer Operations"
   ]
  },
  {
   "cell_type": "code",
   "execution_count": 48,
   "id": "81776725",
   "metadata": {},
   "outputs": [
    {
     "name": "stdout",
     "output_type": "stream",
     "text": [
      "4\n",
      "1\n"
     ]
    }
   ],
   "source": [
    "sample = open(\"sample.txt\", \"r\")\n",
    "sample.read(4)\n",
    "print(sample.tell())     # Current position of pointer\n",
    "print(sample.seek(1))  \n",
    "      # Move pointer to beginning\n",
    "f.close()"
   ]
  },
  {
   "cell_type": "markdown",
   "id": "7b8e7f35",
   "metadata": {},
   "source": [
    "#### ✅ Best Practices"
   ]
  },
  {
   "cell_type": "markdown",
   "id": "8facea62",
   "metadata": {},
   "source": [
    "1. Always use `with open(...) as f:` (auto closes file).\n",
    "2. Handle exceptions with `try/except`.\n",
    "3. Use appropriate mode (`r`, `w`, `a`, `b`) depending on use case.\n",
    "4. For large files, read/write in chunks to save memory."
   ]
  },
  {
   "cell_type": "markdown",
   "id": "a698baee",
   "metadata": {},
   "source": [
    "#### 🏋 Exercises\n",
    "\n",
    "1. Create a file and write your name into it.\n",
    "2. Append 3 more lines of text to the file.\n",
    "3. Read the file and print only the first 2 lines.\n",
    "4. Copy the contents of a `.txt` file into another file.\n",
    "5. Write a program to count the number of words in a text file."
   ]
  },
  {
   "cell_type": "markdown",
   "id": "fe447c89",
   "metadata": {},
   "source": [
    "##create a class named Person, use the __init__() method to assign values for name and age:"
   ]
  },
  {
   "cell_type": "code",
   "execution_count": null,
   "id": "1920b30e",
   "metadata": {},
   "outputs": [],
   "source": []
  }
 ],
 "metadata": {
  "kernelspec": {
   "display_name": "env",
   "language": "python",
   "name": "python3"
  },
  "language_info": {
   "codemirror_mode": {
    "name": "ipython",
    "version": 3
   },
   "file_extension": ".py",
   "mimetype": "text/x-python",
   "name": "python",
   "nbconvert_exporter": "python",
   "pygments_lexer": "ipython3",
   "version": "3.12.10"
  }
 },
 "nbformat": 4,
 "nbformat_minor": 5
}
