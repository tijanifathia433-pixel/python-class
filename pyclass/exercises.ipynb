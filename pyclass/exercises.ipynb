{
 "cells": [
  {
   "cell_type": "markdown",
   "id": "7fce36f6",
   "metadata": {},
   "source": [
    "**Exercise:*1*\n",
    "\n",
    "1. Check if `15` is greater than `7`.\n",
    "2. Use `bool()` to check the truthiness of `\"\"` (empty string), `[]` (empty list), and `\"Hello\"`.\n",
    "\n",
    "---\n"
   ]
  },
  {
   "cell_type": "code",
   "execution_count": 17,
   "id": "04667e86",
   "metadata": {},
   "outputs": [
    {
     "name": "stdout",
     "output_type": "stream",
     "text": [
      "True\n",
      "False\n",
      "False\n",
      "True\n"
     ]
    }
   ],
   "source": [
    "B = 15>7\n",
    "print(B)\n",
    "\n",
    "print(bool(\"\"))\n",
    "print(bool([]))\n",
    "print(bool(\"Hello\"))"
   ]
  },
  {
   "cell_type": "markdown",
   "id": "a742ea5c",
   "metadata": {},
   "source": [
    "**Exercise:*2*\n",
    "\n",
    "1. Write an expression to check if `10` is divisible by `2`.\n",
    "2. Test if `\"a\"` is in `\"apple\"`.\n",
    "3. Use `and` to check if `5 < 10` **and** `10 < 20`."
   ]
  },
  {
   "cell_type": "code",
   "execution_count": null,
   "id": "b52b35d5",
   "metadata": {},
   "outputs": [],
   "source": [
    "if 10/2:\n",
    "    print(\"10 is divisible by 2\")\n",
    "else:\n",
    "    print(\"10 is not divisible by 2\")"
   ]
  },
  {
   "cell_type": "code",
   "execution_count": 18,
   "id": "711dd5bc",
   "metadata": {},
   "outputs": [
    {
     "name": "stdout",
     "output_type": "stream",
     "text": [
      "a\n",
      "p\n",
      "p\n",
      "l\n",
      "e\n"
     ]
    }
   ],
   "source": [
    "A = \"apple\"\n",
    "for a in A:\n",
    "    print(a)"
   ]
  },
  {
   "cell_type": "code",
   "execution_count": null,
   "id": "bc8c59b2",
   "metadata": {},
   "outputs": [],
   "source": [
    "if 5 < 10 and 10 < 20:\n",
    "    print(\"5 is < 10 and 10 is < 20\")\n",
    "else:\n",
    "    print(\"5 is not < 10 and 10 is not < 20\")    "
   ]
  },
  {
   "cell_type": "markdown",
   "id": "0983dc7b",
   "metadata": {},
   "source": [
    "**Exercises:*3*\n",
    "\n",
    "1. Create a list of 5 numbers, change the second number, and print the list.\n",
    "2. Add `\"grape\"` to a fruit list.\n",
    "3. Remove the last item from the list.\n",
    "4. Use a loop to print all items.\n",
    "5. Create a new list of even numbers between 1 and 10 using list comprehension."
   ]
  },
  {
   "cell_type": "code",
   "execution_count": null,
   "id": "be269d72",
   "metadata": {},
   "outputs": [],
   "source": [
    "# example for more clearity on list comprehension.\n",
    "lst = []\n",
    "for n in range(1, 10):\n",
    "    if n % 2 != 0:\n",
    "        lst.append(n)\n",
    "\n",
    "print(lst)\n"
   ]
  },
  {
   "cell_type": "code",
   "execution_count": null,
   "id": "deb42b0e",
   "metadata": {},
   "outputs": [],
   "source": [
    "lst = [1, 2, 3, 4, 5,]\n",
    "lst[1] = 6\n",
    "\n",
    "print(lst)"
   ]
  },
  {
   "cell_type": "code",
   "execution_count": null,
   "id": "788a904a",
   "metadata": {},
   "outputs": [],
   "source": [
    "fruits = [\"apple\", \"banna\", \"cherry\"]\n",
    "fruits.append(\"grape\")\n",
    "\n",
    "print(fruits)"
   ]
  },
  {
   "cell_type": "code",
   "execution_count": null,
   "id": "dd00ca68",
   "metadata": {},
   "outputs": [],
   "source": [
    "fruits = [\"apple\", \"banna\", \"cherry\"]\n",
    "fruits.pop()\n",
    "\n",
    "print(fruits)"
   ]
  },
  {
   "cell_type": "code",
   "execution_count": null,
   "id": "74df9fbd",
   "metadata": {},
   "outputs": [],
   "source": [
    "fruits = [\"apple\", \"banna\", \"cherry\"]\n",
    "for fruit in fruits:\n",
    " \n",
    "\n",
    "   print(fruit)"
   ]
  },
  {
   "cell_type": "code",
   "execution_count": null,
   "id": "152dae10",
   "metadata": {},
   "outputs": [],
   "source": [
    "lst = []\n",
    "for n in range(1, 11):\n",
    "    if n % 2 == 0:\n",
    "        lst.append(n)\n",
    "\n",
    "print(lst)        "
   ]
  },
  {
   "cell_type": "markdown",
   "id": "3a051d38",
   "metadata": {},
   "source": [
    "**Exercises:*4*\n",
    "\n",
    "1. Create a tuple of 4 cities and print the second one.\n",
    "2. Unpack a tuple into 3 variables.\n",
    "3. Join two tuples and print the result."
   ]
  },
  {
   "cell_type": "code",
   "execution_count": null,
   "id": "e172dc2a",
   "metadata": {},
   "outputs": [],
   "source": [
    "tpl = (\"abuja\", \"lagos\", \"ilorin\", \"kano\")\n",
    "\n",
    "print(tpl[1])"
   ]
  },
  {
   "cell_type": "code",
   "execution_count": null,
   "id": "92021012",
   "metadata": {},
   "outputs": [],
   "source": [
    "tp = \"my name is fathia, i have and favour some fod!\"\n",
    "\n",
    "tp.count(\"a\")\n",
    "\n",
    "print()"
   ]
  },
  {
   "cell_type": "code",
   "execution_count": null,
   "id": "5e1a3ebb",
   "metadata": {},
   "outputs": [],
   "source": [
    "# for more clearity on tuple \n",
    "tpl = (\"abuja\", \"lagos\", \"ilorin\", \"kano\")\n",
    "lst = list(tpl)\n",
    "lst.remove(\"kano\")\n",
    "new_tpl = tuple(lst)\n",
    "\n",
    "print(new_tpl)\n"
   ]
  },
  {
   "cell_type": "code",
   "execution_count": null,
   "id": "cac7c184",
   "metadata": {},
   "outputs": [],
   "source": [
    "tpl = (\"abuja\", \"lagos\", \"ilorin\", \"kano\")\n",
    "\n",
    "lst = list(tpl)\n",
    "\n",
    "lst.pop()\n",
    "\n",
    "tpl1 = tuple(lst)\n",
    "\n",
    "print(tpl1)"
   ]
  },
  {
   "cell_type": "code",
   "execution_count": null,
   "id": "a3afd57f",
   "metadata": {},
   "outputs": [],
   "source": [
    "tpl1 = (\"you\", \"me\",\"if\")\n",
    "tpl2 = (\"abuja\", \"lagos\", \"ilorin\")\n",
    "tpl3 = (tpl1 + tpl2)\n",
    "\n",
    "print(tpl3)"
   ]
  },
  {
   "cell_type": "markdown",
   "id": "b3fd47bc",
   "metadata": {},
   "source": [
    "**Exercises:*5*\n",
    "\n",
    "1. Create a set of 3 colors and add one more.\n"
   ]
  },
  {
   "cell_type": "code",
   "execution_count": null,
   "id": "7e9450b5",
   "metadata": {},
   "outputs": [],
   "source": [
    "color = {\"yellow\", \"blue\", \"brown\"}\n",
    "\n",
    "color.add(\"green\")\n",
    "\n",
    "print(color)"
   ]
  },
  {
   "cell_type": "markdown",
   "id": "5beb28ef",
   "metadata": {},
   "source": [
    "2. Remove an item from the set.\n"
   ]
  },
  {
   "cell_type": "code",
   "execution_count": null,
   "id": "cba36888",
   "metadata": {},
   "outputs": [],
   "source": [
    "color = {\"yellow\", \"blue\", \"brown\"}\n",
    "color.remove(\"yellow\")\n",
    "\n",
    "print(color)"
   ]
  },
  {
   "cell_type": "markdown",
   "id": "d29c9a48",
   "metadata": {},
   "source": [
    "3. Find the union and intersection of `{1,2,3}` and `{2,3,4}`."
   ]
  },
  {
   "cell_type": "code",
   "execution_count": null,
   "id": "d27456df",
   "metadata": {},
   "outputs": [],
   "source": [
    "a = {1, 2, 3}\n",
    "b = {2, 3, 4}\n",
    "\n",
    "print(a.union(b))\n",
    "print(a.intersection(b))"
   ]
  },
  {
   "cell_type": "markdown",
   "id": "1a401592",
   "metadata": {},
   "source": [
    "**Exercises:*6*\n",
    "\n",
    "1. Create a dictionary with keys: `\"name\"`, `\"age\"`, `\"city\"`.\n"
   ]
  },
  {
   "cell_type": "code",
   "execution_count": null,
   "id": "b04e564c",
   "metadata": {},
   "outputs": [],
   "source": [
    "hire = {\"name\": \"fathia\", \"age\": 35, \"city\": \"abuja\" }\n",
    "\n",
    "print(hire)"
   ]
  },
  {
   "cell_type": "markdown",
   "id": "bda35829",
   "metadata": {},
   "source": [
    "2. Update the `\"city\"` value.\n"
   ]
  },
  {
   "cell_type": "code",
   "execution_count": null,
   "id": "eb9bb4fa",
   "metadata": {},
   "outputs": [],
   "source": [
    "hire[\"city\"] = \"london\"\n",
    "\n",
    "print(hire)"
   ]
  },
  {
   "cell_type": "markdown",
   "id": "6801734a",
   "metadata": {},
   "source": [
    "3. Add a new key `\"grade\"`.\n"
   ]
  },
  {
   "cell_type": "code",
   "execution_count": null,
   "id": "2970cb61",
   "metadata": {},
   "outputs": [],
   "source": [
    "hire[\"grade\"] = 100\n",
    "\n",
    "print(hire)"
   ]
  },
  {
   "cell_type": "markdown",
   "id": "fab1eb0d",
   "metadata": {},
   "source": [
    "4. Loop and print all keys and values."
   ]
  },
  {
   "cell_type": "code",
   "execution_count": null,
   "id": "80881207",
   "metadata": {},
   "outputs": [],
   "source": [
    "for key, value in hire.items():\n",
    "\n",
    "    # print(key, \":\", value)\n",
    "    print(f\"{key} : {value}\")"
   ]
  },
  {
   "cell_type": "markdown",
   "id": "c9447551",
   "metadata": {},
   "source": [
    "### **4. Exercises**\n",
    "#### **Exercise 1: `if...else` Practice**\n",
    "```python\n",
    "# Check if a number is positive, negative, or zero\n",
    "num = float(input(\"Enter a number: \"))\n",
    "# Your code here"
   ]
  },
  {
   "cell_type": "code",
   "execution_count": null,
   "id": "2888bfff",
   "metadata": {},
   "outputs": [],
   "source": [
    "num = float(input(\"Enter a number:\"))\n",
    "if num > 0:\n",
    "    print(\"positive\")\n",
    "elif num < 0:\n",
    "    print(\"negative\")\n",
    "else:\n",
    "    print(\"zero\")      "
   ]
  },
  {
   "cell_type": "markdown",
   "id": "1c8a3fca",
   "metadata": {},
   "source": [
    "#### **Exercise 2: `match` Practice**\n",
    "```python\n",
    "# Classify an HTTP status code:\n",
    "# - 200: \"OK\"\n",
    "# - 301: \"Moved Permanently\"\n",
    "# - 404: \"Not Found\"\n",
    "# - 500: \"Server Error\"\n",
    "# - Others: \"Unknown Status\"\n",
    "status = int(input(\"Enter HTTP status: \"))\n",
    "# Your code here"
   ]
  },
  {
   "cell_type": "code",
   "execution_count": null,
   "id": "9a30e0f2",
   "metadata": {},
   "outputs": [],
   "source": [
    "status = int(input(\"Enter HTTP status: \"))\n",
    "match status:\n",
    "    case 200 | 201:\n",
    "        print(\"Ok\")\n",
    "    case 301:\n",
    "        print(\"Moved Permanently\")\n",
    "    case 404:\n",
    "        print(\"Not Found\")\n",
    "    case 500:\n",
    "        print(\"Server Error\")\n",
    "    case _:\n",
    "        print(\"Unknown Status\")            "
   ]
  },
  {
   "cell_type": "code",
   "execution_count": null,
   "id": "8abb7bb6",
   "metadata": {},
   "outputs": [],
   "source": [
    "# General example exercise\n",
    "RT = input(\"Enter Rice_type\").lower()\n",
    "Jf = 1800\n",
    "Fr = 1400\n",
    "Extra = 2500\n",
    "total = 0\n",
    "\n",
    "if Jf == \"jollofrice\" :\n",
    "    print(you)"
   ]
  },
  {
   "cell_type": "markdown",
   "id": "791aa7b8",
   "metadata": {},
   "source": [
    "#### **Exercise 1: `while` Loop**\n",
    "```python\n",
    "# Print numbers from 1 to 10 using a while loop\n",
    "# Your code here "
   ]
  },
  {
   "cell_type": "code",
   "execution_count": null,
   "id": "ecc98722",
   "metadata": {},
   "outputs": [],
   "source": [
    "num = 1\n",
    "\n",
    "while num < 11:\n",
    "    print(num)\n",
    "\n",
    "    num += 1"
   ]
  },
  {
   "cell_type": "markdown",
   "id": "533d72d7",
   "metadata": {},
   "source": [
    "#### **Exercise 2: `for` Loop**\n",
    "```python\n",
    "# Calculate the sum of all numbers from 1 to 100\n",
    "# Your code here"
   ]
  },
  {
   "cell_type": "code",
   "execution_count": null,
   "id": "d1e562d5",
   "metadata": {},
   "outputs": [],
   "source": [
    "num = 0 \n",
    "for o in range(1, 100):\n",
    "    num += o\n",
    "print(num)    "
   ]
  },
  {
   "cell_type": "code",
   "execution_count": null,
   "id": "d0e56759",
   "metadata": {},
   "outputs": [],
   "source": [
    "num = 0\n",
    "for i in range(1, 100):\n",
    "    num += i\n",
    "print(num)\n",
    "print(\"total is completed\")    "
   ]
  },
  {
   "cell_type": "markdown",
   "id": "25065b42",
   "metadata": {},
   "source": [
    "#### **Exercise 3: Loop Control**\n",
    "```python\n",
    "# Print all odd numbers between 1 and 20, skipping multiples of 5\n",
    "# Your code here"
   ]
  },
  {
   "cell_type": "code",
   "execution_count": null,
   "id": "cb269e80",
   "metadata": {},
   "outputs": [],
   "source": [
    "num = 1\n",
    "while num <20:\n",
    "    num += 1\n",
    "    if num % 2 == 0:\n",
    "        continue\n",
    "    if num % 5 == 0:\n",
    "        continue\n",
    "    print(num)    "
   ]
  },
  {
   "cell_type": "markdown",
   "id": "445d084f",
   "metadata": {},
   "source": [
    "##### **Exercise 1: Function Basics**\n",
    "```python\n",
    "# Write a function that takes a name and returns a greeting message\n",
    "# Example: greet(\"Alice\") → \"Hello, Alice!\""
   ]
  },
  {
   "cell_type": "code",
   "execution_count": null,
   "id": "bf8b2ab9",
   "metadata": {},
   "outputs": [],
   "source": [
    "name = input(\"Enter your name\")\n",
    "def greet(t):\n",
    "    return (f\"Hello, {t}!\")\n",
    "\n",
    "result = greet(name)\n",
    "print(result)\n"
   ]
  },
  {
   "cell_type": "markdown",
   "id": "f5fa1aa9",
   "metadata": {},
   "source": [
    "##### **Exercise 2: Lambda Practice**\n",
    "```python\n",
    "# Convert this function to a lambda:\n",
    "def multiply(a, b):\n",
    "    return a * b"
   ]
  },
  {
   "cell_type": "code",
   "execution_count": null,
   "id": "fed8f69a",
   "metadata": {},
   "outputs": [],
   "source": [
    "multiply = lambda a, b: a*b\n",
    "\n",
    "print(multiply(50, 120))"
   ]
  },
  {
   "cell_type": "markdown",
   "id": "140424ad",
   "metadata": {},
   "source": [
    "\n",
    "##### **Exercise 3: Higher-Order Functions**\n",
    "```python\n",
    "# Use `filter()` and a lambda to extract odd numbers from a list\n",
    "numbers = [1, 2, 3, 4, 5, 6]"
   ]
  },
  {
   "cell_type": "code",
   "execution_count": null,
   "id": "8e367605",
   "metadata": {},
   "outputs": [],
   "source": [
    "numbers = (1, 2, 3, 4, 5, 6)\n",
    "\n",
    "odd = tuple(filter(lambda x: x % 2 == 1, numbers))   #why numbers is called argument and the position \n",
    "\n",
    "print(odd)"
   ]
  },
  {
   "cell_type": "markdown",
   "id": "e97c8877",
   "metadata": {},
   "source": [
    "#### **Exercise 4: Advanced Function**\n",
    "```python\n",
    "# Write a function that accepts variable arguments and returns their average\n",
    "# Example: average(1, 2, 3) → 2.0"
   ]
  },
  {
   "cell_type": "code",
   "execution_count": null,
   "id": "92210ac3",
   "metadata": {},
   "outputs": [],
   "source": [
    "def avg(*args):\n",
    "    size = len(args)\n",
    "    average = sum(args)/size\n",
    "    return average\n",
    "\n",
    "print(avg(2,3,4,5,6,7,7,7,7))"
   ]
  },
  {
   "cell_type": "markdown",
   "id": "edbdc9d2",
   "metadata": {},
   "source": [
    "Python Challenge\n",
    "Your task is to write a Python program that will:\n",
    "\n",
    " Take three inputs: l, h, and L: The length of the telephone box shadow (l), the height of the telephone box (h) and the length of the shadow of the Elizabeth Tower (L)\n",
    " Use the three input values to work out the height of the Elizabeth Tower (H)\n",
    " Output the estimated height of the Elizabeth Tower to one decimal place."
   ]
  },
  {
   "cell_type": "code",
   "execution_count": null,
   "id": "5aa8ca45",
   "metadata": {},
   "outputs": [],
   "source": [
    "l = float(input(\"The length of the telephone box shadow\"))\n",
    "h = float(input(\"The height of the telephone box\"))\n",
    "L = float(input(\"The length of the shadow of the Elizabeth Tower\"))\n",
    "\n",
    "H = (h*L)/l \n",
    "\n",
    "print(f\"{H:.2f}\")"
   ]
  },
  {
   "cell_type": "markdown",
   "id": "f7869727",
   "metadata": {},
   "source": [
    "Exercise:!!\n",
    "\n",
    "Create a code and name it LOVER'S CALCULATOR, collect two input from user as (person's name & lover's name) \n",
    "calculate the length of their name, and now check if the length of the person's name is greater than the lover's name if so they're not compatible but if the length of the lover's name is greater than the person's name they're compatible."
   ]
  },
  {
   "cell_type": "code",
   "execution_count": null,
   "id": "947f1158",
   "metadata": {},
   "outputs": [],
   "source": [
    "\n",
    "\n",
    "def love_calculator():\n",
    "    pn = input(\"Enter your name\")\n",
    "    ln = input(\"Enter your lover name\")\n",
    "    # print(pn)\n",
    "    # print(ln)\n",
    "\n",
    "    if not pn:\n",
    "        return print(\"Your name is required!\")\n",
    "    \n",
    "    elif not ln:\n",
    "        return print(\"Your lover's name is required!\")\n",
    "    \n",
    "    elif not pn.isalpha() or not ln.isalpha():\n",
    "        return print(\"Only name accepted!\")\n",
    "\n",
    "    elif len(pn) > len(ln) :\n",
    "        print(\"Lover's are not compatible\")\n",
    "    else:\n",
    "        print(\"Lover's are compatible\")\n",
    "\n",
    "love_calculator()"
   ]
  },
  {
   "cell_type": "markdown",
   "id": "47d78d19",
   "metadata": {},
   "source": [
    "Exercise \n",
    "\n",
    "Write a function to calculate Area and Perimeter of a circle, using math module for #pi value. \n",
    "and collect input from user "
   ]
  },
  {
   "cell_type": "code",
   "execution_count": null,
   "id": "10a4fe4f",
   "metadata": {},
   "outputs": [],
   "source": [
    "import math\n",
    "\n",
    "def circle_info():\n",
    "    Radius = int(input(\"Enter your radius\"))\n",
    "    \n",
    "    Area = math.pi*math.pow(Radius, 2)\n",
    "    perimeter = 2*math.pi*Radius\n",
    "    Diameter = 2*Radius\n",
    "    \n",
    "  \n",
    "    \n",
    "    # print(Radius)\n",
    "    print(f\"Area of the circle is: {Area:.2f}\")\n",
    "    print(f\"Perimeter of the cirle is: {perimeter:.2f}\")\n",
    "    print(f\"Diameter of the cirle is: {Diameter:.2f}\")\n",
    "\n",
    "circle_info()    "
   ]
  },
  {
   "cell_type": "markdown",
   "id": "b418bf48",
   "metadata": {},
   "source": [
    "#### **3. Practice Exercises**\n",
    "\n",
    "1. Use `math.sqrt()` to calculate the square root of 144.\n",
    "2. Find the ceiling and floor of `7.3`.\n",
    "3. Convert 180 degrees to radians."
   ]
  },
  {
   "cell_type": "code",
   "execution_count": null,
   "id": "acbc5378",
   "metadata": {},
   "outputs": [],
   "source": [
    "print(math.sqrt(144))"
   ]
  },
  {
   "cell_type": "code",
   "execution_count": null,
   "id": "5e8a6057",
   "metadata": {},
   "outputs": [],
   "source": [
    "print(math.ceil(7.3))\n",
    "print(math.floor(7.3))"
   ]
  },
  {
   "cell_type": "code",
   "execution_count": null,
   "id": "b764dfc5",
   "metadata": {},
   "outputs": [],
   "source": [
    "print(math.radians(180))\n",
    "print(f\"{math.radians(180):.2f}\")"
   ]
  },
  {
   "cell_type": "markdown",
   "id": "18e6e2af",
   "metadata": {},
   "source": [
    "##### **Intermediate Level**\n",
    "\n",
    "4. Compute the factorial of 7.\n",
    "5. Find the greatest common divisor (GCD) of 54 and 24.\n",
    "6. Calculate `log10(1000)` using the math module.\n",
    "7. Calculate the sine of 30 degrees."
   ]
  },
  {
   "cell_type": "code",
   "execution_count": null,
   "id": "9d184e4a",
   "metadata": {},
   "outputs": [],
   "source": [
    "print(math.factorial(7))\n",
    "print(math.gcd(54, 24))\n",
    "print(math.log10(100))\n",
    "print(f\"{math.sin(30):.2f}\")"
   ]
  },
  {
   "cell_type": "markdown",
   "id": "03396845",
   "metadata": {},
   "source": [
    "##### **Advanced Level**\n",
    "\n",
    "8. Compute the number of ways to choose 4 students out of 10 (combinations).\n",
    "9. Calculate the least common multiple (LCM) of 15 and 20.\n",
    "10. Write a function that takes a list of numbers and returns a new list of their square roots using `math.sqrt()`."
   ]
  },
  {
   "cell_type": "code",
   "execution_count": null,
   "id": "4b747374",
   "metadata": {},
   "outputs": [],
   "source": [
    "print(math.comb(10, 4))\n",
    "print(math.lcm(15, 20))"
   ]
  },
  {
   "cell_type": "code",
   "execution_count": null,
   "id": "bd32645d",
   "metadata": {},
   "outputs": [],
   "source": [
    "import math \n",
    "\n",
    "lst = [1, 2, 3, 4, 5, 6]\n",
    "\n",
    "def lst_number(lst):\n",
    "    new_lst = []\n",
    "    for i in lst:\n",
    "        new_lst.append(round(math.sqrt(i),2))\n",
    "    return new_lst\n",
    "\n",
    "print(lst_number(lst))    "
   ]
  },
  {
   "cell_type": "markdown",
   "id": "15bf2ccc",
   "metadata": {},
   "source": [
    "#### **Beginner:**\n",
    "\n",
    "1. Calculate the mean, median, and mode for `[5, 10, 15, 20, 25]`.\n",
    "2. Find the harmonic mean of `[10, 20, 40]`."
   ]
  },
  {
   "cell_type": "code",
   "execution_count": null,
   "id": "41a5b9da",
   "metadata": {},
   "outputs": [],
   "source": [
    "import statistics as stats\n",
    "\n",
    "nums = [5, 10, 15, 20, 25]\n",
    "print(stats.mean(nums))\n",
    "print(stats.median(nums))\n",
    "print(stats.mode(nums))"
   ]
  },
  {
   "cell_type": "code",
   "execution_count": null,
   "id": "43467190",
   "metadata": {},
   "outputs": [],
   "source": [
    "num = [10, 20, 40]\n",
    "\n",
    "print(round(stats.harmonic_mean(num), 2))"
   ]
  },
  {
   "cell_type": "markdown",
   "id": "a19b4f50",
   "metadata": {},
   "source": [
    "##### **Intermediate:**\n",
    "\n",
    "3. Calculate the variance and standard deviation for `[2, 4, 4, 4, 5, 5, 7, 9]`.\n",
    "4. For `[1, 1, 2, 2, 3]`, find all the modes using `multimode()`."
   ]
  },
  {
   "cell_type": "code",
   "execution_count": null,
   "id": "3b46d8f3",
   "metadata": {},
   "outputs": [],
   "source": [
    "x = [2, 4, 4, 4, 5, 5, 7, 9]\n",
    "\n",
    "print(round(stats.variance(x), 2))\n",
    "print(round(stats.stdev(x), 2))"
   ]
  },
  {
   "cell_type": "code",
   "execution_count": null,
   "id": "ba202a0f",
   "metadata": {},
   "outputs": [],
   "source": [
    "y = [1, 1, 2, 2, 3]\n",
    "\n",
    "print(stats.multimode(y))"
   ]
  },
  {
   "cell_type": "markdown",
   "id": "67665350",
   "metadata": {},
   "source": [
    "##### **Advanced:**\n",
    "\n",
    "5. Write a function that accepts a list of numbers and returns a dictionary with **mean, median, variance, and standard deviation**.\n",
    "6. Given the dataset `[10, 12, 23, 23, 16, 23, 21, 16]`, find the **population variance and population standard deviation**."
   ]
  },
  {
   "cell_type": "code",
   "execution_count": null,
   "id": "4aba8524",
   "metadata": {},
   "outputs": [],
   "source": [
    "num = [2, 10, 15, 5, 23]\n",
    "\n",
    "def dict_numbers(num):\n",
    "    new_dict = {}\n",
    "    new_dict[\"mean\"] = stats.mean(num)\n",
    "    new_dict[\"median\"] = stats.median(num)\n",
    "    new_dict[\"variance\"] = stats.variance(num)\n",
    "    new_dict[\"standard deviation\"] = round(stats.stdev(num), 2)\n",
    "\n",
    "    return new_dict\n",
    "\n",
    "print(dict_numbers(num))    "
   ]
  },
  {
   "cell_type": "code",
   "execution_count": null,
   "id": "4306d478",
   "metadata": {},
   "outputs": [],
   "source": [
    "data = [10, 12, 23, 23, 16, 23, 21, 16]\n",
    "\n",
    "print(stats.pvariance(data))\n",
    "print(round(stats.pstdev(data), 2))"
   ]
  },
  {
   "cell_type": "markdown",
   "id": "4d1c5e3c",
   "metadata": {},
   "source": [
    "## **7. Exercises**\n",
    "### **Exercise 1: Basic Class**\n",
    "```python\n",
    "# Create a `Car` class with attributes `brand` and `model`\n",
    "# Add a method `display_info()` that prints \"Brand: X, Model: Y\""
   ]
  },
  {
   "cell_type": "code",
   "execution_count": null,
   "id": "a04d8b24",
   "metadata": {},
   "outputs": [],
   "source": [
    "class Car:\n",
    "    def __init__(self, Brand, Model):\n",
    "        self.brand = Brand\n",
    "        self.Model = Model\n",
    "\n",
    "    def display_info(self):\n",
    "        print(\"Brand:\",self.brand, \", \" \"Model:\",self.Model)\n",
    "\n",
    "my_car = Car(\"Tesla\", \"Model 3\")    \n",
    "\n",
    "my_car.display_info()"
   ]
  },
  {
   "cell_type": "markdown",
   "id": "c999126b",
   "metadata": {},
   "source": [
    "### **Exercise 2: Inheritance**\n",
    "```python\n",
    "# Create a `ElectricCar` class that inherits from `Car`\n",
    "# Add a `battery_size` attribute and override `display_info()`"
   ]
  },
  {
   "cell_type": "code",
   "execution_count": null,
   "id": "272ef38e",
   "metadata": {},
   "outputs": [],
   "source": [
    "class ElectricCar(Car):\n",
    "    def __init__(self, Brand, Model, Battery_size):\n",
    "        super().__init__(Brand, Model)\n",
    "        self.battery = Battery_size\n",
    "    \n",
    "    def display_info(self):  \n",
    "        print(\"Brand:\",self.brand, \", \" \"Model:\",self.Model, \", \" \"Battery size:\",self.battery )\n",
    "\n",
    "electric_car = ElectricCar(\"Tesla\", \"Model 3\", \"450V\") \n",
    "\n",
    "electric_car.display_info()"
   ]
  },
  {
   "cell_type": "markdown",
   "id": "b0163448",
   "metadata": {},
   "source": [
    "### **Exercise 3: Encapsulation**\n",
    "```python\n",
    "# Modify `Car` to make `brand` private property"
   ]
  },
  {
   "cell_type": "code",
   "execution_count": null,
   "id": "bdc80a71",
   "metadata": {},
   "outputs": [],
   "source": [
    "class Car:\n",
    "    def __init__(self, Brand, Model):\n",
    "        self.__brand = Brand\n",
    "        self.Model = Model\n",
    "\n",
    "my_car = Car(\"Tesla\", \"Model 3\")    \n",
    "my_car.__brand\n",
    "# my_car.Model\n",
    "\n",
    "        "
   ]
  },
  {
   "cell_type": "markdown",
   "id": "fccffeef",
   "metadata": {},
   "source": [
    "### **Exercise 4: Polymorphism**\n",
    "```python\n",
    "# Create a `Vehicle` class with a `move()` method\n",
    "# Create subclasses `Car` and `Boat` with their own `move()` implementations"
   ]
  },
  {
   "cell_type": "code",
   "execution_count": null,
   "id": "78d192aa",
   "metadata": {},
   "outputs": [],
   "source": [
    "class Vehicle:\n",
    "    def move(self):\n",
    "        print(\"This is the Vehicle class\")\n",
    "\n",
    "class Car(Vehicle):\n",
    "    def move(self):\n",
    "        print(\"Driving!\")\n",
    "\n",
    "class Boat(Vehicle):\n",
    "    def move(self):\n",
    "        print(\"Sail\")\n",
    "\n",
    "def sayTask(obj):\n",
    "    return obj.move()\n",
    "\n",
    "\n",
    "obj1 = Vehicle()\n",
    "obj2 = Car()\n",
    "\n",
    "\n",
    "sayTask(obj1)\n",
    "sayTask(obj2)\n"
   ]
  },
  {
   "cell_type": "code",
   "execution_count": null,
   "id": "0a1a2883",
   "metadata": {},
   "outputs": [],
   "source": [
    "name = input(\"Enter your name\")\n",
    "nickname = input(\"Enter your nickname\")\n",
    "\n",
    "class Brand_generator:\n",
    "\n",
    "    def __init__(self, Name, Nickname):\n",
    "        \n",
    "        self.name = Name\n",
    "        self.nickname = Nickname\n",
    "      \n",
    "    def user_name(self):\n",
    "        a = self.name[:3]\n",
    "        return a\n",
    "       \n",
    "    def user_nickname(self):\n",
    "        b = self.nickname[-3:]\n",
    "        return b\n",
    "\n",
    "    def Brand_Name(self, a, b):\n",
    "        return a+b\n",
    "\n",
    "\n",
    "bg_name = Brand_generator(name, nickname)\n",
    "username = bg_name.user_name()\n",
    "user_nickname = bg_name.user_nickname()\n",
    "\n",
    "brand_name = bg_name.Brand_Name(username, user_nickname)\n",
    "\n",
    "print(brand_name.upper())\n",
    "\n",
    "Result= f\"\"\"\n",
    "\n",
    "++++++++++++++++++++++++++++++++++\n",
    "+                                +\n",
    "         WELCOME TO {brand_name.upper()}    \n",
    "+                                +\n",
    "++++++++++++++++++++++++++++++++++\n",
    "\n",
    "\"\"\"\n",
    "\n",
    "print(Result)"
   ]
  },
  {
   "cell_type": "code",
   "execution_count": null,
   "id": "e1467d89",
   "metadata": {},
   "outputs": [],
   "source": [
    "# y = True\n",
    "# while y == True:\n",
    "#   x = input(\"Enter a number:\")\n",
    "#   try:\n",
    "#     x = float(x)\n",
    "#     y = False\n",
    "#   except:\n",
    "#     print(\"Wrong input, please try again.\")\n",
    "\n",
    "# print(\"Thank you!\")   "
   ]
  },
  {
   "cell_type": "code",
   "execution_count": null,
   "id": "105527f0",
   "metadata": {},
   "outputs": [],
   "source": [
    "y = \"password\"\n",
    "while y == \"password\":\n",
    "  x = input(\"Enter a password\")\n",
    "  try:\n",
    "    x = float(x)\n",
    "    y = \"wrong\"\n",
    "  except:\n",
    "    print(\"Wrong input, please try again.\")\n",
    "\n",
    "print(\"please!\") "
   ]
  },
  {
   "cell_type": "code",
   "execution_count": null,
   "id": "644cdbc7",
   "metadata": {},
   "outputs": [],
   "source": [
    "f = open(\"books/demofile.txt\")\n",
    "print(f.read())\n",
    "\n",
    "# f = open(\"demofile.txt\")\n",
    "# print(f.read())"
   ]
  },
  {
   "cell_type": "code",
   "execution_count": null,
   "id": "5b4bed3a",
   "metadata": {},
   "outputs": [],
   "source": [
    "with open(\"books/demofile.txt\") as bk:\n",
    "    print(bk.read())"
   ]
  },
  {
   "cell_type": "code",
   "execution_count": null,
   "id": "5ec2e48d",
   "metadata": {},
   "outputs": [],
   "source": [
    "with open(\"books/simple.yuy\")  as bs:\n",
    "    print(bs.read())"
   ]
  },
  {
   "cell_type": "code",
   "execution_count": null,
   "id": "08eed926",
   "metadata": {},
   "outputs": [],
   "source": [
    "f = open(\"books/demofile.txt\")\n",
    "print(f.read(150))\n",
    "f.close()"
   ]
  },
  {
   "cell_type": "code",
   "execution_count": null,
   "id": "3364ada7",
   "metadata": {},
   "outputs": [],
   "source": [
    "f = open(\"books/demofile.txt\")\n",
    "print(f.read(100))"
   ]
  },
  {
   "cell_type": "markdown",
   "id": "0b3b93ec",
   "metadata": {},
   "source": [
    "#### 🏋 Exercises\n",
    "\n",
    "1. Create a file and write your name into it.\n",
    "2. Append 3 more lines of text to the file.\n",
    "3. Read the file and print only the first 2 lines.\n",
    "\n"
   ]
  },
  {
   "cell_type": "code",
   "execution_count": null,
   "id": "70b0581d",
   "metadata": {},
   "outputs": [],
   "source": [
    "with open(\"books/simple.yuy\", \"w\") as bs:\n",
    "    bs.write(\"My name if Fathyy\\n\")\n",
    "with open(\"books/simple.yuy\", \"a\") as bs:\n",
    "    bs.write(\"Timberland is my favourite shoe\\n\")\n",
    "    bs.write(\"I like eating delicious meal\\n\")\n",
    "    bs.write(\"Money is always essencial\")\n",
    "\n",
    "bs = open(\"books/simple.yuy\", \"r\")\n",
    "for i in bs:\n",
    "    print(i)\n",
    "# print(bs.readline())\n",
    "# print(bs.readline())\n",
    "# print(bs.read())"
   ]
  },
  {
   "cell_type": "markdown",
   "id": "2096a15a",
   "metadata": {},
   "source": [
    "4. Copy the contents of a `.txt` file into another file. 😂😂😂"
   ]
  },
  {
   "cell_type": "code",
   "execution_count": null,
   "id": "fe540532",
   "metadata": {},
   "outputs": [],
   "source": [
    "with open(\"books/simple.yuy\", \"r\") as sy:\n",
    "    simple = sy.read()\n",
    "\n",
    "with open(\"books/demofile.txt\", \"a\") as sy:\n",
    "    sy.write(simple)\n"
   ]
  },
  {
   "cell_type": "markdown",
   "id": "8a0fe23a",
   "metadata": {},
   "source": [
    "5. Write a program to count the number of words in a text file."
   ]
  },
  {
   "cell_type": "code",
   "execution_count": null,
   "id": "2fd1937a",
   "metadata": {},
   "outputs": [],
   "source": [
    "with open(\"books/demofile.txt\") as bs:\n",
    "    demo = len(bs.read().split(\" \"))\n",
    "    print(f\"The total number of words in this file is {demo} \")\n",
    "\n"
   ]
  },
  {
   "cell_type": "markdown",
   "id": "21abc58c",
   "metadata": {},
   "source": [
    "### create a class with an __init__ function that will accept 4 input, the create 2 new method; 1 is for write into file while the 2 will be read from the file."
   ]
  },
  {
   "cell_type": "code",
   "execution_count": 5,
   "id": "6575191f",
   "metadata": {},
   "outputs": [
    {
     "name": "stdout",
     "output_type": "stream",
     "text": [
      "C:\\Users\\USER\n"
     ]
    }
   ],
   "source": [
    "%pwd            #present working directorate\n",
    "\n",
    "%cd "
   ]
  },
  {
   "cell_type": "code",
   "execution_count": 19,
   "id": "110fe062",
   "metadata": {},
   "outputs": [],
   "source": [
    "with open(\"c:/Users/USER/Desktop/python/my_file.txt\", \"w\") as my:\n",
    "    my.write(\"Now the file is empyth \\n\")"
   ]
  },
  {
   "cell_type": "code",
   "execution_count": 20,
   "id": "639b4cad",
   "metadata": {},
   "outputs": [
    {
     "name": "stdout",
     "output_type": "stream",
     "text": [
      "Now the file is empyth \n",
      "\n"
     ]
    }
   ],
   "source": [
    "with open(\"c:/Users/USER/Desktop/python/my_file.txt\", \"r\") as my:\n",
    "    print(my.read())"
   ]
  },
  {
   "cell_type": "code",
   "execution_count": 2,
   "id": "0d16177d",
   "metadata": {},
   "outputs": [
    {
     "name": "stdout",
     "output_type": "stream",
     "text": [
      "Data saved successfully😇\n",
      "Now the file is empyth \n",
      "\"Name\":\"Fathia\", \"Gender\":\"Female\", \"Age\":\"50\", \"Complexion\":\"Caramel\" \n",
      "Name:Fathia, Gender:Female, Age:50, Complexion:Caramel \n",
      "Name:f\\thhj, Gender:xnmhj, Age:6, Complexion:dxnb \n",
      "\"Name\":Yusuf, Gender:Male, Age:13, Complexion:Dark \n",
      "\n"
     ]
    }
   ],
   "source": [
    "name = input(\"Enter your name\")\n",
    "gender = input(\"Enter your gender\")\n",
    "age = input(\"Enter your age\")\n",
    "complex = input(\"Enter your complexion\")\n",
    "\n",
    "import os\n",
    "class Person:\n",
    "    def __init__(self, Name, Gender, Age, Complexion):\n",
    "        self.name = Name\n",
    "        self.gender = Gender\n",
    "        self.age = Age\n",
    "        self.complex = Complexion\n",
    "        \n",
    "\n",
    "    def write_file(self):\n",
    "        if os.path.exists(\"c:/Users/USER/Desktop/python/my_file.txt\"):\n",
    "            with open(\"c:/Users/USER/Desktop/python/my_file.txt\", \"a\") as my:\n",
    "                my.write(f'\"Name\":{self.name}, Gender:{self.gender}, Age:{age}, Complexion:{self.complex} \\n')\n",
    "                print(\"Data saved successfully😇\")\n",
    "        else:\n",
    "            with open(\"c:/Users/USER/Desktop/python/my_file.txt\", \"w\") as my:\n",
    "                my.write(f'Name:{self.name}, Gender:{self.gender}, Age:{age}, Complexion: {self.complex} \\n')\n",
    "                print(\"Data saved successfully😇\")       \n",
    "    def read_file(self):\n",
    "        with open(\"c:/Users/USER/Desktop/python/my_file.txt\", \"r\") as my:\n",
    "            print(my.read())\n",
    "\n",
    "my_person = Person(name, gender, age, complex)\n",
    "my_person.write_file()\n",
    "my_person.read_file()"
   ]
  },
  {
   "cell_type": "code",
   "execution_count": 1,
   "id": "1c7df7c0",
   "metadata": {},
   "outputs": [
    {
     "data": {
      "text/plain": [
       "'c:\\\\Users\\\\USER\\\\Desktop\\\\python'"
      ]
     },
     "execution_count": 1,
     "metadata": {},
     "output_type": "execute_result"
    }
   ],
   "source": [
    "%pwd"
   ]
  },
  {
   "cell_type": "code",
   "execution_count": 3,
   "id": "ea9e0795",
   "metadata": {},
   "outputs": [
    {
     "name": "stdout",
     "output_type": "stream",
     "text": [
      "Collecting requests\n",
      "  Downloading requests-2.32.5-py3-none-any.whl.metadata (4.9 kB)\n",
      "Collecting charset_normalizer<4,>=2 (from requests)\n",
      "  Downloading charset_normalizer-3.4.3-cp312-cp312-win_amd64.whl.metadata (37 kB)\n",
      "Collecting idna<4,>=2.5 (from requests)\n",
      "  Downloading idna-3.10-py3-none-any.whl.metadata (10 kB)\n",
      "Collecting urllib3<3,>=1.21.1 (from requests)\n",
      "  Downloading urllib3-2.5.0-py3-none-any.whl.metadata (6.5 kB)\n",
      "Collecting certifi>=2017.4.17 (from requests)\n",
      "  Downloading certifi-2025.8.3-py3-none-any.whl.metadata (2.4 kB)\n",
      "Downloading requests-2.32.5-py3-none-any.whl (64 kB)\n",
      "Downloading charset_normalizer-3.4.3-cp312-cp312-win_amd64.whl (107 kB)\n",
      "Downloading idna-3.10-py3-none-any.whl (70 kB)\n",
      "Downloading urllib3-2.5.0-py3-none-any.whl (129 kB)\n",
      "Downloading certifi-2025.8.3-py3-none-any.whl (161 kB)\n",
      "Installing collected packages: urllib3, idna, charset_normalizer, certifi, requests\n",
      "\n",
      "   ---------------------------------------- 0/5 [urllib3]\n",
      "   ---------------------------------------- 0/5 [urllib3]\n",
      "   ---------------------------------------- 0/5 [urllib3]\n",
      "   ---------------------------------------- 0/5 [urllib3]\n",
      "   -------- ------------------------------- 1/5 [idna]\n",
      "   -------- ------------------------------- 1/5 [idna]\n",
      "   ---------------- ----------------------- 2/5 [charset_normalizer]\n",
      "   ---------------- ----------------------- 2/5 [charset_normalizer]\n",
      "   -------------------------------- ------- 4/5 [requests]\n",
      "   -------------------------------- ------- 4/5 [requests]\n",
      "   ---------------------------------------- 5/5 [requests]\n",
      "\n",
      "Successfully installed certifi-2025.8.3 charset_normalizer-3.4.3 idna-3.10 requests-2.32.5 urllib3-2.5.0\n",
      "Note: you may need to restart the kernel to use updated packages.\n"
     ]
    }
   ],
   "source": [
    "%pip install requests"
   ]
  },
  {
   "cell_type": "markdown",
   "id": "8dfc7f45",
   "metadata": {},
   "source": [
    "\n",
    "### Write a Python script to fetch latest weather updates using weather map API\n",
    "### Using the request package"
   ]
  },
  {
   "cell_type": "code",
   "execution_count": 16,
   "id": "6ee83459",
   "metadata": {},
   "outputs": [
    {
     "name": "stdout",
     "output_type": "stream",
     "text": [
      "{'coord': {'lon': 3.75, 'lat': 6.5833}, 'weather': [{'id': 803, 'main': 'Clouds', 'description': 'broken clouds', 'icon': '04d'}], 'base': 'stations', 'main': {'temp': 302.63, 'feels_like': 304.51, 'temp_min': 302.63, 'temp_max': 302.63, 'pressure': 1013, 'humidity': 57, 'sea_level': 1013, 'grnd_level': 1013}, 'visibility': 10000, 'wind': {'speed': 3.09, 'deg': 225, 'gust': 2.69}, 'clouds': {'all': 55}, 'dt': 1757073180, 'sys': {'country': 'NG', 'sunrise': 1757050644, 'sunset': 1757094624}, 'timezone': 3600, 'id': 2332453, 'name': 'Lagos', 'cod': 200}\n"
     ]
    }
   ],
   "source": [
    "import requests\n",
    "\n",
    "Weather = requests.get('https://api.openweathermap.org/data/2.5/weather?q=Lagos,Nigeria&APPID=07411e7270818484d9a9db9016677da8')\n",
    "\n",
    "print(Weather.json())\n"
   ]
  },
  {
   "cell_type": "code",
   "execution_count": 1,
   "id": "3494bf85",
   "metadata": {},
   "outputs": [
    {
     "name": "stdout",
     "output_type": "stream",
     "text": [
      "My name is Fathyy\n",
      "I am 40 years old\n",
      "I am learning Python\n"
     ]
    }
   ],
   "source": [
    "name = \"Fathyy\"\n",
    "age = 40\n",
    "\n",
    "print(\"My name is\", name )\n",
    "print(\"I am\", age, \"years old\")\n",
    "print(\"I am learning Python\")\n"
   ]
  },
  {
   "cell_type": "markdown",
   "id": "ae502106",
   "metadata": {},
   "source": [
    "Create two variables a = 15 and b = 4.\n",
    "\n",
    "Print their sum, difference, product, and quotient"
   ]
  },
  {
   "cell_type": "code",
   "execution_count": 2,
   "id": "d72bd9af",
   "metadata": {},
   "outputs": [
    {
     "name": "stdout",
     "output_type": "stream",
     "text": [
      "19\n",
      "11\n",
      "60\n",
      "3.75\n"
     ]
    }
   ],
   "source": [
    "a = 15\n",
    "b = 4\n",
    "print(a + b)\n",
    "print(a - b)\n",
    "print(a * b)\n",
    "print(a / b)"
   ]
  },
  {
   "cell_type": "code",
   "execution_count": 7,
   "id": "e9eb0b46",
   "metadata": {},
   "outputs": [
    {
     "name": "stdout",
     "output_type": "stream",
     "text": [
      "The numbers are even\n"
     ]
    }
   ],
   "source": [
    "\n",
    "number = 6\n",
    "if number % 2 == 0:\n",
    "    print(\"The numbers are even\")\n",
    "else:\n",
    "     print(\"The numbers are odd\")"
   ]
  },
  {
   "cell_type": "markdown",
   "id": "6eaa91b5",
   "metadata": {},
   "source": [
    "Write a program that checks someone’s age and prints:\n",
    "\n",
    "“Child” if age < 13\n",
    "\n",
    "“Teenager” if age < 20\n",
    "\n",
    "“Adult” otherwise"
   ]
  },
  {
   "cell_type": "code",
   "execution_count": 9,
   "id": "76c254c8",
   "metadata": {},
   "outputs": [
    {
     "name": "stdout",
     "output_type": "stream",
     "text": [
      "Adult\n"
     ]
    }
   ],
   "source": [
    "age = 25\n",
    "\n",
    "if age < 13:\n",
    "    print(\"Child\")\n",
    "elif age < 20:\n",
    "    print(\"Teenager\") \n",
    "else:\n",
    "    print(\"Adult\")    "
   ]
  },
  {
   "cell_type": "markdown",
   "id": "1e43cbfa",
   "metadata": {},
   "source": [
    "Write a Python program that checks a student’s score and prints their grade:\n",
    "\n",
    "A if score ≥ 70\n",
    "\n",
    "B if 60 ≤ score < 70\n",
    "\n",
    "C if 50 ≤ score < 60\n",
    "\n",
    "D if 40 ≤ score < 50\n",
    "\n",
    "F if score < 40"
   ]
  },
  {
   "cell_type": "code",
   "execution_count": 12,
   "id": "5297cc4c",
   "metadata": {},
   "outputs": [
    {
     "name": "stdout",
     "output_type": "stream",
     "text": [
      "Grade: A\n"
     ]
    }
   ],
   "source": [
    "score = 80\n",
    "if score >= 70:\n",
    "    print(\"Grade: A\")\n",
    "elif score >= 60:\n",
    "    print(\"Grade: B\") \n",
    "elif score >= 50:\n",
    "    print(\"Grade: C\")\n",
    "elif score >= 40:\n",
    "    print(\"Grade: D\") \n",
    "else:\n",
    "    print(\"Grade: F\")            "
   ]
  },
  {
   "cell_type": "code",
   "execution_count": 13,
   "id": "731ee71b",
   "metadata": {},
   "outputs": [
    {
     "name": "stdout",
     "output_type": "stream",
     "text": [
      "Python is fun\n",
      "Python is fun\n",
      "Python is fun\n",
      "Python is fun\n",
      "Python is fun\n",
      "Python is fun\n",
      "Python is fun\n",
      "Python is fun\n",
      "Python is fun\n",
      "Python is fun\n"
     ]
    }
   ],
   "source": [
    "for i in range(10):\n",
    "    print(\"Python is fun\")"
   ]
  },
  {
   "cell_type": "markdown",
   "id": "2277cd01",
   "metadata": {},
   "source": [
    "Create a list of 5 favorite foods, then write a loop that prints:\n",
    "\n",
    "I like ___\n",
    "\n",
    "\n",
    "(for each food in your list)"
   ]
  },
  {
   "cell_type": "code",
   "execution_count": 15,
   "id": "378bb80b",
   "metadata": {},
   "outputs": [
    {
     "name": "stdout",
     "output_type": "stream",
     "text": [
      "I like Buger\n",
      "I like Pizza\n",
      "I like Sharwarma\n",
      "I like Swallow\n",
      "I like Rice with turkey\n"
     ]
    }
   ],
   "source": [
    "foods = [\"Buger\", \"Pizza\", \"Sharwarma\", \"Swallow\", \"Rice with turkey\"]\n",
    "for food in foods:\n",
    "    print(\"I like\", food)"
   ]
  },
  {
   "cell_type": "markdown",
   "id": "e60404ba",
   "metadata": {},
   "source": [
    "Write a while loop that prints numbers 1 to 10.\n",
    "\n",
    "👉 Hint: Start with num = 1 and keep looping while num <= 10. Would you like to try it?"
   ]
  },
  {
   "cell_type": "code",
   "execution_count": 16,
   "id": "d76f2674",
   "metadata": {},
   "outputs": [
    {
     "name": "stdout",
     "output_type": "stream",
     "text": [
      "1\n",
      "2\n",
      "3\n",
      "4\n",
      "5\n",
      "6\n",
      "7\n",
      "8\n",
      "9\n",
      "10\n"
     ]
    }
   ],
   "source": [
    "num = 1\n",
    "while num <= 10:\n",
    "    print(num)\n",
    "    num += 1"
   ]
  },
  {
   "cell_type": "markdown",
   "id": "71059aa6",
   "metadata": {},
   "source": [
    "Write a function called square_number that takes one number as input and returns its square.\n",
    "👉 Example: if you call square_number(4), it should return 16."
   ]
  },
  {
   "cell_type": "code",
   "execution_count": 18,
   "id": "d33f259e",
   "metadata": {},
   "outputs": [
    {
     "name": "stdout",
     "output_type": "stream",
     "text": [
      "9\n"
     ]
    }
   ],
   "source": [
    "def square_number(num):\n",
    "    return num*num\n",
    "total = square_number(3)\n",
    "print(total)"
   ]
  },
  {
   "cell_type": "markdown",
   "id": "75e319d4",
   "metadata": {},
   "source": [
    "Write a function called calculator(a, b, operation) that takes two numbers and an operation (\"add\", \"subtract\", \"multiply\", \"divide\") and returns the result"
   ]
  },
  {
   "cell_type": "code",
   "execution_count": null,
   "id": "3f69181b",
   "metadata": {},
   "outputs": [
    {
     "name": "stdout",
     "output_type": "stream",
     "text": [
      "result: 49.0\n"
     ]
    }
   ],
   "source": [
    "a = float(input(\"Enter any number\"))\n",
    "b = float(input(\"Enter any number\"))\n",
    "operation = input(\"Enter operation ()\").upper()\n",
    "\n",
    "def Calculator(a, b, operation):\n",
    "\n",
    "    if operation == \"ADD\":\n",
    "        return a+b  \n",
    "    elif operation == \"SUBTRACT\":\n",
    "        return a-b\n",
    "    elif operation == \"MULTIPLY\":\n",
    "        return a*b\n",
    "    elif operation == \"DIVIDE\":\n",
    "        if b != 0:\n",
    "            return a/b\n",
    "        else:\n",
    "            return \"Error: zero cannot be divide\"\n",
    "    else:\n",
    "        return \"Invalid operation\"  \n",
    "\n",
    "      \n",
    "print(\"result:\", Calculator(a, b, operation))\n"
   ]
  },
  {
   "cell_type": "code",
   "execution_count": 3,
   "id": "d4aa1d06",
   "metadata": {},
   "outputs": [
    {
     "name": "stdout",
     "output_type": "stream",
     "text": [
      "WELCOME TO THE GUESSING GAME😁\n",
      "guess any number from 1 to 20\n",
      "Too low, try again\n",
      "The guessing number is: 10\n"
     ]
    }
   ],
   "source": [
    "import random\n",
    "secret_number = random.randint(1, 20)\n",
    "\n",
    "print(\"WELCOME TO THE GUESSING GAME😁\")\n",
    "print(\"guess any number from 1 to 20\")\n",
    "\n",
    "guess = int(input(\"Enter a number\"))\n",
    "\n",
    "\n",
    "if guess == secret_number:\n",
    "    print(\"you nailed it!\")\n",
    "elif guess > secret_number:\n",
    "    print(\"Too high, try again\")\n",
    "else:\n",
    "    print(\"Too low, try again\")        \n",
    "\n",
    "print(\"The guessing number is:\", secret_number)"
   ]
  },
  {
   "cell_type": "markdown",
   "id": "f3bb2c09",
   "metadata": {},
   "source": [
    "Given a month as an integer from 1 to 12, return to which quarter of the year it belongs as an integer number.\n",
    "\n",
    "For example: month 2 (February), is part of the first quarter; month 6 (June), is part of the second quarter; and month 11 (November), is part of the fourth quarter.\n",
    "\n",
    "write python code for that."
   ]
  },
  {
   "cell_type": "code",
   "execution_count": 1,
   "id": "b99968c8",
   "metadata": {},
   "outputs": [
    {
     "data": {
      "text/plain": [
       "'Quarter: 1'"
      ]
     },
     "execution_count": 1,
     "metadata": {},
     "output_type": "execute_result"
    }
   ],
   "source": [
    "def quarte_of_years(month):\n",
    "    months = range(13)\n",
    "    if month in months[:4]:\n",
    "        return 'Quarter: 1' \n",
    "    elif month in months[4:7]:\n",
    "        return 'Quarter: 2' \n",
    "    elif month in months[7:10]:\n",
    "        return 'Quarter: 3' \n",
    "    else:\n",
    "        return 'Quarter: 4' \n",
    "    \n",
    "quarte_of_years(3)    \n"
   ]
  },
  {
   "cell_type": "code",
   "execution_count": null,
   "id": "7f69aef4",
   "metadata": {},
   "outputs": [
    {
     "name": "stdout",
     "output_type": "stream",
     "text": [
      "7\n"
     ]
    }
   ],
   "source": [
    "opposite = int(input(\"Enter a number\"))\n",
    "negative = int(input(\"Enter a number\"))\n",
    "\n",
    "def inverse():\n",
    "    if :\n",
    "        return f\"+{num}\"\n",
    "    elif num < 0:\n",
    "    else:\n",
    "        return f\"+{num}\"\n",
    "print(opposite())"
   ]
  }
 ],
 "metadata": {
  "kernelspec": {
   "display_name": "Python 3",
   "language": "python",
   "name": "python3"
  },
  "language_info": {
   "codemirror_mode": {
    "name": "ipython",
    "version": 3
   },
   "file_extension": ".py",
   "mimetype": "text/x-python",
   "name": "python",
   "nbconvert_exporter": "python",
   "pygments_lexer": "ipython3",
   "version": "3.12.10"
  }
 },
 "nbformat": 4,
 "nbformat_minor": 5
}
