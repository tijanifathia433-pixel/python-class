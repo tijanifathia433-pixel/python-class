{
 "cells": [
  {
   "cell_type": "markdown",
   "id": "e4a85ea4",
   "metadata": {},
   "source": [
    "### **Python `statistics` Module – Notes**\n",
    "\n",
    "---\n",
    "\n",
    "#### **1. What is the `statistics` module?**\n",
    "\n",
    "* The `statistics` module provides **functions for calculating mathematical statistics** of numerical data.\n",
    "* Introduced in Python 3.4.\n",
    "* Commonly used for **mean, median, mode, variance, standard deviation**, etc.\n",
    "* **Import it before use:**\n",
    "\n",
    "```python\n",
    "import statistics\n",
    "```\n",
    "\n",
    "---\n",
    "\n",
    "#### **2. Common Functions in `statistics` Module**\n",
    "\n",
    "##### **A) Mean (Average)**\n",
    "\n",
    "* `statistics.mean(data)` → Returns the **arithmetic mean**."
   ]
  },
  {
   "cell_type": "code",
   "execution_count": 2,
   "id": "9810af12",
   "metadata": {},
   "outputs": [
    {
     "name": "stdout",
     "output_type": "stream",
     "text": [
      "3\n"
     ]
    }
   ],
   "source": [
    "import statistics as stats\n",
    "nums = [1, 2, 3, 4, 5]\n",
    "print(stats.mean(nums))  # 3"
   ]
  },
  {
   "cell_type": "markdown",
   "id": "67e66a14",
   "metadata": {},
   "source": [
    "##### **B) Median**\n",
    "\n",
    "* `statistics.median(data)` → Returns the **middle value**.\n",
    "* If the dataset is even, returns the **average of the two middle values**."
   ]
  },
  {
   "cell_type": "code",
   "execution_count": 3,
   "id": "0a8db7bb",
   "metadata": {},
   "outputs": [
    {
     "name": "stdout",
     "output_type": "stream",
     "text": [
      "3\n",
      "2.5\n"
     ]
    }
   ],
   "source": [
    "nums = [1, 2, 3, 4, 5]\n",
    "print(stats.median(nums))  # 3\n",
    "nums2 = [1, 2, 3, 4]\n",
    "print(stats.median(nums2)) # 2.5"
   ]
  },
  {
   "cell_type": "markdown",
   "id": "abc6a624",
   "metadata": {},
   "source": [
    "* **`median_low()`** and **`median_high()`** return the lower or higher middle value for even datasets."
   ]
  },
  {
   "cell_type": "code",
   "execution_count": 7,
   "id": "fdaca883",
   "metadata": {},
   "outputs": [
    {
     "name": "stdout",
     "output_type": "stream",
     "text": [
      "3\n",
      "4\n"
     ]
    }
   ],
   "source": [
    "print(stats.median_low([1, 2, 3, 4, 5, 6]))  # 2\n",
    "print(stats.median_high([1, 2, 3, 4, 5, 6])) # 3"
   ]
  },
  {
   "cell_type": "markdown",
   "id": "421df602",
   "metadata": {},
   "source": [
    "##### **C) Mode**\n",
    "\n",
    "* `statistics.mode(data)` → Returns the **most common value**."
   ]
  },
  {
   "cell_type": "code",
   "execution_count": 12,
   "id": "65172c70",
   "metadata": {},
   "outputs": [
    {
     "name": "stdout",
     "output_type": "stream",
     "text": [
      "2\n"
     ]
    }
   ],
   "source": [
    "nums = [1, 2, 2, 3]\n",
    "print(stats.mode(nums))  # 2"
   ]
  },
  {
   "cell_type": "markdown",
   "id": "b5cac7c7",
   "metadata": {},
   "source": [
    "If there are multiple modes and you need all of them, use `multimode()` (Python 3.8+):"
   ]
  },
  {
   "cell_type": "code",
   "execution_count": 13,
   "id": "999833ce",
   "metadata": {},
   "outputs": [
    {
     "name": "stdout",
     "output_type": "stream",
     "text": [
      "[1, 2]\n"
     ]
    }
   ],
   "source": [
    "nums = [1, 1, 2, 2, 3]\n",
    "print(stats.multimode(nums))  # [1, 2]"
   ]
  },
  {
   "cell_type": "markdown",
   "id": "70891ff0",
   "metadata": {},
   "source": [
    "##### **D) Variance**\n",
    "\n",
    "* `statistics.variance(data)` → Returns the **sample variance**.\n",
    "* Measures how far numbers spread from the mean."
   ]
  },
  {
   "cell_type": "code",
   "execution_count": 15,
   "id": "8796d7c1",
   "metadata": {},
   "outputs": [
    {
     "name": "stdout",
     "output_type": "stream",
     "text": [
      "4.571428571428571\n"
     ]
    }
   ],
   "source": [
    "nums = [2, 4, 4, 4, 5, 5, 7, 9]\n",
    "print(stats.variance(nums))  # 4.5714..."
   ]
  },
  {
   "cell_type": "code",
   "execution_count": 17,
   "id": "2e615f71",
   "metadata": {},
   "outputs": [
    {
     "name": "stdout",
     "output_type": "stream",
     "text": [
      "2.138089935299395\n"
     ]
    }
   ],
   "source": [
    "import math\n",
    "\n",
    "std = math.sqrt(stats.variance(nums))\n",
    "\n",
    "print(std)"
   ]
  },
  {
   "cell_type": "code",
   "execution_count": 18,
   "id": "fc9c13d7",
   "metadata": {},
   "outputs": [
    {
     "name": "stdout",
     "output_type": "stream",
     "text": [
      "2.138089935299395\n"
     ]
    }
   ],
   "source": [
    "print(stats.stdev(nums))"
   ]
  },
  {
   "cell_type": "markdown",
   "id": "1f905f68",
   "metadata": {},
   "source": [
    "If you want the **population variance**, use:\n"
   ]
  },
  {
   "cell_type": "code",
   "execution_count": 16,
   "id": "df1bb0d1",
   "metadata": {},
   "outputs": [
    {
     "name": "stdout",
     "output_type": "stream",
     "text": [
      "4\n"
     ]
    }
   ],
   "source": [
    "print(stats.pvariance(nums)) # 4.0"
   ]
  },
  {
   "cell_type": "markdown",
   "id": "d43e0afe",
   "metadata": {},
   "source": [
    "##### **E) Standard Deviation**\n",
    "\n",
    "* `statistics.stdev(data)` → Returns the **sample standard deviation**.\n",
    "* **`pstdev()`** for **population standard deviation**.\n"
   ]
  },
  {
   "cell_type": "code",
   "execution_count": 19,
   "id": "6924d1f6",
   "metadata": {},
   "outputs": [
    {
     "name": "stdout",
     "output_type": "stream",
     "text": [
      "2.138089935299395\n",
      "2.0\n"
     ]
    }
   ],
   "source": [
    "nums = [2, 4, 4, 4, 5, 5, 7, 9]\n",
    "print(stats.stdev(nums))   # 2.138...\n",
    "print(stats.pstdev(nums))  # 2.0"
   ]
  },
  {
   "cell_type": "markdown",
   "id": "87dd0306",
   "metadata": {},
   "source": [
    "##### **F) Harmonic Mean** (Python 3.6+)\n",
    "\n",
    "* `statistics.harmonic_mean(data)` → Calculates the **harmonic mean** (useful in rates/ratios)."
   ]
  },
  {
   "cell_type": "code",
   "execution_count": 20,
   "id": "07e5522e",
   "metadata": {},
   "outputs": [
    {
     "name": "stdout",
     "output_type": "stream",
     "text": [
      "48.0\n"
     ]
    }
   ],
   "source": [
    "nums = [40, 60]\n",
    "print(stats.harmonic_mean(nums))  # 48.0"
   ]
  },
  {
   "cell_type": "markdown",
   "id": "6be86cb9",
   "metadata": {},
   "source": [
    "##### **G) Other Useful Functions**\n",
    "\n",
    "* `statistics.fmean(data)` (Python 3.8+) → **Fast mean** as a float (even if integers are provided).\n",
    "* `statistics.geometric_mean(data)` (Python 3.8+) → **Geometric mean**."
   ]
  },
  {
   "cell_type": "code",
   "execution_count": 21,
   "id": "8e6baf93",
   "metadata": {},
   "outputs": [
    {
     "name": "stdout",
     "output_type": "stream",
     "text": [
      "3.0000000000000004\n"
     ]
    }
   ],
   "source": [
    "nums = [1, 3, 9]\n",
    "print(stats.geometric_mean(nums))  # 3.0"
   ]
  },
  {
   "cell_type": "markdown",
   "id": "4a978c35",
   "metadata": {},
   "source": [
    "#### **3. When to Use Which Function?**\n",
    "\n",
    "* **mean:** To find the average score.\n",
    "* **median:** To find the middle value (useful when data has outliers).\n",
    "* **mode:** To find the most frequent value.\n",
    "* **variance & stdev:** To measure spread or variability."
   ]
  },
  {
   "cell_type": "markdown",
   "id": "5a008399",
   "metadata": {},
   "source": [
    "#### **4. Practice Exercises**\n",
    "\n",
    "##### **Beginner:**\n",
    "\n",
    "1. Calculate the mean, median, and mode for `[5, 10, 15, 20, 25]`.\n",
    "2. Find the harmonic mean of `[10, 20, 40]`.\n",
    "\n",
    "##### **Intermediate:**\n",
    "\n",
    "3. Calculate the variance and standard deviation for `[2, 4, 4, 4, 5, 5, 7, 9]`.\n",
    "4. For `[1, 1, 2, 2, 3]`, find all the modes using `multimode()`.\n",
    "\n",
    "##### **Advanced:**\n",
    "\n",
    "5. Write a function that accepts a list of numbers and returns a dictionary with **mean, median, variance, and standard deviation**.\n",
    "6. Given the dataset `[10, 12, 23, 23, 16, 23, 21, 16]`, find the **population variance and population standard deviation**.\n",
    "\n",
    "---\n",
    "\n",
    "#### **5. Key Notes for Students**\n",
    "\n",
    "* `statistics` functions work with lists, tuples, or any iterable containing numeric data.\n",
    "* Variance and standard deviation require at least **two data points**, otherwise you'll get an error.\n",
    "* `mode()` raises an error if there’s no unique mode (for older Python versions), so `multimode()` is safer."
   ]
  }
 ],
 "metadata": {
  "kernelspec": {
   "display_name": "Python 3",
   "language": "python",
   "name": "python3"
  },
  "language_info": {
   "codemirror_mode": {
    "name": "ipython",
    "version": 3
   },
   "file_extension": ".py",
   "mimetype": "text/x-python",
   "name": "python",
   "nbconvert_exporter": "python",
   "pygments_lexer": "ipython3",
   "version": "3.12.10"
  }
 },
 "nbformat": 4,
 "nbformat_minor": 5
}
