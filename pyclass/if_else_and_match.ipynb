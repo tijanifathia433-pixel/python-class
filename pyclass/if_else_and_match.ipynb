{
 "cells": [
  {
   "cell_type": "markdown",
   "id": "4d592028",
   "metadata": {},
   "source": [
    "## User Input function"
   ]
  },
  {
   "cell_type": "code",
   "execution_count": 1,
   "id": "ee122ae1",
   "metadata": {},
   "outputs": [
    {
     "name": "stdout",
     "output_type": "stream",
     "text": [
      "Hello, Fathia\n"
     ]
    }
   ],
   "source": [
    "name = input(\"What is your name? \")\n",
    "\n",
    "print(\"Hello, \" + name )"
   ]
  },
  {
   "cell_type": "code",
   "execution_count": 2,
   "id": "a7d525d5",
   "metadata": {},
   "outputs": [
    {
     "name": "stdout",
     "output_type": "stream",
     "text": [
      "76.0\n"
     ]
    }
   ],
   "source": [
    "# a = int(input(\"Enter a number: \"))\n",
    "# b = int(input(\"Enter another number: \"))\n",
    "\n",
    "a = float(input(\"Enter a number: \"))\n",
    "b = float(input(\"Enter another number: \"))\n",
    "\n",
    "print(a + b)"
   ]
  },
  {
   "cell_type": "markdown",
   "id": "69a74795",
   "metadata": {},
   "source": [
    "### **Python Conditional Statements: `if...else` and `match` (Python 3.10+)**\n",
    "\n",
    "#### **1. `if...elif...else` Statements**\n",
    "#### **1.1 Basic Syntax**"
   ]
  },
  {
   "cell_type": "markdown",
   "id": "139afa81",
   "metadata": {},
   "source": [
    "if condition1:\n",
    "\n",
    "    # code to execute if condition1 is True\n",
    "\n",
    "elif condition2:\n",
    "\n",
    "    # code to execute if condition2 is True\n",
    "    \n",
    "else:\n",
    "    # code to execute if all conditions are False"
   ]
  },
  {
   "cell_type": "markdown",
   "id": "3489900a",
   "metadata": {},
   "source": [
    "#### **1.2 Examples**\n",
    "##### **Example 1: Simple `if`**"
   ]
  },
  {
   "cell_type": "code",
   "execution_count": 6,
   "id": "ad19f8e9",
   "metadata": {},
   "outputs": [
    {
     "name": "stdout",
     "output_type": "stream",
     "text": [
      "You are a minor.\n"
     ]
    }
   ],
   "source": [
    "age = 17\n",
    "if age >= 18:\n",
    "    print(\"You are an adult.\")\n",
    "else:\n",
    "    print(\"You are a minor.\")"
   ]
  },
  {
   "cell_type": "markdown",
   "id": "6028ad3f",
   "metadata": {},
   "source": [
    "##### **Example 2: `if...else`**"
   ]
  },
  {
   "cell_type": "code",
   "execution_count": 7,
   "id": "eab56163",
   "metadata": {},
   "outputs": [
    {
     "name": "stdout",
     "output_type": "stream",
     "text": [
      "Odd\n"
     ]
    }
   ],
   "source": [
    "num = 11\n",
    "if num % 2 == 0:\n",
    "    print(\"Even\")\n",
    "else:\n",
    "    print(\"Odd\")"
   ]
  },
  {
   "cell_type": "markdown",
   "id": "0d5005db",
   "metadata": {},
   "source": [
    "##### **Example 3: `if...elif...else`**"
   ]
  },
  {
   "cell_type": "code",
   "execution_count": 10,
   "id": "cc641d53",
   "metadata": {},
   "outputs": [
    {
     "name": "stdout",
     "output_type": "stream",
     "text": [
      "Grade: A\n"
     ]
    }
   ],
   "source": [
    "score = 80\n",
    "if score >= 70:\n",
    "    print(\"Grade: A\")\n",
    "elif score >= 60:\n",
    "    print(\"Grade: B\")\n",
    "elif score >= 50:\n",
    "    print(\"Grade: C\")\n",
    "elif score >= 40:\n",
    "    print(\"Grade: D\")\n",
    "else:\n",
    "    print(\"Grade: F\")"
   ]
  },
  {
   "cell_type": "markdown",
   "id": "d67d851c",
   "metadata": {},
   "source": [
    "##### **Example 4: Nested `if`**"
   ]
  },
  {
   "cell_type": "code",
   "execution_count": 15,
   "id": "9cd90c33",
   "metadata": {},
   "outputs": [
    {
     "name": "stdout",
     "output_type": "stream",
     "text": [
      "5  is < 10\n"
     ]
    }
   ],
   "source": [
    "x = 5\n",
    "\n",
    "if x > 10:\n",
    "    print(\"Greater than 10\")\n",
    "    if x > 9:\n",
    "        print(\"Also greater than 9\")\n",
    "    else:\n",
    "        print(\"But not greater than 20\")\n",
    "else:\n",
    "    print(x , \" is < 10\")\n"
   ]
  },
  {
   "cell_type": "markdown",
   "id": "0909b779",
   "metadata": {},
   "source": [
    "#### **1.3 Ternary Operator (One-Liner `if...else`)**"
   ]
  },
  {
   "cell_type": "code",
   "execution_count": null,
   "id": "1fd7598f",
   "metadata": {},
   "outputs": [
    {
     "name": "stdout",
     "output_type": "stream",
     "text": [
      "Minor\n"
     ]
    }
   ],
   "source": [
    "age = 18\n",
    "\n",
    "status = \"Adult\" if age >= 18 else \"Minor\"\n",
    "print(status)  # Output: \"Adult\""
   ]
  },
  {
   "cell_type": "markdown",
   "id": "4758ca28",
   "metadata": {},
   "source": [
    "### General Example"
   ]
  },
  {
   "cell_type": "code",
   "execution_count": 17,
   "id": "2ad26b87",
   "metadata": {},
   "outputs": [
    {
     "name": "stdout",
     "output_type": "stream",
     "text": [
      "your total is 28\n"
     ]
    }
   ],
   "source": [
    "size = input(\"order size\")\n",
    "\n",
    "sp = 15\n",
    "mp = 20\n",
    "lp = 25 \n",
    "\n",
    "if size == \"small\":\n",
    "    pep = input(\"do you want pepperoni?\")\n",
    "    if pep == \"yes\":\n",
    "        print(\"your total is\", sp + 2)\n",
    "    else:\n",
    "        print(\"your total is\", sp)\n",
    "elif size == \"medium\":\n",
    "    pep = input(\"do you want pepperoni?\")\n",
    "    if pep == \"yes\":\n",
    "        print(\"your total is\", mp + 3)\n",
    "    else:\n",
    "        print(\"your total is\", mp)\n",
    "elif size == \"large\":\n",
    "    pep = input(\"do you want pepperoni?\")\n",
    "    if pep == \"yes\":\n",
    "        print(\"your total is\", lp + 3)\n",
    "    else:\n",
    "        print(\"your total is\", lp)\n",
    "else:\n",
    "    print(\"invalid size\")"
   ]
  },
  {
   "cell_type": "markdown",
   "id": "a1f8d479",
   "metadata": {},
   "source": []
  },
  {
   "cell_type": "markdown",
   "id": "26c3121b",
   "metadata": {},
   "source": [
    "### **2. `match` Statement (Python 3.10+)**\n",
    "- Similar to `switch-case` in other languages.\n",
    "- More powerful than `if...elif...else` for multiple conditions."
   ]
  },
  {
   "cell_type": "markdown",
   "id": "a99f6fb4",
   "metadata": {},
   "source": [
    "#### **2.1 Basic Syntax**"
   ]
  },
  {
   "cell_type": "markdown",
   "id": "1e287e7e",
   "metadata": {},
   "source": [
    "match value:\n",
    "\n",
    "    case pattern1:\n",
    "\n",
    "        # action1\n",
    "\n",
    "    case pattern2:\n",
    "\n",
    "        # action2\n",
    "\n",
    "    case _:  # default case\n",
    "    \n",
    "        # default action"
   ]
  },
  {
   "cell_type": "markdown",
   "id": "1e98520d",
   "metadata": {},
   "source": [
    "#### **2.2 Examples**\n",
    "##### **Example 1: Simple `match`**"
   ]
  },
  {
   "cell_type": "code",
   "execution_count": null,
   "id": "cc04074c",
   "metadata": {},
   "outputs": [],
   "source": [
    "day = \"Friday\"\n",
    "# day = input(\"Enter the day of the week: \")  \n",
    "\n",
    "match day:\n",
    "    case \"Monday\":\n",
    "        print(\"Start of the week\")\n",
    "    case \"Friday\":\n",
    "        print(\"Weekend is near\")\n",
    "    case \"Saturday\" | \"Sunday\":\n",
    "        print(\"It's the weekend!\")\n",
    "    case \"Wednesday\":\n",
    "        print(\"Hump day!\")\n",
    "    case _:\n",
    "        print(\"Midweek day\")"
   ]
  },
  {
   "cell_type": "markdown",
   "id": "13d82e0b",
   "metadata": {},
   "source": [
    "##### **Example 2: Matching Multiple Values**"
   ]
  },
  {
   "cell_type": "code",
   "execution_count": null,
   "id": "7140c449",
   "metadata": {},
   "outputs": [
    {
     "name": "stdout",
     "output_type": "stream",
     "text": [
      "Client Error\n"
     ]
    }
   ],
   "source": [
    "status_code = 401\n",
    "match status_code:\n",
    "    case 200:\n",
    "        print(\"Success\")\n",
    "    case 400 | 401 | 403:\n",
    "        print(\"Client Error\")\n",
    "    case 500:\n",
    "        print(\"Server Error\")\n",
    "    case _:\n",
    "        print(\"Unknown Status\")"
   ]
  },
  {
   "cell_type": "markdown",
   "id": "69506396",
   "metadata": {},
   "source": [
    "##### **Example 3: Matching with Conditions (Guard Clauses)**"
   ]
  },
  {
   "cell_type": "code",
   "execution_count": null,
   "id": "bf11938d",
   "metadata": {},
   "outputs": [],
   "source": [
    "num = 15\n",
    "match num:\n",
    "    case x if x < 10:\n",
    "        print(\"Single digit\")\n",
    "    case x if 10 <= x < 20:\n",
    "        print(\"Between 10 and 20\")\n",
    "    case _:\n",
    "        print(\"20 or more\")\n"
   ]
  },
  {
   "cell_type": "markdown",
   "id": "62df2f5e",
   "metadata": {},
   "source": [
    "##### **Example 4: Matching Data Structures**"
   ]
  },
  {
   "cell_type": "code",
   "execution_count": null,
   "id": "d25c19ad",
   "metadata": {},
   "outputs": [],
   "source": [
    "point = (2, 0)\n",
    "match point:\n",
    "    case (0, 0):\n",
    "        print(\"Origin\")\n",
    "    case (x, 0):\n",
    "        print(f\"On X-axis at {x}\")\n",
    "    case (0, y):\n",
    "        print(f\"On Y-axis at {y}\")\n",
    "    case (x, y):\n",
    "        print(f\"At ({x}, {y})\")"
   ]
  },
  {
   "cell_type": "markdown",
   "id": "bc1bf693",
   "metadata": {},
   "source": [
    "---\n",
    "\n",
    "### **3. Comparison: `if...else` vs `match`**\n",
    "| Feature | `if...elif...else` | `match` |\n",
    "|---------|--------------------|---------|\n",
    "| **Readability** | Good for simple conditions | Better for multiple patterns |\n",
    "| **Versatility** | Works in all Python versions | Only Python 3.10+ |\n",
    "| **Structural Matching** | Limited | Supports complex patterns |\n",
    "| **Default Case** | `else` | `case _` |\n",
    "\n",
    "---"
   ]
  },
  {
   "cell_type": "markdown",
   "id": "a3290498",
   "metadata": {},
   "source": []
  },
  {
   "cell_type": "markdown",
   "id": "0c0531ae",
   "metadata": {},
   "source": []
  },
  {
   "cell_type": "markdown",
   "id": "714da52a",
   "metadata": {},
   "source": [
    "---\n",
    "\n",
    "### **4. Exercises**\n",
    "#### **Exercise 1: `if...else` Practice**\n",
    "```python\n",
    "# Check if a number is positive, negative, or zero\n",
    "num = float(input(\"Enter a number: \"))\n",
    "# Your code here\n",
    "```\n",
    "\n",
    "#### **Exercise 2: `match` Practice**\n",
    "```python\n",
    "# Classify an HTTP status code:\n",
    "# - 200: \"OK\"\n",
    "# - 301: \"Moved Permanently\"\n",
    "# - 404: \"Not Found\"\n",
    "# - 500: \"Server Error\"\n",
    "# - Others: \"Unknown Status\"\n",
    "status = int(input(\"Enter HTTP status: \"))\n",
    "# Your code here\n",
    "```"
   ]
  },
  {
   "cell_type": "markdown",
   "id": "013b343c",
   "metadata": {},
   "source": []
  }
 ],
 "metadata": {
  "kernelspec": {
   "display_name": "Python 3",
   "language": "python",
   "name": "python3"
  },
  "language_info": {
   "codemirror_mode": {
    "name": "ipython",
    "version": 3
   },
   "file_extension": ".py",
   "mimetype": "text/x-python",
   "name": "python",
   "nbconvert_exporter": "python",
   "pygments_lexer": "ipython3",
   "version": "3.12.10"
  }
 },
 "nbformat": 4,
 "nbformat_minor": 5
}
