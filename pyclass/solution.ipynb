{
 "cells": [
  {
   "cell_type": "markdown",
   "id": "bb6a9d3c",
   "metadata": {},
   "source": [
    "Problem Statement:\n",
    "\n",
    "Write a function group_anagrams(words) that takes a list of strings words and returns a list of groups, where each group contains words that are anagrams of each other.\n",
    "\n",
    "For example:\n",
    "\n",
    "group_anagrams([\"eat\", \"tea\", \"tan\", \"ate\", \"nat\", \"bat\"])\n",
    "\n",
    "Output:\n",
    "\n",
    "[[\"eat\", \"tea\", \"ate\"], [\"tan\", \"nat\"], [\"bat\"]]\n",
    "\n",
    "2. \n",
    "Count Vowels\n",
    "\n",
    "Create a Python function that accepts a single string as an argument and returns the number of vowels (a, e, i, o, u, case-insensitive) present in that string.\n",
    "\n",
    "3. Problem Statement:\n",
    "\n",
    "Write a Python function flatten_list(nested_list) that takes a list which can contain nested lists of arbitrary depth and returns a flat list with all the elements.\n",
    "\n",
    "For example:\n",
    "\n",
    "flatten_list([1, [2, [3, 4], 5], 6])  # Output: [1, 2, 3, 4, 5, 6]"
   ]
  },
  {
   "cell_type": "code",
   "execution_count": 19,
   "id": "c2d1f25c",
   "metadata": {},
   "outputs": [
    {
     "data": {
      "text/plain": [
       "(['eat', 'tea', 'ate'], ['tan', 'nat'], ['bat'])"
      ]
     },
     "execution_count": 19,
     "metadata": {},
     "output_type": "execute_result"
    }
   ],
   "source": [
    "# Write a function group_anagrams(words) that takes a list of strings words and returns a list of groups, where each group contains words that are anagrams of each other.\n",
    "\n",
    "# For example:\n",
    "\n",
    "# group_anagrams([\"eat\", \"tea\", \"tan\", \"ate\", \"nat\", \"bat\"])\n",
    "\n",
    "# Output:\n",
    "\n",
    "# [[\"eat\", \"tea\", \"ate\"], [\"tan\", \"nat\"],​[\"bat\"]]\n",
    "\n",
    "\n",
    "def group_anagrams(words):\n",
    "    first = []\n",
    "    second = []\n",
    "    third = []\n",
    "\n",
    "    eat = {\"e\", \"a\", \"t\"}\n",
    "    tea = {\"t\", \"a\", \"n\"}\n",
    "    bat = {\"b\", \"a\", \"t\"}\n",
    "\n",
    "    for word in words:\n",
    "        if set(word) == eat:\n",
    "            first.append(word)\n",
    "        elif set(word) == tea:\n",
    "            second.append(word)\n",
    "        elif set(word) == bat:\n",
    "            third.append(word)\n",
    "\n",
    "    return first, second, third\n",
    "\n",
    "result = group_anagrams([\"eat\", \"tea\", \"tan\", \"ate\", \"nat\", \"bat\"]) \n",
    "\n",
    "result"
   ]
  },
  {
   "cell_type": "code",
   "execution_count": 21,
   "id": "382eb6de",
   "metadata": {},
   "outputs": [
    {
     "name": "stdout",
     "output_type": "stream",
     "text": [
      "The number of vowels in OPPPUuuiRRT is 5\n"
     ]
    }
   ],
   "source": [
    "def vowels_count(word):\n",
    "    count = 0\n",
    "    for char in word.lower():\n",
    "        if char in \"aeiou\":\n",
    "            count += 1\n",
    "    return f\"The number of vowels in {word} is {count}\" \n",
    "\n",
    "data = input(\"Enter a word: \")\n",
    "result = vowels_count(data)\n",
    "print(result)\n",
    "    "
   ]
  },
  {
   "cell_type": "code",
   "execution_count": 22,
   "id": "4ff5d4f2",
   "metadata": {},
   "outputs": [
    {
     "name": "stdout",
     "output_type": "stream",
     "text": [
      "[1, 2, 3, 4, 5, 6]\n"
     ]
    }
   ],
   "source": [
    "# flatten_list([1, [2, [3, 4], 5], 6]) \n",
    "\n",
    "def flatten_list(nested_list):\n",
    "    result = []\n",
    "    for item in nested_list:\n",
    "        if isinstance(item, list):\n",
    "            result.extend(flatten_list(item))\n",
    "        else:\n",
    "            result.append(item)\n",
    "    return result\n",
    "\n",
    "print(flatten_list([1, [2, [3, 4], 5], 6]))"
   ]
  }
 ],
 "metadata": {
  "kernelspec": {
   "display_name": "env",
   "language": "python",
   "name": "python3"
  },
  "language_info": {
   "codemirror_mode": {
    "name": "ipython",
    "version": 3
   },
   "file_extension": ".py",
   "mimetype": "text/x-python",
   "name": "python",
   "nbconvert_exporter": "python",
   "pygments_lexer": "ipython3",
   "version": "3.12.10"
  }
 },
 "nbformat": 4,
 "nbformat_minor": 5
}
