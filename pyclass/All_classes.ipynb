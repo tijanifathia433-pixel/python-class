{
 "cells": [
  {
   "cell_type": "markdown",
   "id": "38709c90",
   "metadata": {},
   "source": [
    "#### PIP: WHAT IS PIP?\n",
    "A package contains all the files you need for a module.\n",
    "\n",
    "Modules are Python code libraries you can include in your project."
   ]
  },
  {
   "cell_type": "markdown",
   "id": "6703fd9b",
   "metadata": {},
   "source": [
    "CHECK IF PIP IS INSTALL\n",
    "\n",
    "Navigate your command line to the location of Python's script directory,\n",
    "'and type the followingNavigate your command line to the'\n",
    "'location of Python's script directory, and type the following\n"
   ]
  },
  {
   "cell_type": "markdown",
   "id": "d9e6d7bb",
   "metadata": {
    "vscode": {
     "languageId": "shellscript"
    }
   },
   "source": [
    "##### Check PIP version:\n",
    "```shell\n",
    "pip --version\n",
    "```  "
   ]
  },
  {
   "cell_type": "markdown",
   "id": "a2ed5991",
   "metadata": {},
   "source": [
    "INSTALL PIP\n",
    "\n",
    "If you do not have PIP installed, you can download and install it from this page:\n",
    " https://pypi.org/project/pip/\n",
    "\n",
    "EXAMPLE:"
   ]
  },
  {
   "cell_type": "markdown",
   "id": "3f79b4a3",
   "metadata": {},
   "source": [
    "##### Download a package named \"camelcase\":\n",
    "```shell\n",
    "pip install camelcase\n",
    "```"
   ]
  },
  {
   "cell_type": "markdown",
   "id": "19d04e7e",
   "metadata": {},
   "source": [
    "USING A PACKAGE\n",
    "Once the package is installed, it is ready to use.\n",
    "\n",
    "Import the \"camelcase\" package into your project.\n",
    "Example:"
   ]
  },
  {
   "cell_type": "code",
   "execution_count": 5,
   "id": "13397f44",
   "metadata": {},
   "outputs": [
    {
     "name": "stdout",
     "output_type": "stream",
     "text": [
      "Hello World\n"
     ]
    }
   ],
   "source": [
    "\n",
    "# Import and use \"camelcase\":\n",
    "\n",
    "import camelcase\n",
    "\n",
    "c = camelcase.CamelCase()\n",
    "\n",
    "txt = \"hello world\"                 #it will bring error because the package is not yet install\n",
    "\n",
    "print(c.hump(txt))"
   ]
  },
  {
   "cell_type": "markdown",
   "id": "44bf7277",
   "metadata": {},
   "source": [
    "REMOVE A PACKAGE\n",
    "\n",
    "Use the uninstall command to remove a package:\n",
    "\n",
    "Example"
   ]
  },
  {
   "cell_type": "markdown",
   "id": "747afdf6",
   "metadata": {},
   "source": [
    "#### Uninstall the package named \"camelcase\":\n",
    "```shell\n",
    "pip uninstall camelcase\n",
    "```"
   ]
  },
  {
   "cell_type": "markdown",
   "id": "b9428a8f",
   "metadata": {},
   "source": [
    "### PYTHON TRY.....EXCEPT \n",
    "\n",
    "##### The \"try\" block lets you test a block of code for errors.\n",
    "\n",
    "##### The \"except\" block lets you handle the error.\n",
    "\n",
    "##### The \"else\" block lets you execute code when there is no error.\n",
    "\n",
    "##### The \"finally\" block lets you execute code, regardless of the result of the try- and except blocks.\n",
    "\n"
   ]
  },
  {
   "cell_type": "code",
   "execution_count": 8,
   "id": "96fe9394",
   "metadata": {},
   "outputs": [
    {
     "name": "stdout",
     "output_type": "stream",
     "text": [
      "Variable x is not defined\n"
     ]
    }
   ],
   "source": [
    "try:\n",
    "  print(x)\n",
    "except NameError:\n",
    "  print(\"Variable x is not defined\")\n",
    "except:\n",
    "  print(\"Something else went wrong\")            #try with too many except "
   ]
  },
  {
   "cell_type": "code",
   "execution_count": null,
   "id": "9b40ce98",
   "metadata": {},
   "outputs": [
    {
     "name": "stdout",
     "output_type": "stream",
     "text": [
      "Hello\n",
      "Nothing went wrong\n"
     ]
    }
   ],
   "source": [
    "try:\n",
    "  print(\"Hello\")\n",
    "except:\n",
    "  print(\"Something went wrong\")\n",
    "else:\n",
    "  print(\"Nothing went wrong\")                   #try with else executive when there's no error"
   ]
  },
  {
   "cell_type": "code",
   "execution_count": 7,
   "id": "2e4d31ce",
   "metadata": {},
   "outputs": [
    {
     "name": "stdout",
     "output_type": "stream",
     "text": [
      "Something went wrong\n",
      "The 'try except' is finished\n"
     ]
    }
   ],
   "source": [
    "try:\n",
    "  print(x)\n",
    "except:\n",
    "  print(\"Something went wrong\")\n",
    "finally:\n",
    "  print(\"The 'try except' is finished\")         #finally is execute even when try has error or not "
   ]
  },
  {
   "cell_type": "code",
   "execution_count": null,
   "id": "dbedf45c",
   "metadata": {},
   "outputs": [
    {
     "name": "stdout",
     "output_type": "stream",
     "text": [
      "Something went wrong when opening the file\n"
     ]
    }
   ],
   "source": [
    "try:\n",
    "  f = open(\"demofile.txt\")\n",
    "  try:\n",
    "    f.write(\"Lorum Ipsum\")\n",
    "  except:\n",
    "    print(\"Something went wrong when writing to the file\")\n",
    "  finally:\n",
    "    f.close()                                   #since finally is empty python will mmove to the next line\n",
    "except:\n",
    "  print(\"Something went wrong when opening the file\")"
   ]
  },
  {
   "cell_type": "markdown",
   "id": "b41f1c4c",
   "metadata": {},
   "source": [
    "#### RAISE AN EXCEPTION\n",
    "\n",
    "As a Python developer you can choose to throw an exception if a condition occurs.\n",
    "\n",
    "To throw (or raise) an exception, use the raise keyword."
   ]
  },
  {
   "cell_type": "code",
   "execution_count": 11,
   "id": "767151b5",
   "metadata": {},
   "outputs": [
    {
     "ename": "Exception",
     "evalue": "Sorry, no numbers below zero",
     "output_type": "error",
     "traceback": [
      "\u001b[31m---------------------------------------------------------------------------\u001b[39m",
      "\u001b[31mException\u001b[39m                                 Traceback (most recent call last)",
      "\u001b[36mCell\u001b[39m\u001b[36m \u001b[39m\u001b[32mIn[11]\u001b[39m\u001b[32m, line 4\u001b[39m\n\u001b[32m      1\u001b[39m x = -\u001b[32m1\u001b[39m\n\u001b[32m      3\u001b[39m \u001b[38;5;28;01mif\u001b[39;00m x < \u001b[32m0\u001b[39m:\n\u001b[32m----> \u001b[39m\u001b[32m4\u001b[39m   \u001b[38;5;28;01mraise\u001b[39;00m \u001b[38;5;167;01mException\u001b[39;00m(\u001b[33m\"\u001b[39m\u001b[33mSorry, no numbers below zero\u001b[39m\u001b[33m\"\u001b[39m)\n",
      "\u001b[31mException\u001b[39m: Sorry, no numbers below zero"
     ]
    }
   ],
   "source": [
    "x = -1\n",
    "\n",
    "if x < 0:\n",
    "  raise Exception(\"Sorry, no numbers below zero\")"
   ]
  },
  {
   "cell_type": "code",
   "execution_count": 12,
   "id": "e6898410",
   "metadata": {},
   "outputs": [
    {
     "ename": "TypeError",
     "evalue": "Only integers are allowed",
     "output_type": "error",
     "traceback": [
      "\u001b[31m---------------------------------------------------------------------------\u001b[39m",
      "\u001b[31mTypeError\u001b[39m                                 Traceback (most recent call last)",
      "\u001b[36mCell\u001b[39m\u001b[36m \u001b[39m\u001b[32mIn[12]\u001b[39m\u001b[32m, line 4\u001b[39m\n\u001b[32m      1\u001b[39m x = \u001b[33m\"\u001b[39m\u001b[33mhello\u001b[39m\u001b[33m\"\u001b[39m\n\u001b[32m      3\u001b[39m \u001b[38;5;28;01mif\u001b[39;00m \u001b[38;5;129;01mnot\u001b[39;00m \u001b[38;5;28mtype\u001b[39m(x) \u001b[38;5;129;01mis\u001b[39;00m \u001b[38;5;28mint\u001b[39m:\n\u001b[32m----> \u001b[39m\u001b[32m4\u001b[39m   \u001b[38;5;28;01mraise\u001b[39;00m \u001b[38;5;167;01mTypeError\u001b[39;00m(\u001b[33m\"\u001b[39m\u001b[33mOnly integers are allowed\u001b[39m\u001b[33m\"\u001b[39m)\n",
      "\u001b[31mTypeError\u001b[39m: Only integers are allowed"
     ]
    }
   ],
   "source": [
    "x = \"hello\"\n",
    "\n",
    "if not type(x) is int:\n",
    "  raise TypeError(\"Only integers are allowed\")"
   ]
  },
  {
   "cell_type": "markdown",
   "id": "62616753",
   "metadata": {},
   "source": [
    "### THE STRING FORMATTING also as F-string\n",
    "\n",
    "F-string allows you to format selected parts of a string.\n",
    "\n",
    "To specify a string as an f-string, simply put an f in front of the string literal, like this:"
   ]
  },
  {
   "cell_type": "code",
   "execution_count": null,
   "id": "f20ac693",
   "metadata": {},
   "outputs": [
    {
     "name": "stdout",
     "output_type": "stream",
     "text": [
      "The price is 49 dollars\n"
     ]
    }
   ],
   "source": [
    "txt = f\"The price is 49 dollars\"                #this is how to create a simple f-string\n",
    "print(txt)                          "
   ]
  },
  {
   "cell_type": "markdown",
   "id": "f7aeaca6",
   "metadata": {},
   "source": [
    "## PLACEHOLDERS AND MODIFIERS \n",
    "\n",
    "To format values in an f-string, add placeholders {}, a placeholder can contain variables, operations, functions, and modifiers to format the value.\n",
    "A modifier is included by adding a colon : followed by a legal formatting type, like .2f which means fixed point number with 2 decimals. "
   ]
  },
  {
   "cell_type": "code",
   "execution_count": null,
   "id": "5bca4991",
   "metadata": {},
   "outputs": [
    {
     "name": "stdout",
     "output_type": "stream",
     "text": [
      "The price is 73.75 dollars\n",
      "The price is 95.00 dollars\n"
     ]
    }
   ],
   "source": [
    "price = 59\n",
    "tax = 0.25\n",
    "txt = f\"The price is {price + (price * tax)} dollars\"       #you can also perform operations in a f-string\n",
    "print(txt)\n",
    "\n",
    "txt = f\"The price is {95:.2f} dollars\"                  #to make the result into two decimal place\n",
    "print(txt)"
   ]
  },
  {
   "cell_type": "code",
   "execution_count": 16,
   "id": "b2094670",
   "metadata": {},
   "outputs": [
    {
     "name": "stdout",
     "output_type": "stream",
     "text": [
      "The plane is flying at a 9144.0 meter altitude\n"
     ]
    }
   ],
   "source": [
    "def myconverter(x):\n",
    "  return x * 0.3048                     #it can also format a function or contain a function \n",
    "\n",
    "txt = f\"The plane is flying at a {myconverter(30000)} meter altitude\"\n",
    "print(txt)"
   ]
  },
  {
   "cell_type": "code",
   "execution_count": 17,
   "id": "0e56f22c",
   "metadata": {},
   "outputs": [
    {
     "name": "stdout",
     "output_type": "stream",
     "text": [
      "It is very Cheap\n"
     ]
    }
   ],
   "source": [
    "price = 49\n",
    "txt = f\"It is very {'Expensive' if price>50 else 'Cheap'}\"\n",
    "\n",
    "print(txt)                          #even an if function too can be done there"
   ]
  },
  {
   "cell_type": "markdown",
   "id": "8de043f5",
   "metadata": {},
   "source": [
    "### USER INPUT\n",
    "\n",
    "Python allows for user input.\n",
    "That means we are able to ask the user for input.\n",
    "The following example asks for your name, and when you enter a name, it gets printed on the screen:"
   ]
  },
  {
   "cell_type": "code",
   "execution_count": 21,
   "id": "86153162",
   "metadata": {},
   "outputs": [
    {
     "name": "stdout",
     "output_type": "stream",
     "text": [
      "Enter your name: Hello etvvm\n"
     ]
    }
   ],
   "source": [
    "print(\"Enter your name:\", end=\" \")\n",
    "name = input()\n",
    "print(f\"Hello {name}\")"
   ]
  },
  {
   "cell_type": "code",
   "execution_count": 7,
   "id": "d69fa7d9",
   "metadata": {},
   "outputs": [
    {
     "name": "stdout",
     "output_type": "stream",
     "text": [
      "Hello raymon\n",
      "Do you want a blue cat with 67 legs?\n"
     ]
    }
   ],
   "source": [
    "name = input(\"Enter your name:\")\n",
    "print(f\"Hello {name}\")                  #user can also input multiple.....depends on what you're working on\n",
    "fav1 = input(\"What is your favorite animal:\")\n",
    "fav2 = input(\"What is your favorite color:\")\n",
    "fav3 = input(\"What is your favorite number:\")\n",
    "print(f\"Do you want a {fav2} {fav1} with {fav3} legs?\")"
   ]
  },
  {
   "cell_type": "code",
   "execution_count": null,
   "id": "446bee5b",
   "metadata": {},
   "outputs": [
    {
     "ename": "NameError",
     "evalue": "name 'math' is not defined",
     "output_type": "error",
     "traceback": [
      "\u001b[31m---------------------------------------------------------------------------\u001b[39m",
      "\u001b[31mNameError\u001b[39m                                 Traceback (most recent call last)",
      "\u001b[36mCell\u001b[39m\u001b[36m \u001b[39m\u001b[32mIn[22]\u001b[39m\u001b[32m, line 4\u001b[39m\n\u001b[32m      1\u001b[39m x = \u001b[38;5;28minput\u001b[39m(\u001b[33m\"\u001b[39m\u001b[33mEnter a number:\u001b[39m\u001b[33m\"\u001b[39m)\n\u001b[32m      3\u001b[39m \u001b[38;5;66;03m#find the square root of the number:\u001b[39;00m\n\u001b[32m----> \u001b[39m\u001b[32m4\u001b[39m y = \u001b[43mmath\u001b[49m.sqrt(\u001b[38;5;28mfloat\u001b[39m(x))\n\u001b[32m      6\u001b[39m \u001b[38;5;28mprint\u001b[39m(\u001b[33mf\u001b[39m\u001b[33m\"\u001b[39m\u001b[33mThe square root of \u001b[39m\u001b[38;5;132;01m{\u001b[39;00mx\u001b[38;5;132;01m}\u001b[39;00m\u001b[33m is \u001b[39m\u001b[38;5;132;01m{\u001b[39;00my\u001b[38;5;132;01m}\u001b[39;00m\u001b[33m\"\u001b[39m)\n",
      "\u001b[31mNameError\u001b[39m: name 'math' is not defined"
     ]
    }
   ],
   "source": [
    "\n",
    "\n",
    "x = input(\"Enter a number:\")\n",
    "\n",
    "#find the square root of the number:\n",
    "y = math.sqrt(float(x))          #The reason for error is that the math is not import \n",
    "print(f\"The square root of {x} is {y}\")"
   ]
  },
  {
   "cell_type": "code",
   "execution_count": null,
   "id": "a1811baf",
   "metadata": {},
   "outputs": [
    {
     "name": "stdout",
     "output_type": "stream",
     "text": [
      "Thank you!\n"
     ]
    }
   ],
   "source": [
    "y = True\n",
    "while y == True:\n",
    "  x = input(\"Enter a number:\")\n",
    "  try:\n",
    "    x = float(x)\n",
    "    y = False\n",
    "  except:\n",
    "    print(\"Wrong input, please try again.\")\n",
    "\n",
    "print(\"Thank you!\")                                      #VALIDATE INPUT"
   ]
  },
  {
   "cell_type": "code",
   "execution_count": 5,
   "id": "1966966b",
   "metadata": {},
   "outputs": [
    {
     "name": "stdout",
     "output_type": "stream",
     "text": [
      "Yusuf\n",
      "13\n"
     ]
    }
   ],
   "source": [
    "class Person:\n",
    "    def __init__(self, name, age):\n",
    "        self.name = name\n",
    "        self.age = age\n",
    "        \n",
    "\n",
    "myPerson = Person(\"Yusuf\", 13)\n",
    "print(myPerson.name)\n",
    "print(myPerson.age) \n",
    "# print(f\"My name is {myPerson.name}, I am {myPerson.age} years old\")"
   ]
  },
  {
   "cell_type": "code",
   "execution_count": null,
   "id": "4fa7cc84",
   "metadata": {},
   "outputs": [
    {
     "name": "stdout",
     "output_type": "stream",
     "text": [
      "This i  hmm\n"
     ]
    }
   ],
   "source": []
  },
  {
   "cell_type": "code",
   "execution_count": 11,
   "id": "218584f0",
   "metadata": {},
   "outputs": [
    {
     "name": "stdout",
     "output_type": "stream",
     "text": [
      "14\n"
     ]
    }
   ],
   "source": [
    "myPerson.age = 14 \n",
    "print(myPerson.age) "
   ]
  },
  {
   "cell_type": "code",
   "execution_count": null,
   "id": "0f0f9fd9",
   "metadata": {},
   "outputs": [
    {
     "ename": "AttributeError",
     "evalue": "'Person' object has no attribute 'name'",
     "output_type": "error",
     "traceback": [
      "\u001b[31m---------------------------------------------------------------------------\u001b[39m",
      "\u001b[31mAttributeError\u001b[39m                            Traceback (most recent call last)",
      "\u001b[36mCell\u001b[39m\u001b[36m \u001b[39m\u001b[32mIn[12]\u001b[39m\u001b[32m, line 2\u001b[39m\n\u001b[32m      1\u001b[39m \u001b[38;5;28;01mdel\u001b[39;00m myPerson.name\n\u001b[32m----> \u001b[39m\u001b[32m2\u001b[39m \u001b[38;5;28mprint\u001b[39m(\u001b[43mmyPerson\u001b[49m\u001b[43m.\u001b[49m\u001b[43mname\u001b[49m) \n",
      "\u001b[31mAttributeError\u001b[39m: 'Person' object has no attribute 'name'"
     ]
    }
   ],
   "source": [
    "del myPerson.name\n",
    "print(myPerson.name)        # "
   ]
  },
  {
   "cell_type": "code",
   "execution_count": 14,
   "id": "0815c116",
   "metadata": {},
   "outputs": [],
   "source": [
    "class Person:\n",
    "    def __init__(self, name, age):\n",
    "        self.name = name\n",
    "        self.age = age\n",
    "\n",
    "    def __str__(self):\n",
    "        pass\n",
    "        return \"This i  hmm\"        \n",
    "\n",
    "myPerson = Person(\"Yusuf\", 13)\n",
    "# print(myPerson)\n",
    "# print(myPerson.name)\n",
    "# print(myPerson.age) \n",
    "# print(f\"My name is {myPerson.name}, I am {myPerson.age} years old\")"
   ]
  }
 ],
 "metadata": {
  "kernelspec": {
   "display_name": "Python 3",
   "language": "python",
   "name": "python3"
  },
  "language_info": {
   "codemirror_mode": {
    "name": "ipython",
    "version": 3
   },
   "file_extension": ".py",
   "mimetype": "text/x-python",
   "name": "python",
   "nbconvert_exporter": "python",
   "pygments_lexer": "ipython3",
   "version": "3.12.10"
  }
 },
 "nbformat": 4,
 "nbformat_minor": 5
}
