{
 "cells": [
  {
   "cell_type": "code",
   "execution_count": 1,
   "id": "d42e9fb0",
   "metadata": {},
   "outputs": [
    {
     "name": "stdout",
     "output_type": "stream",
     "text": [
      "Import successfully!\n"
     ]
    }
   ],
   "source": [
    "import mysql.connector\n",
    "print(\"Import successfully!\")"
   ]
  },
  {
   "cell_type": "code",
   "execution_count": null,
   "id": "68e231cf",
   "metadata": {},
   "outputs": [
    {
     "name": "stdout",
     "output_type": "stream",
     "text": [
      "Connected Successfully!\n"
     ]
    }
   ],
   "source": [
    "# data = mysql.connector.connect(\n",
    "#     host = \"localhost\",\n",
    "#     user = \"root\",\n",
    "#     password = \"08023256300\",\n",
    "#     database = \"northwind\"\n",
    "# )\n",
    "\n",
    "# if data.is_connected():\n",
    "#     print(\"Connected Successfully!\")\n"
   ]
  },
  {
   "cell_type": "code",
   "execution_count": 3,
   "id": "8f91809f",
   "metadata": {},
   "outputs": [],
   "source": [
    "mycursor = data.cursor()"
   ]
  },
  {
   "cell_type": "code",
   "execution_count": 6,
   "id": "dde91b1c",
   "metadata": {},
   "outputs": [
    {
     "name": "stdout",
     "output_type": "stream",
     "text": [
      "('categories',)\n",
      "('customers',)\n",
      "('employees',)\n",
      "('orderdetails',)\n",
      "('orders',)\n",
      "('products',)\n",
      "('suppliers',)\n"
     ]
    }
   ],
   "source": [
    "mycursor.execute(\"SHOW tables\")\n",
    "\n",
    "for i in mycursor:\n",
    "    print(i)"
   ]
  },
  {
   "cell_type": "code",
   "execution_count": null,
   "id": "d1a60c4f",
   "metadata": {},
   "outputs": [],
   "source": [
    "## Which department in New York has the most employees?\n",
    "mycursor.execute(\"SELECT * FROM CUSTOMERS\")\n",
    "\n",
    "result = mycursor.execute\n"
   ]
  },
  {
   "cell_type": "code",
   "execution_count": 2,
   "id": "2b31b005",
   "metadata": {},
   "outputs": [
    {
     "name": "stdout",
     "output_type": "stream",
     "text": [
      "Import successfully!\n",
      "Connect to mysql successfully!\n"
     ]
    }
   ],
   "source": [
    "import mysql.connector\n",
    "print(\"Import successfully!\")\n",
    "\n",
    "data = mysql.connector.connect(\n",
    "    host = \"localhost\",\n",
    "    user = \"root\",\n",
    "    password = \"08023256300\",\n",
    "    database = \"market\"\n",
    ")\n",
    "\n",
    "mycursor = data.cursor()\n",
    "print(\"Connect to mysql successfully!\")"
   ]
  },
  {
   "cell_type": "code",
   "execution_count": 3,
   "id": "50be4483",
   "metadata": {},
   "outputs": [
    {
     "name": "stdout",
     "output_type": "stream",
     "text": [
      "('customers',)\n",
      "('departments',)\n",
      "('employees',)\n",
      "('persons',)\n"
     ]
    }
   ],
   "source": [
    "mycursor.execute(\"SHOW TABLES\")\n",
    "\n",
    "for i in mycursor:\n",
    "    print(i)"
   ]
  },
  {
   "cell_type": "code",
   "execution_count": 17,
   "id": "c9a499c4",
   "metadata": {},
   "outputs": [
    {
     "name": "stdout",
     "output_type": "stream",
     "text": [
      "('dept_id', 'int', 'NO', 'PRI', None, '')\n",
      "('dept_name', 'varchar(50)', 'YES', '', None, '')\n",
      "('emp_id', 'int', 'NO', 'PRI', None, '')\n",
      "('name', 'varchar(50)', 'YES', '', None, '')\n",
      "('city', 'varchar(50)', 'YES', '', None, '')\n",
      "('dept_id', 'int', 'YES', 'MUL', None, '')\n",
      "('salary', 'decimal(10,2)', 'YES', '', None, '')\n"
     ]
    }
   ],
   "source": [
    "mycursor.execute(\"Describe departments\")\n",
    "for i in mycursor:\n",
    "    print(i)\n",
    "\n",
    "mycursor.execute(\"Describe employees\")\n",
    "for i in mycursor:\n",
    "    print(i)   "
   ]
  },
  {
   "cell_type": "code",
   "execution_count": 20,
   "id": "22422fe5",
   "metadata": {},
   "outputs": [
    {
     "name": "stdout",
     "output_type": "stream",
     "text": [
      "(1, 'Alice', 'New York', 1, Decimal('60000.00'))\n",
      "(2, 'Bob', 'New York', 2, Decimal('55000.00'))\n",
      "(3, 'Charlie', 'Chicago', 2, Decimal('72000.00'))\n",
      "(4, 'Diana', 'Boston', 3, Decimal('80000.00'))\n",
      "(5, 'Ethan', 'New York', 3, Decimal('65000.00'))\n",
      "(6, 'Fiona', 'Chicago', 4, Decimal('50000.00'))\n",
      "(7, 'George', 'Boston', 1, Decimal('70000.00'))\n",
      "(8, 'Hannah', 'New York', 4, Decimal('48000.00'))\n"
     ]
    }
   ],
   "source": [
    "mycursor.execute(\"SELECT * FROM EMPLOYEES\")\n",
    "for i in mycursor:\n",
    "    print(i)"
   ]
  },
  {
   "cell_type": "code",
   "execution_count": 22,
   "id": "0a69d8ff",
   "metadata": {},
   "outputs": [
    {
     "name": "stdout",
     "output_type": "stream",
     "text": [
      "('Charlie', Decimal('72000.00'))\n",
      "('Diana', Decimal('80000.00'))\n",
      "('Ethan', Decimal('65000.00'))\n",
      "('George', Decimal('70000.00'))\n"
     ]
    }
   ],
   "source": [
    "# Write a query to get all employees who earn more than 60,000\n",
    "mycursor.execute(\"SELECT name, salary FROM employees WHERE salary > 60000\")\n",
    "\n",
    "for i in mycursor:\n",
    "    print(i)"
   ]
  },
  {
   "cell_type": "code",
   "execution_count": null,
   "id": "7464fe06",
   "metadata": {},
   "outputs": [
    {
     "name": "stdout",
     "output_type": "stream",
     "text": [
      "('Diana', Decimal('80000.00'))\n",
      "('Charlie', Decimal('72000.00'))\n",
      "('George', Decimal('70000.00'))\n",
      "('Ethan', Decimal('65000.00'))\n",
      "('Alice', Decimal('60000.00'))\n",
      "('Bob', Decimal('55000.00'))\n",
      "('Fiona', Decimal('50000.00'))\n",
      "('Hannah', Decimal('48000.00'))\n"
     ]
    }
   ],
   "source": [
    "#Write a query to list all employees ordered by salary in descending order (highest to lowest)\n",
    "\n",
    "mycursor.execute(\"SELECT name, salary FROM employees ORDER BY salary DESC\")\n",
    "\n",
    "for i in mycursor:\n",
    "    print(i)"
   ]
  },
  {
   "cell_type": "code",
   "execution_count": 26,
   "id": "fd03b937",
   "metadata": {},
   "outputs": [
    {
     "name": "stdout",
     "output_type": "stream",
     "text": [
      "('Alice', Decimal('60000.00'), 'New York')\n",
      "('Bob', Decimal('55000.00'), 'New York')\n",
      "('Ethan', Decimal('65000.00'), 'New York')\n",
      "('Hannah', Decimal('48000.00'), 'New York')\n"
     ]
    }
   ],
   "source": [
    "# Write a query to get all employees who live in New York and show their name and salary only\n",
    "mycursor.execute(\"SELECT name, salary, city FROM employees WHERE city = 'New York'\")\n",
    "# db = mycursor.fetchall()\n",
    "# print(db)\n",
    "for i in mycursor:\n",
    "    print(i)"
   ]
  },
  {
   "cell_type": "code",
   "execution_count": 27,
   "id": "8d644e97",
   "metadata": {},
   "outputs": [
    {
     "name": "stdout",
     "output_type": "stream",
     "text": [
      "(1, 'HR')\n",
      "(2, 'Finance')\n",
      "(3, 'IT')\n",
      "(4, 'Marketing')\n"
     ]
    }
   ],
   "source": [
    "mycursor.execute(\"SELECT * FROM departments\")\n",
    "for i in mycursor:\n",
    "    print(i)"
   ]
  },
  {
   "cell_type": "code",
   "execution_count": 28,
   "id": "413246ae",
   "metadata": {},
   "outputs": [
    {
     "name": "stdout",
     "output_type": "stream",
     "text": [
      "('Alice', 'HR', Decimal('60000.00'))\n",
      "('George', 'HR', Decimal('70000.00'))\n",
      "('Bob', 'Finance', Decimal('55000.00'))\n",
      "('Charlie', 'Finance', Decimal('72000.00'))\n",
      "('Diana', 'IT', Decimal('80000.00'))\n",
      "('Ethan', 'IT', Decimal('65000.00'))\n",
      "('Fiona', 'Marketing', Decimal('50000.00'))\n",
      "('Hannah', 'Marketing', Decimal('48000.00'))\n"
     ]
    }
   ],
   "source": [
    "# 👉 Write a query to get each employee’s name, salary, and their department name (joining employees with departments).\n",
    "mycursor.execute(''' \n",
    "    SELECT E.name, D.dept_name, E.salary \n",
    "        FROM employees E JOIN departments D\n",
    "        ON E.dept_id = D.dept_id\n",
    "''')\n",
    "for i in mycursor:\n",
    "    print(i)"
   ]
  },
  {
   "cell_type": "code",
   "execution_count": null,
   "id": "722eeeae",
   "metadata": {},
   "outputs": [
    {
     "name": "stdout",
     "output_type": "stream",
     "text": [
      "('HR', Decimal('65000.000000'))\n",
      "('Finance', Decimal('63500.000000'))\n",
      "('IT', Decimal('72500.000000'))\n",
      "('Marketing', Decimal('49000.000000'))\n"
     ]
    }
   ],
   "source": [
    "# Write a query to find the average salary in each department, showing the department name and the average salary\n",
    "\n",
    "mycursor.execute('''\n",
    "    SELECT D.dept_name, avg(E.salary) AS Avg_salary\n",
    "         FROM departments D JOIN employees E\n",
    "        ON D.dept_id = E.dept_id \n",
    "        GROUP BY D.dept_name       \n",
    "''')\n",
    "\n",
    "for i in mycursor:\n",
    "    print(i)"
   ]
  },
  {
   "cell_type": "code",
   "execution_count": 33,
   "id": "3186e343",
   "metadata": {},
   "outputs": [
    {
     "name": "stdout",
     "output_type": "stream",
     "text": [
      "('IT', Decimal('80000.00'))\n",
      "('Finance', Decimal('72000.00'))\n",
      "('HR', Decimal('70000.00'))\n",
      "('Marketing', Decimal('50000.00'))\n"
     ]
    }
   ],
   "source": [
    "# Find the highest salary in each department, showing the department name and the max salary\n",
    "mycursor.execute('''\n",
    "    SELECT D.dept_name, max(E.salary) AS MAX_salary \n",
    "        FROM departments D JOIN employees E\n",
    "            ON E.dept_id = D.dept_id\n",
    "    GROUP BY D.dept_name ORDER BY  MAX_salary DESC\n",
    "''')\n",
    "\n",
    "for i in mycursor:\n",
    "    print(i)"
   ]
  },
  {
   "cell_type": "code",
   "execution_count": 44,
   "id": "93c06135",
   "metadata": {},
   "outputs": [
    {
     "name": "stdout",
     "output_type": "stream",
     "text": [
      "('Chicago', Decimal('61000.000000'))\n",
      "('Boston', Decimal('75000.000000'))\n"
     ]
    }
   ],
   "source": [
    "# Find the average salary of employees in each city, but only include cities where the average salary is greater than 60,000\n",
    "mycursor.execute('''\n",
    "    SELECT city, avg(salary) AS avg_salary \n",
    "        FROM employees GROUP BY city\n",
    "    HAVING avg(salary) > 60000\n",
    "''')\n",
    "for i in mycursor:\n",
    "    print(i)"
   ]
  },
  {
   "cell_type": "code",
   "execution_count": 10,
   "id": "a412414f",
   "metadata": {},
   "outputs": [
    {
     "name": "stdout",
     "output_type": "stream",
     "text": [
      "('HR', Decimal('200000.00'))\n",
      "('Finance', Decimal('127000.00'))\n",
      "('IT', Decimal('245000.00'))\n"
     ]
    }
   ],
   "source": [
    "# Find the total salary paid per department, but only include departments where the total salary is above 120,000\n",
    "mycursor.execute('''\n",
    "    SELECT D.dept_name, sum(salary) AS Total_Salary\n",
    "        FROM departments D JOIN employees E\n",
    "        ON D.dept_id = E.dept_id \n",
    "    GROUP BY D.dept_name  \n",
    "        HAVING sum(salary) > 120000\n",
    "''')\n",
    "# x = mycursor.fetchall()\n",
    "# print(x)\n",
    "# for i in x:\n",
    "#     print(x)\n",
    "for i in mycursor:\n",
    "    print(i)"
   ]
  },
  {
   "cell_type": "code",
   "execution_count": 2,
   "id": "cf19f5f1",
   "metadata": {},
   "outputs": [
    {
     "name": "stdout",
     "output_type": "stream",
     "text": [
      "Import successfully!\n",
      "Connected successfully!\n"
     ]
    }
   ],
   "source": [
    "import mysql.connector\n",
    "print(\"Import successfully!\")\n",
    "\n",
    "write = mysql.connector.connect(\n",
    "    host = \"localhost\",\n",
    "    user = \"root\",\n",
    "    password = \"08023256300\",\n",
    "    database = \"job_postings_fact\"\n",
    ")\n",
    "\n",
    "mycursor = write.cursor()\n",
    "print(\"Connected successfully!\")"
   ]
  },
  {
   "cell_type": "code",
   "execution_count": 3,
   "id": "8a27a0cb",
   "metadata": {},
   "outputs": [],
   "source": [
    "import random\n",
    "import datetime"
   ]
  },
  {
   "cell_type": "code",
   "execution_count": 4,
   "id": "9dc3b7c4",
   "metadata": {},
   "outputs": [
    {
     "name": "stdout",
     "output_type": "stream",
     "text": [
      "Inserted 100 job postings successfully!\n"
     ]
    }
   ],
   "source": [
    "job_titles = [\"Data Analyst\", \"Software Engineer\", \"Cybersecurity Specialist\",\n",
    "              \"Financial Analyst\", \"Project Manager\", \"Product Manager\",\n",
    "              \"HR Specialist\", \"Marketing Analyst\", \"Business Analyst\", \"DevOps Engineer\"]\n",
    "companies = [\"Google\", \"Amazon\", \"Microsoft\", \"Meta\", \"Tesla\",\n",
    "             \"IBM\", \"Netflix\", \"Apple\", \"Oracle\", \"Intel\"]\n",
    "\n",
    "locations = [\"New York\", \"San Francisco\", \"Chicago\", \"Boston\", \"Seattle\",\n",
    "             \"Los Angeles\", \"Austin\", \"Washington DC\", \"Miami\", \"Denver\"]\n",
    "\n",
    "for i in range(100):\n",
    "    job_title = random.choice(job_titles)\n",
    "    company = random.choice(companies)\n",
    "    location = random.choice(locations)\n",
    "    salary = round(random.uniform(50000, 150000), 2)\n",
    "    posted_date = datetime.date(2024, random.randint(1, 12), random.randint(1, 20))  # random Sept 2025 dates\n",
    "\n",
    "    mycursor.execute(\"\"\"\n",
    "        INSERT INTO job_postings(job_title, company_name, job_location, salary, job_posted_date)\n",
    "        VALUES (%s, %s, %s, %s, %s)\n",
    "    \"\"\", (job_title, company, location, salary, posted_date))\n",
    "\n",
    "write.commit()\n",
    "print(\"Inserted 100 job postings successfully!\")    "
   ]
  },
  {
   "cell_type": "code",
   "execution_count": 5,
   "id": "5359399d",
   "metadata": {},
   "outputs": [
    {
     "name": "stdout",
     "output_type": "stream",
     "text": [
      "(1, 'Data Analyst', 'Tesla', 'San Francisco', Decimal('143932.30'), datetime.date(2024, 9, 16))\n",
      "(2, 'Software Engineer', 'Microsoft', 'Miami', Decimal('129884.88'), datetime.date(2024, 4, 13))\n",
      "(3, 'Product Manager', 'Netflix', 'Miami', Decimal('75395.53'), datetime.date(2024, 3, 9))\n",
      "(4, 'Cybersecurity Specialist', 'Amazon', 'Seattle', Decimal('124856.51'), datetime.date(2024, 1, 5))\n",
      "(5, 'Business Analyst', 'Google', 'Washington DC', Decimal('149704.69'), datetime.date(2024, 10, 7))\n"
     ]
    }
   ],
   "source": [
    "mycursor.execute(\"SELECT * FROM job_postings LIMIT 5\")\n",
    "\n",
    "for i in mycursor:\n",
    "    print(i)"
   ]
  },
  {
   "cell_type": "code",
   "execution_count": 13,
   "id": "a8a3c7f1",
   "metadata": {},
   "outputs": [
    {
     "name": "stdout",
     "output_type": "stream",
     "text": [
      "(2, 11)\n",
      "(2, 4)\n",
      "(2, 6)\n",
      "(3, 12)\n",
      "(3, 10)\n"
     ]
    }
   ],
   "source": [
    "mycursor.execute('''\n",
    "    SELECT count(job_id) AS job_posted_count,\n",
    "        EXTRACT(MONTH FROM job_posted_date) AS Month\n",
    "    FROM job_postings\n",
    "        WHERE job_title = \"Data Analyst\"\n",
    "        GROUP BY Month ORDER BY job_posted_count limit 5   \n",
    "''')\n",
    "\n",
    "for i in mycursor :\n",
    "    print(i)"
   ]
  },
  {
   "cell_type": "code",
   "execution_count": 15,
   "id": "453203b8",
   "metadata": {},
   "outputs": [
    {
     "name": "stdout",
     "output_type": "stream",
     "text": [
      "(4, 'Cybersecurity Specialist', 'Amazon', 'Seattle', Decimal('124856.51'), datetime.date(2024, 1, 5))\n",
      "(16, 'Software Engineer', 'Intel', 'Chicago', Decimal('120111.05'), datetime.date(2024, 1, 11))\n",
      "(19, 'Data Analyst', 'Intel', 'New York', Decimal('63670.76'), datetime.date(2024, 1, 8))\n",
      "(21, 'Financial Analyst', 'Oracle', 'Washington DC', Decimal('83871.67'), datetime.date(2024, 1, 15))\n",
      "(27, 'Financial Analyst', 'Oracle', 'Los Angeles', Decimal('56644.69'), datetime.date(2024, 1, 19))\n"
     ]
    }
   ],
   "source": [
    "mycursor.execute('''\n",
    "    SELECT * FROM job_postings\n",
    "        WHERE EXTRACT(month from job_posted_date) = 1\n",
    "        LIMIT 5\n",
    "''')\n",
    "\n",
    "for i in mycursor:\n",
    "    print(i)"
   ]
  },
  {
   "cell_type": "code",
   "execution_count": 16,
   "id": "06d6f475",
   "metadata": {},
   "outputs": [
    {
     "name": "stdout",
     "output_type": "stream",
     "text": [
      "january jobs successful\n"
     ]
    }
   ],
   "source": [
    "mycursor.execute('''\n",
    "    CREATE TABLE january_jobs AS\n",
    "    SELECT * FROM job_postings\n",
    "        WHERE EXTRACT(month from job_posted_date) = 1\n",
    "        \n",
    "''')\n",
    "print(\"january jobs successful\")\n",
    "\n",
    "# for i in mycursor:\n",
    "#     print(i)"
   ]
  }
 ],
 "metadata": {
  "kernelspec": {
   "display_name": "Python 3",
   "language": "python",
   "name": "python3"
  },
  "language_info": {
   "codemirror_mode": {
    "name": "ipython",
    "version": 3
   },
   "file_extension": ".py",
   "mimetype": "text/x-python",
   "name": "python",
   "nbconvert_exporter": "python",
   "pygments_lexer": "ipython3",
   "version": "3.12.10"
  }
 },
 "nbformat": 4,
 "nbformat_minor": 5
}
