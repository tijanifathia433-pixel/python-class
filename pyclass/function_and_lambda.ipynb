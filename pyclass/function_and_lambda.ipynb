{
 "cells": [
  {
   "cell_type": "markdown",
   "id": "14da0660",
   "metadata": {},
   "source": [
    "### **Python Functions and Lambda Expressions - Complete Guide**"
   ]
  },
  {
   "cell_type": "markdown",
   "id": "3fcbb07c",
   "metadata": {},
   "source": [
    "#### **1. Python Functions**\n",
    "##### **1.1 What are Functions?**\n",
    "- **Functions** are reusable blocks of code that perform a specific task.\n",
    "- They help in **modularizing** code and **avoiding repetition**.\n",
    "- Defined using the `def` keyword."
   ]
  },
  {
   "cell_type": "markdown",
   "id": "999c0ad7",
   "metadata": {},
   "source": [
    "##### **1.2 Function Syntax**\n",
    "```python\n",
    "def function_name(parameters):\n",
    "    \"\"\"Docstring (optional)\"\"\"\n",
    "    # Function body\n",
    "    return result  # Optional\n",
    "```"
   ]
  },
  {
   "cell_type": "code",
   "execution_count": 1,
   "id": "03d60aad",
   "metadata": {},
   "outputs": [
    {
     "name": "stdout",
     "output_type": "stream",
     "text": [
      "Hello, World!\n"
     ]
    }
   ],
   "source": [
    "def greet():\n",
    "    print(\"Hello, World!\")\n",
    "\n",
    "\n",
    "greet()"
   ]
  },
  {
   "cell_type": "markdown",
   "id": "0dfbe160",
   "metadata": {},
   "source": [
    "#### **1.3 Examples**\n",
    "##### **Example 1: Basic Function**"
   ]
  },
  {
   "cell_type": "code",
   "execution_count": null,
   "id": "915b9c91",
   "metadata": {},
   "outputs": [
    {
     "name": "stdout",
     "output_type": "stream",
     "text": [
      "Hello, World!\n"
     ]
    }
   ],
   "source": [
    "# def greet():\n",
    "#     print(\"Hello, World!\")\n",
    "\n",
    "# greet()  # Output: Hello, World!"
   ]
  },
  {
   "cell_type": "code",
   "execution_count": 12,
   "id": "960185f1",
   "metadata": {},
   "outputs": [
    {
     "name": "stdout",
     "output_type": "stream",
     "text": [
      "Welcome, January!\n"
     ]
    }
   ],
   "source": [
    "def month():\n",
    "    print(\"Welcome, January!\")\n",
    "\n",
    "month()    "
   ]
  },
  {
   "cell_type": "code",
   "execution_count": null,
   "id": "4a2396a4",
   "metadata": {},
   "outputs": [
    {
     "name": "stdout",
     "output_type": "stream",
     "text": [
      "Welcome, Faith!\n"
     ]
    }
   ],
   "source": [
    "# name = input(\"Enter your name: \")\n",
    "\n",
    "\n",
    "# def welcome(g):\n",
    "#     # print(\"Welcome, \" + g + \"!\")\n",
    "#     print(f\"Welcome, {g}!\")\n",
    "\n",
    "# welcome(name)  # Output: Welcome, <name>"
   ]
  },
  {
   "cell_type": "code",
   "execution_count": 14,
   "id": "78e4d33f",
   "metadata": {},
   "outputs": [
    {
     "name": "stdout",
     "output_type": "stream",
     "text": [
      "my favourite food is fries\n"
     ]
    }
   ],
   "source": [
    "food = input(\"Enter your best food\")\n",
    "\n",
    "def eat(t):\n",
    "    print(f\"my favourite food is {t}\")\n",
    "\n",
    "eat(food)    "
   ]
  },
  {
   "cell_type": "markdown",
   "id": "e74d158b",
   "metadata": {},
   "source": [
    "##### **Example 2: Function with Parameters**"
   ]
  },
  {
   "cell_type": "code",
   "execution_count": null,
   "id": "53b2d0cd",
   "metadata": {},
   "outputs": [
    {
     "name": "stdout",
     "output_type": "stream",
     "text": [
      "8\n"
     ]
    }
   ],
   "source": [
    "# def add(a, b):\n",
    "#     return a + b\n",
    "\n",
    "# result = add(3, 5)\n",
    "# print(result)  # Output: 8\n"
   ]
  },
  {
   "cell_type": "code",
   "execution_count": 17,
   "id": "aed09b5d",
   "metadata": {},
   "outputs": [
    {
     "name": "stdout",
     "output_type": "stream",
     "text": [
      "8\n"
     ]
    }
   ],
   "source": [
    "def help(carry, me):\n",
    "    return carry + me\n",
    "\n",
    "sum = help(3, 5)\n",
    "\n",
    "print(sum)\n"
   ]
  },
  {
   "cell_type": "code",
   "execution_count": 5,
   "id": "26e91314",
   "metadata": {},
   "outputs": [
    {
     "name": "stdout",
     "output_type": "stream",
     "text": [
      "184\n"
     ]
    }
   ],
   "source": [
    "def sum_lst(lst):\n",
    "    total = 0\n",
    "    for i in lst:\n",
    "        total+=i\n",
    "    return total\n",
    "\n",
    "x = [20,21,40,30,23,50]\n",
    "result = sum_lst(x)\n",
    "\n",
    "print(result)"
   ]
  },
  {
   "cell_type": "markdown",
   "id": "5861dca6",
   "metadata": {},
   "source": [
    "##### **Example 3: Default Arguments**"
   ]
  },
  {
   "cell_type": "code",
   "execution_count": 6,
   "id": "0578c6b5",
   "metadata": {},
   "outputs": [
    {
     "name": "stdout",
     "output_type": "stream",
     "text": [
      "Hello, Alice!\n",
      "Hello, Guest!\n"
     ]
    }
   ],
   "source": [
    "def greet(name=\"Guest\"):\n",
    "    print(f\"Hello, {name}!\")\n",
    "\n",
    "greet(\"Alice\")  # Output: Hello, Alice!\n",
    "greet()         # Output: Hello, Guest!"
   ]
  },
  {
   "cell_type": "code",
   "execution_count": 8,
   "id": "70c53620",
   "metadata": {},
   "outputs": [
    {
     "name": "stdout",
     "output_type": "stream",
     "text": [
      "the first animal is Cat\n",
      "the second animal is Dog\n",
      "the third animal is Duck\n",
      "the fourth animal is Monkey\n"
     ]
    }
   ],
   "source": [
    "def zoo(a,b,c, d):\n",
    "    print(f\"the first animal is {a}\")\n",
    "    print(f\"the second animal is {b}\")\n",
    "    print(f\"the third animal is {c}\")\n",
    "    print(f\"the fourth animal is {d}\")\n",
    "\n",
    "zoo(\"Cat\",\"Dog\",\"Duck\",\"Monkey\")"
   ]
  },
  {
   "cell_type": "markdown",
   "id": "6ab0926f",
   "metadata": {},
   "source": [
    "##### **Example 4: Variable-Length Arguments (`*args` and `**kwargs`)**"
   ]
  },
  {
   "cell_type": "code",
   "execution_count": 10,
   "id": "d126fcfb",
   "metadata": {},
   "outputs": [
    {
     "name": "stdout",
     "output_type": "stream",
     "text": [
      "8551\n",
      "name: Alice\n",
      "age: 25\n",
      "city: New York\n",
      "country: USA\n"
     ]
    }
   ],
   "source": [
    "def sum_all(*args):\n",
    "    return sum(args)\n",
    "\n",
    "\n",
    "print(sum_all(1, 2, 3,3,4,5,6,7,7,7,8,9,90,90,44,5,88,69,959,698,5869,577))  # Output: 6\n",
    "\n",
    "\n",
    "def print_details(**kwargs):\n",
    "    for key, value in kwargs.items():\n",
    "        print(f\"{key}: {value}\")\n",
    "\n",
    "print_details(name=\"Alice\", age=25, city=\"New York\", country=\"USA\")\n",
    "\n",
    "# Output:\n",
    "# name: Alice\n",
    "# age: 25"
   ]
  },
  {
   "cell_type": "markdown",
   "id": "6c24f5c2",
   "metadata": {},
   "source": [
    "##### **Example 5: Return Multiple Values**"
   ]
  },
  {
   "cell_type": "code",
   "execution_count": 22,
   "id": "97146e0f",
   "metadata": {},
   "outputs": [
    {
     "name": "stdout",
     "output_type": "stream",
     "text": [
      "Your name is : faqok\n",
      "Your age is : 44\n"
     ]
    }
   ],
   "source": [
    "name = input(\"enter your name\")\n",
    "age = input(\"enter you age\")\n",
    "\n",
    "def get_user():\n",
    "    \n",
    "    return name, age  # Returns a tuple\n",
    "\n",
    "# print(get_user())\n",
    "\n",
    "name, age = get_user()\n",
    "# print(name, age)  # Output: Alice 25\n",
    "print(f\"Your name is : {name}\")\n",
    "print(f\"Your age is : {age}\")\n"
   ]
  },
  {
   "cell_type": "code",
   "execution_count": 28,
   "id": "b9ea9904",
   "metadata": {},
   "outputs": [
    {
     "name": "stdout",
     "output_type": "stream",
     "text": [
      "Welcome to my coffee shop fff\n"
     ]
    }
   ],
   "source": [
    "def message():\n",
    "    name = input(\"Enter Your name: \")\n",
    "    # print(f\"Welcome to my coffee shop {name}\")\n",
    "    return f\"Welcome to my coffee shop {name}\"\n",
    "\n",
    "print(message())"
   ]
  },
  {
   "cell_type": "code",
   "execution_count": 29,
   "id": "ae86116d",
   "metadata": {},
   "outputs": [
    {
     "name": "stdout",
     "output_type": "stream",
     "text": [
      "your name is gggg and your age is 12\n"
     ]
    }
   ],
   "source": [
    "def get_user2(name, age):\n",
    "    return name, age  # Returns a tuple\n",
    "\n",
    "name = input(\"Enter your name: \")\n",
    "age = int(input(\"Enter your age: \"))\n",
    "\n",
    "name, age =  get_user2(name, age)  # Returns a tuple\n",
    "\n",
    "print(f\"your name is {name} and your age is {age}\")\n"
   ]
  },
  {
   "cell_type": "markdown",
   "id": "5174866a",
   "metadata": {},
   "source": [
    "### **2. Lambda Functions (Anonymous Functions)**\n",
    "#### **2.1 What are Lambda Functions?**\n",
    "- **Lambda** functions are small, **anonymous** functions defined with `lambda`.\n",
    "- They can have **any number of arguments but only one expression**.\n",
    "- Useful for **short, one-time operations**.\n"
   ]
  },
  {
   "cell_type": "markdown",
   "id": "fe5184ac",
   "metadata": {},
   "source": [
    "#### **2.2 Lambda Syntax**\n",
    "```python\n",
    "lambda arguments: expression\n",
    "```"
   ]
  },
  {
   "cell_type": "markdown",
   "id": "2ebd8b1e",
   "metadata": {},
   "source": [
    "#### **2.3 Examples**\n",
    "##### **Example 1: Basic Lambda**"
   ]
  },
  {
   "cell_type": "code",
   "execution_count": 30,
   "id": "a356b8c3",
   "metadata": {},
   "outputs": [
    {
     "name": "stdout",
     "output_type": "stream",
     "text": [
      "25\n"
     ]
    }
   ],
   "source": [
    "square = lambda x: x ** 2\n",
    "\n",
    "num = int(input(\"Enter a number: \"))\n",
    "print(square(num))  # Output: 25"
   ]
  },
  {
   "cell_type": "code",
   "execution_count": 32,
   "id": "279e36f6",
   "metadata": {},
   "outputs": [
    {
     "name": "stdout",
     "output_type": "stream",
     "text": [
      "7\n",
      "(11, -3)\n"
     ]
    }
   ],
   "source": [
    "add = lambda a, b : a+b\n",
    "\n",
    "print(add(3,4))\n",
    "\n",
    "\n",
    "def add2(x,y):\n",
    "    x+y\n",
    "    x-y\n",
    "    return x+y, x-y\n",
    "\n",
    "print(add2(4,7))"
   ]
  },
  {
   "cell_type": "code",
   "execution_count": 33,
   "id": "35aaff19",
   "metadata": {},
   "outputs": [
    {
     "name": "stdout",
     "output_type": "stream",
     "text": [
      "25\n"
     ]
    }
   ],
   "source": [
    "def square(x):\n",
    "    # \"\"\"Returns the square of x.\"\"\"\n",
    "    x = int(x)  # Ensure x is an integer\n",
    "    if x < 0:\n",
    "        raise ValueError(\"x must be a non-negative integer\")\n",
    "    if x > 10:\n",
    "        raise ValueError(\"x must be less than 10\")  \n",
    "    return x ** 2\n",
    "\n",
    "print(square(5))  # Output: 25"
   ]
  },
  {
   "cell_type": "markdown",
   "id": "1a7311dc",
   "metadata": {},
   "source": [
    "##### **Example 2: Lambda with Multiple Arguments**"
   ]
  },
  {
   "cell_type": "code",
   "execution_count": null,
   "id": "d36b46d8",
   "metadata": {},
   "outputs": [],
   "source": [
    "add = lambda a, b: a + b\n",
    "print(add(3, 4))  # Output: 7"
   ]
  },
  {
   "cell_type": "markdown",
   "id": "3dddf3ff",
   "metadata": {},
   "source": [
    "##### **Example 3: Using Lambda with `map()`**"
   ]
  },
  {
   "cell_type": "code",
   "execution_count": null,
   "id": "284d3c6d",
   "metadata": {},
   "outputs": [],
   "source": [
    "numbers = [1, 2, 3, 4]\n",
    "squared = list(map(lambda x: x ** 2, numbers))\n",
    "print(squared)  # Output: [1, 4, 9, 16]"
   ]
  },
  {
   "cell_type": "markdown",
   "id": "f4b155c0",
   "metadata": {},
   "source": [
    "##### **Example 4: Using Lambda with `filter()`**"
   ]
  },
  {
   "cell_type": "code",
   "execution_count": null,
   "id": "aa03a20f",
   "metadata": {},
   "outputs": [],
   "source": [
    "9 % 2"
   ]
  },
  {
   "cell_type": "code",
   "execution_count": null,
   "id": "cec45731",
   "metadata": {},
   "outputs": [],
   "source": [
    "numbers = [1, 2, 3, 4, 5]\n",
    "even = list(filter(lambda x: x % 2 == 0, numbers))\n",
    "print(even)  # Output: [2, 4]"
   ]
  },
  {
   "cell_type": "markdown",
   "id": "8ccc9ff7",
   "metadata": {},
   "source": [
    "##### **Example 5: Using Lambda with `sorted()`**"
   ]
  },
  {
   "cell_type": "code",
   "execution_count": null,
   "id": "95f0bc0f",
   "metadata": {},
   "outputs": [],
   "source": [
    "students = [(\"Alice\", 25), (\"Bob\", 20), (\"Charlie\", 22)]\n",
    "\n",
    "students[2][1]"
   ]
  },
  {
   "cell_type": "code",
   "execution_count": null,
   "id": "884389b6",
   "metadata": {},
   "outputs": [],
   "source": [
    "students = [(\"Alice\", 25), (\"Bob\", 20), (\"Charlie\", 22)]\n",
    "\n",
    "sorted_students = sorted(students, key=lambda x: x[0])  # Sort by age\n",
    "print(sorted_students)\n",
    "# Output: [(\"Bob\", 20), (\"Charlie\", 22), (\"Alice\", 25)]"
   ]
  },
  {
   "cell_type": "code",
   "execution_count": null,
   "id": "9d85ef1b",
   "metadata": {},
   "outputs": [],
   "source": [
    "students = [(\"Alice\", 25), (\"Bob\", 20), (\"Charlie\", 22)]\n",
    "\n",
    "key=lambda x: x[1]\n",
    "\n",
    "print(key(students[1]))"
   ]
  },
  {
   "cell_type": "markdown",
   "id": "75217ede",
   "metadata": {},
   "source": [
    "---\n",
    "\n",
    "#### **3. Functions vs. Lambda**\n",
    "| Feature | Functions (`def`) | Lambda Functions |\n",
    "|---------|-------------------|------------------|\n",
    "| **Syntax** | `def name():` | `lambda x: x` |\n",
    "| **Name** | Has a name | Anonymous |\n",
    "| **Body** | Can have multiple statements | Single expression |\n",
    "| **Return** | Uses `return` | Returns expression result |\n",
    "| **Use Case** | Complex logic | Short, simple operations |\n",
    "\n",
    "---"
   ]
  },
  {
   "cell_type": "code",
   "execution_count": null,
   "id": "a3f8b926",
   "metadata": {},
   "outputs": [],
   "source": []
  },
  {
   "cell_type": "markdown",
   "id": "5389814e",
   "metadata": {},
   "source": [
    "#### **4. Exercises**\n",
    "##### **Exercise 1: Function Basics**\n",
    "```python\n",
    "# Write a function that takes a name and returns a greeting message\n",
    "# Example: greet(\"Alice\") → \"Hello, Alice!\"\n",
    "```\n",
    "\n",
    "##### **Exercise 2: Lambda Practice**\n",
    "```python\n",
    "# Convert this function to a lambda:\n",
    "def multiply(a, b):\n",
    "    return a * b\n",
    "```\n",
    "\n",
    "##### **Exercise 3: Higher-Order Functions**\n",
    "```python\n",
    "# Use `filter()` and a lambda to extract even numbers from a list\n",
    "numbers = [1, 2, 3, 4, 5, 6]\n",
    "```\n",
    "\n",
    "##### **Exercise 4: Advanced Function**\n",
    "```python\n",
    "# Write a function that accepts variable arguments and returns their average\n",
    "# Example: average(1, 2, 3) → 2.0\n",
    "```"
   ]
  },
  {
   "cell_type": "code",
   "execution_count": null,
   "id": "5218370a",
   "metadata": {},
   "outputs": [],
   "source": []
  },
  {
   "cell_type": "code",
   "execution_count": null,
   "id": "97dd8cf2",
   "metadata": {},
   "outputs": [],
   "source": []
  },
  {
   "cell_type": "code",
   "execution_count": null,
   "id": "28c5ee56",
   "metadata": {},
   "outputs": [],
   "source": []
  },
  {
   "cell_type": "code",
   "execution_count": null,
   "id": "ffeb1fb9",
   "metadata": {},
   "outputs": [],
   "source": []
  },
  {
   "cell_type": "code",
   "execution_count": null,
   "id": "bd9aa974",
   "metadata": {},
   "outputs": [],
   "source": []
  },
  {
   "cell_type": "code",
   "execution_count": null,
   "id": "b50cd75d",
   "metadata": {},
   "outputs": [],
   "source": []
  },
  {
   "cell_type": "code",
   "execution_count": null,
   "id": "dcb2b7ad",
   "metadata": {},
   "outputs": [],
   "source": []
  },
  {
   "cell_type": "code",
   "execution_count": null,
   "id": "68bccc2a",
   "metadata": {},
   "outputs": [],
   "source": []
  },
  {
   "cell_type": "code",
   "execution_count": null,
   "id": "36877c06",
   "metadata": {},
   "outputs": [],
   "source": []
  },
  {
   "cell_type": "code",
   "execution_count": null,
   "id": "5f49eba5",
   "metadata": {},
   "outputs": [],
   "source": []
  },
  {
   "cell_type": "markdown",
   "id": "7debe4d7",
   "metadata": {},
   "source": [
    "## **5. Solutions**\n",
    "### **Exercise 1 Solution**\n",
    "```python\n",
    "def greet(name):\n",
    "    return f\"Hello, {name}!\"\n",
    "\n",
    "print(greet(\"Alice\"))  # Output: Hello, Alice!\n",
    "```\n",
    "\n",
    "### **Exercise 2 Solution**\n",
    "```python\n",
    "multiply = lambda a, b: a * b\n",
    "print(multiply(3, 4))  # Output: 12\n",
    "```\n",
    "\n",
    "### **Exercise 3 Solution**\n",
    "```python\n",
    "even = list(filter(lambda x: x % 2 == 0, numbers))\n",
    "print(even)  # Output: [2, 4, 6]\n",
    "```\n",
    "\n",
    "### **Exercise 4 Solution**\n",
    "```python\n",
    "def average(*args):\n",
    "    return sum(args) / len(args)\n",
    "\n",
    "print(average(1, 2, 3))  # Output: 2.0\n",
    "```\n",
    "\n",
    "---"
   ]
  },
  {
   "cell_type": "markdown",
   "id": "731c7c8a",
   "metadata": {},
   "source": []
  }
 ],
 "metadata": {
  "kernelspec": {
   "display_name": "Python 3",
   "language": "python",
   "name": "python3"
  },
  "language_info": {
   "codemirror_mode": {
    "name": "ipython",
    "version": 3
   },
   "file_extension": ".py",
   "mimetype": "text/x-python",
   "name": "python",
   "nbconvert_exporter": "python",
   "pygments_lexer": "ipython3",
   "version": "3.12.10"
  }
 },
 "nbformat": 4,
 "nbformat_minor": 5
}
