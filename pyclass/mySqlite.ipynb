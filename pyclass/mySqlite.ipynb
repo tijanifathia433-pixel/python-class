{
 "cells": [
  {
   "cell_type": "code",
   "execution_count": null,
   "id": "3e66d3ec",
   "metadata": {},
   "outputs": [],
   "source": [
    "import sqlite3"
   ]
  },
  {
   "cell_type": "code",
   "execution_count": null,
   "id": "5cdacd97",
   "metadata": {},
   "outputs": [],
   "source": [
    "com = sqlite3.connect('sqlite.db')"
   ]
  },
  {
   "cell_type": "code",
   "execution_count": null,
   "id": "0385d0c6",
   "metadata": {},
   "outputs": [],
   "source": [
    "ex = com.cursor()"
   ]
  },
  {
   "cell_type": "code",
   "execution_count": 8,
   "id": "a5204fcc",
   "metadata": {},
   "outputs": [
    {
     "data": {
      "text/plain": [
       "<sqlite3.Cursor at 0x1789dd6ddc0>"
      ]
     },
     "execution_count": 8,
     "metadata": {},
     "output_type": "execute_result"
    }
   ],
   "source": [
    "ex.execute('DROP TABLE Employees')"
   ]
  },
  {
   "cell_type": "code",
   "execution_count": null,
   "id": "f0d1526f",
   "metadata": {},
   "outputs": [],
   "source": [
    "ex.execute(''' \n",
    "    CREATE TABLE customers(\n",
    "        Customer_id INTEGER PRIMARY KEY AUTOINCREMENT,\n",
    "        Customer_name CHAR(50),\n",
    "        Country VARCHAR(50),\n",
    "        Gender VARCHAR(20),\n",
    "        City TEXT\n",
    "    )\n",
    "''')"
   ]
  },
  {
   "cell_type": "code",
   "execution_count": null,
   "id": "72011cd1",
   "metadata": {},
   "outputs": [],
   "source": [
    "i = 0\n",
    "while i <= 1:\n",
    "    Customer_name = input(\"Please enter your name\")\n",
    "    Gender = input(\"Your gender\")\n",
    "    City = input(\"Enter your city\")\n",
    "    Country = input(\"Your country?\")\n",
    "    Return = \"INSERT INTO customers (Customer_name, Gender, City, Country) VALUES (?,?,?,?)\"\n",
    "    cur.execute(Return, (Customer_name, Gender, City, Country))\n",
    "    com.commit()\n",
    "    i += 1"
   ]
  },
  {
   "cell_type": "code",
   "execution_count": null,
   "id": "78fb5e7f",
   "metadata": {},
   "outputs": [],
   "source": [
    "cur.execute('SELECT* FROM customers')\n",
    "rows = cur.fetchall()\n",
    "print(\"List of all Customers\")\n",
    "\n",
    "for row in rows:\n",
    "    print(row)"
   ]
  },
  {
   "cell_type": "code",
   "execution_count": null,
   "id": "bbb3ebf0",
   "metadata": {},
   "outputs": [],
   "source": [
    "cur.execute('''\n",
    "    UPDATE Customers SET City = ?, Country = ? WHERE Customer_id = ?\n",
    "    ''', ('Nile', 'South Korean', 1))"
   ]
  },
  {
   "cell_type": "code",
   "execution_count": null,
   "id": "9824ba26",
   "metadata": {},
   "outputs": [],
   "source": [
    "cur.execute('''\n",
    "    SELECT* FROM customers WHERE Customer_id = ?\n",
    "    ''', (1,))\n",
    "rows = cur.fetchone()\n",
    "\n",
    "\n",
    "print(rows)"
   ]
  },
  {
   "cell_type": "code",
   "execution_count": null,
   "id": "a3da9943",
   "metadata": {},
   "outputs": [],
   "source": [
    "cur.execute('''\n",
    "                delete from customers WHERE Customer_id = ?\n",
    "            ''', (8,))\n",
    "conn.commit()"
   ]
  },
  {
   "cell_type": "code",
   "execution_count": 9,
   "id": "641d178c",
   "metadata": {},
   "outputs": [
    {
     "data": {
      "text/plain": [
       "<sqlite3.Cursor at 0x1789dd6ddc0>"
      ]
     },
     "execution_count": 9,
     "metadata": {},
     "output_type": "execute_result"
    }
   ],
   "source": [
    "ex.execute ('''\n",
    "    CREATE TABLE Employees(\n",
    "        Employee_id INT,\n",
    "        Full_name VARCHAR(50), \n",
    "        Department CHAR(20),\n",
    "        City TEXT \n",
    "    )\n",
    "''' )"
   ]
  },
  {
   "cell_type": "code",
   "execution_count": 14,
   "id": "e520aa3b",
   "metadata": {},
   "outputs": [
    {
     "data": {
      "text/plain": [
       "<sqlite3.Cursor at 0x1789dd6ddc0>"
      ]
     },
     "execution_count": 14,
     "metadata": {},
     "output_type": "execute_result"
    }
   ],
   "source": [
    "ex.executemany('''\n",
    "    INSERT INTO Employees (Employee_id, Full_name, Department, City)\n",
    "    VALUES(?,?,?,?)\n",
    "''', [\n",
    "    (1, 'Alice Johnson', 'HR', 'New York'), (2, 'Bob Smith', 'Finance', 'New York'),\n",
    "    (3,'Charlie Lee', 'Finance', 'Chicago'), (4,'Diana Prince', 'IT','New York'),\n",
    "    (5,'Ethan Brown','IT','New York'), (6, 'Fiona White','Marketing','Boston'),\n",
    "    (7,'George King','HR','New York'), (8, 'Hannah Scott','Finance','New York')    \n",
    "])\n",
    "  \n",
    "            "
   ]
  },
  {
   "cell_type": "code",
   "execution_count": 12,
   "id": "54581328",
   "metadata": {},
   "outputs": [
    {
     "data": {
      "text/plain": [
       "<sqlite3.Cursor at 0x1789dd6ddc0>"
      ]
     },
     "execution_count": 12,
     "metadata": {},
     "output_type": "execute_result"
    }
   ],
   "source": [
    "ex.execute('''\n",
    "    INSERT INTO Employees (Employee_id, Full_name, Department, City)\n",
    "    VALUES(?,?,?,?)\n",
    "''', \n",
    "    (1, 'Alice Johnson', 'HR', 'New York'))\n"
   ]
  },
  {
   "cell_type": "code",
   "execution_count": null,
   "id": "eee5c719",
   "metadata": {},
   "outputs": [],
   "source": [
    "ex.execute(''' \n",
    "    delete)"
   ]
  },
  {
   "cell_type": "code",
   "execution_count": 15,
   "id": "b58cee56",
   "metadata": {},
   "outputs": [],
   "source": [
    "com.commit()"
   ]
  },
  {
   "cell_type": "code",
   "execution_count": null,
   "id": "8225c1fa",
   "metadata": {},
   "outputs": [],
   "source": [
    "ex.execute('SELECT * FROM Employees WHERE city= \"New York\"')\n",
    "row = ex.fetchone()\n",
    "print(row)"
   ]
  },
  {
   "cell_type": "code",
   "execution_count": 62,
   "id": "fb08b3ae",
   "metadata": {},
   "outputs": [],
   "source": [
    "import mysql.connector"
   ]
  },
  {
   "cell_type": "code",
   "execution_count": 63,
   "id": "af051457",
   "metadata": {},
   "outputs": [
    {
     "name": "stdout",
     "output_type": "stream",
     "text": [
      "Successfully!\n"
     ]
    }
   ],
   "source": [
    "mydb = mysql.connector.connect(\n",
    "  host=\"localhost\",\n",
    "  user=\"root\",\n",
    "  password='08023256300',\n",
    "  database=\"myrecords\"\n",
    ")\n",
    "\n",
    "if mydb.is_connected():\n",
    "    print(\"Successfully!\")"
   ]
  },
  {
   "cell_type": "code",
   "execution_count": 64,
   "id": "2ae22010",
   "metadata": {},
   "outputs": [],
   "source": [
    "mycursor = mydb.cursor()"
   ]
  },
  {
   "cell_type": "markdown",
   "id": "3bb305ef",
   "metadata": {},
   "source": [
    "Create database and table collect input  "
   ]
  },
  {
   "cell_type": "code",
   "execution_count": 23,
   "id": "4d6a10d2",
   "metadata": {},
   "outputs": [],
   "source": [
    "mycursor.execute('''\n",
    "    CREATE TABLE myrecords(\n",
    "        ID INT AUTO_INCREMENT PRIMARY KEY,\n",
    "        NAME CHAR(20),\n",
    "        GENDER TEXT,\n",
    "        COURSE VARCHAR(30))\n",
    "''')"
   ]
  },
  {
   "cell_type": "code",
   "execution_count": 58,
   "id": "da6e13bb",
   "metadata": {},
   "outputs": [
    {
     "ename": "KeyboardInterrupt",
     "evalue": "Interrupted by user",
     "output_type": "error",
     "traceback": [
      "\u001b[31m---------------------------------------------------------------------------\u001b[39m",
      "\u001b[31mKeyboardInterrupt\u001b[39m                         Traceback (most recent call last)",
      "\u001b[36mCell\u001b[39m\u001b[36m \u001b[39m\u001b[32mIn[58]\u001b[39m\u001b[32m, line 1\u001b[39m\n\u001b[32m----> \u001b[39m\u001b[32m1\u001b[39m Name = \u001b[38;5;28;43minput\u001b[39;49m\u001b[43m(\u001b[49m\u001b[33;43m\"\u001b[39;49m\u001b[33;43mEnter your Name\u001b[39;49m\u001b[33;43m\"\u001b[39;49m\u001b[43m)\u001b[49m\n\u001b[32m      2\u001b[39m Gender = \u001b[38;5;28minput\u001b[39m(\u001b[33m\"\u001b[39m\u001b[33mEnter your Gender\u001b[39m\u001b[33m\"\u001b[39m)\n\u001b[32m      3\u001b[39m Course = \u001b[38;5;28minput\u001b[39m(\u001b[33m\"\u001b[39m\u001b[33mEnter your course\u001b[39m\u001b[33m\"\u001b[39m)\n",
      "\u001b[36mFile \u001b[39m\u001b[32m~\\AppData\\Roaming\\Python\\Python312\\site-packages\\ipykernel\\kernelbase.py:1275\u001b[39m, in \u001b[36mKernel.raw_input\u001b[39m\u001b[34m(self, prompt)\u001b[39m\n\u001b[32m   1273\u001b[39m     msg = \u001b[33m\"\u001b[39m\u001b[33mraw_input was called, but this frontend does not support input requests.\u001b[39m\u001b[33m\"\u001b[39m\n\u001b[32m   1274\u001b[39m     \u001b[38;5;28;01mraise\u001b[39;00m StdinNotImplementedError(msg)\n\u001b[32m-> \u001b[39m\u001b[32m1275\u001b[39m \u001b[38;5;28;01mreturn\u001b[39;00m \u001b[38;5;28;43mself\u001b[39;49m\u001b[43m.\u001b[49m\u001b[43m_input_request\u001b[49m\u001b[43m(\u001b[49m\n\u001b[32m   1276\u001b[39m \u001b[43m    \u001b[49m\u001b[38;5;28;43mstr\u001b[39;49m\u001b[43m(\u001b[49m\u001b[43mprompt\u001b[49m\u001b[43m)\u001b[49m\u001b[43m,\u001b[49m\n\u001b[32m   1277\u001b[39m \u001b[43m    \u001b[49m\u001b[38;5;28;43mself\u001b[39;49m\u001b[43m.\u001b[49m\u001b[43m_parent_ident\u001b[49m\u001b[43m[\u001b[49m\u001b[33;43m\"\u001b[39;49m\u001b[33;43mshell\u001b[39;49m\u001b[33;43m\"\u001b[39;49m\u001b[43m]\u001b[49m\u001b[43m,\u001b[49m\n\u001b[32m   1278\u001b[39m \u001b[43m    \u001b[49m\u001b[38;5;28;43mself\u001b[39;49m\u001b[43m.\u001b[49m\u001b[43mget_parent\u001b[49m\u001b[43m(\u001b[49m\u001b[33;43m\"\u001b[39;49m\u001b[33;43mshell\u001b[39;49m\u001b[33;43m\"\u001b[39;49m\u001b[43m)\u001b[49m\u001b[43m,\u001b[49m\n\u001b[32m   1279\u001b[39m \u001b[43m    \u001b[49m\u001b[43mpassword\u001b[49m\u001b[43m=\u001b[49m\u001b[38;5;28;43;01mFalse\u001b[39;49;00m\u001b[43m,\u001b[49m\n\u001b[32m   1280\u001b[39m \u001b[43m\u001b[49m\u001b[43m)\u001b[49m\n",
      "\u001b[36mFile \u001b[39m\u001b[32m~\\AppData\\Roaming\\Python\\Python312\\site-packages\\ipykernel\\kernelbase.py:1320\u001b[39m, in \u001b[36mKernel._input_request\u001b[39m\u001b[34m(self, prompt, ident, parent, password)\u001b[39m\n\u001b[32m   1317\u001b[39m \u001b[38;5;28;01mexcept\u001b[39;00m \u001b[38;5;167;01mKeyboardInterrupt\u001b[39;00m:\n\u001b[32m   1318\u001b[39m     \u001b[38;5;66;03m# re-raise KeyboardInterrupt, to truncate traceback\u001b[39;00m\n\u001b[32m   1319\u001b[39m     msg = \u001b[33m\"\u001b[39m\u001b[33mInterrupted by user\u001b[39m\u001b[33m\"\u001b[39m\n\u001b[32m-> \u001b[39m\u001b[32m1320\u001b[39m     \u001b[38;5;28;01mraise\u001b[39;00m \u001b[38;5;167;01mKeyboardInterrupt\u001b[39;00m(msg) \u001b[38;5;28;01mfrom\u001b[39;00m\u001b[38;5;250m \u001b[39m\u001b[38;5;28;01mNone\u001b[39;00m\n\u001b[32m   1321\u001b[39m \u001b[38;5;28;01mexcept\u001b[39;00m \u001b[38;5;167;01mException\u001b[39;00m:\n\u001b[32m   1322\u001b[39m     \u001b[38;5;28mself\u001b[39m.log.warning(\u001b[33m\"\u001b[39m\u001b[33mInvalid Message:\u001b[39m\u001b[33m\"\u001b[39m, exc_info=\u001b[38;5;28;01mTrue\u001b[39;00m)\n",
      "\u001b[31mKeyboardInterrupt\u001b[39m: Interrupted by user"
     ]
    }
   ],
   "source": [
    "Name = input(\"Enter your Name\")\n",
    "Gender = input(\"Enter your Gender\")\n",
    "Course = input(\"Enter your course\")"
   ]
  },
  {
   "cell_type": "code",
   "execution_count": 74,
   "id": "73da74da",
   "metadata": {},
   "outputs": [],
   "source": [
    "class RecordsManagement:\n",
    "    def Create(self, Name, Gender, Course):\n",
    "        self.name = Name\n",
    "        self.gender = Gender\n",
    "        self.course = Course\n",
    "        sql = \"INSERT INTO myrecords (NAME, GENDER, COURSE) VALUES (%s, %s, %s)\"\n",
    "        val = (self.name, self.gender, self.course)\n",
    "        mycursor.execute(sql, val)\n",
    "        mydb.commit()\n",
    "\n",
    "    def Read(self):\n",
    "        sql = \"SELECT * FROM myrecords\"\n",
    "        mycursor.execute(sql)\n",
    "        myresult = mycursor.fetchall()\n",
    "        return myresult\n",
    "\n",
    "    def Update(self, ID, Name, Gender, Course):\n",
    "        self.ID = ID\n",
    "        self.name = Name\n",
    "        self.gender = Gender\n",
    "        self.course = Course\n",
    "        sql = \"UPDATE myrecords SET Name = %s, Gender = %s, Course = %s WHERE ID = %s\"\n",
    "        values = (self.name, self.gender, self.course, self.ID)\n",
    "        mycursor.execute(sql, values)\n",
    "        mydb.commit()  \n",
    "        return \"Record Updated successfully!\"  \n",
    "\n",
    "    def Delete(self, ID):\n",
    "        self.ID = ID\n",
    "        sql = \"Delete from myrecords where id = %s\"\n",
    "        values= (self.ID,)\n",
    "        mycursor.execute(sql, values)\n",
    "        mydb.commit()\n",
    "\n",
    "        print(\"Record deleted successfully!\")"
   ]
  },
  {
   "cell_type": "code",
   "execution_count": 75,
   "id": "69c587f5",
   "metadata": {},
   "outputs": [],
   "source": [
    "recordsmanagement = RecordsManagement()"
   ]
  },
  {
   "cell_type": "code",
   "execution_count": 60,
   "id": "bc1db1e1",
   "metadata": {},
   "outputs": [
    {
     "name": "stdout",
     "output_type": "stream",
     "text": [
      "None\n"
     ]
    }
   ],
   "source": [
    "print(recordsmanagement.Create(Name, Gender, Course))"
   ]
  },
  {
   "cell_type": "code",
   "execution_count": null,
   "id": "d13b99ef",
   "metadata": {},
   "outputs": [],
   "source": [
    "print(recordsmanagement.Update(1, Name, Gender, Course))"
   ]
  },
  {
   "cell_type": "code",
   "execution_count": 79,
   "id": "c30702c9",
   "metadata": {},
   "outputs": [
    {
     "name": "stdout",
     "output_type": "stream",
     "text": [
      "(2, 'Mr. Ibrahim', 'Male', 'Software Engineer')\n"
     ]
    }
   ],
   "source": [
    "datas = recordsmanagement.Read()\n",
    "\n",
    "for data in datas:\n",
    "    print(data)"
   ]
  },
  {
   "cell_type": "code",
   "execution_count": 78,
   "id": "a2641c4a",
   "metadata": {},
   "outputs": [
    {
     "name": "stdout",
     "output_type": "stream",
     "text": [
      "Record deleted successfully!\n"
     ]
    }
   ],
   "source": [
    "recordsmanagement.Delete(3)"
   ]
  },
  {
   "cell_type": "code",
   "execution_count": null,
   "id": "809e7b77",
   "metadata": {},
   "outputs": [],
   "source": []
  }
 ],
 "metadata": {
  "kernelspec": {
   "display_name": "Python 3",
   "language": "python",
   "name": "python3"
  },
  "language_info": {
   "codemirror_mode": {
    "name": "ipython",
    "version": 3
   },
   "file_extension": ".py",
   "mimetype": "text/x-python",
   "name": "python",
   "nbconvert_exporter": "python",
   "pygments_lexer": "ipython3",
   "version": "3.12.10"
  }
 },
 "nbformat": 4,
 "nbformat_minor": 5
}
