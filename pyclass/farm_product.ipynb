{
 "cells": [
  {
   "cell_type": "code",
   "execution_count": null,
   "id": "e763d60a",
   "metadata": {},
   "outputs": [
    {
     "name": "stdout",
     "output_type": "stream",
     "text": [
      "You need 9 large boxes\n",
      "You need 1 small boxes\n",
      "You have 2 eggs for breakfast!\n"
     ]
    }
   ],
   "source": [
    "#define box sizes\n",
    "small_box = 6\n",
    "large_box = 12\n",
    "\n",
    "# Get user input\n",
    "egg_picked =  int(input(\"How many eggs did you pick? \"))\n",
    "\n",
    "# Calculate the number of boxes needed\n",
    "number_of_large_boxes = egg_picked//large_box\n",
    "\n",
    "# Output the results\n",
    "print(f\"You need {number_of_large_boxes} large boxes\")\n",
    "\n",
    "# Calculate remaining eggs after using large boxes\n",
    "remaining_eggs_4rm_lg_box = egg_picked - number_of_large_boxes*large_box\n",
    "\n",
    "# Calculate the number of small boxes needed for the remaining eggs\n",
    "number_of_small_boxes = remaining_eggs_4rm_lg_box//small_box\n",
    "\n",
    "# Output the number of small boxes needed\n",
    "print(f\"You need {number_of_small_boxes} small boxes\")\n",
    "\n",
    "# Calculate remaining eggs after using small boxes\n",
    "remaining_eggs_4rm_sm_box = remaining_eggs_4rm_lg_box - number_of_small_boxes*small_box\n",
    "\n",
    "# Output the remaining eggs for breakfast\n",
    "print(f\"You have {remaining_eggs_4rm_sm_box} eggs for breakfast!\")\n",
    "\n"
   ]
  }
 ],
 "metadata": {
  "kernelspec": {
   "display_name": "env",
   "language": "python",
   "name": "python3"
  },
  "language_info": {
   "codemirror_mode": {
    "name": "ipython",
    "version": 3
   },
   "file_extension": ".py",
   "mimetype": "text/x-python",
   "name": "python",
   "nbconvert_exporter": "python",
   "pygments_lexer": "ipython3",
   "version": "3.12.10"
  }
 },
 "nbformat": 4,
 "nbformat_minor": 5
}
