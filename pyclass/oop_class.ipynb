{
 "cells": [
  {
   "cell_type": "code",
   "execution_count": 10,
   "id": "836ab06f",
   "metadata": {},
   "outputs": [
    {
     "name": "stdout",
     "output_type": "stream",
     "text": [
      "Hello world! Alice\n",
      "Your Age is:  900\n"
     ]
    }
   ],
   "source": [
    "# creating a class of Car\n",
    "class Car: \n",
    "    car = [\"BMW\", \"Mercedes\", \"Audi\"]\n",
    "    y = \"Your Name\"\n",
    "\n",
    "    #Method\n",
    "    def greet(self, name, age):\n",
    "        self.your_name = name\n",
    "        self.age = age\n",
    "        print(f\"Hello world! {self.your_name}\")\n",
    "        print(f\"Your Age is:  {self.age}\")\n",
    "        \n",
    "\n",
    "# Creating object of the class\n",
    "myCar = Car()\n",
    "\n",
    "myCar.greet(\"Alice\", 900)\n",
    "\n"
   ]
  },
  {
   "cell_type": "code",
   "execution_count": 6,
   "id": "a6f9ba67",
   "metadata": {},
   "outputs": [
    {
     "name": "stdout",
     "output_type": "stream",
     "text": [
      "Hello Waouf I love your color Black\n"
     ]
    }
   ],
   "source": [
    "class Animal:\n",
    "    def __init__(self, name, color):\n",
    "        self.name = name \n",
    "        self.color = color \n",
    "\n",
    "ani_mal = Animal(\"Waouf\", \"Black\")\n",
    "print(f\"Hello {ani_mal.name}\", end= \" \" )\n",
    "print(f\"I love your color {ani_mal.color}\")\n"
   ]
  },
  {
   "cell_type": "markdown",
   "id": "5069ef94",
   "metadata": {},
   "source": [
    "### Using the **__init__()** Method within the class"
   ]
  },
  {
   "cell_type": "code",
   "execution_count": 12,
   "id": "3f93487b",
   "metadata": {},
   "outputs": [
    {
     "name": "stdout",
     "output_type": "stream",
     "text": [
      "FtH\n",
      "59\n"
     ]
    }
   ],
   "source": [
    "class HumanBeing:\n",
    "  def __init__(self, name, age):\n",
    "    self.name = name\n",
    "    self.age = age\n",
    "\n",
    "\n",
    "person1 = HumanBeing(\"FtH\",59)\n",
    "\n",
    "print(person1.name)  # Output: doe\n",
    "print(person1.age)   # Output: 20\n",
    "\n"
   ]
  },
  {
   "cell_type": "code",
   "execution_count": 13,
   "id": "da87f0b6",
   "metadata": {},
   "outputs": [
    {
     "name": "stdout",
     "output_type": "stream",
     "text": [
      "14\n",
      "-4\n",
      "0.5555555555555556\n"
     ]
    }
   ],
   "source": [
    "class Arthm:\n",
    "    def add(self, a, b):\n",
    "        self.a = a\n",
    "        self.b = b\n",
    "        return self.a + self.b\n",
    "    \n",
    "    def sub(self, a, b):\n",
    "        self.a = a\n",
    "        self.b = b\n",
    "        return self.a - self.b\n",
    "    \n",
    "    def div(self, a, b):\n",
    "        self.a = a\n",
    "        self.b = b\n",
    "        return self.a / self.b\n",
    "    \n",
    "\n",
    "arthmetics = Arthm()\n",
    "\n",
    "print(arthmetics.add(5,9))\n",
    "print(arthmetics.sub(5,9))\n",
    "print(arthmetics.div(5,9))"
   ]
  },
  {
   "cell_type": "code",
   "execution_count": 14,
   "id": "5dfe7575",
   "metadata": {},
   "outputs": [
    {
     "name": "stdout",
     "output_type": "stream",
     "text": [
      "16\n",
      "0.7777777777777778\n"
     ]
    }
   ],
   "source": [
    "class Arthm1:\n",
    "    def __init__(self, a, b):\n",
    "        self.a = a\n",
    "        self.b = b\n",
    "    \n",
    "    def add(self):\n",
    "        return self.a + self.b\n",
    "    \n",
    "    def div(self):\n",
    "        return self.a / self.b\n",
    "    \n",
    "\n",
    "arthmetics = Arthm1(7, 9)\n",
    "\n",
    "print(arthmetics.add())\n",
    "print(arthmetics.div())"
   ]
  },
  {
   "cell_type": "markdown",
   "id": "19ea2eb7",
   "metadata": {},
   "source": [
    "#### Using __str__() Method Within the class"
   ]
  },
  {
   "cell_type": "code",
   "execution_count": null,
   "id": "2c200b74",
   "metadata": {},
   "outputs": [],
   "source": []
  },
  {
   "cell_type": "code",
   "execution_count": 17,
   "id": "c81314c4",
   "metadata": {},
   "outputs": [
    {
     "name": "stdout",
     "output_type": "stream",
     "text": [
      "The Class is boring!\n"
     ]
    }
   ],
   "source": [
    "class Person:\n",
    "  def __init__(self, name, age):\n",
    "    self.name = name\n",
    "    self.age = age\n",
    "\n",
    "  def __str__(self):\n",
    "    return \"The Class is boring!\"\n",
    "\n",
    "p1 = Person(\"John\", 36)\n",
    "\n",
    "print(p1)"
   ]
  },
  {
   "cell_type": "code",
   "execution_count": 11,
   "id": "7b92f1e9",
   "metadata": {},
   "outputs": [
    {
     "name": "stdout",
     "output_type": "stream",
     "text": [
      "necklace color is silver\n"
     ]
    }
   ],
   "source": [
    "class Jewelry:\n",
    "    def __init__(self, type, color):\n",
    "        self.neck = type\n",
    "        self.ear = color\n",
    "\n",
    "    # def __str__(self):\n",
    "    #     return \"This store is empty and why!!\"\n",
    "\n",
    "shop_of_jewlry = Jewelry(\"necklace\", \"silver\")\n",
    "\n",
    "print(shop_of_jewlry.neck, end=\" color is \")  \n",
    "print(shop_of_jewlry.ear)  \n"
   ]
  },
  {
   "cell_type": "code",
   "execution_count": null,
   "id": "eb15def7",
   "metadata": {},
   "outputs": [
    {
     "name": "stdout",
     "output_type": "stream",
     "text": [
      "65\n"
     ]
    }
   ],
   "source": [
    "class Addition:\n",
    "  def __init__(self, a, b):\n",
    "    self.a = a\n",
    "    self.b = b\n",
    "\n",
    "  def __str__(self):\n",
    "    return str(self.a + self.b)\n",
    "  \n",
    "add = Addition(29, 36)\n",
    "\n",
    "print(add)  # Output: 65"
   ]
  },
  {
   "cell_type": "code",
   "execution_count": null,
   "id": "ac2494c2",
   "metadata": {},
   "outputs": [
    {
     "name": "stdout",
     "output_type": "stream",
     "text": [
      "Hello my name is  John\n",
      "I am  36  years old\n"
     ]
    }
   ],
   "source": [
    "class Person:\n",
    "\n",
    "    def __init__(self, name, age):\n",
    "        self.name = name\n",
    "        self.age = age\n",
    "\n",
    "    def myfunc(self):\n",
    "        print(\"Hello my name is \", self.name)\n",
    "\n",
    "    def print_age(self):\n",
    "        print(\"I am \", self.age, \" years old\")\n",
    "\n",
    "\n",
    "p1 = Person(\"John\", 36)\n",
    "\n",
    "p1.myfunc()\n",
    "p1.print_age()"
   ]
  },
  {
   "cell_type": "code",
   "execution_count": 18,
   "id": "e232da7f",
   "metadata": {},
   "outputs": [
    {
     "name": "stdout",
     "output_type": "stream",
     "text": [
      "Hello my name is  Smith\n",
      "I am  40  years old\n"
     ]
    }
   ],
   "source": [
    "class Person:\n",
    "\n",
    "    def myfunc(self, name):\n",
    "        self.name = name\n",
    "        print(\"Hello my name is \", self.name)\n",
    "\n",
    "    def print_age(self, age):\n",
    "        self.age = age\n",
    "        print(\"I am \", self.age, \" years old\")\n",
    "\n",
    "\n",
    "p1 = Person()\n",
    "\n",
    "p1.myfunc(\"Smith\")\n",
    "p1.print_age(40)"
   ]
  },
  {
   "cell_type": "markdown",
   "id": "00233d0a",
   "metadata": {},
   "source": []
  },
  {
   "cell_type": "code",
   "execution_count": null,
   "id": "ff5e1c27",
   "metadata": {},
   "outputs": [],
   "source": []
  }
 ],
 "metadata": {
  "kernelspec": {
   "display_name": "Python 3",
   "language": "python",
   "name": "python3"
  },
  "language_info": {
   "codemirror_mode": {
    "name": "ipython",
    "version": 3
   },
   "file_extension": ".py",
   "mimetype": "text/x-python",
   "name": "python",
   "nbconvert_exporter": "python",
   "pygments_lexer": "ipython3",
   "version": "3.12.10"
  }
 },
 "nbformat": 4,
 "nbformat_minor": 5
}
