{
 "cells": [
  {
   "cell_type": "markdown",
   "id": "48aa4251",
   "metadata": {},
   "source": [
    "### 📂 Python File Handling\n",
    "\n",
    "File handling is an essential part of programming. Python provides built-in functions to **create, read, update, and delete files**.\n",
    "\n",
    "---"
   ]
  },
  {
   "cell_type": "markdown",
   "id": "bb7d24cd",
   "metadata": {},
   "source": [
    "\n",
    "#### 📝 Opening a File\n",
    "Python uses the `open()` function to open files."
   ]
  },
  {
   "cell_type": "markdown",
   "id": "2be14720",
   "metadata": {},
   "source": [
    "```python\n",
    "file = open(\"filename.txt\", \"mode\")\n",
    "```"
   ]
  },
  {
   "cell_type": "markdown",
   "id": "ceb4d0cc",
   "metadata": {},
   "source": [
    "#### Modes:\n",
    "\n",
    "| Mode  | Description                                                 |\n",
    "| ----- | ----------------------------------------------------------- |\n",
    "| `\"r\"` | Read (default) – opens file for reading, error if not found |\n",
    "| `\"w\"` | Write – creates new file or truncates if exists             |\n",
    "| `\"a\"` | Append – adds data to end of file                           |\n",
    "| `\"x\"` | Create – creates file, error if exists                      |\n",
    "| `\"b\"` | Binary mode (e.g., `\"rb\"`, `\"wb\"`)                          |\n",
    "| `\"t\"` | Text mode (default)                                         |\n",
    "\n",
    "---"
   ]
  },
  {
   "cell_type": "markdown",
   "id": "bf288240",
   "metadata": {},
   "source": [
    "#### 📖 Reading Files"
   ]
  },
  {
   "cell_type": "code",
   "execution_count": 2,
   "id": "6c5fbdfe",
   "metadata": {},
   "outputs": [
    {
     "ename": "FileNotFoundError",
     "evalue": "[Errno 2] No such file or directory: 'files/sample.txt'",
     "output_type": "error",
     "traceback": [
      "\u001b[31m---------------------------------------------------------------------------\u001b[39m",
      "\u001b[31mFileNotFoundError\u001b[39m                         Traceback (most recent call last)",
      "\u001b[36mCell\u001b[39m\u001b[36m \u001b[39m\u001b[32mIn[2]\u001b[39m\u001b[32m, line 2\u001b[39m\n\u001b[32m      1\u001b[39m \u001b[38;5;66;03m# Open file in read mode\u001b[39;00m\n\u001b[32m----> \u001b[39m\u001b[32m2\u001b[39m f = \u001b[38;5;28;43mopen\u001b[39;49m\u001b[43m(\u001b[49m\u001b[33;43m\"\u001b[39;49m\u001b[33;43mfiles/sample.txt\u001b[39;49m\u001b[33;43m\"\u001b[39;49m\u001b[43m,\u001b[49m\u001b[43m \u001b[49m\u001b[33;43m\"\u001b[39;49m\u001b[33;43mr\u001b[39;49m\u001b[33;43m\"\u001b[39;49m\u001b[43m)\u001b[49m\n\u001b[32m      4\u001b[39m \u001b[38;5;28mprint\u001b[39m(f.read())         \u001b[38;5;66;03m# Read entire file\u001b[39;00m\n\u001b[32m      5\u001b[39m \u001b[38;5;66;03m# print(f.read(10))       # Read first 10 characters\u001b[39;00m\n\u001b[32m      6\u001b[39m \u001b[38;5;66;03m# print(f.readline())     # Read one line\u001b[39;00m\n\u001b[32m      7\u001b[39m \u001b[38;5;66;03m# print(f.readlines())    # Read all lines into a list\u001b[39;00m\n",
      "\u001b[36mFile \u001b[39m\u001b[32m~\\AppData\\Roaming\\Python\\Python312\\site-packages\\IPython\\core\\interactiveshell.py:343\u001b[39m, in \u001b[36m_modified_open\u001b[39m\u001b[34m(file, *args, **kwargs)\u001b[39m\n\u001b[32m    336\u001b[39m \u001b[38;5;28;01mif\u001b[39;00m file \u001b[38;5;129;01min\u001b[39;00m {\u001b[32m0\u001b[39m, \u001b[32m1\u001b[39m, \u001b[32m2\u001b[39m}:\n\u001b[32m    337\u001b[39m     \u001b[38;5;28;01mraise\u001b[39;00m \u001b[38;5;167;01mValueError\u001b[39;00m(\n\u001b[32m    338\u001b[39m         \u001b[33mf\u001b[39m\u001b[33m\"\u001b[39m\u001b[33mIPython won\u001b[39m\u001b[33m'\u001b[39m\u001b[33mt let you open fd=\u001b[39m\u001b[38;5;132;01m{\u001b[39;00mfile\u001b[38;5;132;01m}\u001b[39;00m\u001b[33m by default \u001b[39m\u001b[33m\"\u001b[39m\n\u001b[32m    339\u001b[39m         \u001b[33m\"\u001b[39m\u001b[33mas it is likely to crash IPython. If you know what you are doing, \u001b[39m\u001b[33m\"\u001b[39m\n\u001b[32m    340\u001b[39m         \u001b[33m\"\u001b[39m\u001b[33myou can use builtins\u001b[39m\u001b[33m'\u001b[39m\u001b[33m open.\u001b[39m\u001b[33m\"\u001b[39m\n\u001b[32m    341\u001b[39m     )\n\u001b[32m--> \u001b[39m\u001b[32m343\u001b[39m \u001b[38;5;28;01mreturn\u001b[39;00m \u001b[43mio_open\u001b[49m\u001b[43m(\u001b[49m\u001b[43mfile\u001b[49m\u001b[43m,\u001b[49m\u001b[43m \u001b[49m\u001b[43m*\u001b[49m\u001b[43margs\u001b[49m\u001b[43m,\u001b[49m\u001b[43m \u001b[49m\u001b[43m*\u001b[49m\u001b[43m*\u001b[49m\u001b[43mkwargs\u001b[49m\u001b[43m)\u001b[49m\n",
      "\u001b[31mFileNotFoundError\u001b[39m: [Errno 2] No such file or directory: 'files/sample.txt'"
     ]
    }
   ],
   "source": [
    "# Open file in read mode\n",
    "f = open(\"files/sample.txt\", \"r\")\n",
    "\n",
    "print(f.read())         # Read entire file\n",
    "# print(f.read(10))       # Read first 10 characters\n",
    "# print(f.readline())     # Read one line\n",
    "# print(f.readlines())    # Read all lines into a list\n",
    "\n",
    "f.close()"
   ]
  },
  {
   "cell_type": "code",
   "execution_count": 14,
   "id": "ed5ebc3d",
   "metadata": {},
   "outputs": [
    {
     "ename": "ValueError",
     "evalue": "I/O operation on closed file.",
     "output_type": "error",
     "traceback": [
      "\u001b[31m---------------------------------------------------------------------------\u001b[39m",
      "\u001b[31mValueError\u001b[39m                                Traceback (most recent call last)",
      "\u001b[36mCell\u001b[39m\u001b[36m \u001b[39m\u001b[32mIn[14]\u001b[39m\u001b[32m, line 1\u001b[39m\n\u001b[32m----> \u001b[39m\u001b[32m1\u001b[39m \u001b[38;5;28mprint\u001b[39m(\u001b[43mf\u001b[49m\u001b[43m.\u001b[49m\u001b[43mread\u001b[49m\u001b[43m(\u001b[49m\u001b[43m)\u001b[49m)\n",
      "\u001b[31mValueError\u001b[39m: I/O operation on closed file."
     ]
    }
   ],
   "source": [
    "print(f.read())"
   ]
  },
  {
   "cell_type": "markdown",
   "id": "c79a577c",
   "metadata": {},
   "source": [
    "⚠️ Always close files after use, or use **`with`** for automatic handling."
   ]
  },
  {
   "cell_type": "code",
   "execution_count": 1,
   "id": "465a911c",
   "metadata": {},
   "outputs": [
    {
     "ename": "FileNotFoundError",
     "evalue": "[Errno 2] No such file or directory: 'files/sample.txt'",
     "output_type": "error",
     "traceback": [
      "\u001b[31m---------------------------------------------------------------------------\u001b[39m",
      "\u001b[31mFileNotFoundError\u001b[39m                         Traceback (most recent call last)",
      "\u001b[36mCell\u001b[39m\u001b[36m \u001b[39m\u001b[32mIn[1]\u001b[39m\u001b[32m, line 1\u001b[39m\n\u001b[32m----> \u001b[39m\u001b[32m1\u001b[39m \u001b[38;5;28;01mwith\u001b[39;00m \u001b[38;5;28;43mopen\u001b[39;49m\u001b[43m(\u001b[49m\u001b[33;43m\"\u001b[39;49m\u001b[33;43mfiles/sample.txt\u001b[39;49m\u001b[33;43m\"\u001b[39;49m\u001b[43m,\u001b[49m\u001b[43m \u001b[49m\u001b[33;43m\"\u001b[39;49m\u001b[33;43mr\u001b[39;49m\u001b[33;43m\"\u001b[39;49m\u001b[43m)\u001b[49m \u001b[38;5;28;01mas\u001b[39;00m f:\n\u001b[32m      2\u001b[39m     content = f.read()\n\u001b[32m      3\u001b[39m     \u001b[38;5;28mprint\u001b[39m(content)\n",
      "\u001b[36mFile \u001b[39m\u001b[32m~\\AppData\\Roaming\\Python\\Python312\\site-packages\\IPython\\core\\interactiveshell.py:343\u001b[39m, in \u001b[36m_modified_open\u001b[39m\u001b[34m(file, *args, **kwargs)\u001b[39m\n\u001b[32m    336\u001b[39m \u001b[38;5;28;01mif\u001b[39;00m file \u001b[38;5;129;01min\u001b[39;00m {\u001b[32m0\u001b[39m, \u001b[32m1\u001b[39m, \u001b[32m2\u001b[39m}:\n\u001b[32m    337\u001b[39m     \u001b[38;5;28;01mraise\u001b[39;00m \u001b[38;5;167;01mValueError\u001b[39;00m(\n\u001b[32m    338\u001b[39m         \u001b[33mf\u001b[39m\u001b[33m\"\u001b[39m\u001b[33mIPython won\u001b[39m\u001b[33m'\u001b[39m\u001b[33mt let you open fd=\u001b[39m\u001b[38;5;132;01m{\u001b[39;00mfile\u001b[38;5;132;01m}\u001b[39;00m\u001b[33m by default \u001b[39m\u001b[33m\"\u001b[39m\n\u001b[32m    339\u001b[39m         \u001b[33m\"\u001b[39m\u001b[33mas it is likely to crash IPython. If you know what you are doing, \u001b[39m\u001b[33m\"\u001b[39m\n\u001b[32m    340\u001b[39m         \u001b[33m\"\u001b[39m\u001b[33myou can use builtins\u001b[39m\u001b[33m'\u001b[39m\u001b[33m open.\u001b[39m\u001b[33m\"\u001b[39m\n\u001b[32m    341\u001b[39m     )\n\u001b[32m--> \u001b[39m\u001b[32m343\u001b[39m \u001b[38;5;28;01mreturn\u001b[39;00m \u001b[43mio_open\u001b[49m\u001b[43m(\u001b[49m\u001b[43mfile\u001b[49m\u001b[43m,\u001b[49m\u001b[43m \u001b[49m\u001b[43m*\u001b[49m\u001b[43margs\u001b[49m\u001b[43m,\u001b[49m\u001b[43m \u001b[49m\u001b[43m*\u001b[49m\u001b[43m*\u001b[49m\u001b[43mkwargs\u001b[49m\u001b[43m)\u001b[49m\n",
      "\u001b[31mFileNotFoundError\u001b[39m: [Errno 2] No such file or directory: 'files/sample.txt'"
     ]
    }
   ],
   "source": [
    "with open(\"files/sample.txt\", \"r\") as f:\n",
    "    content = f.read()\n",
    "    print(content)"
   ]
  },
  {
   "cell_type": "code",
   "execution_count": 2,
   "id": "f2c9450b",
   "metadata": {},
   "outputs": [
    {
     "ename": "NameError",
     "evalue": "name 'f' is not defined",
     "output_type": "error",
     "traceback": [
      "\u001b[31m---------------------------------------------------------------------------\u001b[39m",
      "\u001b[31mNameError\u001b[39m                                 Traceback (most recent call last)",
      "\u001b[36mCell\u001b[39m\u001b[36m \u001b[39m\u001b[32mIn[2]\u001b[39m\u001b[32m, line 1\u001b[39m\n\u001b[32m----> \u001b[39m\u001b[32m1\u001b[39m \u001b[38;5;28mprint\u001b[39m(\u001b[43mf\u001b[49m.read())\n",
      "\u001b[31mNameError\u001b[39m: name 'f' is not defined"
     ]
    }
   ],
   "source": [
    "print(f.read())"
   ]
  },
  {
   "cell_type": "markdown",
   "id": "2fa8ceb2",
   "metadata": {},
   "source": [
    "#### ✍ Writing to Files"
   ]
  },
  {
   "cell_type": "code",
   "execution_count": 26,
   "id": "577c1d0d",
   "metadata": {},
   "outputs": [],
   "source": [
    "# Write mode (overwrites file)\n",
    "# with open(\"files/sample.txt\", \"x\") as f:\n",
    "#     f.write(\"Hello, Python!\\n\")\n",
    "\n",
    "# Append mode (adds to file)\n",
    "with open(\"files/sample.txt\", \"a\") as f:\n",
    "    f.write(\"This is appended.\\n\")"
   ]
  },
  {
   "cell_type": "markdown",
   "id": "ecddfef4",
   "metadata": {},
   "source": [
    "#### 📂 Working with Binary Files"
   ]
  },
  {
   "cell_type": "code",
   "execution_count": null,
   "id": "dd40e42a",
   "metadata": {},
   "outputs": [],
   "source": [
    "# Writing binary\n",
    "with open(\"files/image.png\", \"rb\") as f:\n",
    "    data = f.read()\n",
    "\n",
    "with open(\"files/copy.jpg\", \"wb\") as f:\n",
    "    f.write(data)"
   ]
  },
  {
   "cell_type": "markdown",
   "id": "92ec00fa",
   "metadata": {},
   "source": [
    "#### 🧹 Deleting Files"
   ]
  },
  {
   "cell_type": "markdown",
   "id": "30425b38",
   "metadata": {},
   "source": [
    "Use the `os` module:"
   ]
  },
  {
   "cell_type": "code",
   "execution_count": 36,
   "id": "45b6814c",
   "metadata": {},
   "outputs": [
    {
     "data": {
      "text/plain": [
       "'c:\\\\Users\\\\IBRAHEEM\\\\Desktop\\\\python tutorial'"
      ]
     },
     "execution_count": 36,
     "metadata": {},
     "output_type": "execute_result"
    }
   ],
   "source": [
    "%pwd"
   ]
  },
  {
   "cell_type": "code",
   "execution_count": null,
   "id": "5d32b6f9",
   "metadata": {},
   "outputs": [
    {
     "name": "stdout",
     "output_type": "stream",
     "text": [
      "c:\\Users\\IBRAHEEM\\Desktop\\python tutorial\\files\n"
     ]
    }
   ],
   "source": [
    "%cd files"
   ]
  },
  {
   "cell_type": "code",
   "execution_count": null,
   "id": "33a0e46d",
   "metadata": {},
   "outputs": [
    {
     "name": "stdout",
     "output_type": "stream",
     "text": [
      "File does not exist\n"
     ]
    }
   ],
   "source": [
    "import os\n",
    "\n",
    "if os.path.exists(\"sample.txt\"):\n",
    "    os.remove(\"sample.txt\")\n",
    "else:\n",
    "    print(\"File does not exist\")"
   ]
  },
  {
   "cell_type": "markdown",
   "id": "c33334fc",
   "metadata": {},
   "source": [
    "#### 🔁 File Pointer Operations"
   ]
  },
  {
   "cell_type": "code",
   "execution_count": 48,
   "id": "81776725",
   "metadata": {},
   "outputs": [
    {
     "name": "stdout",
     "output_type": "stream",
     "text": [
      "4\n",
      "1\n"
     ]
    }
   ],
   "source": [
    "sample = open(\"sample.txt\", \"r\")\n",
    "sample.read(4)\n",
    "print(sample.tell())     # Current position of pointer\n",
    "print(sample.seek(1))  \n",
    "      # Move pointer to beginning\n",
    "f.close()"
   ]
  },
  {
   "cell_type": "code",
   "execution_count": null,
   "id": "7900cce4",
   "metadata": {},
   "outputs": [],
   "source": [
    "with open(\"C:/Users/IBRAHEEM/Desktop/my_file.txt\", \"w\") as f:\n",
    "    f.write(\"Now the file has more content!\")"
   ]
  },
  {
   "cell_type": "code",
   "execution_count": 52,
   "id": "ee455894",
   "metadata": {},
   "outputs": [
    {
     "name": "stdout",
     "output_type": "stream",
     "text": [
      "Now the file has more content!\n"
     ]
    }
   ],
   "source": [
    "with open(\"C:/Users/IBRAHEEM/Desktop/my_file.txt\", \"r\") as f:\n",
    "    print(f.read())"
   ]
  },
  {
   "cell_type": "code",
   "execution_count": 53,
   "id": "f90513fd",
   "metadata": {},
   "outputs": [
    {
     "ename": "UnsupportedOperation",
     "evalue": "not writable",
     "output_type": "error",
     "traceback": [
      "\u001b[31m---------------------------------------------------------------------------\u001b[39m",
      "\u001b[31mUnsupportedOperation\u001b[39m                      Traceback (most recent call last)",
      "\u001b[36mCell\u001b[39m\u001b[36m \u001b[39m\u001b[32mIn[53]\u001b[39m\u001b[32m, line 2\u001b[39m\n\u001b[32m      1\u001b[39m \u001b[38;5;28;01mwith\u001b[39;00m \u001b[38;5;28mopen\u001b[39m(\u001b[33m\"\u001b[39m\u001b[33mC:/Users/IBRAHEEM/Desktop/my_file.txt\u001b[39m\u001b[33m\"\u001b[39m, \u001b[33m\"\u001b[39m\u001b[33mr\u001b[39m\u001b[33m\"\u001b[39m) \u001b[38;5;28;01mas\u001b[39;00m f:\n\u001b[32m----> \u001b[39m\u001b[32m2\u001b[39m     \u001b[43mf\u001b[49m\u001b[43m.\u001b[49m\u001b[43mwrite\u001b[49m\u001b[43m(\u001b[49m\u001b[33;43m\"\u001b[39;49m\u001b[33;43mNow the file has more content!\u001b[39;49m\u001b[33;43m\"\u001b[39;49m\u001b[43m)\u001b[49m\n\u001b[32m      3\u001b[39m     \u001b[38;5;28mprint\u001b[39m(f.read())\n",
      "\u001b[31mUnsupportedOperation\u001b[39m: not writable"
     ]
    }
   ],
   "source": [
    "with open(\"C:/Users/IBRAHEEM/Desktop/my_file.txt\", \"r\") as f:\n",
    "    f.write(\"Now the file has more content!\")\n",
    "    print(f.read())"
   ]
  },
  {
   "cell_type": "code",
   "execution_count": null,
   "id": "9f34e492",
   "metadata": {},
   "outputs": [
    {
     "ename": "UnsupportedOperation",
     "evalue": "not readable",
     "output_type": "error",
     "traceback": [
      "\u001b[31m---------------------------------------------------------------------------\u001b[39m",
      "\u001b[31mUnsupportedOperation\u001b[39m                      Traceback (most recent call last)",
      "\u001b[36mCell\u001b[39m\u001b[36m \u001b[39m\u001b[32mIn[54]\u001b[39m\u001b[32m, line 3\u001b[39m\n\u001b[32m      1\u001b[39m \u001b[38;5;28;01mwith\u001b[39;00m \u001b[38;5;28mopen\u001b[39m(\u001b[33m\"\u001b[39m\u001b[33mC:/Users/IBRAHEEM/Desktop/my_file.txt\u001b[39m\u001b[33m\"\u001b[39m, \u001b[33m\"\u001b[39m\u001b[33ma\u001b[39m\u001b[33m\"\u001b[39m) \u001b[38;5;28;01mas\u001b[39;00m f:\n\u001b[32m      2\u001b[39m     f.write(\u001b[33m\"\u001b[39m\u001b[33mNow the file has more content!\u001b[39m\u001b[33m\"\u001b[39m)\n\u001b[32m----> \u001b[39m\u001b[32m3\u001b[39m     \u001b[38;5;28mprint\u001b[39m(\u001b[43mf\u001b[49m\u001b[43m.\u001b[49m\u001b[43mread\u001b[49m\u001b[43m(\u001b[49m\u001b[43m)\u001b[49m)\n",
      "\u001b[31mUnsupportedOperation\u001b[39m: not readable"
     ]
    }
   ],
   "source": [
    "with open(\"C:/Users/IBRAHEEM/Desktop/my_file.txt\", \"a\") as f:\n",
    "    f.write(\"Now the file has more content!\")\n",
    "    print(f.read()) # this not gonna work"
   ]
  },
  {
   "cell_type": "code",
   "execution_count": 57,
   "id": "cbe26f43",
   "metadata": {},
   "outputs": [
    {
     "name": "stdout",
     "output_type": "stream",
     "text": [
      "Now the file has more content!Now the file has more content!Now the file has more content!\n"
     ]
    }
   ],
   "source": [
    "with open(\"C:/Users/IBRAHEEM/Desktop/my_file.txt\", \"r\") as f:\n",
    "    print(f.read())"
   ]
  },
  {
   "cell_type": "code",
   "execution_count": 72,
   "id": "d87a5274",
   "metadata": {},
   "outputs": [
    {
     "name": "stdout",
     "output_type": "stream",
     "text": [
      "Data saved successfully✅\n",
      "{'name': 'ffg', 'hobby': 'bhn'} \n",
      "{'name': 'fdfe', 'hobby': 'fdfgdd'} \n",
      "{'name': 'yyyd', 'hobby': 'ddyd'} \n",
      "{'name': 'dgdghsd', 'hobby': 'dhdhshd\\\\'} \n",
      "{'name': 'TeeJay', 'hobby': 'Eating'} \n",
      "\n"
     ]
    }
   ],
   "source": [
    "name =  input(\"what your name\")\n",
    "hobby = input(\"what is your hobby\")\n",
    "\n",
    "def detail(name, hobby):\n",
    "    return {\"name\": name, \"hobby\":hobby}\n",
    "\n",
    "try:\n",
    "    with open(\"C:/Users/IBRAHEEM/Desktop/details.json\",\"x\") as py:\n",
    "        py.write(f\"{detail(name=name, hobby=hobby)} \\n\") \n",
    "        print(\"Data saved successfully✅\")\n",
    "except:\n",
    "    with open(\"C:/Users/IBRAHEEM/Desktop/details.json\",\"a\") as py:\n",
    "         py.write(f\"{detail(name=name, hobby=hobby)} \\n\")\n",
    "         print(\"Data saved successfully✅\")\n",
    "finally:\n",
    "    with open(\"C:/Users/IBRAHEEM/Desktop/details.json\",\"r\") as py:\n",
    "            print(py.read()) \n",
    "       \n",
    "\n"
   ]
  },
  {
   "cell_type": "code",
   "execution_count": 73,
   "id": "8cc01bce",
   "metadata": {},
   "outputs": [
    {
     "name": "stdout",
     "output_type": "stream",
     "text": [
      "Data saved successfully✅\n",
      "{'name': 'ffg', 'hobby': 'bhn'} \n",
      "{'name': 'fdfe', 'hobby': 'fdfgdd'} \n",
      "{'name': 'yyyd', 'hobby': 'ddyd'} \n",
      "{'name': 'dgdghsd', 'hobby': 'dhdhshd\\\\'} \n",
      "{'name': 'TeeJay', 'hobby': 'Eating'} \n",
      "{'name': 'Abayomi', 'hobby': 'Sleeping'} \n",
      "\n"
     ]
    }
   ],
   "source": [
    "name =  input(\"what your name\")\n",
    "hobby = input(\"what is your hobby\")\n",
    "\n",
    "def detail(name, hobby):\n",
    "    return {\"name\": name, \"hobby\":hobby}\n",
    "\n",
    "import os\n",
    "if os.path.exists(\"C:/Users/IBRAHEEM/Desktop/details.json\"):\n",
    "  with open(\"C:/Users/IBRAHEEM/Desktop/details.json\",\"a\") as py:\n",
    "        py.write(f\"{detail(name=name, hobby=hobby)} \\n\") \n",
    "        print(\"Data saved successfully✅\")\n",
    "else:\n",
    "  with open(\"C:/Users/IBRAHEEM/Desktop/details.json\",\"w\") as py:\n",
    "        py.write(f\"{detail(name=name, hobby=hobby)} \\n\") \n",
    "        print(\"Data saved successfully✅\")\n",
    "\n",
    "with open(\"C:/Users/IBRAHEEM/Desktop/details.json\",\"r\") as py:\n",
    "    print(py.read())"
   ]
  },
  {
   "cell_type": "code",
   "execution_count": 76,
   "id": "d6636075",
   "metadata": {},
   "outputs": [
    {
     "name": "stdout",
     "output_type": "stream",
     "text": [
      "Collecting requests\n",
      "  Downloading requests-2.32.5-py3-none-any.whl.metadata (4.9 kB)\n",
      "Collecting charset_normalizer<4,>=2 (from requests)\n",
      "  Downloading charset_normalizer-3.4.3-cp312-cp312-win_amd64.whl.metadata (37 kB)\n",
      "Collecting idna<4,>=2.5 (from requests)\n",
      "  Downloading idna-3.10-py3-none-any.whl.metadata (10 kB)\n",
      "Collecting urllib3<3,>=1.21.1 (from requests)\n",
      "  Downloading urllib3-2.5.0-py3-none-any.whl.metadata (6.5 kB)\n",
      "Collecting certifi>=2017.4.17 (from requests)\n",
      "  Downloading certifi-2025.8.3-py3-none-any.whl.metadata (2.4 kB)\n",
      "Downloading requests-2.32.5-py3-none-any.whl (64 kB)\n",
      "Downloading certifi-2025.8.3-py3-none-any.whl (161 kB)\n",
      "Downloading charset_normalizer-3.4.3-cp312-cp312-win_amd64.whl (107 kB)\n",
      "Downloading idna-3.10-py3-none-any.whl (70 kB)\n",
      "Downloading urllib3-2.5.0-py3-none-any.whl (129 kB)\n",
      "Installing collected packages: urllib3, idna, charset_normalizer, certifi, requests\n",
      "Successfully installed certifi-2025.8.3 charset_normalizer-3.4.3 idna-3.10 requests-2.32.5 urllib3-2.5.0\n",
      "Note: you may need to restart the kernel to use updated packages.\n"
     ]
    },
    {
     "name": "stderr",
     "output_type": "stream",
     "text": [
      "\n",
      "[notice] A new release of pip is available: 25.0.1 -> 25.2\n",
      "[notice] To update, run: python.exe -m pip install --upgrade pip\n"
     ]
    }
   ],
   "source": [
    "%pip install requests"
   ]
  },
  {
   "cell_type": "code",
   "execution_count": 80,
   "id": "75626ec3",
   "metadata": {},
   "outputs": [
    {
     "name": "stdout",
     "output_type": "stream",
     "text": [
      "<html>\n",
      "<head><title>403 Forbidden</title></head>\n",
      "<body>\n",
      "<center><h1>403 Forbidden</h1></center>\n",
      "<hr><center>nginx</center>\n",
      "</body>\n",
      "</html>\n",
      "\n"
     ]
    }
   ],
   "source": [
    "import requests\n",
    "\n",
    "x = requests.get('https://portal.unilorin.edu.ng')\n",
    "\n",
    "print(x.text)"
   ]
  },
  {
   "cell_type": "markdown",
   "id": "7b8e7f35",
   "metadata": {},
   "source": [
    "#### ✅ Best Practices"
   ]
  },
  {
   "cell_type": "markdown",
   "id": "8facea62",
   "metadata": {},
   "source": [
    "1. Always use `with open(...) as f:` (auto closes file).\n",
    "2. Handle exceptions with `try/except`.\n",
    "3. Use appropriate mode (`r`, `w`, `a`, `b`) depending on use case.\n",
    "4. For large files, read/write in chunks to save memory."
   ]
  },
  {
   "cell_type": "markdown",
   "id": "a698baee",
   "metadata": {},
   "source": [
    "#### 🏋 Exercises\n",
    "\n",
    "1. Create a file and write your name into it.\n",
    "2. Append 3 more lines of text to the file.\n",
    "3. Read the file and print only the first 2 lines.\n",
    "4. Copy the contents of a `.txt` file into another file.\n",
    "5. Write a program to count the number of words in a text file."
   ]
  }
 ],
 "metadata": {
  "kernelspec": {
   "display_name": "Python 3",
   "language": "python",
   "name": "python3"
  },
  "language_info": {
   "codemirror_mode": {
    "name": "ipython",
    "version": 3
   },
   "file_extension": ".py",
   "mimetype": "text/x-python",
   "name": "python",
   "nbconvert_exporter": "python",
   "pygments_lexer": "ipython3",
   "version": "3.12.10"
  }
 },
 "nbformat": 4,
 "nbformat_minor": 5
}
