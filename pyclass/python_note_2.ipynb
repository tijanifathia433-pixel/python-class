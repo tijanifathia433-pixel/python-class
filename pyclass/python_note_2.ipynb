{
 "cells": [
  {
   "cell_type": "markdown",
   "id": "114d5071",
   "metadata": {},
   "source": [
    "---\n",
    "\n",
    "## 📘 Python Beginner Notes + Exercises\n",
    "\n",
    "---"
   ]
  },
  {
   "cell_type": "markdown",
   "id": "cbace42c",
   "metadata": {},
   "source": [
    "#### 🔹 1. Python Booleans\n",
    "\n",
    "**Notes:**\n",
    "\n",
    "* A Boolean represents one of two values: `True` or `False`.\n",
    "* Often the result of comparisons.\n",
    "* Example:"
   ]
  },
  {
   "cell_type": "code",
   "execution_count": 10,
   "id": "2dae0aa8",
   "metadata": {},
   "outputs": [
    {
     "name": "stdout",
     "output_type": "stream",
     "text": [
      "True\n"
     ]
    }
   ],
   "source": [
    "x = 10\n",
    "y = 5\n",
    "# print(x > y)   # True\n",
    "print(bool(10)) # False"
   ]
  },
  {
   "cell_type": "code",
   "execution_count": 18,
   "id": "303104fa",
   "metadata": {},
   "outputs": [
    {
     "name": "stdout",
     "output_type": "stream",
     "text": [
      "True\n",
      "True\n"
     ]
    }
   ],
   "source": [
    "a = bool(\"tttgg\")\n",
    "b = True\n",
    "\n",
    "print(a)\n",
    "print(b)"
   ]
  },
  {
   "cell_type": "code",
   "execution_count": 12,
   "id": "d0f1f62b",
   "metadata": {},
   "outputs": [
    {
     "name": "stdout",
     "output_type": "stream",
     "text": [
      "False\n"
     ]
    }
   ],
   "source": [
    "coming_soon = True\n",
    "if 7>5:\n",
    "    coming_soon = False\n",
    "\n",
    "print(coming_soon)  \n"
   ]
  },
  {
   "cell_type": "markdown",
   "id": "abdcb0ac",
   "metadata": {},
   "source": [
    "#### 🔹 2. Python Operators"
   ]
  },
  {
   "cell_type": "markdown",
   "id": "e23b5153",
   "metadata": {},
   "source": [
    "**Notes:**\n",
    "\n",
    "* **Arithmetic:** `+ - * / % ** //`\n",
    "* **Comparison:** `== != > < >= <=`\n",
    "* **Logical:** `and or not`\n",
    "* **Assignment:** `= += -= *= /=`\n",
    "* **Membership:** `in, not in`\n",
    "* **Identity:** `is, is not`"
   ]
  },
  {
   "cell_type": "code",
   "execution_count": 19,
   "id": "83007785",
   "metadata": {},
   "outputs": [
    {
     "name": "stdout",
     "output_type": "stream",
     "text": [
      "9\n",
      "-1\n",
      "20\n",
      "0.8\n",
      "0\n",
      "4\n",
      "1\n",
      "False\n",
      "True\n",
      "False\n",
      "True\n",
      "False\n",
      "True\n"
     ]
    }
   ],
   "source": [
    "print(4+5)\n",
    "print(4-5)\n",
    "print(4*5) \n",
    "print(4/5)  # Division\n",
    "print(1//2) # Floor Division\n",
    "print(2**2) # Exponentiation\n",
    "print(5%4)  # Modulus\n",
    "print(4 == 5) # Equal\n",
    "print(4 != 5) # Not Equal\n",
    "print(4 > 5)  # Greater than\n",
    "print(4 < 5)  # Less tha\n",
    "print(4 >= 5) # Greater than or equal to\n",
    "print(4 <= 5) # Less than or equal to\n"
   ]
  },
  {
   "cell_type": "code",
   "execution_count": 995,
   "id": "66f1b0aa",
   "metadata": {},
   "outputs": [
    {
     "name": "stdout",
     "output_type": "stream",
     "text": [
      "5 is the greater than the rest!\n"
     ]
    }
   ],
   "source": [
    "if 5> 2 or 5>20:\n",
    "    print(\"5 is the greater than the rest!\")"
   ]
  },
  {
   "cell_type": "code",
   "execution_count": 996,
   "id": "c04268d1",
   "metadata": {},
   "outputs": [
    {
     "name": "stdout",
     "output_type": "stream",
     "text": [
      "5 is not the greater than the rest!\n"
     ]
    }
   ],
   "source": [
    "if 5> 2 and 5>20:\n",
    "    print(\"5 is the greater than the rest!\")\n",
    "else:\n",
    "    print(\"5 is not the greater than the rest!\")"
   ]
  },
  {
   "cell_type": "code",
   "execution_count": 23,
   "id": "172a643a",
   "metadata": {},
   "outputs": [],
   "source": [
    "if not(5 > 2):\n",
    "    print(\"5 is not greater than 2\")    "
   ]
  },
  {
   "cell_type": "code",
   "execution_count": 998,
   "id": "e9052247",
   "metadata": {},
   "outputs": [
    {
     "name": "stdout",
     "output_type": "stream",
     "text": [
      "35\n"
     ]
    }
   ],
   "source": [
    "total = 5\n",
    "\n",
    "if 30 > 20:\n",
    "    total += 30\n",
    "\n",
    "print(total)\n",
    "\n",
    "\n",
    "    # total = total + 30"
   ]
  },
  {
   "cell_type": "code",
   "execution_count": 999,
   "id": "9a204d2a",
   "metadata": {},
   "outputs": [
    {
     "name": "stdout",
     "output_type": "stream",
     "text": [
      "-25\n"
     ]
    }
   ],
   "source": [
    "total = 5\n",
    "\n",
    "if 30 > 20:\n",
    "    total -= 30\n",
    "\n",
    "print(total)"
   ]
  },
  {
   "cell_type": "code",
   "execution_count": 1000,
   "id": "2cb0e5c1",
   "metadata": {},
   "outputs": [
    {
     "name": "stdout",
     "output_type": "stream",
     "text": [
      "150\n"
     ]
    }
   ],
   "source": [
    "total = 5\n",
    "\n",
    "if 30 > 20:\n",
    "    total *= 30\n",
    "\n",
    "print(total)"
   ]
  },
  {
   "cell_type": "code",
   "execution_count": 1001,
   "id": "021d9df3",
   "metadata": {},
   "outputs": [
    {
     "name": "stdout",
     "output_type": "stream",
     "text": [
      "0.16666666666666666\n"
     ]
    }
   ],
   "source": [
    "total = 5\n",
    "\n",
    "if 30 > 20:\n",
    "    total /= 30\n",
    "\n",
    "print(total)"
   ]
  },
  {
   "cell_type": "code",
   "execution_count": null,
   "id": "da2821d8",
   "metadata": {},
   "outputs": [
    {
     "name": "stdout",
     "output_type": "stream",
     "text": [
      "going is present!\n"
     ]
    }
   ],
   "source": [
    "txt =  \"Am going to classs!\"\n",
    "\n",
    "if \"going\" in txt:           #condition\n",
    "    print(\"going is present!\")"
   ]
  },
  {
   "cell_type": "code",
   "execution_count": null,
   "id": "9e7c727d",
   "metadata": {},
   "outputs": [
    {
     "name": "stdout",
     "output_type": "stream",
     "text": [
      "90 is not in the list of numbers\n",
      "False\n"
     ]
    }
   ],
   "source": [
    "num = [1,3,5,7]\n",
    "\n",
    "if 90 in num:         # conditions\n",
    "    print(\"90 is present\")\n",
    "else:\n",
    "    print(\"90 is not in the list of numbers\")\n",
    "\n",
    "\n",
    "print(90 in num)  # False"
   ]
  },
  {
   "cell_type": "code",
   "execution_count": 1004,
   "id": "b0a34b4d",
   "metadata": {},
   "outputs": [
    {
     "name": "stdout",
     "output_type": "stream",
     "text": [
      "True\n"
     ]
    }
   ],
   "source": [
    "print(90 not in num)  # False"
   ]
  },
  {
   "cell_type": "code",
   "execution_count": 1005,
   "id": "79e2c9d9",
   "metadata": {},
   "outputs": [
    {
     "name": "stdout",
     "output_type": "stream",
     "text": [
      "True\n",
      "False\n"
     ]
    }
   ],
   "source": [
    "y = \"ola\"\n",
    "x = \"segun\"\n",
    "\n",
    "num1 = 40\n",
    "num2 = 40\n",
    "\n",
    "print(num1 is num2)\n",
    "\n",
    "print(y is x)"
   ]
  },
  {
   "cell_type": "code",
   "execution_count": 1006,
   "id": "8c4f39d3",
   "metadata": {},
   "outputs": [
    {
     "name": "stdout",
     "output_type": "stream",
     "text": [
      "True\n"
     ]
    }
   ],
   "source": [
    "num1 = 50\n",
    "num2 = 40\n",
    "\n",
    "print(num1 is not num2)"
   ]
  },
  {
   "cell_type": "markdown",
   "id": "1d7f2f9a",
   "metadata": {},
   "source": []
  },
  {
   "cell_type": "markdown",
   "id": "aeb11514",
   "metadata": {},
   "source": []
  },
  {
   "cell_type": "markdown",
   "id": "62faa50e",
   "metadata": {},
   "source": []
  },
  {
   "cell_type": "markdown",
   "id": "8a25f5ad",
   "metadata": {},
   "source": [
    "#### 🔹 3. Python Lists\n",
    "\n",
    "**Notes:**\n",
    "\n",
    "* A list is an ordered, changeable collection."
   ]
  },
  {
   "cell_type": "code",
   "execution_count": 1007,
   "id": "a7b06cb4",
   "metadata": {},
   "outputs": [],
   "source": [
    "fruits = [\"apple\", \"banna\", \"cherry\", 345, 5.6, True, False, 3+4j]"
   ]
  },
  {
   "cell_type": "markdown",
   "id": "520f6d90",
   "metadata": {},
   "source": [
    "##### Access List Items\n",
    "\n",
    "* Indexing: `fruits[0]` → `\"apple\"`\n",
    "* Negative Index: `fruits[-1]` → `\"cherry\"`"
   ]
  },
  {
   "cell_type": "code",
   "execution_count": 1008,
   "id": "8c75d251",
   "metadata": {},
   "outputs": [
    {
     "data": {
      "text/plain": [
       "'cherry'"
      ]
     },
     "execution_count": 1008,
     "metadata": {},
     "output_type": "execute_result"
    }
   ],
   "source": [
    "fruits[2]"
   ]
  },
  {
   "cell_type": "markdown",
   "id": "7cefdab0",
   "metadata": {},
   "source": [
    "#### Change List Items"
   ]
  },
  {
   "cell_type": "code",
   "execution_count": 1009,
   "id": "05cfaa0f",
   "metadata": {},
   "outputs": [],
   "source": [
    "fruits[1] = \"mango\""
   ]
  },
  {
   "cell_type": "code",
   "execution_count": 1010,
   "id": "2863b201",
   "metadata": {},
   "outputs": [
    {
     "name": "stdout",
     "output_type": "stream",
     "text": [
      "['apple', 'banana', 'cherry', 345, 5.6, True, False, (3+4j)]\n"
     ]
    }
   ],
   "source": [
    "fruits[1]= \"banana\"\n",
    "\n",
    "print(fruits)"
   ]
  },
  {
   "cell_type": "code",
   "execution_count": 1011,
   "id": "ed64e451",
   "metadata": {},
   "outputs": [
    {
     "data": {
      "text/plain": [
       "['apple', 'banana', 'cherry', 345, 5.6, True, False, 'something else']"
      ]
     },
     "execution_count": 1011,
     "metadata": {},
     "output_type": "execute_result"
    }
   ],
   "source": [
    "fruits[7] = \"something else\"\n",
    "\n",
    "fruits"
   ]
  },
  {
   "cell_type": "markdown",
   "id": "ad97b568",
   "metadata": {},
   "source": [
    "##### Add List Items"
   ]
  },
  {
   "cell_type": "code",
   "execution_count": 1012,
   "id": "e22b11dc",
   "metadata": {},
   "outputs": [
    {
     "data": {
      "text/plain": [
       "['apple', 'kiwi', 'banna', 'cherry']"
      ]
     },
     "execution_count": 1012,
     "metadata": {},
     "output_type": "execute_result"
    }
   ],
   "source": [
    "\n",
    "fruits = [\"apple\", \"banna\", \"cherry\"]\n",
    "# fruits.append(\"orange\")\n",
    "fruits.insert(1, \"kiwi\")\n",
    "\n",
    "fruits"
   ]
  },
  {
   "cell_type": "markdown",
   "id": "88e6f99b",
   "metadata": {},
   "source": [
    "##### Remove List Items"
   ]
  },
  {
   "cell_type": "code",
   "execution_count": 1013,
   "id": "62bbc670",
   "metadata": {},
   "outputs": [
    {
     "data": {
      "text/plain": [
       "[]"
      ]
     },
     "execution_count": 1013,
     "metadata": {},
     "output_type": "execute_result"
    }
   ],
   "source": [
    "\n",
    "fruits = [\"apple\", \"banana\", \"cherry\"]\n",
    "# fruits.remove(\"apple\")\n",
    "# fruits.pop()        # removes last\n",
    "# del fruits[0]\n",
    "fruits.clear()      # empties list\n",
    "\n",
    "fruits"
   ]
  },
  {
   "cell_type": "markdown",
   "id": "c47603da",
   "metadata": {},
   "source": [
    "##### Loop Lists"
   ]
  },
  {
   "cell_type": "code",
   "execution_count": 5,
   "id": "a01313cc",
   "metadata": {},
   "outputs": [
    {
     "name": "stdout",
     "output_type": "stream",
     "text": [
      "a\n",
      "p\n",
      "p\n",
      "l\n",
      "e\n",
      "apple\n",
      "b\n",
      "a\n",
      "n\n",
      "a\n",
      "n\n",
      "a\n",
      "banana\n",
      "c\n",
      "h\n",
      "e\n",
      "r\n",
      "r\n",
      "y\n",
      "cherry\n"
     ]
    }
   ],
   "source": [
    "fruits = [\"apple\", \"banana\", \"cherry\"]\n",
    "\n",
    "for fruit in fruits:\n",
    "    for x in fruit:\n",
    "        print(x)\n",
    "    print(fruit)"
   ]
  },
  {
   "cell_type": "markdown",
   "id": "43f4e143",
   "metadata": {},
   "source": [
    "##### List Comprehension"
   ]
  },
  {
   "cell_type": "code",
   "execution_count": 1055,
   "id": "ac68b399",
   "metadata": {},
   "outputs": [
    {
     "name": "stdout",
     "output_type": "stream",
     "text": [
      "2\n",
      "3\n",
      "4\n"
     ]
    }
   ],
   "source": [
    "for x in range(2,5):\n",
    "    print(x)"
   ]
  },
  {
   "cell_type": "code",
   "execution_count": null,
   "id": "de4230c3",
   "metadata": {},
   "outputs": [
    {
     "name": "stdout",
     "output_type": "stream",
     "text": [
      "[0, 1, 4, 9, 16]\n"
     ]
    }
   ],
   "source": [
    "\n",
    "lst = [0,1,2,3,4]\n",
    "squares = [x**2 for x in range(5)]\n",
    "\n",
    "print(squares)\n"
   ]
  },
  {
   "cell_type": "markdown",
   "id": "2b0fbaf0",
   "metadata": {},
   "source": [
    "##### Sort Lists"
   ]
  },
  {
   "cell_type": "code",
   "execution_count": 1168,
   "id": "9150f728",
   "metadata": {},
   "outputs": [
    {
     "name": "stdout",
     "output_type": "stream",
     "text": [
      "[1, 2, 5, 9]\n"
     ]
    }
   ],
   "source": [
    "num_s = [5,2,9,1]\n",
    "num_s.sort()\n",
    "\n",
    "print(num_s)"
   ]
  },
  {
   "cell_type": "markdown",
   "id": "43464381",
   "metadata": {},
   "source": [
    "##### Copy Lists"
   ]
  },
  {
   "cell_type": "code",
   "execution_count": 10,
   "id": "73971e3e",
   "metadata": {},
   "outputs": [
    {
     "name": "stdout",
     "output_type": "stream",
     "text": [
      "['apple', 'banana', 'cherry']\n"
     ]
    }
   ],
   "source": [
    "\n",
    "new_list = fruits.copy()\n",
    "print(new_list)"
   ]
  },
  {
   "cell_type": "markdown",
   "id": "49591076",
   "metadata": {},
   "source": [
    "\n",
    "##### Join Lists"
   ]
  },
  {
   "cell_type": "code",
   "execution_count": 1186,
   "id": "b6d0ff18",
   "metadata": {},
   "outputs": [
    {
     "name": "stdout",
     "output_type": "stream",
     "text": [
      "[1, 2, 3, 4, 5, 6]\n"
     ]
    }
   ],
   "source": [
    "list1 = [1, 2, 3]\n",
    "list2 = [4, 5, 6]\n",
    "\n",
    "joined_list = list1 + list2\n",
    "\n",
    "print(joined_list)"
   ]
  },
  {
   "cell_type": "code",
   "execution_count": 1202,
   "id": "cfacb887",
   "metadata": {},
   "outputs": [
    {
     "name": "stdout",
     "output_type": "stream",
     "text": [
      "<class 'list'>\n"
     ]
    }
   ],
   "source": [
    "print(type(joined_list))"
   ]
  },
  {
   "cell_type": "markdown",
   "id": "bccdcd76",
   "metadata": {},
   "source": []
  },
  {
   "cell_type": "markdown",
   "id": "cf9ff026",
   "metadata": {},
   "source": []
  },
  {
   "cell_type": "markdown",
   "id": "c3ccc239",
   "metadata": {},
   "source": [
    "#### 🔹 4. Python Tuples\n",
    "\n",
    "**Notes:**\n",
    "\n",
    "* Tuples are ordered, **immutable**."
   ]
  },
  {
   "cell_type": "code",
   "execution_count": 1218,
   "id": "1dcce2f5",
   "metadata": {},
   "outputs": [
    {
     "name": "stdout",
     "output_type": "stream",
     "text": [
      "<class 'tuple'>\n"
     ]
    }
   ],
   "source": [
    "my_tuple = (\"red\", \"blue\", \"green\")\n",
    "\n",
    "print(type(my_tuple))"
   ]
  },
  {
   "cell_type": "code",
   "execution_count": 11,
   "id": "6d738e04",
   "metadata": {},
   "outputs": [
    {
     "ename": "NameError",
     "evalue": "name 'my_tuple' is not defined",
     "output_type": "error",
     "traceback": [
      "\u001b[31m---------------------------------------------------------------------------\u001b[39m",
      "\u001b[31mNameError\u001b[39m                                 Traceback (most recent call last)",
      "\u001b[36mCell\u001b[39m\u001b[36m \u001b[39m\u001b[32mIn[11]\u001b[39m\u001b[32m, line 1\u001b[39m\n\u001b[32m----> \u001b[39m\u001b[32m1\u001b[39m \u001b[43mmy_tuple\u001b[49m[\u001b[32m1\u001b[39m] = \u001b[33m\"\u001b[39m\u001b[33myellow\u001b[39m\u001b[33m\"\u001b[39m\n\u001b[32m      3\u001b[39m \u001b[38;5;28mprint\u001b[39m(my_tuple[\u001b[32m1\u001b[39m])\n",
      "\u001b[31mNameError\u001b[39m: name 'my_tuple' is not defined"
     ]
    }
   ],
   "source": [
    "my_tuple[1] = \"yellow\"\n",
    "\n",
    "print(my_tuple[1])"
   ]
  },
  {
   "cell_type": "markdown",
   "id": "2401951c",
   "metadata": {},
   "source": [
    "##### Access Tuples"
   ]
  },
  {
   "cell_type": "code",
   "execution_count": null,
   "id": "85121526",
   "metadata": {},
   "outputs": [
    {
     "name": "stdout",
     "output_type": "stream",
     "text": [
      "blue\n"
     ]
    }
   ],
   "source": [
    "print(my_tuple[1])"
   ]
  },
  {
   "cell_type": "markdown",
   "id": "a036e939",
   "metadata": {},
   "source": [
    "##### Update Tuples\n",
    "\n",
    "* Cannot directly update.\n",
    "* Convert to list → update → back to tuple."
   ]
  },
  {
   "cell_type": "markdown",
   "id": "db46452d",
   "metadata": {},
   "source": [
    "##### Unpack Tuples"
   ]
  },
  {
   "cell_type": "code",
   "execution_count": 1319,
   "id": "6e7274d0",
   "metadata": {},
   "outputs": [
    {
     "name": "stdout",
     "output_type": "stream",
     "text": [
      "<class 'tuple'>\n"
     ]
    }
   ],
   "source": [
    "tpl =  (\"sola\", \"bose\", \"monday\")\n",
    "\n",
    "lst = list(tpl)\n",
    "\n",
    "lst[0] = \"John\"\n",
    "\n",
    "new_tpl = tuple(lst)\n",
    "\n",
    "new_tpl\n",
    "\n",
    "print(type(new_tpl))"
   ]
  },
  {
   "cell_type": "code",
   "execution_count": 16,
   "id": "fbe2d922",
   "metadata": {},
   "outputs": [
    {
     "name": "stdout",
     "output_type": "stream",
     "text": [
      "['sola', 'book', 'monday', 'ade']\n",
      "('sola', 'book', 'monday', 'ade')\n",
      "<class 'tuple'>\n"
     ]
    }
   ],
   "source": [
    "tpl =  (\"sola\", \"bose\", \"monday\")\n",
    "lst = list(tpl)\n",
    "lst.append(\"ade\")\n",
    "lst[1] = \"book\"\n",
    "tpl1 = tuple(lst)\n",
    "print(lst)\n",
    "print(tpl1)\n",
    "print(type(tpl1))\n"
   ]
  },
  {
   "cell_type": "code",
   "execution_count": 1320,
   "id": "85a83026",
   "metadata": {},
   "outputs": [],
   "source": [
    "(a, b, c) = my_tuple"
   ]
  },
  {
   "cell_type": "markdown",
   "id": "58a8e9a0",
   "metadata": {},
   "source": [
    "##### Loop Tuples"
   ]
  },
  {
   "cell_type": "code",
   "execution_count": 1333,
   "id": "0eebb38e",
   "metadata": {},
   "outputs": [
    {
     "name": "stdout",
     "output_type": "stream",
     "text": [
      "red\n",
      "blue\n",
      "green\n"
     ]
    }
   ],
   "source": [
    "for color in my_tuple:\n",
    "    print(color)"
   ]
  },
  {
   "cell_type": "markdown",
   "id": "da09bf47",
   "metadata": {},
   "source": [
    "##### Join Tuples"
   ]
  },
  {
   "cell_type": "code",
   "execution_count": 1356,
   "id": "843fde4d",
   "metadata": {},
   "outputs": [
    {
     "name": "stdout",
     "output_type": "stream",
     "text": [
      "(1, 2, 3, 4, 5, 6)\n"
     ]
    }
   ],
   "source": [
    "\n",
    "tuple1 = (1, 2, 3)\n",
    "tuple2 = (4, 5, 6)\n",
    "tuple3 = tuple1 + tuple2\n",
    "\n",
    "print(tuple3)"
   ]
  },
  {
   "cell_type": "markdown",
   "id": "c4a1b1b2",
   "metadata": {},
   "source": []
  },
  {
   "cell_type": "markdown",
   "id": "4da3cc9b",
   "metadata": {},
   "source": []
  },
  {
   "cell_type": "markdown",
   "id": "e4e80a64",
   "metadata": {},
   "source": [
    "#### 🔹 5. Python Sets"
   ]
  },
  {
   "cell_type": "markdown",
   "id": "4b8e5f2e",
   "metadata": {},
   "source": [
    "**Notes:**\n",
    "\n",
    "* Set is unordered, unindexed, no duplicates."
   ]
  },
  {
   "cell_type": "code",
   "execution_count": 1377,
   "id": "0e33d4ee",
   "metadata": {},
   "outputs": [
    {
     "name": "stdout",
     "output_type": "stream",
     "text": [
      "{'banana', 'apple', 'cherry'}\n"
     ]
    }
   ],
   "source": [
    "my_set = {\"apple\", \"banana\", \"cherry\", \"banana\"}\n",
    "\n",
    "print(my_set)"
   ]
  },
  {
   "cell_type": "code",
   "execution_count": 1387,
   "id": "b0e38cb4",
   "metadata": {},
   "outputs": [
    {
     "ename": "TypeError",
     "evalue": "'set' object is not subscriptable",
     "output_type": "error",
     "traceback": [
      "\u001b[31m---------------------------------------------------------------------------\u001b[39m",
      "\u001b[31mTypeError\u001b[39m                                 Traceback (most recent call last)",
      "\u001b[36mCell\u001b[39m\u001b[36m \u001b[39m\u001b[32mIn[1387]\u001b[39m\u001b[32m, line 1\u001b[39m\n\u001b[32m----> \u001b[39m\u001b[32m1\u001b[39m \u001b[38;5;28mprint\u001b[39m(\u001b[43mmy_set\u001b[49m\u001b[43m[\u001b[49m\u001b[32;43m0\u001b[39;49m\u001b[43m]\u001b[49m)\n",
      "\u001b[31mTypeError\u001b[39m: 'set' object is not subscriptable"
     ]
    }
   ],
   "source": [
    "print(my_set[0])"
   ]
  },
  {
   "cell_type": "markdown",
   "id": "43681911",
   "metadata": {},
   "source": [
    "\n",
    "##### Add & Remove"
   ]
  },
  {
   "cell_type": "code",
   "execution_count": 1389,
   "id": "b3d18f45",
   "metadata": {},
   "outputs": [
    {
     "name": "stdout",
     "output_type": "stream",
     "text": [
      "{'apple', 'cherry', 'mango'}\n"
     ]
    }
   ],
   "source": [
    "my_set = {\"apple\", \"banana\", \"cherry\", \"banana\"}\n",
    "\n",
    "my_set.add(\"mango\")\n",
    "my_set.remove(\"banana\")\n",
    "\n",
    "print(my_set)"
   ]
  },
  {
   "cell_type": "markdown",
   "id": "7a33e84c",
   "metadata": {},
   "source": [
    "##### Set Operations"
   ]
  },
  {
   "cell_type": "code",
   "execution_count": 1406,
   "id": "740271ad",
   "metadata": {},
   "outputs": [
    {
     "name": "stdout",
     "output_type": "stream",
     "text": [
      "{1, 2, 3, 4, 5}\n",
      "{3}\n",
      "{1, 2}\n"
     ]
    }
   ],
   "source": [
    "a = {1,2,3}\n",
    "b = {3,4,5}\n",
    "print(a.union(b))      # {1,2,3,4,5}\n",
    "print(a.intersection(b))  # {3}\n",
    "print(a.difference(b))"
   ]
  },
  {
   "cell_type": "markdown",
   "id": "6d1d9750",
   "metadata": {},
   "source": [
    "#### 🔹 6. Python Dictionaries\n",
    "\n",
    "**Notes:**\n",
    "\n",
    "* Stores data as key-value pairs."
   ]
  },
  {
   "cell_type": "code",
   "execution_count": 1426,
   "id": "254b5d65",
   "metadata": {},
   "outputs": [
    {
     "name": "stdout",
     "output_type": "stream",
     "text": [
      "John\n",
      "20\n",
      "Python\n",
      "<class 'dict'>\n"
     ]
    }
   ],
   "source": [
    "student = {\"name\": \"John\", \"age\": 20, \"course\": \"Python\"}\n",
    "\n",
    "print(student[\"name\"])\n",
    "print(student[\"age\"])\n",
    "print(student[\"course\"])\n",
    "\n",
    "print(type(student))"
   ]
  },
  {
   "cell_type": "markdown",
   "id": "d8f13884",
   "metadata": {},
   "source": [
    "##### Access"
   ]
  },
  {
   "cell_type": "code",
   "execution_count": null,
   "id": "79a1a2fe",
   "metadata": {},
   "outputs": [],
   "source": [
    "lst = [1,3,4,[0,9,8]]"
   ]
  },
  {
   "cell_type": "code",
   "execution_count": 1427,
   "id": "c3eef403",
   "metadata": {},
   "outputs": [
    {
     "name": "stdout",
     "output_type": "stream",
     "text": [
      "John\n",
      "20\n"
     ]
    }
   ],
   "source": [
    "print(student[\"name\"])\n",
    "print(student.get(\"age\"))"
   ]
  },
  {
   "cell_type": "markdown",
   "id": "03330893",
   "metadata": {},
   "source": [
    "##### Nested Dictionary"
   ]
  },
  {
   "cell_type": "code",
   "execution_count": null,
   "id": "568b80d2",
   "metadata": {},
   "outputs": [],
   "source": [
    "employee = { \"emp1\" : {\"name\": \"Alice\", \"age\": 30}, \"emp2\" : {\"name\": \"Bob\", \"age\": 25}}"
   ]
  },
  {
   "cell_type": "code",
   "execution_count": 1493,
   "id": "6ef129a4",
   "metadata": {},
   "outputs": [
    {
     "name": "stdout",
     "output_type": "stream",
     "text": [
      "Alice\n",
      "30\n",
      "Bob\n",
      "25\n"
     ]
    }
   ],
   "source": [
    "for emply in employee.items():\n",
    "    # print(emply)\n",
    "    for x in emply[1].items():\n",
    "        print(x[1])\n"
   ]
  },
  {
   "cell_type": "markdown",
   "id": "db1031a9",
   "metadata": {},
   "source": [
    "##### Change"
   ]
  },
  {
   "cell_type": "code",
   "execution_count": 1521,
   "id": "b4a92d68",
   "metadata": {},
   "outputs": [],
   "source": [
    "student = {\"name\": \"John\", \"age\": 20, \"course\": \"Python\"}\n"
   ]
  },
  {
   "cell_type": "code",
   "execution_count": 1514,
   "id": "984aab2b",
   "metadata": {},
   "outputs": [],
   "source": [
    "student[\"age\"] = 21"
   ]
  },
  {
   "cell_type": "code",
   "execution_count": 1515,
   "id": "e5a6496a",
   "metadata": {},
   "outputs": [
    {
     "name": "stdout",
     "output_type": "stream",
     "text": [
      "{'name': 'John', 'age': 21, 'course': 'Python'}\n"
     ]
    }
   ],
   "source": [
    "print(student)"
   ]
  },
  {
   "cell_type": "markdown",
   "id": "43f9fab6",
   "metadata": {},
   "source": [
    "##### Add"
   ]
  },
  {
   "cell_type": "code",
   "execution_count": 1516,
   "id": "121df048",
   "metadata": {},
   "outputs": [],
   "source": [
    "student[\"grade\"] = \"A\""
   ]
  },
  {
   "cell_type": "code",
   "execution_count": 1517,
   "id": "98dd4762",
   "metadata": {},
   "outputs": [
    {
     "name": "stdout",
     "output_type": "stream",
     "text": [
      "{'name': 'John', 'age': 21, 'course': 'Python', 'grade': 'A'}\n"
     ]
    }
   ],
   "source": [
    "print(student)"
   ]
  },
  {
   "cell_type": "markdown",
   "id": "7ba1f94b",
   "metadata": {},
   "source": [
    "##### Remove"
   ]
  },
  {
   "cell_type": "code",
   "execution_count": 1522,
   "id": "76a99dac",
   "metadata": {},
   "outputs": [
    {
     "data": {
      "text/plain": [
       "'Python'"
      ]
     },
     "execution_count": 1522,
     "metadata": {},
     "output_type": "execute_result"
    }
   ],
   "source": [
    "student.pop(\"course\")"
   ]
  },
  {
   "cell_type": "code",
   "execution_count": null,
   "id": "2d2af9d7",
   "metadata": {},
   "outputs": [
    {
     "name": "stdout",
     "output_type": "stream",
     "text": [
      "{'name': 'John', 'age': 20}\n"
     ]
    }
   ],
   "source": [
    "print(student)"
   ]
  },
  {
   "cell_type": "markdown",
   "id": "67e04f9a",
   "metadata": {},
   "source": [
    "#### Loop"
   ]
  },
  {
   "cell_type": "code",
   "execution_count": 1526,
   "id": "3288a301",
   "metadata": {},
   "outputs": [
    {
     "name": "stdout",
     "output_type": "stream",
     "text": [
      "name John\n",
      "age 20\n"
     ]
    }
   ],
   "source": [
    "for key, value in student.items():\n",
    "    print(key, value)"
   ]
  },
  {
   "cell_type": "markdown",
   "id": "9e9f14e8",
   "metadata": {},
   "source": [
    "\n",
    "\n",
    "\n",
    "**Exercise:**\n",
    "\n",
    "1. Check if `15` is greater than `7`.\n",
    "2. Use `bool()` to check the truthiness of `\"\"` (empty string), `[]` (empty list), and `\"Hello\"`.\n",
    "\n",
    "---\n",
    "\n",
    "\n",
    "\n",
    "**Exercise:**\n",
    "\n",
    "1. Write an expression to check if `10` is divisible by `2`.\n",
    "2. Test if `\"a\"` is in `\"apple\"`.\n",
    "3. Use `and` to check if `5 < 10` **and** `10 < 20`.\n",
    "\n",
    "---\n",
    "\n",
    "\n",
    "\n",
    "**Exercises:**\n",
    "\n",
    "1. Create a list of 5 numbers, change the second number, and print the list.\n",
    "2. Add `\"grape\"` to a fruit list.\n",
    "3. Remove the last item from the list.\n",
    "4. Use a loop to print all items.\n",
    "5. Create a new list of even numbers between 1 and 10 using list comprehension.\n",
    "\n",
    "---\n",
    "\n",
    "**Exercises:**\n",
    "\n",
    "1. Create a tuple of 4 cities and print the second one.\n",
    "2. Unpack a tuple into 3 variables.\n",
    "3. Join two tuples and print the result.\n",
    "\n",
    "---\n",
    "\n",
    "**Exercises:**\n",
    "\n",
    "1. Create a set of 3 colors and add one more.\n",
    "2. Remove an item from the set.\n",
    "3. Find the union and intersection of `{1,2,3}` and `{2,3,4}`.\n",
    "\n",
    "---\n",
    "\n",
    "\n",
    "\n",
    "**Exercises:**\n",
    "\n",
    "1. Create a dictionary with keys: `\"name\"`, `\"age\"`, `\"city\"`.\n",
    "2. Update the `\"city\"` value.\n",
    "3. Add a new key `\"grade\"`.\n",
    "4. Loop and print all keys and values.\n",
    "\n",
    "---\n"
   ]
  },
  {
   "cell_type": "markdown",
   "id": "66f4f41a",
   "metadata": {},
   "source": []
  }
 ],
 "metadata": {
  "kernelspec": {
   "display_name": "Python 3",
   "language": "python",
   "name": "python3"
  },
  "language_info": {
   "codemirror_mode": {
    "name": "ipython",
    "version": 3
   },
   "file_extension": ".py",
   "mimetype": "text/x-python",
   "name": "python",
   "nbconvert_exporter": "python",
   "pygments_lexer": "ipython3",
   "version": "3.12.10"
  }
 },
 "nbformat": 4,
 "nbformat_minor": 5
}
