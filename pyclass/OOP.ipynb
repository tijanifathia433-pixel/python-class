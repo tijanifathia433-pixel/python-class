{
 "cells": [
  {
   "cell_type": "markdown",
   "id": "a3db9152",
   "metadata": {},
   "source": [
    "### **Python Object-Oriented Programming (OOP) - Complete Guide**"
   ]
  },
  {
   "cell_type": "markdown",
   "id": "2dcd585c",
   "metadata": {
    "vscode": {
     "languageId": "plaintext"
    }
   },
   "source": [
    "#### **1.2 Why Use OOP?**\n",
    "- **Modularity**: Code is organized into reusable components.\n",
    "- **Abstraction**: Hide complex implementation details.\n",
    "- **Inheritance**: Promote code reuse.\n",
    "- **Encapsulation**: Protect data from unauthorized access."
   ]
  },
  {
   "cell_type": "markdown",
   "id": "7d29aeeb",
   "metadata": {},
   "source": [
    "### **2. Classes and Objects**\n",
    "#### **2.1 Class Definition**\n",
    "- A **class** is a blueprint for creating objects.\n",
    "- Defined using the `class` keyword.\n",
    "\n",
    "```python\n",
    "class Dog:\n",
    "    pass\n",
    "```"
   ]
  },
  {
   "cell_type": "markdown",
   "id": "28730cac",
   "metadata": {},
   "source": [
    "#### **2.2 Creating Objects (Instances)**\n",
    "```python\n",
    "my_dog = Dog()  # Creates an instance of Dog\n",
    "```"
   ]
  },
  {
   "cell_type": "markdown",
   "id": "87d4be32",
   "metadata": {},
   "source": [
    "### **2.2 Creating Objects (Instances)**\n",
    "```python\n",
    "my_dog = Dog()  # Creates an instance of Dog\n",
    "```"
   ]
  },
  {
   "cell_type": "markdown",
   "id": "546b58ee",
   "metadata": {},
   "source": [
    "### **2.3 The `__init__` Method (Constructor)**\n",
    "- Called automatically when an object is created.\n",
    "- Used to initialize object attributes."
   ]
  },
  {
   "cell_type": "code",
   "execution_count": 1,
   "id": "c91ec237",
   "metadata": {},
   "outputs": [
    {
     "name": "stdout",
     "output_type": "stream",
     "text": [
      "Buddy\n"
     ]
    }
   ],
   "source": [
    "class Dog:\n",
    "    def __init__(self, name, age):\n",
    "        self.name = name\n",
    "        self.age = age\n",
    "\n",
    "my_dog = Dog(\"Buddy\", 3)\n",
    "print(my_dog.name)  # Output: Buddy"
   ]
  },
  {
   "cell_type": "code",
   "execution_count": 8,
   "id": "3bb4860d",
   "metadata": {},
   "outputs": [
    {
     "name": "stdout",
     "output_type": "stream",
     "text": [
      "Mimi like making meou sound\n",
      "Mimi\n",
      "Black\n"
     ]
    }
   ],
   "source": [
    "class Cat:\n",
    "    def __init__(self, name, color):\n",
    "        self.name = name\n",
    "        self.color = color\n",
    "\n",
    "    def sound(self):\n",
    "        print(f\"{self.name} like making meou sound\")\n",
    "        pass\n",
    "\n",
    "my_cat = Cat(\"Mimi\", \"Black\")\n",
    "\n",
    "my_cat.sound()\n",
    "print(my_cat.name)\n",
    "print(my_cat.color)\n"
   ]
  },
  {
   "cell_type": "markdown",
   "id": "2f7aeb48",
   "metadata": {},
   "source": [
    "### **2.4 Instance Methods**\n",
    "- Functions defined inside a class that operate on objects."
   ]
  },
  {
   "cell_type": "code",
   "execution_count": 9,
   "id": "3c27b6cd",
   "metadata": {},
   "outputs": [
    {
     "name": "stdout",
     "output_type": "stream",
     "text": [
      "Buddy says Woof!\n"
     ]
    }
   ],
   "source": [
    "class Dog:\n",
    "    def __init__(self, name, age):\n",
    "        self.name = name\n",
    "        self.age = age\n",
    "\n",
    "    def bark(self):\n",
    "        print(f\"{self.name} says Woof!\")\n",
    "\n",
    "my_dog = Dog(\"Buddy\", 3)\n",
    "my_dog.bark()  # Output: Buddy says Woof!"
   ]
  },
  {
   "cell_type": "code",
   "execution_count": 13,
   "id": "2a1cbce1",
   "metadata": {},
   "outputs": [
    {
     "name": "stdout",
     "output_type": "stream",
     "text": [
      "Buddy\n",
      "Buddy says Woof!\n",
      "3\n"
     ]
    }
   ],
   "source": [
    "class Dog:\n",
    "    def __init__(self, name, age):\n",
    "        self.name = name\n",
    "        self.age = age\n",
    "\n",
    "    def bark(self):\n",
    "        print(f\"{self.name} says Woof!\")\n",
    "\n",
    "my_dog = Dog(\"Buddy\", 3)\n",
    "print(my_dog.name)  # Output: Buddy says Woof!\n",
    "my_dog.bark()  # Output: Buddy says Woof!\n",
    "print(my_dog.age)  # Output: Buddy says Woof!"
   ]
  },
  {
   "cell_type": "markdown",
   "id": "30589dcc",
   "metadata": {},
   "source": [
    "### **2.5 Class Attributes vs. Instance Attributes**\n",
    "| Feature | Class Attribute | Instance Attribute |\n",
    "|---------|-----------------|--------------------|\n",
    "| **Definition** | Defined outside `__init__` | Defined inside `__init__` |\n",
    "| **Access** | Shared by all instances | Unique to each instance |\n",
    "| **Example** | `class_var = 10` | `self.instance_var = 20` |"
   ]
  },
  {
   "cell_type": "code",
   "execution_count": 28,
   "id": "cabdc6a0",
   "metadata": {},
   "outputs": [
    {
     "name": "stdout",
     "output_type": "stream",
     "text": [
      "Canis familiaris\n",
      "helllo!\n",
      "The dog name is whizky and he's 20 years old\n"
     ]
    }
   ],
   "source": [
    "class Dog:\n",
    "    species = \"Canis familiaris\"  # Class attribute\n",
    "\n",
    "    def __init__(self, name, age):\n",
    "        self.name = name  # Instance attribute\n",
    "        self.age = age\n",
    "\n",
    "    def news(self):\n",
    "        print(\"helllo!\")\n",
    "\n",
    "\n",
    "\n",
    "obj = Dog(\"whizky\", 20)\n",
    "\n",
    "print(Dog.species)  # Output: Canis familiaris\n",
    "# print(Dog.news())  # Output: Canis familiaris\n",
    "obj.news()\n",
    "print(f\"The dog name is {obj.name} and he's {obj.age} years old\")\n"
   ]
  },
  {
   "cell_type": "markdown",
   "id": "f3be89c1",
   "metadata": {},
   "source": [
    "## **3. Inheritance**\n",
    "### **3.1 Basic Inheritance**\n",
    "- A **child class** inherits attributes and methods from a **parent class**."
   ]
  },
  {
   "cell_type": "code",
   "execution_count": 33,
   "id": "16d83c37",
   "metadata": {},
   "outputs": [
    {
     "name": "stdout",
     "output_type": "stream",
     "text": [
      "Buddy\n",
      "Black\n",
      "Buddy makes a sound\n"
     ]
    }
   ],
   "source": [
    "class Animal:\n",
    "    def __init__(self, name, color):\n",
    "        self.name = name\n",
    "        self.color = color\n",
    "\n",
    "    def speak(self):\n",
    "        print(f\"{self.name} makes a sound\")\n",
    "\n",
    "class Dog(Animal):\n",
    "    pass\n",
    "    # def speak(self):\n",
    "    #     print(f\"{self.name} barks\")\n",
    "    #     print(f\"The dog color is : {self.color}\")\n",
    "    #     print(\"this is the dog class!\")\n",
    "\n",
    "\n",
    "dog = Dog(\"Buddy\", \"Black\")\n",
    "\n",
    "print(dog.name)\n",
    "print(dog.color)\n",
    "\n",
    "dog.speak()  # Output: Buddy barks\n",
    "\n"
   ]
  },
  {
   "cell_type": "markdown",
   "id": "d81852cb",
   "metadata": {},
   "source": [
    "### **3.2 `super()` Function**\n",
    "- Used to call methods from the parent class."
   ]
  },
  {
   "cell_type": "code",
   "execution_count": 44,
   "id": "04f390e3",
   "metadata": {},
   "outputs": [
    {
     "name": "stdout",
     "output_type": "stream",
     "text": [
      "Whiskers makes a sound\n",
      "Whiskers food is: Rice\n",
      "Rice\n"
     ]
    }
   ],
   "source": [
    "class Cat(Animal):\n",
    "    def __init__(self, name, color, food):\n",
    "        # self.name = name\n",
    "        # self.color = color\n",
    "        super().__init__(name, color)\n",
    "        self.food = food \n",
    "\n",
    "\n",
    "    def speak(self):\n",
    "        super().speak()  # Calls Animal.speak\n",
    "        # print(f\"{self.name} meows\")\n",
    "        print(f\"{self.name} food is: {self.food}\")\n",
    "\n",
    "cat = Cat(\"Whiskers\", \"white\", \"Rice\")\n",
    "cat.speak()\n",
    "print(cat.food)\n",
    "# print(cat.food)\n",
    "# Output:\n",
    "# Whiskers makes a sound\n",
    "# Whiskers meows"
   ]
  },
  {
   "cell_type": "markdown",
   "id": "59381311",
   "metadata": {},
   "source": [
    "### **3.3 Multiple Inheritance**\n",
    "- A class can inherit from multiple parent classes.\n"
   ]
  },
  {
   "cell_type": "code",
   "execution_count": 45,
   "id": "4419565e",
   "metadata": {},
   "outputs": [
    {
     "name": "stdout",
     "output_type": "stream",
     "text": [
      "A\n"
     ]
    }
   ],
   "source": [
    "class A:\n",
    "    def method(self):\n",
    "        print(\"A\")\n",
    "\n",
    "class B:\n",
    "    def method(self):\n",
    "        print(\"B\")\n",
    "\n",
    "class D:\n",
    "    def method(self):\n",
    "        print(\"D\")\n",
    "\n",
    "class C(A, B, D):\n",
    "    pass\n",
    "\n",
    "obj = C()\n",
    "obj.method()"
   ]
  },
  {
   "cell_type": "markdown",
   "id": "2db96cac",
   "metadata": {},
   "source": [
    "## **4. Encapsulation**\n",
    "### **4.1 Private Members (Name Mangling)**\n",
    "- Use `_` (single underscore) for \"protected\" and `__` (double underscore) for \"private\" members."
   ]
  },
  {
   "cell_type": "code",
   "execution_count": 58,
   "id": "5083ef07",
   "metadata": {},
   "outputs": [
    {
     "name": "stdout",
     "output_type": "stream",
     "text": [
      "1500\n"
     ]
    }
   ],
   "source": [
    "class BankAccount:\n",
    "    def __init__(self, balance):\n",
    "        self.__balance = balance  # Private attribute\n",
    "# \n",
    "    def deposit(self, amount):\n",
    "        self.__balance += amount\n",
    "\n",
    "    def get_balance(self):\n",
    "        return self.__balance\n",
    "\n",
    "account = BankAccount(1000)\n",
    "\n",
    "account.deposit(500)\n",
    "print(account.get_balance()) "
   ]
  },
  {
   "cell_type": "markdown",
   "id": "2086bd28",
   "metadata": {},
   "source": [
    "### **4.2 Getters and Setters (`@property`)**\n",
    "- Used to control access to attributes."
   ]
  },
  {
   "cell_type": "code",
   "execution_count": null,
   "id": "9fbd9717",
   "metadata": {},
   "outputs": [
    {
     "data": {
      "text/plain": [
       "'Alice'"
      ]
     },
     "execution_count": 30,
     "metadata": {},
     "output_type": "execute_result"
    }
   ],
   "source": [
    "class Person:\n",
    "    def __init__(self, name):\n",
    "        self._name = name\n",
    "\n",
    "    @property\n",
    "    def name(self):\n",
    "        return self._name\n",
    "\n",
    "    @name.setter\n",
    "    def name(self, new_name):\n",
    "        self._name = new_name\n",
    "\n",
    "\n",
    "\n",
    "person = Person(\"Alice\")\n",
    "\n",
    "person.out()\n",
    "\n",
    "\n",
    "\n",
    "# print(person.name)  # Output: Alice\n",
    "# person.name = \"Bob\"\n",
    "# print(person.name)  # Output: Bob\n",
    "\n",
    "# print(person._name)  # Output: Bob"
   ]
  },
  {
   "cell_type": "markdown",
   "id": "e5a03cfd",
   "metadata": {},
   "source": [
    "#### Example on Private, Public, and Protected variable in the class"
   ]
  },
  {
   "cell_type": "code",
   "execution_count": 55,
   "id": "ad9b2054",
   "metadata": {},
   "outputs": [
    {
     "ename": "AttributeError",
     "evalue": "'FTA' object has no attribute '__age'",
     "output_type": "error",
     "traceback": [
      "\u001b[31m---------------------------------------------------------------------------\u001b[39m",
      "\u001b[31mAttributeError\u001b[39m                            Traceback (most recent call last)",
      "\u001b[36mCell\u001b[39m\u001b[36m \u001b[39m\u001b[32mIn[55]\u001b[39m\u001b[32m, line 26\u001b[39m\n\u001b[32m     17\u001b[39m     \u001b[38;5;66;03m# def add(self):\u001b[39;00m\n\u001b[32m     18\u001b[39m \n\u001b[32m     19\u001b[39m     \u001b[38;5;66;03m#     return self.__age + 30\u001b[39;00m\n\u001b[32m     21\u001b[39m fta = FTA( \u001b[32m20\u001b[39m,\u001b[33m\"\u001b[39m\u001b[33mAdekunle\u001b[39m\u001b[33m\"\u001b[39m,\u001b[33m\"\u001b[39m\u001b[33mEating\u001b[39m\u001b[33m\"\u001b[39m)\n\u001b[32m---> \u001b[39m\u001b[32m26\u001b[39m \u001b[38;5;28mprint\u001b[39m(\u001b[43mfta\u001b[49m\u001b[43m.\u001b[49m\u001b[43m__age\u001b[49m)\n\u001b[32m     27\u001b[39m \u001b[38;5;66;03m# print(fta._hobby)\u001b[39;00m\n\u001b[32m     28\u001b[39m \u001b[38;5;66;03m# fta.hobby = \"Swimming!\"\u001b[39;00m\n\u001b[32m     29\u001b[39m \u001b[38;5;66;03m# print(fta.hobby )\u001b[39;00m\n\u001b[32m     30\u001b[39m \u001b[38;5;66;03m# print(fta.add())\u001b[39;00m\n",
      "\u001b[31mAttributeError\u001b[39m: 'FTA' object has no attribute '__age'"
     ]
    }
   ],
   "source": [
    "class FTA:\n",
    "    def __init__(self, age, name, hobby):\n",
    "        self.__age = age # Private\n",
    "        self.name = name # Public\n",
    "        # self._hobby = hobby # Protected\n",
    "\n",
    "    @property\n",
    "    def hobby(self):\n",
    "        return self._hobby\n",
    "\n",
    "    @hobby.setter\n",
    "    def hobby(self, new_name):\n",
    "        self._hobby = new_name\n",
    "\n",
    "\n",
    "\n",
    "    # def add(self):\n",
    "        \n",
    "    #     return self.__age + 30\n",
    "\n",
    "fta = FTA( 20,\"Adekunle\",\"Eating\")\n",
    "\n",
    "\n",
    "\n",
    "\n",
    "print(fta.__age)\n",
    "# print(fta._hobby)\n",
    "# fta.hobby = \"Swimming!\"\n",
    "# print(fta.hobby )\n",
    "# print(fta.add())\n"
   ]
  },
  {
   "cell_type": "code",
   "execution_count": 64,
   "id": "8afb9798",
   "metadata": {},
   "outputs": [
    {
     "name": "stdout",
     "output_type": "stream",
     "text": [
      "Dark\n",
      "male\n"
     ]
    }
   ],
   "source": [
    "class Person:\n",
    "    def __init__(self, complexion, gender):\n",
    "        self._comp = complexion\n",
    "        self.gend = gender\n",
    "\n",
    "per_son = Person(\"Dark\", \"male\")\n",
    "print(per_son._comp)\n",
    "print(per_son.gend)"
   ]
  },
  {
   "cell_type": "markdown",
   "id": "9ac89dc6",
   "metadata": {},
   "source": [
    "## **5. Polymorphism**\n",
    "### **5.1 Method Overriding**\n",
    "- Child classes can override parent methods.\n"
   ]
  },
  {
   "cell_type": "code",
   "execution_count": 52,
   "id": "315b59a1",
   "metadata": {},
   "outputs": [
    {
     "name": "stdout",
     "output_type": "stream",
     "text": [
      "Drive!\n",
      "Sail!\n",
      "Fly!\n"
     ]
    }
   ],
   "source": [
    "class Car:\n",
    "  def __init__(self, brand, model):\n",
    "    self.brand = brand\n",
    "    self.model = model\n",
    "\n",
    "  def move(self):\n",
    "    print(\"Drive!\")\n",
    "\n",
    "class Boat:\n",
    "  def __init__(self, brand, model):\n",
    "    self.brand = brand\n",
    "    self.model = model\n",
    "\n",
    "  def move(self):\n",
    "    print(\"Sail!\")\n",
    "\n",
    "class Plane:\n",
    "  def __init__(self, brand, model):\n",
    "    self.brand = brand\n",
    "    self.model = model\n",
    "\n",
    "  def move(self):\n",
    "    print(\"Fly!\")\n",
    "\n",
    "car1 = Car(\"Ford\", \"Mustang\")       #Create a Car object\n",
    "boat1 = Boat(\"Ibiza\", \"Touring 20\") #Create a Boat object\n",
    "plane1 = Plane(\"Boeing\", \"747\")     #Create a Plane object\n",
    "\n",
    "# car1.move()\n",
    "# boat1.move()\n",
    "# plane1.move()\n",
    "\n",
    "lst = (car1, boat1, plane1)\n",
    "for x in lst:\n",
    "  x.move()"
   ]
  },
  {
   "cell_type": "code",
   "execution_count": 55,
   "id": "e574b63f",
   "metadata": {},
   "outputs": [
    {
     "name": "stdout",
     "output_type": "stream",
     "text": [
      "Penguins can't fly!\n",
      "Flying\n"
     ]
    }
   ],
   "source": [
    "class Bird:\n",
    "    def fly(self):\n",
    "        print(\"Flying\")\n",
    "\n",
    "class Penguin(Bird):\n",
    "    def fly(self):\n",
    "        print(\"Penguins can't fly!\")\n",
    "\n",
    "\n",
    "penguin = Penguin()\n",
    "penguin.fly()  # Output: Penguins can't fly!\n",
    "\n",
    "\n",
    "bird = Bird()\n",
    "bird.fly()  # Output: Flying"
   ]
  },
  {
   "cell_type": "markdown",
   "id": "94470fd2",
   "metadata": {},
   "source": [
    "## **9. Key Takeaways**\n",
    "- **Classes** are blueprints, **objects** are instances.\n",
    "- **Inheritance** promotes code reuse.\n",
    "- **Encapsulation** protects data.\n",
    "- **Polymorphism** allows flexible method implementations.\n",
    "- **Magic methods** customize object behavior."
   ]
  },
  {
   "cell_type": "markdown",
   "id": "2c21bc2c",
   "metadata": {},
   "source": [
    "## **7. Exercises**\n",
    "### **Exercise 1: Basic Class**\n",
    "```python\n",
    "# Create a `Car` class with attributes `brand` and `model`\n",
    "# Add a method `display_info()` that prints \"Brand: X, Model: Y\"\n",
    "```\n",
    "\n",
    "### **Exercise 2: Inheritance**\n",
    "```python\n",
    "# Create a `ElectricCar` class that inherits from `Car`\n",
    "# Add a `battery_size` attribute and override `display_info()`\n",
    "```\n",
    "\n",
    "### **Exercise 3: Encapsulation**\n",
    "```python\n",
    "# Modify `Car` to make `brand` private property\n",
    "```\n",
    "\n",
    "### **Exercise 4: Polymorphism**\n",
    "```python\n",
    "# Create a `Vehicle` class with a `move()` method\n",
    "# Create subclasses `Car` and `Boat` with their own `move()` implementations\n",
    "```\n",
    "\n",
    "---"
   ]
  }
 ],
 "metadata": {
  "kernelspec": {
   "display_name": "Python 3",
   "language": "python",
   "name": "python3"
  },
  "language_info": {
   "codemirror_mode": {
    "name": "ipython",
    "version": 3
   },
   "file_extension": ".py",
   "mimetype": "text/x-python",
   "name": "python",
   "nbconvert_exporter": "python",
   "pygments_lexer": "ipython3",
   "version": "3.12.10"
  }
 },
 "nbformat": 4,
 "nbformat_minor": 5
}
