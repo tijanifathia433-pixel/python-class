{
 "cells": [
  {
   "cell_type": "code",
   "execution_count": 2,
   "id": "ff7db4b8",
   "metadata": {},
   "outputs": [],
   "source": [
    "import sqlite3  # Import SQLite3 module"
   ]
  },
  {
   "cell_type": "code",
   "execution_count": 3,
   "id": "0924d744",
   "metadata": {},
   "outputs": [],
   "source": [
    "# Connect to a database (creates 'example.db' if it doesn't exist)\n",
    "conn = sqlite3.connect('example.db')"
   ]
  },
  {
   "cell_type": "code",
   "execution_count": 3,
   "id": "ee75a69e",
   "metadata": {},
   "outputs": [],
   "source": [
    "# Create a cursor object to execute SQL commands\n",
    "cursor = conn.cursor() "
   ]
  },
  {
   "cell_type": "code",
   "execution_count": 4,
   "id": "e5990c7a",
   "metadata": {},
   "outputs": [
    {
     "data": {
      "text/plain": [
       "<sqlite3.Cursor at 0x2a002128440>"
      ]
     },
     "execution_count": 4,
     "metadata": {},
     "output_type": "execute_result"
    }
   ],
   "source": [
    "# Create a table named 'students'\n",
    "cursor.execute('''\n",
    "    CREATE TABLE IF NOT EXISTS students (\n",
    "        id INTEGER PRIMARY KEY AUTOINCREMENT,\n",
    "        name TEXT NOT NULL,\n",
    "        age INTEGER,\n",
    "        grade REAL\n",
    "    )\n",
    "''')"
   ]
  },
  {
   "cell_type": "code",
   "execution_count": 5,
   "id": "7b46942a",
   "metadata": {},
   "outputs": [
    {
     "data": {
      "text/plain": [
       "<sqlite3.Cursor at 0x2a002128440>"
      ]
     },
     "execution_count": 5,
     "metadata": {},
     "output_type": "execute_result"
    }
   ],
   "source": [
    "# Insert data into the 'students' table\n",
    "cursor.execute('''\n",
    "    INSERT INTO students (name, age, grade) VALUES (?, ?, ?)\n",
    "''', ('Alice', 20, 85.5))\n",
    "\n",
    "cursor.execute('''\n",
    "    INSERT INTO students (name, age, grade) VALUES (?, ?, ?)\n",
    "''', ('Bob', 22, 90.0))"
   ]
  },
  {
   "cell_type": "code",
   "execution_count": 6,
   "id": "544eac2d",
   "metadata": {},
   "outputs": [],
   "source": [
    "# Commit the transaction to save changes\n",
    "conn.commit()"
   ]
  },
  {
   "cell_type": "code",
   "execution_count": null,
   "id": "89e4d9d6",
   "metadata": {},
   "outputs": [
    {
     "name": "stdout",
     "output_type": "stream",
     "text": [
      "All Students:\n",
      "(1, 'Alice', 20, 95.0)\n",
      "(2, 'Bob', 22, 90.0)\n"
     ]
    }
   ],
   "source": [
    "# Query all records from the 'students' table\n",
    "cursor.execute('SELECT * FROM students')\n",
    "rows = cursor.fetchall()\n",
    "\n",
    "print(\"All Students:\")\n",
    "\n",
    "\n",
    "\n",
    "for row in rows:\n",
    "    print(row[1])  # Output: (1, 'Alice', 20, 85.5), (2, 'Bob', 22, 90.0)"
   ]
  },
  {
   "cell_type": "code",
   "execution_count": 9,
   "id": "ea84034e",
   "metadata": {},
   "outputs": [
    {
     "data": {
      "text/plain": [
       "<sqlite3.Cursor at 0x2a002128440>"
      ]
     },
     "execution_count": 9,
     "metadata": {},
     "output_type": "execute_result"
    }
   ],
   "source": [
    "# Update a record\n",
    "cursor.execute('''\n",
    "    UPDATE students SET grade = ? WHERE name = ?\n",
    "''', (95.0, 'Alice'))\n"
   ]
  },
  {
   "cell_type": "code",
   "execution_count": 23,
   "id": "462aa851",
   "metadata": {},
   "outputs": [
    {
     "name": "stdout",
     "output_type": "stream",
     "text": [
      "(1, 'Alice', 20, 95.0)\n"
     ]
    }
   ],
   "source": [
    "name = \"Alice\"\n",
    "\n",
    "cursor.execute('''\n",
    "               SELECT * FROM students where name = ? \n",
    "''', (name,))\n",
    "rows = cursor.fetchone()\n",
    "\n",
    "print(rows)"
   ]
  },
  {
   "cell_type": "code",
   "execution_count": 27,
   "id": "3180d35f",
   "metadata": {},
   "outputs": [],
   "source": [
    "name = input(\"Please provide your name\")\n",
    "age = int(input(\"Please provide your age\"))\n",
    "grade = float(input(\"Please provide your grade\"))\n",
    "\n",
    "stmt = \"INSERT INTO students (name, age, grade) VALUES (?, ?, ?)\"\n",
    "\n",
    "cursor.execute(stmt, (name, age, grade))\n",
    "\n",
    "conn.commit()\n",
    "\n"
   ]
  },
  {
   "cell_type": "code",
   "execution_count": 33,
   "id": "a279d177",
   "metadata": {},
   "outputs": [],
   "source": [
    "cursor.execute(''' \n",
    "               delete from students where id = ?''', (3,))\n",
    "\n",
    "conn.commit()\n"
   ]
  },
  {
   "cell_type": "code",
   "execution_count": null,
   "id": "444eb15e",
   "metadata": {},
   "outputs": [],
   "source": []
  }
 ],
 "metadata": {
  "kernelspec": {
   "display_name": "Python 3",
   "language": "python",
   "name": "python3"
  },
  "language_info": {
   "codemirror_mode": {
    "name": "ipython",
    "version": 3
   },
   "file_extension": ".py",
   "mimetype": "text/x-python",
   "name": "python",
   "nbconvert_exporter": "python",
   "pygments_lexer": "ipython3",
   "version": "3.12.10"
  }
 },
 "nbformat": 4,
 "nbformat_minor": 5
}
